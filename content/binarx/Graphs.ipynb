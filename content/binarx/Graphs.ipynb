{
  "metadata": {
    "kernelspec": {
      "name": "python",
      "display_name": "Python (Pyodide)",
      "language": "python"
    },
    "language_info": {
      "codemirror_mode": {
        "name": "python",
        "version": 3
      },
      "file_extension": ".py",
      "mimetype": "text/x-python",
      "name": "python",
      "nbconvert_exporter": "python",
      "pygments_lexer": "ipython3",
      "version": "3.8"
    }
  },
  "nbformat_minor": 4,
  "nbformat": 4,
  "cells": [
    {
      "cell_type": "code",
      "source": "#Import Python modules for JupyterLite environment using piplite\nimport piplite\nawait piplite.install(\"numpy\")\nawait piplite.install(\"plotly==5.15.0\")\nawait piplite.install(\"nbformat>=4.2.0\")\nawait piplite.install(\"ipywidgets>=7.6\")",
      "metadata": {
        "trusted": true
      },
      "execution_count": null,
      "outputs": []
    },
    {
      "cell_type": "code",
      "source": "#Uncomment the lines below to install required Python modules if running in a new JupyterLab Python install\n# !pip install numpy\n# !pip install pip install plotly==5.15.0\n# !pip install nbformat>=4.2.0\n# !pip install ipywidgets>=7.6",
      "metadata": {
        "trusted": true
      },
      "execution_count": null,
      "outputs": []
    },
    {
      "cell_type": "code",
      "source": "import numpy as np #import array manipulation and maths library numpy under the alias np\nimport plotly.graph_objects as go #import our plotting library under the alias go",
      "metadata": {
        "autorun": true,
        "tags": [],
        "trusted": true
      },
      "execution_count": null,
      "outputs": []
    },
    {
      "cell_type": "code",
      "source": "x = [3, 4, 10, 12, 7, 8] #create x data\ny = [3, 2, 5, 7, 7, 3] #create y data\n\nfig = go.Figure(data=go.Scatter(x=x, y=x, mode='markers')) #create a scatter plot from the x and y arrays\n\nfig.update_layout(title_text=\"Scatter Plot\") #add plot title\nfig.update_xaxes(title_text=\"x\") #add x axis title\nfig.update_yaxes(title_text=\"y\") #add y axis title\n\nfig.layout.template = \"plotly_dark\" #change plotly theme to dark mode\n\nfig #diplay the plot",
      "metadata": {
        "autorun": true,
        "tags": [],
        "trusted": true
      },
      "execution_count": null,
      "outputs": []
    }
  ]
}