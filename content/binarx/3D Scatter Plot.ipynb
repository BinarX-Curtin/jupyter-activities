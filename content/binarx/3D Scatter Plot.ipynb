{
  "metadata": {
    "kernelspec": {
      "name": "python",
      "display_name": "Python (Pyodide)",
      "language": "python"
    },
    "language_info": {
      "codemirror_mode": {
        "name": "python",
        "version": 3
      },
      "file_extension": ".py",
      "mimetype": "text/x-python",
      "name": "python",
      "nbconvert_exporter": "python",
      "pygments_lexer": "ipython3",
      "version": "3.8"
    }
  },
  "nbformat_minor": 4,
  "nbformat": 4,
  "cells": [
    {
      "cell_type": "code",
      "source": "#Import Python modules for JupyterLite environment using piplite\nimport piplite\nawait piplite.install(\"numpy\")\nawait piplite.install(\"plotly==5.15.0\")\nawait piplite.install(\"nbformat>=4.2.0\")\nawait piplite.install(\"ipywidgets>=7.6\")",
      "metadata": {
        "trusted": true
      },
      "execution_count": null,
      "outputs": []
    },
    {
      "cell_type": "code",
      "source": "#Uncomment the lines below to install required Python modules if running in a new JupyterLab Python install\n# !pip install numpy\n# !pip install pip install plotly==5.15.0\n# !pip install nbformat>=4.2.0\n# !pip install ipywidgets>=7.6",
      "metadata": {
        "trusted": true
      },
      "execution_count": null,
      "outputs": []
    },
    {
      "cell_type": "code",
      "source": "import numpy as np #import array manipulation and maths library numpy under the alias np\nimport plotly.graph_objects as go #import our plotting library under the alias go\nimport ipywidgets as widgets #import our interactive widgets library under the alias widgets\nfrom ipywidgets import interact,FloatSlider #for interactive sliders\nfrom IPython.display import Latex, display #for python to display latex math",
      "metadata": {
        "autorun": true,
        "tags": [],
        "trusted": true
      },
      "execution_count": null,
      "outputs": []
    },
    {
      "cell_type": "code",
      "source": "# #set the plotly graphing library to use the jupyterlab one\n# import plotly.io as pio\n# pio.renderers.default = \"jupyterlab\"",
      "metadata": {
        "trusted": true
      },
      "execution_count": null,
      "outputs": []
    },
    {
      "cell_type": "code",
      "source": "#create an interactive figure widget to add traces to\nfig = go.FigureWidget()\n\nfig.layout.template = \"plotly_dark\" #change plotly theme to dark mode\nfig.update_layout(autosize=True)\nfig.update_layout(height=800)\n\nfig.update_layout(title_text=\"Datpoints and Line in Slope-Intercept Form\") #add plot title\nfig.update_layout(xaxis_range=x_lims) #set x axis range\nfig.update_layout(yaxis_range=y_lims) #set y axis range\nfig.update_xaxes(title_text=\"x\") #add x axis title\nfig.update_yaxes(title_text=\"y\") #add y axis title\n\n\n\n\n# add elliptical orbit\nfig.add_trace(go.Scatter3d(x=(0, x_lims[1]), y=(c_initial, m_initial*x_lims[1]+c_initial), z = [0,0], mode=\"lines\", name=\"Line\")) #add line to graph\n\nsphere_centre = [0, 2, 1]\n\nsphere_radius = 3\n\nphi, theta = np.mgrid[0:np.pi:200j, 0:2*np.pi:200j] # create a meshgrid with 100 values for phi and 100 values for theta\nx_sphere = sphere_centre[0]+sphere_radius*np.sin(theta)*np.cos(phi)\ny_sphere = sphere_centre[1]+sphere_radius*np.sin(theta)*np.sin(phi)\nz_sphere = sphere_centre[2]+sphere_radius*np.cos(theta)\n\nfig.add_trace(go.Surface(x=x_sphere, y=y_sphere, z=z_sphere))\n\n\n\nlayout = widgets.Layout(width=\"600px\") #make the widgets wider so the slider bars are bigger\n\n#update function for linear graph\ndef update(m,c):\n    with fig.batch_update():\n        fig.data[1].x = (0, x_lims[1])\n        fig.data[1].y = (c, m*x_lims[1]+c)\n        fig.data[1].name = \"Line formula: y = {:.1f}x + {:.1f}\".format(m,c)\n\n#create the slider widgets and link up with the callback function that updates the graph        \ninteract(update,\n    m=FloatSlider(\n        min=-10,\n        max=10,\n        step=0.1,\n        readout_format=\".1f\",\n        value=m_initial,\n        description=\"m\",\n        style={\"description_width\" : \"initial\"},\n        continuous_update = True,\n        layout = layout),\n    c=FloatSlider(\n        min=-10,\n        max=10,\n        step=0.1,\n        readout_format=\".1f\",\n        value=c_initial,\n        description=\"c\",\n        style={\"description_width\" : \"initial\"},\n        continuous_update = True,\n        layout = layout),\n);\n\nfig #diplay the interactive plot widget",
      "metadata": {
        "autorun": true,
        "tags": [],
        "trusted": true
      },
      "execution_count": null,
      "outputs": []
    },
    {
      "cell_type": "markdown",
      "source": "## Rotation Code\nSource: https://community.plotly.com/t/rotating-3d-plots-with-plotly/34776/",
      "metadata": {}
    },
    {
      "cell_type": "code",
      "source": "import piplite\nawait piplite.install(\"dash\")\n# await piplite.install(\"setuptools\")\nawait piplite.install(\"plotly==5.15.0\")\nawait piplite.install(\"nbformat>=4.2.0\")",
      "metadata": {
        "trusted": true
      },
      "execution_count": null,
      "outputs": []
    },
    {
      "cell_type": "code",
      "source": "import plotly.graph_objects as go\nimport plotly\nimport numpy as np\n\n# Helix equation\nt = np.linspace(0, 10, 50)\nx, y, z = np.cos(t), np.sin(t), t\n\nfig= go.Figure(go.Scatter3d(x=x, y=y, z=z, mode='markers'))\n\nx_eye = -1.25\ny_eye = 2\nz_eye = 0.5\n\nfig.update_layout(\n         title='Animation Test',\n         width=600,\n         height=600,\n         scene_camera_eye=dict(x=x_eye, y=y_eye, z=z_eye),\n         updatemenus=[dict(type='buttons',\n                  showactive=False,\n                  y=1,\n                  x=0.8,\n                  xanchor='left',\n                  yanchor='bottom',\n                  pad=dict(t=45, r=10),\n                  buttons=[dict(label='Play',\n                                 method='animate',\n                                 args=[None, dict(frame=dict(duration=10, redraw=True), \n                                                             transition=dict(duration=0),\n                                                             fromcurrent=True,\n                                                             mode='immediate'\n                                                            )]\n                                            )\n                                      ]\n                              )\n                        ]\n)\n\n\ndef rotate_z(x, y, z, theta):\n    w = x+1j*y\n    return np.real(np.exp(1j*theta)*w), np.imag(np.exp(1j*theta)*w), z\n\nframes=[]\nfor t in np.arange(0, 6.26, 0.005):\n    xe, ye, ze = rotate_z(x_eye, y_eye, z_eye, -t)\n    frames.append(go.Frame(layout=dict(scene_camera_eye=dict(x=xe, y=ye, z=ze))))\nfig.frames=frames\n\nfig",
      "metadata": {
        "trusted": true
      },
      "execution_count": null,
      "outputs": []
    },
    {
      "cell_type": "code",
      "source": "",
      "metadata": {},
      "execution_count": null,
      "outputs": []
    }
  ]
}