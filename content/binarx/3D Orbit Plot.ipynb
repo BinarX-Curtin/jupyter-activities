{
  "metadata": {
    "kernelspec": {
      "display_name": "Python (Pyodide)",
      "language": "python",
      "name": "python"
    },
    "language_info": {
      "codemirror_mode": {
        "name": "python",
        "version": 3
      },
      "file_extension": ".py",
      "mimetype": "text/x-python",
      "name": "python",
      "nbconvert_exporter": "python",
      "pygments_lexer": "ipython3",
      "version": "3.8"
    }
  },
  "nbformat_minor": 4,
  "nbformat": 4,
  "cells": [
    {
      "cell_type": "code",
      "source": "#slad libraries for JupyterLite\n#only required one time ever for JupyterLab running locally or on a hosted JupyterHub instance\n%pip install nbformat plotly ipywidgets",
      "metadata": {
        "autorun": true,
        "tags": [],
        "trusted": true
      },
      "execution_count": null,
      "outputs": []
    },
    {
      "cell_type": "code",
      "source": "import numpy as np #import array manipulation and maths library numpy under the alias np\nimport plotly.graph_objects as go #import our plotting library under the alias go\nimport ipywidgets as widgets #import our interactive widgets library under the alias widgets\nfrom ipywidgets import interact,FloatSlider #for interactive sliders\nfrom scipy.spatial.transform import Rotation as R #import SciPy rotation library under the alias R for Euler angle rotations",
      "metadata": {
        "autorun": true,
        "tags": [],
        "trusted": true
      },
      "execution_count": null,
      "outputs": []
    },
    {
      "cell_type": "code",
      "source": "from astropy import units as u #import the astropy units package so we can use real world units conveniently\n\nclass Earth:\n    \"\"\"Earth class with useful atributes, used as poliastro is not available in JupyterLite\"\"\"\n    name = \"Earth\"\n    #radius\n    #source:\n    #Archinal, B.A. et al. \"Report of the IAU working group on cartographic coordinates and rotational elements: 2015\"\n    #Celestial Mechanics and Dynamical Astronomy 109(2011): 101-135.\n    #DOI: https://doi.org/10.1007/s10569-010-9320-4\n    R =  6371.0084*u.km\n    \n    #gravitational parameter GM\n    #source:\n    #Luzum, Brian et al. “The IAU 2009 System of Astronomical Constants: The Report of the IAU Working Group on Numerical Standards for Fundamental Astronomy.\"\n    #Celestial Mechanics and Dynamical Astronomy 110.4 (2011): 293–304.\n    #DOI: https://doi.org/10.1007/s10569-011-9352-4\n    k = 3.986004418e14*u.m**3/u.s**2\n    \n    #CSS colour name for plotting\n    color = \"lightskyblue\"\n    \n    #atmosphere properties for plotting\n    has_atmosphere = True\n    #atmosphere \"height\" and CSS colour for visualisation\n    atmosphere_height = 100*u.km\n    atmosphere_color = \"lightblue\"\n    atmosphere_opacity = 0.2\n\nclass Moon:\n    \"\"\"Moon class with useful atributes, used as poliastro is not available in JupyterLite\"\"\"\n    name = \"The Moon (Luna)\"\n    #radius\n    #source:\n    #Archinal, B.A. et al. \"Report of the IAU working group on cartographic coordinates and rotational elements: 2015\"\n    #Celestial Mechanics and Dynamical Astronomy 109(2011): 101-135.\n    #DOI: https://doi.org/10.1007/s10569-010-9320-4\n    R = 1737.1*u.km #mean radius\n    \n    #gravitational parameter GM\n    #source:\n    #Lemoine, Frank G. et al. “High-Degree Gravity Models from GRAIL Primary Mission Data.”\n    #Journal of Geophysical Research: Planets 118.8 (2013): 1676–1698.\n    #DOI: https://doi.org/10.1002/jgre.20118\n    k = 4.90279981e12*u.m**3/u.s**2\n    \n    #CSS colour name for plotting\n    color = \"lightgrey\"\n    \n    #atmosphere properties for plotting\n    has_atmosphere = False",
      "metadata": {
        "autorun": true,
        "tags": [],
        "trusted": true
      },
      "execution_count": null,
      "outputs": []
    },
    {
      "cell_type": "code",
      "source": "#Primary body (that the spacecraft is orbiting)\nbody=Earth\n#Initial orbital parameters for the spacecraft\nsma_initial = (body.R+400*u.km).to(u.km).value\necc_initial = 0\ninc_initial = 0\nraan_initial = 0\nargp_initial = 0\nnu_initial = 0\n\n#size of cone representing spacecraft position and direction\nsc_cone_scale = body.R.to(u.km).value/2\n\n#resolution of orbit and body in plots\norbit_res = 100 #number of points used to plot ellipse\nbody_res = 70 #numbe or points to use in meshgrid creation\n\n#size of 3d viewbox\nbox_scale = 10 #viewbox cube sidelengt in body radii\n\n#height of 3d plot figure\nfigure_height = 800\n\n\ndef sphere3d(x_0, y_0, z_0, r, res):\n    \"\"\"Sphere surface creation function for use with Plotly go.Surface\"\"\"\n    phi, theta = np.mgrid[0:np.pi:res*1j, 0:2*np.pi:res*1j] # create a meshgrid with 100 values for phi and 100 values for theta\n    xs = x_0+r*np.sin(theta)*np.cos(phi)\n    ys = y_0+r*np.sin(theta)*np.sin(phi)\n    zs = z_0+r*np.cos(theta)\n    \n    return xs, ys, zs\n\ndef ellipse3d(sma, ecc, inc, raan, argp, res):\n    \"\"\"Ellipse line creation function for use with Plotly go.Scatter3d\"\"\"\n    theta = np.linspace(0, 2*np.pi, res)\n    \n    #create ellipse points on a 2d plane\n    ellipse_xs = sma*np.cos(theta)-sma*ecc\n    ellipse_ys = sma*np.sqrt(1-ecc**2)*np.sin(theta)\n    ellipse_zs = 0*theta\n    \n    #prepare datapoints for rotation matrix multiplication\n    #source: https://community.plotly.com/t/controlling-animation-speed-using-graph-objects-in-python/41038/21\n    m = ellipse_xs.shape\n    xyz = np.vstack((ellipse_xs.flatten(),ellipse_ys.flatten(),ellipse_zs.flatten()))\n    \n    r = R.from_euler(\"zxz\", [argp, inc, raan]).as_matrix() #create rotation matrix for raan, inc and argp rotations\n    \n    xyz_rotated = r @ xyz #apply rotation via matrix multiplication\n    xs, ys, zs = xyz_rotated[0].reshape(m), xyz_rotated[1].reshape(m), xyz_rotated[2].reshape(m)\n    \n    return xs, ys, zs\n\ndef spacecraftCone(sma, ecc, inc, raan, argp, nu, sc_cone_scale):\n    \"\"\"Function to generate spacecraft position and direction coordinates for use with Plotly go.Cone\"\"\"\n    step = 0.001 #step in nu for numerical differentiation\n    nu0_nu1 = np.asarray([nu, nu+step, nu+2*step]) #calculate nu0 and nu1\n    E = np.arctan(np.tan(nu0_nu1/2)/np.sqrt((1+ecc)/(1-ecc)))*2 #calculate eccentric anomaly for true anomaly nu0 and nu1\n    \n    #calculate spacecraft position on a 2d plane\n    ellipse_xs = sma*np.cos(E)-sma*ecc\n    ellipse_ys = sma*np.sqrt(1-ecc**2)*np.sin(E)\n    ellipse_zs = 0*E\n    \n    #prepare datapoints for rotation matrix multiplication\n    #source: https://community.plotly.com/t/controlling-animation-speed-using-graph-objects-in-python/41038/21\n    m = ellipse_xs.shape\n    ellipse_xyzs = np.vstack((ellipse_xs, ellipse_ys, ellipse_zs))\n    \n    r = R.from_euler(\"zxz\", [argp, inc, raan]).as_matrix() #create rotation matrix for raan, inc and argp rotations\n    \n    xyzs = r @ ellipse_xyzs #apply rotation via matrix multiplication\n\n    xs, ys, zs = xyzs[0].reshape(m), xyzs[1].reshape(m), xyzs[2].reshape(m)\n    \n    #calculate directions\n    uvws = np.diff(xyzs)\n    #scale first direction\n    scaled_uvws_0 = sc_cone_scale*uvws.transpose()[0]/np.linalg.norm(uvws.transpose()[0])\n    \n    return [xs[0]], [ys[0]], [zs[0]], [scaled_uvws_0[0]], [scaled_uvws_0[1]], [scaled_uvws_0[2]]\n\n#create a scatter plot from the x and y arrays\nfig = go.FigureWidget()\n\nfig.layout.template = \"plotly_dark\" #change plotly theme to dark mode\n\n#update figure layout as needed\nfig.update_layout(title_text=\"3D Orbit Plot\", #set figure title\n    #set height & activate width autosize\n    height=figure_height,\n    autosize=True,\n    showlegend=False,\n    scene=dict(\n        #specify the aspect ratio as 1:1:1 to avoid squished objects after we set set the bounds\n        aspectmode='manual',\n        aspectratio=dict(x=1, y=1, z=1),\n        #set the view box size\n        xaxis=dict(nticks=8, range=[-box_scale/2*body.R.to(u.km).value,box_scale/2*body.R.to(u.km).value],),\n        yaxis=dict(nticks=8, range=[-box_scale/2*body.R.to(u.km).value,box_scale/2*body.R.to(u.km).value],),\n        zaxis=dict(nticks=8, range=[-box_scale/2*body.R.to(u.km).value,box_scale/2*body.R.to(u.km).value],),\n        #set axes titles\n        xaxis_title=\"X Axis (km)\",\n        yaxis_title=\"Y Axis (km)\",\n        zaxis_title=\"Z Axis (km)\"),\n    #define the view angle\n    # scene_camera_eye=dict(x=0.5*np.pi, y=0.5*np.pi, z=0.5*np.pi)\n    )\n\n#add the orbit ellipse to the graph\norbit_xs, orbit_ys, orbit_zs = ellipse3d(sma_initial, ecc_initial, inc_initial, raan_initial, argp_initial, orbit_res) #create orbit ellipse\nfig.add_trace(go.Scatter3d(x=orbit_xs, y=orbit_ys, z = orbit_zs, mode=\"lines\", marker_color=\"red\", name=\"Orbit\")) #add ellipse to graph\n\n#add a cone for the spacecraft\nsc_xs, sc_ys, sc_zs, sc_us, sc_vs, sc_ws = spacecraftCone(sma_initial, ecc_initial, inc_initial, raan_initial, argp_initial, nu_initial, sc_cone_scale)\nfig.add_trace(go.Cone(x=sc_xs, y=sc_ys, z=sc_zs, u=sc_us, v=sc_us, w=sc_ws, name=\"Spacecraft\", colorscale=[[0,\"red\"], [1, \"red\"]], opacity=0.5, showscale=False))\n\n#add the body to the graph\nbody_xs, body_ys, body_zs = sphere3d(0, 0, 0, body.R.to(u.km).value, body_res) #create the body sphere surface\nfig.add_trace(go.Surface(x=body_xs, y=body_ys, z=body_zs, name=body.name, colorscale=[[0,body.color], [1, body.color]], showscale=False)) #add the body to the graph\n\nif(body.has_atmosphere):\n    #add the atmosphere to the graph\n    atmosphere_xs, atmosphere_ys, atmosphere_zs = sphere3d(0, 0, 0, body.R.to(u.km).value+body.atmosphere_height.to(u.km).value, body_res) #create the body sphere surface\n    fig.add_trace(go.Surface(x=atmosphere_xs, y=atmosphere_ys, z=atmosphere_zs, name=body.name+\"Atmosphere\", colorscale=[[0,body.atmosphere_color], [1, body.atmosphere_color]], opacity=body.atmosphere_opacity, showscale=False)) #add the body to the graph\n\n#add the Vernal Equinox reference to the plot\nfig.add_trace(go.Scatter3d(x=[0, 2*body.R.to(u.km).value], y=[0,0], z=[0,0], mode=\"lines\", marker_color=\"red\", name=\"Vernal Equinox\")) #add line to graph\nfig.add_trace(go.Scatter3d(x=[2.15*body.R.to(u.km).value], y=[0,0], z=[0,0], mode=\"text\", text=\"♈︎\", textposition=\"middle center\")) #add text to graph\n#add the North reference to the plot\nfig.add_trace(go.Scatter3d(x=[0,0], y=[0,0], z=[0, 2*body.R.to(u.km).value], mode=\"lines\", marker_color=\"blue\", name=\"North\")) #add line to graph\nfig.add_trace(go.Scatter3d(x=[0,0], y=[0,0], z=[2.15*body.R.to(u.km).value], mode=\"text\", text=\"N\", textposition=\"middle center\")) #add text to graph\n#add the +Y reference to the plot\nfig.add_trace(go.Scatter3d(x=[0,0], y=[0, 2*body.R.to(u.km).value], z=[0,0], mode=\"lines\", marker_color=\"green\", name=\"+Y Axis\")) #add line to graph\nfig.add_trace(go.Scatter3d(x=[0,0], y=[2.15*body.R.to(u.km).value], z=[0,0], mode=\"text\", text=\"+Y\", textposition=\"middle center\")) #add text to graph\n\n\n\n#update function for graph\ndef update(sma_km, ecc, inc_deg, raan_deg, argp_deg, nu_deg):\n    #convert sma into km\n    sma = sma_km\n    #convert parameters in degrees into radians\n    inc = np.deg2rad(inc_deg)\n    raan = np.deg2rad(raan_deg)\n    argp = np.deg2rad(argp_deg)\n    nu = np.deg2rad(nu_deg)\n    #update 3d plot\n    with fig.batch_update():\n        #orbit\n        orbit_xs, orbit_ys, orbit_zs = ellipse3d(sma, ecc, inc, raan, argp, orbit_res)\n        fig.data[0].x = orbit_xs\n        fig.data[0].y = orbit_ys\n        fig.data[0].z = orbit_zs\n        #spacecraft cone\n        sc_x, sc_y, sc_z, sc_u, sc_v, sc_w = spacecraftCone(sma, ecc, inc, raan, argp, nu, sc_cone_scale)\n        fig.data[1].x = sc_x\n        fig.data[1].y = sc_y\n        fig.data[1].z = sc_z\n        fig.data[1].u = sc_u\n        fig.data[1].v = sc_v\n        fig.data[1].w = sc_w\n        # fig.data[0].name = \"Orbit: a = {}, e = {}, i = {}, raan = {}, argp = {}\".format(sma, ecc, inc, raan, argp)\n\nlayout = widgets.Layout(width=\"800px\") #make the widgets wider so the slider bars are bigger\n\n#create the slider widgets and link up with the callback function that updates the graph        \ninteract(update,\n    sma_km=FloatSlider(\n        min=1000,\n        max=60000,\n        step=10,\n        readout_format=\".0f\",\n        value=sma_initial,\n        description=\"Semi-Major Axis, a (km)\",\n        style={\"description_width\" : \"initial\"},\n        continuous_update = True,\n        layout = layout),\n    ecc=FloatSlider(\n        min=0,\n        max=1,\n        step=0.01,\n        readout_format=\".2f\",\n        value=ecc_initial,\n        description=\"Eccentricity, e\",\n        style={\"description_width\" : \"initial\"},\n        continuous_update = True,\n        layout = layout),\n    inc_deg=FloatSlider(\n        min=0,\n        max=180,\n        step=0.5,\n        readout_format=\".1f\",\n        value=inc_initial,\n        description=\"Inclination, i (deg)\",\n        style={\"description_width\" : \"initial\"},\n        continuous_update = True,\n        layout = layout),\n    raan_deg=FloatSlider(\n        min=0,\n        max=360,\n        step=0.5,\n        readout_format=\".1f\",\n        value=raan_initial,\n        description=\"Right Ascension of the Ascending Node, Ω (deg)\",\n        style={\"description_width\" : \"initial\"},\n        continuous_update = True,\n        layout = layout),\n    argp_deg=FloatSlider(\n        min=0,\n        max=360,\n        step=0.5,\n        readout_format=\".1f\",\n        value=argp_initial,\n        description=\"Argument of Periapsis, ω (deg)\",\n        style={\"description_width\" : \"initial\"},\n        continuous_update = True,\n        layout = layout),\n     nu_deg=FloatSlider(\n        min=0,\n        max=360,\n        step=0.5,\n        readout_format=\".1f\",\n        value=argp_initial,\n        description=\"True Anomaly, ν (deg)\",\n        style={\"description_width\" : \"initial\"},\n        continuous_update = True,\n        layout = layout)\n);\n\nfig #diplay the interactive plot widget",
      "metadata": {
        "autorun": true,
        "tags": [],
        "trusted": true
      },
      "execution_count": null,
      "outputs": []
    },
    {
      "cell_type": "markdown",
      "source": "## Rotation Code\nSource: https://community.plotly.com/t/rotating-3d-plots-with-plotly/34776/",
      "metadata": {}
    },
    {
      "cell_type": "code",
      "source": "import piplite\nawait piplite.install(\"dash\")\n# await piplite.install(\"setuptools\")\nawait piplite.install(\"plotly==5.15.0\")\nawait piplite.install(\"nbformat>=4.2.0\")",
      "metadata": {
        "trusted": true
      },
      "execution_count": null,
      "outputs": []
    },
    {
      "cell_type": "code",
      "source": "import plotly.graph_objects as go\nimport plotly\nimport numpy as np\n\n# Helix equation\nt = np.linspace(0, 10, 50)\nx, y, z = np.cos(t), np.sin(t), t\n\nfig= go.Figure(go.Scatter3d(x=x, y=y, z=z, mode='markers'))\n\nx_eye = -1.25\ny_eye = 2\nz_eye = 0.5\n\nfig.update_layout(\n         title='Animation Test',\n         width=600,\n         height=600,\n         scene_camera_eye=dict(x=x_eye, y=y_eye, z=z_eye),\n         updatemenus=[dict(type='buttons',\n                  showactive=False,\n                  y=1,\n                  x=0.8,\n                  xanchor='left',\n                  yanchor='bottom',\n                  pad=dict(t=45, r=10),\n                  buttons=[dict(label='Play',\n                                 method='animate',\n                                 args=[None, dict(frame=dict(duration=10, redraw=True), \n                                                             transition=dict(duration=0),\n                                                             fromcurrent=True,\n                                                             mode='immediate'\n                                                            )]\n                                            )\n                                      ]\n                              )\n                        ]\n)\n\n\ndef rotate_z(x, y, z, theta):\n    w = x+1j*y\n    return np.real(np.exp(1j*theta)*w), np.imag(np.exp(1j*theta)*w), z\n\nframes=[]\nfor t in np.arange(0, 6.26, 0.005):\n    xe, ye, ze = rotate_z(x_eye, y_eye, z_eye, -t)\n    frames.append(go.Frame(layout=dict(scene_camera_eye=dict(x=xe, y=ye, z=ze))))\nfig.frames=frames\n\nfig",
      "metadata": {
        "trusted": true
      },
      "execution_count": null,
      "outputs": []
    }
  ]
}