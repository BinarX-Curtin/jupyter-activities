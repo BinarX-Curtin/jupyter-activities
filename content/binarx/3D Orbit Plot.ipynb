{
  "metadata": {
    "kernelspec": {
      "display_name": "Python (Pyodide)",
      "language": "python",
      "name": "python"
    },
    "language_info": {
      "codemirror_mode": {
        "name": "python",
        "version": 3
      },
      "file_extension": ".py",
      "mimetype": "text/x-python",
      "name": "python",
      "nbconvert_exporter": "python",
      "pygments_lexer": "ipython3",
      "version": "3.8"
    }
  },
  "nbformat_minor": 4,
  "nbformat": 4,
  "cells": [
    {
      "cell_type": "code",
      "source": "#Import Python modules for JupyterLite environment using piplite\nimport piplite\n# await piplite.install(\"numpy\")\n# await piplite.install(\"scipy\")\nawait piplite.install(\"plotly\")\n# await piplite.install(\"nbformat\")\nawait piplite.install(\"ipywidgets\")",
      "metadata": {
        "trusted": true
      },
      "execution_count": 1,
      "outputs": []
    },
    {
      "cell_type": "code",
      "source": "#Uncomment the lines below to install required Python modules if running in a new JupyterLab Python install\n# !pip install numpy\n# !pip install pip install plotly\n# !pip install nbformat>=4.2.0\n# !pip install ipywidgets",
      "metadata": {
        "trusted": true
      },
      "execution_count": 2,
      "outputs": []
    },
    {
      "cell_type": "code",
      "source": "import numpy as np #import array manipulation and maths library numpy under the alias np\nimport plotly.graph_objects as go #import our plotting library under the alias go\nimport ipywidgets as widgets #import our interactive widgets library under the alias widgets\nfrom ipywidgets import interact,FloatSlider #for interactive sliders\nfrom scipy.spatial.transform import Rotation as R #import SciPy rotation library under the alias R for Euler angle rotations\n# from IPython.display import Latex, display #for python to display latex math",
      "metadata": {
        "autorun": true,
        "tags": [],
        "trusted": true
      },
      "execution_count": 3,
      "outputs": []
    },
    {
      "cell_type": "code",
      "source": "# #set the plotly graphing library to use the jupyterlab one\n# import plotly.io as pio\n# pio.renderers.default = \"jupyterlab\"",
      "metadata": {
        "trusted": true
      },
      "execution_count": 4,
      "outputs": []
    },
    {
      "cell_type": "code",
      "source": "from astropy import units as u #import the astropy units package so we can use real world units conveniently\n\nclass Earth:\n    \"\"\"Earth class with useful atributes, used as poliastro is not available in JupyterLite\"\"\"\n    #radius\n    #source:\n    #Archinal, B.A. et al. \"Report of the IAU working group on cartographic coordinates and rotational elements: 2015\"\n    #Celestial Mechanics and Dynamical Astronomy 109(2011): 101-135.\n    #DOI: https://doi.org/10.1007/s10569-010-9320-4\n    R =  6371.0084*u.km\n    \n    #gravitational parameter GM\n    #source:\n    #Luzum, Brian et al. “The IAU 2009 System of Astronomical Constants: The Report of the IAU Working Group on Numerical Standards for Fundamental Astronomy.\"\n    #Celestial Mechanics and Dynamical Astronomy 110.4 (2011): 293–304.\n    #DOI: https://doi.org/10.1007/s10569-011-9352-4\n    k = 3.986004418e14*u.m**3/u.s**2\n\nclass Moon:\n    \"\"\"Moon class with useful atributes, used as poliastro is not available in JupyterLite\"\"\"\n    #radius\n    #source:\n    #Archinal, B.A. et al. \"Report of the IAU working group on cartographic coordinates and rotational elements: 2015\"\n    #Celestial Mechanics and Dynamical Astronomy 109(2011): 101-135.\n    #DOI: https://doi.org/10.1007/s10569-010-9320-4\n    R = 1737.1*u.km #mean radius\n    \n    #gravitational parameter GM\n    #source:\n    #Lemoine, Frank G. et al. “High-Degree Gravity Models from GRAIL Primary Mission Data.”\n    #Journal of Geophysical Research: Planets 118.8 (2013): 1676–1698.\n    #DOI: https://doi.org/10.1002/jgre.20118\n    k = 4.90279981e12*u.m**3/u.s**2",
      "metadata": {
        "trusted": true
      },
      "execution_count": 5,
      "outputs": []
    },
    {
      "cell_type": "code",
      "source": "sma_initial = (Earth.R+500*u.km).to(u.km).value\necc_initial = 0\ninc_initial = 0\n\norbit_res = 50 #number of points used to plot ellipse\nbody_res = 30 #numbe or points to use in meshgrid creation\nbox_scale = 6 #viebox cube sidelengt in Earth radii\n\ndef sphere3d(x_0, y_0, z_0, r, res):\n    \"\"\"Sphere surface creation function for use with Plotly go.Surface\"\"\"\n    phi, theta = np.mgrid[0:np.pi:res*1j, 0:2*np.pi:res*1j] # create a meshgrid with 100 values for phi and 100 values for theta\n    xs = x_0+r*np.sin(theta)*np.cos(phi)\n    ys = y_0+r*np.sin(theta)*np.sin(phi)\n    zs = z_0+r*np.cos(theta)\n    \n    return xs, ys, zs\n\ndef ellipse3d(sma, ecc, inc, res):\n    \"\"\"Ellipse line creation function for use with Plotly go.Scatter3d\"\"\"\n    theta = np.linspace(0, 2*np.pi, res)\n    \n    #create ellipse points on a 2d plane\n    ellipse_xs = sma*np.cos(theta)-sma*ecc\n    ellipse_ys = sma*np.sqrt(1-ecc**2)*np.sin(theta)\n    ellipse_zs = 0*theta\n    \n    #prepare datapoints for rotation matrix multiplication\n    #source: https://community.plotly.com/t/controlling-animation-speed-using-graph-objects-in-python/41038/21\n    m = ellipse_xs.shape\n    xyz = np.vstack((ellipse_xs.flatten(),ellipse_ys.flatten(),ellipse_zs.flatten()))\n    \n    r = R.from_euler(\"x\", inc).as_matrix() #create rotation matrix for inclination rotation\n    \n    \n    xyz_rotated = r @ xyz #apply rotation via matrix multiplication\n    xs, ys, zs = xyz_rotated[0].reshape(m), xyz_rotated[1].reshape(m), xyz_rotated[2].reshape(m)\n    \n    return xs, ys, zs\n\n#create a scatter plot from the x and y arrays\nfig = go.FigureWidget()\n\nfig.layout.template = \"plotly_dark\" #change plotly theme to dark mode\n\n#update figure layout as needed\nfig.update_layout(title_text=\"3D Orbit Plot\", #set figure title\n    #set height & activate width autosize\n    height=800,\n    autosize=True,\n    # showlegend=False,\n    scene=dict(\n        #specify the aspect ratio as 1:1:1 to avoid squished objects after we set set the bounds\n        aspectmode='manual',\n        aspectratio=dict(x=1, y=1, z=1),\n        #set the view box size\n        xaxis=dict(nticks=8, range=[-box_scale/2*Earth.R.to(u.km).value,box_scale/2*Earth.R.to(u.km).value],),\n        yaxis=dict(nticks=8, range=[-box_scale/2*Earth.R.to(u.km).value,box_scale/2*Earth.R.to(u.km).value],),\n        zaxis=dict(nticks=8, range=[-box_scale/2*Earth.R.to(u.km).value,box_scale/2*Earth.R.to(u.km).value],),\n        #set axes titles\n        xaxis_title=\"X Axis (km)\",\n        yaxis_title=\"Y Axis (km)\",\n        zaxis_title=\"Z Axis (km)\"))\n\nbody_xs, body_ys, body_zs = sphere3d(0, 0, 0, Earth.R.to(u.km).value, body_res) #create the body sphere surface\nfig.add_trace(go.Surface(x=body_xs, y=body_ys, z=body_zs, showscale=False)) #add the body to the graph\n\norbit_xs, orbit_ys, orbit_zs = ellipse3d(sma_initial, ecc_initial, inc_initial, orbit_res)\n\n#add the orbit ellipse to the graph\nfig.add_trace(go.Scatter3d(x=orbit_xs, y=orbit_ys, z = orbit_zs, mode=\"lines\", name=\"Orbit\")) #add line to graph\n\n\n#update function for graph\ndef update(sma,ecc,inc):\n    with fig.batch_update():\n        orbit_xs, orbit_ys, orbit_zs = ellipse3d(sma, ecc, inc, orbit_res)\n        fig.data[1].x = orbit_xs\n        fig.data[1].y = orbit_ys\n        fig.data[1].z = orbit_zs\n        fig.data[1].name = \"Orbit: a = {}, e = {}, i = {}\".format(sma,ecc,inc)\n\nlayout = widgets.Layout(width=\"600px\") #make the widgets wider so the slider bars are bigger\n\n#create the slider widgets and link up with the callback function that updates the graph        \ninteract(update,\n    sma=FloatSlider(\n        min=1000,\n        max=30000,\n        step=3,\n        readout_format=\".0f\",\n        value=sma_initial,\n        description=\"sma (km)\",\n        style={\"description_width\" : \"initial\"},\n        continuous_update = True,\n        layout = layout),\n    ecc=FloatSlider(\n        min=0,\n        max=1,\n        step=0.01,\n        readout_format=\".2f\",\n        value=ecc_initial,\n        description=\"ecc\",\n        style={\"description_width\" : \"initial\"},\n        continuous_update = True,\n        layout = layout),\n     inc=FloatSlider(\n        min=0,\n        max=np.pi,\n        step=0.01,\n        readout_format=\".2f\",\n        value=inc_initial,\n        description=\"inc (rad)\",\n        style={\"description_width\" : \"initial\"},\n        continuous_update = True,\n        layout = layout),\n);\n\nfig #diplay the interactive plot widget",
      "metadata": {
        "autorun": true,
        "tags": [],
        "trusted": true
      },
      "execution_count": 6,
      "outputs": [
        {
          "output_type": "display_data",
          "data": {
            "text/plain": "interactive(children=(FloatSlider(value=6871.0084, description='sma (km)', layout=Layout(width='600px'), max=3…",
            "application/vnd.jupyter.widget-view+json": {
              "version_major": 2,
              "version_minor": 0,
              "model_id": "47f04c065b904cecb167ee8c3041a9a9"
            }
          },
          "metadata": {}
        },
        {
          "execution_count": 6,
          "output_type": "execute_result",
          "data": {
            "application/vnd.jupyter.widget-view+json": {
              "version_major": 2,
              "version_minor": 0,
              "model_id": "4fc409915b16462dab652974453d81be"
            },
            "text/plain": "FigureWidget({\n    'data': [{'showscale': False,\n              'type': 'surface',\n              'uid': '23c69315-b62a-4281-80f4-c9c8dcb5c84c',\n              'x': array([[ 0.00000000e+00,  1.36957848e+03,  2.67511699e+03, ...,\n                           -2.67511699e+03, -1.36957848e+03, -1.56044701e-12],\n                          [ 0.00000000e+00,  1.36154995e+03,  2.65943534e+03, ...,\n                           -2.65943534e+03, -1.36154995e+03, -1.55129960e-12],\n                          [ 0.00000000e+00,  1.33755850e+03,  2.61257424e+03, ...,\n                           -2.61257424e+03, -1.33755850e+03, -1.52396462e-12],\n                          ...,\n                          [ 0.00000000e+00, -1.33755850e+03, -2.61257424e+03, ...,\n                            2.61257424e+03,  1.33755850e+03,  1.52396462e-12],\n                          [ 0.00000000e+00, -1.36154995e+03, -2.65943534e+03, ...,\n                            2.65943534e+03,  1.36154995e+03,  1.55129960e-12],\n                          [ 0.00000000e+00, -1.36957848e+03, -2.67511699e+03, ...,\n                            2.67511699e+03,  1.36957848e+03,  1.56044701e-12]]),\n              'y': array([[ 0.00000000e+00,  0.00000000e+00,  0.00000000e+00, ...,\n                            0.00000000e+00,  0.00000000e+00,  0.00000000e+00],\n                          [ 0.00000000e+00,  1.48077481e+02,  2.89231023e+02, ...,\n                           -2.89231023e+02, -1.48077481e+02, -1.68713999e-13],\n                          [ 0.00000000e+00,  2.94418889e+02,  5.75071078e+02, ...,\n                           -5.75071078e+02, -2.94418889e+02, -3.35449980e-13],\n                          ...,\n                          [ 0.00000000e+00,  2.94418889e+02,  5.75071078e+02, ...,\n                           -5.75071078e+02, -2.94418889e+02, -3.35449980e-13],\n                          [ 0.00000000e+00,  1.48077481e+02,  2.89231023e+02, ...,\n                           -2.89231023e+02, -1.48077481e+02, -1.68713999e-13],\n                          [ 0.00000000e+00,  1.67724990e-13,  3.27607346e-13, ...,\n                           -3.27607346e-13, -1.67724990e-13, -1.91099643e-28]]),\n              'z': array([[6371.0084    , 6222.05776404, 5782.17062236, ..., 5782.17062236,\n                           6222.05776404, 6371.0084    ],\n                          [6371.0084    , 6222.05776404, 5782.17062236, ..., 5782.17062236,\n                           6222.05776404, 6371.0084    ],\n                          [6371.0084    , 6222.05776404, 5782.17062236, ..., 5782.17062236,\n                           6222.05776404, 6371.0084    ],\n                          ...,\n                          [6371.0084    , 6222.05776404, 5782.17062236, ..., 5782.17062236,\n                           6222.05776404, 6371.0084    ],\n                          [6371.0084    , 6222.05776404, 5782.17062236, ..., 5782.17062236,\n                           6222.05776404, 6371.0084    ],\n                          [6371.0084    , 6222.05776404, 5782.17062236, ..., 5782.17062236,\n                           6222.05776404, 6371.0084    ]])},\n             {'mode': 'lines',\n              'name': 'Orbit: a = 6871.0084, e = 0.0, i = 0.0',\n              'type': 'scatter3d',\n              'uid': 'ddd84593-034e-4172-8103-cb7e0d47604d',\n              'x': array([ 6871.0084    ,  6814.59751602,  6646.29112922,  6368.85282583,\n                           5986.83813511,  5506.51972773,  4935.78441866,  4284.00366589,\n                           3561.87969136,  2781.26975077,  1954.99143777,  1096.61221941,\n                            220.22665873,  -659.77501761, -1528.94320639, -2373.00619   ,\n                          -3178.10447757, -3931.01837748, -4619.38506431, -5231.9015761 ,\n                          -5758.51040865, -6190.5646595 , -6520.97000978, -6744.30121278,\n                          -6856.89117633, -6856.89117633, -6744.30121278, -6520.97000978,\n                          -6190.5646595 , -5758.51040865, -5231.9015761 , -4619.38506431,\n                          -3931.01837748, -3178.10447757, -2373.00619   , -1528.94320639,\n                           -659.77501761,   220.22665873,  1096.61221941,  1954.99143777,\n                           2781.26975077,  3561.87969136,  4284.00366589,  4935.78441866,\n                           5506.51972773,  5986.83813511,  6368.85282583,  6646.29112922,\n                           6814.59751602,  6871.0084    ]),\n              'y': array([ 0.00000000e+00,  8.78645052e+02,  1.74286278e+03,  2.57846274e+03,\n                           3.37172442e+03,  4.10962248e+03,  4.78004065e+03,  5.37197068e+03,\n                           5.87569311e+03,  6.28293681e+03,  6.58701487e+03,  6.78293433e+03,\n                           6.86747819e+03,  6.83925825e+03,  6.69873787e+03,  6.44822441e+03,\n                           6.09183128e+03,  5.63541045e+03,  5.08645634e+03,  4.45398275e+03,\n                           3.74837489e+03,  2.98121882e+03,  2.16511121e+03,  1.31345254e+03,\n                           4.40227020e+02, -4.40227020e+02, -1.31345254e+03, -2.16511121e+03,\n                          -2.98121882e+03, -3.74837489e+03, -4.45398275e+03, -5.08645634e+03,\n                          -5.63541045e+03, -6.09183128e+03, -6.44822441e+03, -6.69873787e+03,\n                          -6.83925825e+03, -6.86747819e+03, -6.78293433e+03, -6.58701487e+03,\n                          -6.28293681e+03, -5.87569311e+03, -5.37197068e+03, -4.78004065e+03,\n                          -4.10962248e+03, -3.37172442e+03, -2.57846274e+03, -1.74286278e+03,\n                          -8.78645052e+02, -1.68291169e-12]),\n              'z': array([0., 0., 0., 0., 0., 0., 0., 0., 0., 0., 0., 0., 0., 0., 0., 0., 0., 0.,\n                          0., 0., 0., 0., 0., 0., 0., 0., 0., 0., 0., 0., 0., 0., 0., 0., 0., 0.,\n                          0., 0., 0., 0., 0., 0., 0., 0., 0., 0., 0., 0., 0., 0.])}],\n    'layout': {'autosize': True,\n               'height': 800,\n               'scene': {'aspectmode': 'manual',\n                         'aspectratio': {'x': 1, 'y': 1, 'z': 1},\n                         'xaxis': {'nticks': 8, 'range': [-19113.0252, 19113.0252], 'title': {'text': 'X Axis (km)'}},\n                         'yaxis': {'nticks': 8, 'range': [-19113.0252, 19113.0252], 'title': {'text': 'Y Axis (km)'}},\n                         'zaxis': {'nticks': 8, 'range': [-19113.0252, 19113.0252], 'title': {'text': 'Z Axis (km)'}}},\n               'template': '...',\n               'title': {'text': '3D Orbit Plot'}}\n})"
          },
          "metadata": {}
        }
      ]
    },
    {
      "cell_type": "markdown",
      "source": "## Rotation Code\nSource: https://community.plotly.com/t/rotating-3d-plots-with-plotly/34776/",
      "metadata": {}
    },
    {
      "cell_type": "code",
      "source": "import piplite\nawait piplite.install(\"dash\")\n# await piplite.install(\"setuptools\")\nawait piplite.install(\"plotly==5.15.0\")\nawait piplite.install(\"nbformat>=4.2.0\")",
      "metadata": {
        "trusted": true
      },
      "execution_count": 14,
      "outputs": []
    },
    {
      "cell_type": "code",
      "source": "import plotly.graph_objects as go\nimport plotly\nimport numpy as np\n\n# Helix equation\nt = np.linspace(0, 10, 50)\nx, y, z = np.cos(t), np.sin(t), t\n\nfig= go.Figure(go.Scatter3d(x=x, y=y, z=z, mode='markers'))\n\nx_eye = -1.25\ny_eye = 2\nz_eye = 0.5\n\nfig.update_layout(\n         title='Animation Test',\n         width=600,\n         height=600,\n         scene_camera_eye=dict(x=x_eye, y=y_eye, z=z_eye),\n         updatemenus=[dict(type='buttons',\n                  showactive=False,\n                  y=1,\n                  x=0.8,\n                  xanchor='left',\n                  yanchor='bottom',\n                  pad=dict(t=45, r=10),\n                  buttons=[dict(label='Play',\n                                 method='animate',\n                                 args=[None, dict(frame=dict(duration=10, redraw=True), \n                                                             transition=dict(duration=0),\n                                                             fromcurrent=True,\n                                                             mode='immediate'\n                                                            )]\n                                            )\n                                      ]\n                              )\n                        ]\n)\n\n\ndef rotate_z(x, y, z, theta):\n    w = x+1j*y\n    return np.real(np.exp(1j*theta)*w), np.imag(np.exp(1j*theta)*w), z\n\nframes=[]\nfor t in np.arange(0, 6.26, 0.005):\n    xe, ye, ze = rotate_z(x_eye, y_eye, z_eye, -t)\n    frames.append(go.Frame(layout=dict(scene_camera_eye=dict(x=xe, y=ye, z=ze))))\nfig.frames=frames\n\nfig",
      "metadata": {
        "trusted": true
      },
      "execution_count": 15,
      "outputs": [
        {
          "output_type": "display_data",
          "data": {
            "application/vnd.plotly.v1+json": {
              "data": [
                {
                  "mode": "markers",
                  "x": [
                    1,
                    0.9792475210564969,
                    0.9178514149905888,
                    0.8183599245989673,
                    0.6849024400004521,
                    0.5230181084730104,
                    0.33942593237925484,
                    0.14174589725634046,
                    -0.061817295362854206,
                    -0.262814763741325,
                    -0.4529041164186286,
                    -0.6241957028171256,
                    -0.7695800728569471,
                    -0.883023054382162,
                    -0.95981620122199,
                    -0.996772217050833,
                    -0.9923572439880433,
                    -0.9467545253046645,
                    -0.8618567999191831,
                    -0.7411877443484259,
                    -0.5897557226621226,
                    -0.41384591454310704,
                    -0.22075944916926946,
                    -0.018510372154503518,
                    0.18450697707700792,
                    0.37986637199507933,
                    0.5594594291408053,
                    0.7158321462405541,
                    0.842494280256423,
                    0.9341887246502055,
                    0.9871097053688656,
                    0.9990607393363355,
                    0.9695457993910898,
                    0.8997899018725932,
                    0.7926882623697213,
                    0.6526861299196696,
                    0.48559428713386943,
                    0.29834787391040735,
                    0.09871854474461515,
                    -0.10500809346346798,
                    -0.30437637517455507,
                    -0.4911115282522227,
                    -0.6574631180319587,
                    -0.7965267287855184,
                    -0.9025305312049615,
                    -0.9710748419350043,
                    -0.9993147322454036,
                    -0.9860781066780927,
                    -0.931914350819809,
                    -0.8390715290764524
                  ],
                  "y": [
                    0,
                    0.20266793654820095,
                    0.39692414892492234,
                    0.5747060412161791,
                    0.7286347834693504,
                    0.8523215697196184,
                    0.9406327851124867,
                    0.9899030763721239,
                    0.9980874821347183,
                    0.9648463089837632,
                    0.8915592304110037,
                    0.7812680235262638,
                    0.6385503202266021,
                    0.469329612777201,
                    0.28062939951435684,
                    0.0802816748428135,
                    -0.12339813736217871,
                    -0.3219563150726187,
                    -0.5071517094845144,
                    -0.6712977935519321,
                    -0.8075816909683364,
                    -0.9103469443107827,
                    -0.9753282860670456,
                    -0.9998286683840896,
                    -0.9828312039256306,
                    -0.9250413717382029,
                    -0.8288577363730427,
                    -0.6982723955653996,
                    -0.5387052883861563,
                    -0.3567792408989381,
                    -0.16004508604325057,
                    0.04333173336868346,
                    0.2449100710119793,
                    0.4363234264718193,
                    0.6096271964908323,
                    0.7576284153927202,
                    0.8741842988197335,
                    0.9544571997387519,
                    0.9951153947776636,
                    0.9944713672636168,
                    0.9525518475314604,
                    0.8710967034823207,
                    0.7534867274396376,
                    0.6046033165061544,
                    0.4306258703827373,
                    0.23877531564403087,
                    0.03701440148506237,
                    -0.1662827938487564,
                    -0.3626784288265488,
                    -0.5440211108893698
                  ],
                  "z": [
                    0,
                    0.20408163265306123,
                    0.40816326530612246,
                    0.6122448979591837,
                    0.8163265306122449,
                    1.0204081632653061,
                    1.2244897959183674,
                    1.4285714285714286,
                    1.6326530612244898,
                    1.836734693877551,
                    2.0408163265306123,
                    2.2448979591836737,
                    2.4489795918367347,
                    2.6530612244897958,
                    2.857142857142857,
                    3.0612244897959187,
                    3.2653061224489797,
                    3.4693877551020407,
                    3.673469387755102,
                    3.8775510204081636,
                    4.081632653061225,
                    4.285714285714286,
                    4.4897959183673475,
                    4.6938775510204085,
                    4.8979591836734695,
                    5.1020408163265305,
                    5.3061224489795915,
                    5.510204081632653,
                    5.714285714285714,
                    5.918367346938775,
                    6.122448979591837,
                    6.326530612244898,
                    6.530612244897959,
                    6.73469387755102,
                    6.938775510204081,
                    7.142857142857143,
                    7.346938775510204,
                    7.551020408163265,
                    7.755102040816327,
                    7.959183673469388,
                    8.16326530612245,
                    8.36734693877551,
                    8.571428571428571,
                    8.775510204081632,
                    8.979591836734695,
                    9.183673469387756,
                    9.387755102040817,
                    9.591836734693878,
                    9.795918367346939,
                    10
                  ],
                  "type": "scatter3d"
                }
              ],
              "layout": {
                "template": {
                  "data": {
                    "histogram2dcontour": [
                      {
                        "type": "histogram2dcontour",
                        "colorbar": {
                          "outlinewidth": 0,
                          "ticks": ""
                        },
                        "colorscale": [
                          [
                            0,
                            "#0d0887"
                          ],
                          [
                            0.1111111111111111,
                            "#46039f"
                          ],
                          [
                            0.2222222222222222,
                            "#7201a8"
                          ],
                          [
                            0.3333333333333333,
                            "#9c179e"
                          ],
                          [
                            0.4444444444444444,
                            "#bd3786"
                          ],
                          [
                            0.5555555555555556,
                            "#d8576b"
                          ],
                          [
                            0.6666666666666666,
                            "#ed7953"
                          ],
                          [
                            0.7777777777777778,
                            "#fb9f3a"
                          ],
                          [
                            0.8888888888888888,
                            "#fdca26"
                          ],
                          [
                            1,
                            "#f0f921"
                          ]
                        ]
                      }
                    ],
                    "choropleth": [
                      {
                        "type": "choropleth",
                        "colorbar": {
                          "outlinewidth": 0,
                          "ticks": ""
                        }
                      }
                    ],
                    "histogram2d": [
                      {
                        "type": "histogram2d",
                        "colorbar": {
                          "outlinewidth": 0,
                          "ticks": ""
                        },
                        "colorscale": [
                          [
                            0,
                            "#0d0887"
                          ],
                          [
                            0.1111111111111111,
                            "#46039f"
                          ],
                          [
                            0.2222222222222222,
                            "#7201a8"
                          ],
                          [
                            0.3333333333333333,
                            "#9c179e"
                          ],
                          [
                            0.4444444444444444,
                            "#bd3786"
                          ],
                          [
                            0.5555555555555556,
                            "#d8576b"
                          ],
                          [
                            0.6666666666666666,
                            "#ed7953"
                          ],
                          [
                            0.7777777777777778,
                            "#fb9f3a"
                          ],
                          [
                            0.8888888888888888,
                            "#fdca26"
                          ],
                          [
                            1,
                            "#f0f921"
                          ]
                        ]
                      }
                    ],
                    "heatmap": [
                      {
                        "type": "heatmap",
                        "colorbar": {
                          "outlinewidth": 0,
                          "ticks": ""
                        },
                        "colorscale": [
                          [
                            0,
                            "#0d0887"
                          ],
                          [
                            0.1111111111111111,
                            "#46039f"
                          ],
                          [
                            0.2222222222222222,
                            "#7201a8"
                          ],
                          [
                            0.3333333333333333,
                            "#9c179e"
                          ],
                          [
                            0.4444444444444444,
                            "#bd3786"
                          ],
                          [
                            0.5555555555555556,
                            "#d8576b"
                          ],
                          [
                            0.6666666666666666,
                            "#ed7953"
                          ],
                          [
                            0.7777777777777778,
                            "#fb9f3a"
                          ],
                          [
                            0.8888888888888888,
                            "#fdca26"
                          ],
                          [
                            1,
                            "#f0f921"
                          ]
                        ]
                      }
                    ],
                    "heatmapgl": [
                      {
                        "type": "heatmapgl",
                        "colorbar": {
                          "outlinewidth": 0,
                          "ticks": ""
                        },
                        "colorscale": [
                          [
                            0,
                            "#0d0887"
                          ],
                          [
                            0.1111111111111111,
                            "#46039f"
                          ],
                          [
                            0.2222222222222222,
                            "#7201a8"
                          ],
                          [
                            0.3333333333333333,
                            "#9c179e"
                          ],
                          [
                            0.4444444444444444,
                            "#bd3786"
                          ],
                          [
                            0.5555555555555556,
                            "#d8576b"
                          ],
                          [
                            0.6666666666666666,
                            "#ed7953"
                          ],
                          [
                            0.7777777777777778,
                            "#fb9f3a"
                          ],
                          [
                            0.8888888888888888,
                            "#fdca26"
                          ],
                          [
                            1,
                            "#f0f921"
                          ]
                        ]
                      }
                    ],
                    "contourcarpet": [
                      {
                        "type": "contourcarpet",
                        "colorbar": {
                          "outlinewidth": 0,
                          "ticks": ""
                        }
                      }
                    ],
                    "contour": [
                      {
                        "type": "contour",
                        "colorbar": {
                          "outlinewidth": 0,
                          "ticks": ""
                        },
                        "colorscale": [
                          [
                            0,
                            "#0d0887"
                          ],
                          [
                            0.1111111111111111,
                            "#46039f"
                          ],
                          [
                            0.2222222222222222,
                            "#7201a8"
                          ],
                          [
                            0.3333333333333333,
                            "#9c179e"
                          ],
                          [
                            0.4444444444444444,
                            "#bd3786"
                          ],
                          [
                            0.5555555555555556,
                            "#d8576b"
                          ],
                          [
                            0.6666666666666666,
                            "#ed7953"
                          ],
                          [
                            0.7777777777777778,
                            "#fb9f3a"
                          ],
                          [
                            0.8888888888888888,
                            "#fdca26"
                          ],
                          [
                            1,
                            "#f0f921"
                          ]
                        ]
                      }
                    ],
                    "surface": [
                      {
                        "type": "surface",
                        "colorbar": {
                          "outlinewidth": 0,
                          "ticks": ""
                        },
                        "colorscale": [
                          [
                            0,
                            "#0d0887"
                          ],
                          [
                            0.1111111111111111,
                            "#46039f"
                          ],
                          [
                            0.2222222222222222,
                            "#7201a8"
                          ],
                          [
                            0.3333333333333333,
                            "#9c179e"
                          ],
                          [
                            0.4444444444444444,
                            "#bd3786"
                          ],
                          [
                            0.5555555555555556,
                            "#d8576b"
                          ],
                          [
                            0.6666666666666666,
                            "#ed7953"
                          ],
                          [
                            0.7777777777777778,
                            "#fb9f3a"
                          ],
                          [
                            0.8888888888888888,
                            "#fdca26"
                          ],
                          [
                            1,
                            "#f0f921"
                          ]
                        ]
                      }
                    ],
                    "mesh3d": [
                      {
                        "type": "mesh3d",
                        "colorbar": {
                          "outlinewidth": 0,
                          "ticks": ""
                        }
                      }
                    ],
                    "scatter": [
                      {
                        "fillpattern": {
                          "fillmode": "overlay",
                          "size": 10,
                          "solidity": 0.2
                        },
                        "type": "scatter"
                      }
                    ],
                    "parcoords": [
                      {
                        "type": "parcoords",
                        "line": {
                          "colorbar": {
                            "outlinewidth": 0,
                            "ticks": ""
                          }
                        }
                      }
                    ],
                    "scatterpolargl": [
                      {
                        "type": "scatterpolargl",
                        "marker": {
                          "colorbar": {
                            "outlinewidth": 0,
                            "ticks": ""
                          }
                        }
                      }
                    ],
                    "bar": [
                      {
                        "error_x": {
                          "color": "#2a3f5f"
                        },
                        "error_y": {
                          "color": "#2a3f5f"
                        },
                        "marker": {
                          "line": {
                            "color": "#E5ECF6",
                            "width": 0.5
                          },
                          "pattern": {
                            "fillmode": "overlay",
                            "size": 10,
                            "solidity": 0.2
                          }
                        },
                        "type": "bar"
                      }
                    ],
                    "scattergeo": [
                      {
                        "type": "scattergeo",
                        "marker": {
                          "colorbar": {
                            "outlinewidth": 0,
                            "ticks": ""
                          }
                        }
                      }
                    ],
                    "scatterpolar": [
                      {
                        "type": "scatterpolar",
                        "marker": {
                          "colorbar": {
                            "outlinewidth": 0,
                            "ticks": ""
                          }
                        }
                      }
                    ],
                    "histogram": [
                      {
                        "marker": {
                          "pattern": {
                            "fillmode": "overlay",
                            "size": 10,
                            "solidity": 0.2
                          }
                        },
                        "type": "histogram"
                      }
                    ],
                    "scattergl": [
                      {
                        "type": "scattergl",
                        "marker": {
                          "colorbar": {
                            "outlinewidth": 0,
                            "ticks": ""
                          }
                        }
                      }
                    ],
                    "scatter3d": [
                      {
                        "type": "scatter3d",
                        "line": {
                          "colorbar": {
                            "outlinewidth": 0,
                            "ticks": ""
                          }
                        },
                        "marker": {
                          "colorbar": {
                            "outlinewidth": 0,
                            "ticks": ""
                          }
                        }
                      }
                    ],
                    "scattermapbox": [
                      {
                        "type": "scattermapbox",
                        "marker": {
                          "colorbar": {
                            "outlinewidth": 0,
                            "ticks": ""
                          }
                        }
                      }
                    ],
                    "scatterternary": [
                      {
                        "type": "scatterternary",
                        "marker": {
                          "colorbar": {
                            "outlinewidth": 0,
                            "ticks": ""
                          }
                        }
                      }
                    ],
                    "scattercarpet": [
                      {
                        "type": "scattercarpet",
                        "marker": {
                          "colorbar": {
                            "outlinewidth": 0,
                            "ticks": ""
                          }
                        }
                      }
                    ],
                    "carpet": [
                      {
                        "aaxis": {
                          "endlinecolor": "#2a3f5f",
                          "gridcolor": "white",
                          "linecolor": "white",
                          "minorgridcolor": "white",
                          "startlinecolor": "#2a3f5f"
                        },
                        "baxis": {
                          "endlinecolor": "#2a3f5f",
                          "gridcolor": "white",
                          "linecolor": "white",
                          "minorgridcolor": "white",
                          "startlinecolor": "#2a3f5f"
                        },
                        "type": "carpet"
                      }
                    ],
                    "table": [
                      {
                        "cells": {
                          "fill": {
                            "color": "#EBF0F8"
                          },
                          "line": {
                            "color": "white"
                          }
                        },
                        "header": {
                          "fill": {
                            "color": "#C8D4E3"
                          },
                          "line": {
                            "color": "white"
                          }
                        },
                        "type": "table"
                      }
                    ],
                    "barpolar": [
                      {
                        "marker": {
                          "line": {
                            "color": "#E5ECF6",
                            "width": 0.5
                          },
                          "pattern": {
                            "fillmode": "overlay",
                            "size": 10,
                            "solidity": 0.2
                          }
                        },
                        "type": "barpolar"
                      }
                    ],
                    "pie": [
                      {
                        "automargin": true,
                        "type": "pie"
                      }
                    ]
                  },
                  "layout": {
                    "autotypenumbers": "strict",
                    "colorway": [
                      "#636efa",
                      "#EF553B",
                      "#00cc96",
                      "#ab63fa",
                      "#FFA15A",
                      "#19d3f3",
                      "#FF6692",
                      "#B6E880",
                      "#FF97FF",
                      "#FECB52"
                    ],
                    "font": {
                      "color": "#2a3f5f"
                    },
                    "hovermode": "closest",
                    "hoverlabel": {
                      "align": "left"
                    },
                    "paper_bgcolor": "white",
                    "plot_bgcolor": "#E5ECF6",
                    "polar": {
                      "bgcolor": "#E5ECF6",
                      "angularaxis": {
                        "gridcolor": "white",
                        "linecolor": "white",
                        "ticks": ""
                      },
                      "radialaxis": {
                        "gridcolor": "white",
                        "linecolor": "white",
                        "ticks": ""
                      }
                    },
                    "ternary": {
                      "bgcolor": "#E5ECF6",
                      "aaxis": {
                        "gridcolor": "white",
                        "linecolor": "white",
                        "ticks": ""
                      },
                      "baxis": {
                        "gridcolor": "white",
                        "linecolor": "white",
                        "ticks": ""
                      },
                      "caxis": {
                        "gridcolor": "white",
                        "linecolor": "white",
                        "ticks": ""
                      }
                    },
                    "coloraxis": {
                      "colorbar": {
                        "outlinewidth": 0,
                        "ticks": ""
                      }
                    },
                    "colorscale": {
                      "sequential": [
                        [
                          0,
                          "#0d0887"
                        ],
                        [
                          0.1111111111111111,
                          "#46039f"
                        ],
                        [
                          0.2222222222222222,
                          "#7201a8"
                        ],
                        [
                          0.3333333333333333,
                          "#9c179e"
                        ],
                        [
                          0.4444444444444444,
                          "#bd3786"
                        ],
                        [
                          0.5555555555555556,
                          "#d8576b"
                        ],
                        [
                          0.6666666666666666,
                          "#ed7953"
                        ],
                        [
                          0.7777777777777778,
                          "#fb9f3a"
                        ],
                        [
                          0.8888888888888888,
                          "#fdca26"
                        ],
                        [
                          1,
                          "#f0f921"
                        ]
                      ],
                      "sequentialminus": [
                        [
                          0,
                          "#0d0887"
                        ],
                        [
                          0.1111111111111111,
                          "#46039f"
                        ],
                        [
                          0.2222222222222222,
                          "#7201a8"
                        ],
                        [
                          0.3333333333333333,
                          "#9c179e"
                        ],
                        [
                          0.4444444444444444,
                          "#bd3786"
                        ],
                        [
                          0.5555555555555556,
                          "#d8576b"
                        ],
                        [
                          0.6666666666666666,
                          "#ed7953"
                        ],
                        [
                          0.7777777777777778,
                          "#fb9f3a"
                        ],
                        [
                          0.8888888888888888,
                          "#fdca26"
                        ],
                        [
                          1,
                          "#f0f921"
                        ]
                      ],
                      "diverging": [
                        [
                          0,
                          "#8e0152"
                        ],
                        [
                          0.1,
                          "#c51b7d"
                        ],
                        [
                          0.2,
                          "#de77ae"
                        ],
                        [
                          0.3,
                          "#f1b6da"
                        ],
                        [
                          0.4,
                          "#fde0ef"
                        ],
                        [
                          0.5,
                          "#f7f7f7"
                        ],
                        [
                          0.6,
                          "#e6f5d0"
                        ],
                        [
                          0.7,
                          "#b8e186"
                        ],
                        [
                          0.8,
                          "#7fbc41"
                        ],
                        [
                          0.9,
                          "#4d9221"
                        ],
                        [
                          1,
                          "#276419"
                        ]
                      ]
                    },
                    "xaxis": {
                      "gridcolor": "white",
                      "linecolor": "white",
                      "ticks": "",
                      "title": {
                        "standoff": 15
                      },
                      "zerolinecolor": "white",
                      "automargin": true,
                      "zerolinewidth": 2
                    },
                    "yaxis": {
                      "gridcolor": "white",
                      "linecolor": "white",
                      "ticks": "",
                      "title": {
                        "standoff": 15
                      },
                      "zerolinecolor": "white",
                      "automargin": true,
                      "zerolinewidth": 2
                    },
                    "scene": {
                      "xaxis": {
                        "backgroundcolor": "#E5ECF6",
                        "gridcolor": "white",
                        "linecolor": "white",
                        "showbackground": true,
                        "ticks": "",
                        "zerolinecolor": "white",
                        "gridwidth": 2
                      },
                      "yaxis": {
                        "backgroundcolor": "#E5ECF6",
                        "gridcolor": "white",
                        "linecolor": "white",
                        "showbackground": true,
                        "ticks": "",
                        "zerolinecolor": "white",
                        "gridwidth": 2
                      },
                      "zaxis": {
                        "backgroundcolor": "#E5ECF6",
                        "gridcolor": "white",
                        "linecolor": "white",
                        "showbackground": true,
                        "ticks": "",
                        "zerolinecolor": "white",
                        "gridwidth": 2
                      }
                    },
                    "shapedefaults": {
                      "line": {
                        "color": "#2a3f5f"
                      }
                    },
                    "annotationdefaults": {
                      "arrowcolor": "#2a3f5f",
                      "arrowhead": 0,
                      "arrowwidth": 1
                    },
                    "geo": {
                      "bgcolor": "white",
                      "landcolor": "#E5ECF6",
                      "subunitcolor": "white",
                      "showland": true,
                      "showlakes": true,
                      "lakecolor": "white"
                    },
                    "title": {
                      "x": 0.05
                    },
                    "mapbox": {
                      "style": "light"
                    }
                  }
                },
                "scene": {
                  "camera": {
                    "up": {
                      "x": 0,
                      "y": 0,
                      "z": 1
                    },
                    "center": {
                      "x": 0,
                      "y": 0,
                      "z": 0
                    },
                    "eye": {
                      "x": -0.7959246196828742,
                      "y": 1.1970433162356355,
                      "z": 0.3047495712479484
                    },
                    "projection": {
                      "type": "perspective"
                    }
                  },
                  "aspectratio": {
                    "x": 1,
                    "y": 1,
                    "z": 1
                  },
                  "aspectmode": "auto"
                },
                "title": {
                  "text": "Animation Test"
                },
                "width": 600,
                "height": 600,
                "updatemenus": [
                  {
                    "buttons": [
                      {
                        "args": [
                          null,
                          {
                            "frame": {
                              "duration": 10,
                              "redraw": true
                            },
                            "transition": {
                              "duration": 0
                            },
                            "fromcurrent": true,
                            "mode": "immediate"
                          }
                        ],
                        "label": "Play",
                        "method": "animate"
                      }
                    ],
                    "pad": {
                      "r": 10,
                      "t": 45
                    },
                    "showactive": false,
                    "type": "buttons",
                    "x": 0.8,
                    "xanchor": "left",
                    "y": 1,
                    "yanchor": "bottom",
                    "active": 0
                  }
                ]
              },
              "frames": [
                {
                  "layout": {
                    "scene": {
                      "camera": {
                        "eye": {
                          "x": -1.25,
                          "y": 2,
                          "z": 0.5
                        }
                      }
                    }
                  }
                },
                {
                  "layout": {
                    "scene": {
                      "camera": {
                        "eye": {
                          "x": -1.2399844166991667,
                          "y": 2.006224974010449,
                          "z": 0.5
                        }
                      }
                    }
                  }
                },
                {
                  "layout": {
                    "scene": {
                      "camera": {
                        "eye": {
                          "x": -1.2299378338524982,
                          "y": 2.012399792501039,
                          "z": 0.5
                        }
                      }
                    }
                  }
                },
                {
                  "layout": {
                    "scene": {
                      "camera": {
                        "eye": {
                          "x": -1.219860502624043,
                          "y": 2.0185243011016283,
                          "z": 0.5
                        }
                      }
                    }
                  }
                },
                {
                  "layout": {
                    "scene": {
                      "camera": {
                        "eye": {
                          "x": -1.2097526749465561,
                          "y": 2.024598346699822,
                          "z": 0.5
                        }
                      }
                    }
                  }
                },
                {
                  "layout": {
                    "scene": {
                      "camera": {
                        "eye": {
                          "x": -1.1996146035152038,
                          "y": 2.0306217774447957,
                          "z": 0.5
                        }
                      }
                    }
                  }
                },
                {
                  "layout": {
                    "scene": {
                      "camera": {
                        "eye": {
                          "x": -1.1894465417812432,
                          "y": 2.0365944427510945,
                          "z": 0.5
                        }
                      }
                    }
                  }
                },
                {
                  "layout": {
                    "scene": {
                      "camera": {
                        "eye": {
                          "x": -1.1792487439456882,
                          "y": 2.0425161933023976,
                          "z": 0.5
                        }
                      }
                    }
                  }
                },
                {
                  "layout": {
                    "scene": {
                      "camera": {
                        "eye": {
                          "x": -1.169021464952954,
                          "y": 2.0483868810552486,
                          "z": 0.5
                        }
                      }
                    }
                  }
                },
                {
                  "layout": {
                    "scene": {
                      "camera": {
                        "eye": {
                          "x": -1.1587649604844827,
                          "y": 2.05420635924276,
                          "z": 0.5
                        }
                      }
                    }
                  }
                },
                {
                  "layout": {
                    "scene": {
                      "camera": {
                        "eye": {
                          "x": -1.1484794869523511,
                          "y": 2.0599744823782804,
                          "z": 0.5
                        }
                      }
                    }
                  }
                },
                {
                  "layout": {
                    "scene": {
                      "camera": {
                        "eye": {
                          "x": -1.1381653014928628,
                          "y": 2.0656911062590315,
                          "z": 0.5
                        }
                      }
                    }
                  }
                },
                {
                  "layout": {
                    "scene": {
                      "camera": {
                        "eye": {
                          "x": -1.1278226619601162,
                          "y": 2.071356087969714,
                          "z": 0.5
                        }
                      }
                    }
                  }
                },
                {
                  "layout": {
                    "scene": {
                      "camera": {
                        "eye": {
                          "x": -1.1174518269195612,
                          "y": 2.0769692858860807,
                          "z": 0.5
                        }
                      }
                    }
                  }
                },
                {
                  "layout": {
                    "scene": {
                      "camera": {
                        "eye": {
                          "x": -1.107053055641534,
                          "y": 2.0825305596784753,
                          "z": 0.5
                        }
                      }
                    }
                  }
                },
                {
                  "layout": {
                    "scene": {
                      "camera": {
                        "eye": {
                          "x": -1.0966266080947746,
                          "y": 2.088039770315343,
                          "z": 0.5
                        }
                      }
                    }
                  }
                },
                {
                  "layout": {
                    "scene": {
                      "camera": {
                        "eye": {
                          "x": -1.0861727449399288,
                          "y": 2.0934967800667046,
                          "z": 0.5
                        }
                      }
                    }
                  }
                },
                {
                  "layout": {
                    "scene": {
                      "camera": {
                        "eye": {
                          "x": -1.0756917275230309,
                          "y": 2.098901452507601,
                          "z": 0.5
                        }
                      }
                    }
                  }
                },
                {
                  "layout": {
                    "scene": {
                      "camera": {
                        "eye": {
                          "x": -1.0651838178689708,
                          "y": 2.1042536525215025,
                          "z": 0.5
                        }
                      }
                    }
                  }
                },
                {
                  "layout": {
                    "scene": {
                      "camera": {
                        "eye": {
                          "x": -1.054649278674942,
                          "y": 2.1095532463036872,
                          "z": 0.5
                        }
                      }
                    }
                  }
                },
                {
                  "layout": {
                    "scene": {
                      "camera": {
                        "eye": {
                          "x": -1.0440883733038762,
                          "y": 2.1148001013645867,
                          "z": 0.5
                        }
                      }
                    }
                  }
                },
                {
                  "layout": {
                    "scene": {
                      "camera": {
                        "eye": {
                          "x": -1.0335013657778567,
                          "y": 2.1199940865330977,
                          "z": 0.5
                        }
                      }
                    }
                  }
                },
                {
                  "layout": {
                    "scene": {
                      "camera": {
                        "eye": {
                          "x": -1.0228885207715215,
                          "y": 2.1251350719598623,
                          "z": 0.5
                        }
                      }
                    }
                  }
                },
                {
                  "layout": {
                    "scene": {
                      "camera": {
                        "eye": {
                          "x": -1.012250103605442,
                          "y": 2.1302229291205115,
                          "z": 0.5
                        }
                      }
                    }
                  }
                },
                {
                  "layout": {
                    "scene": {
                      "camera": {
                        "eye": {
                          "x": -1.001586380239494,
                          "y": 2.1352575308188815,
                          "z": 0.5
                        }
                      }
                    }
                  }
                },
                {
                  "layout": {
                    "scene": {
                      "camera": {
                        "eye": {
                          "x": -0.9908976172662058,
                          "y": 2.140238751190193,
                          "z": 0.5
                        }
                      }
                    }
                  }
                },
                {
                  "layout": {
                    "scene": {
                      "camera": {
                        "eye": {
                          "x": -0.9801840819040954,
                          "y": 2.145166465704195,
                          "z": 0.5
                        }
                      }
                    }
                  }
                },
                {
                  "layout": {
                    "scene": {
                      "camera": {
                        "eye": {
                          "x": -0.9694460419909883,
                          "y": 2.1500405511682814,
                          "z": 0.5
                        }
                      }
                    }
                  }
                },
                {
                  "layout": {
                    "scene": {
                      "camera": {
                        "eye": {
                          "x": -0.9586837659773233,
                          "y": 2.15486088573057,
                          "z": 0.5
                        }
                      }
                    }
                  }
                },
                {
                  "layout": {
                    "scene": {
                      "camera": {
                        "eye": {
                          "x": -0.9478975229194407,
                          "y": 2.1596273488829474,
                          "z": 0.5
                        }
                      }
                    }
                  }
                },
                {
                  "layout": {
                    "scene": {
                      "camera": {
                        "eye": {
                          "x": -0.9370875824728543,
                          "y": 2.1643398214640834,
                          "z": 0.5
                        }
                      }
                    }
                  }
                },
                {
                  "layout": {
                    "scene": {
                      "camera": {
                        "eye": {
                          "x": -0.9262542148855131,
                          "y": 2.168998185662409,
                          "z": 0.5
                        }
                      }
                    }
                  }
                },
                {
                  "layout": {
                    "scene": {
                      "camera": {
                        "eye": {
                          "x": -0.9153976909910417,
                          "y": 2.1736023250190613,
                          "z": 0.5
                        }
                      }
                    }
                  }
                },
                {
                  "layout": {
                    "scene": {
                      "camera": {
                        "eye": {
                          "x": -0.9045182822019726,
                          "y": 2.1781521244307966,
                          "z": 0.5
                        }
                      }
                    }
                  }
                },
                {
                  "layout": {
                    "scene": {
                      "camera": {
                        "eye": {
                          "x": -0.893616260502959,
                          "y": 2.1826474701528666,
                          "z": 0.5
                        }
                      }
                    }
                  }
                },
                {
                  "layout": {
                    "scene": {
                      "camera": {
                        "eye": {
                          "x": -0.8826918984439749,
                          "y": 2.187088249801862,
                          "z": 0.5
                        }
                      }
                    }
                  }
                },
                {
                  "layout": {
                    "scene": {
                      "camera": {
                        "eye": {
                          "x": -0.8717454691335036,
                          "y": 2.191474352358523,
                          "z": 0.5
                        }
                      }
                    }
                  }
                },
                {
                  "layout": {
                    "scene": {
                      "camera": {
                        "eye": {
                          "x": -0.8607772462317069,
                          "y": 2.1958056681705145,
                          "z": 0.5
                        }
                      }
                    }
                  }
                },
                {
                  "layout": {
                    "scene": {
                      "camera": {
                        "eye": {
                          "x": -0.8497875039435867,
                          "y": 2.2000820889551664,
                          "z": 0.5
                        }
                      }
                    }
                  }
                },
                {
                  "layout": {
                    "scene": {
                      "camera": {
                        "eye": {
                          "x": -0.8387765170121277,
                          "y": 2.204303507802182,
                          "z": 0.5
                        }
                      }
                    }
                  }
                },
                {
                  "layout": {
                    "scene": {
                      "camera": {
                        "eye": {
                          "x": -0.8277445607114295,
                          "y": 2.20846981917631,
                          "z": 0.5
                        }
                      }
                    }
                  }
                },
                {
                  "layout": {
                    "scene": {
                      "camera": {
                        "eye": {
                          "x": -0.8166919108398252,
                          "y": 2.2125809189199828,
                          "z": 0.5
                        }
                      }
                    }
                  }
                },
                {
                  "layout": {
                    "scene": {
                      "camera": {
                        "eye": {
                          "x": -0.8056188437129861,
                          "y": 2.216636704255921,
                          "z": 0.5
                        }
                      }
                    }
                  }
                },
                {
                  "layout": {
                    "scene": {
                      "camera": {
                        "eye": {
                          "x": -0.7945256361570133,
                          "y": 2.2206370737897023,
                          "z": 0.5
                        }
                      }
                    }
                  }
                },
                {
                  "layout": {
                    "scene": {
                      "camera": {
                        "eye": {
                          "x": -0.7834125655015183,
                          "y": 2.2245819275122978,
                          "z": 0.5
                        }
                      }
                    }
                  }
                },
                {
                  "layout": {
                    "scene": {
                      "camera": {
                        "eye": {
                          "x": -0.7722799095726883,
                          "y": 2.2284711668025685,
                          "z": 0.5
                        }
                      }
                    }
                  }
                },
                {
                  "layout": {
                    "scene": {
                      "camera": {
                        "eye": {
                          "x": -0.7611279466863419,
                          "y": 2.232304694429735,
                          "z": 0.5
                        }
                      }
                    }
                  }
                },
                {
                  "layout": {
                    "scene": {
                      "camera": {
                        "eye": {
                          "x": -0.7499569556409702,
                          "y": 2.236082414555807,
                          "z": 0.5
                        }
                      }
                    }
                  }
                },
                {
                  "layout": {
                    "scene": {
                      "camera": {
                        "eye": {
                          "x": -0.7387672157107679,
                          "y": 2.2398042327379772,
                          "z": 0.5
                        }
                      }
                    }
                  }
                },
                {
                  "layout": {
                    "scene": {
                      "camera": {
                        "eye": {
                          "x": -0.7275590066386501,
                          "y": 2.243470055930986,
                          "z": 0.5
                        }
                      }
                    }
                  }
                },
                {
                  "layout": {
                    "scene": {
                      "camera": {
                        "eye": {
                          "x": -0.7163326086292601,
                          "y": 2.2470797924894432,
                          "z": 0.5
                        }
                      }
                    }
                  }
                },
                {
                  "layout": {
                    "scene": {
                      "camera": {
                        "eye": {
                          "x": -0.7050883023419634,
                          "y": 2.250633352170124,
                          "z": 0.5
                        }
                      }
                    }
                  }
                },
                {
                  "layout": {
                    "scene": {
                      "camera": {
                        "eye": {
                          "x": -0.6938263688838312,
                          "y": 2.2541306461342203,
                          "z": 0.5
                        }
                      }
                    }
                  }
                },
                {
                  "layout": {
                    "scene": {
                      "camera": {
                        "eye": {
                          "x": -0.682547089802614,
                          "y": 2.257571586949566,
                          "z": 0.5
                        }
                      }
                    }
                  }
                },
                {
                  "layout": {
                    "scene": {
                      "camera": {
                        "eye": {
                          "x": -0.6712507470797009,
                          "y": 2.26095608859282,
                          "z": 0.5
                        }
                      }
                    }
                  }
                },
                {
                  "layout": {
                    "scene": {
                      "camera": {
                        "eye": {
                          "x": -0.6599376231230718,
                          "y": 2.264284066451617,
                          "z": 0.5
                        }
                      }
                    }
                  }
                },
                {
                  "layout": {
                    "scene": {
                      "camera": {
                        "eye": {
                          "x": -0.6486080007602362,
                          "y": 2.267555437326684,
                          "z": 0.5
                        }
                      }
                    }
                  }
                },
                {
                  "layout": {
                    "scene": {
                      "camera": {
                        "eye": {
                          "x": -0.6372621632311631,
                          "y": 2.27077011943392,
                          "z": 0.5
                        }
                      }
                    }
                  }
                },
                {
                  "layout": {
                    "scene": {
                      "camera": {
                        "eye": {
                          "x": -0.6259003941812005,
                          "y": 2.273928032406439,
                          "z": 0.5
                        }
                      }
                    }
                  }
                },
                {
                  "layout": {
                    "scene": {
                      "camera": {
                        "eye": {
                          "x": -0.6145229776539819,
                          "y": 2.277029097296581,
                          "z": 0.5
                        }
                      }
                    }
                  }
                },
                {
                  "layout": {
                    "scene": {
                      "camera": {
                        "eye": {
                          "x": -0.6031301980843283,
                          "y": 2.2800732365778864,
                          "z": 0.5
                        }
                      }
                    }
                  }
                },
                {
                  "layout": {
                    "scene": {
                      "camera": {
                        "eye": {
                          "x": -0.5917223402911359,
                          "y": 2.283060374147031,
                          "z": 0.5
                        }
                      }
                    }
                  }
                },
                {
                  "layout": {
                    "scene": {
                      "camera": {
                        "eye": {
                          "x": -0.5802996894702547,
                          "y": 2.285990435325731,
                          "z": 0.5
                        }
                      }
                    }
                  }
                },
                {
                  "layout": {
                    "scene": {
                      "camera": {
                        "eye": {
                          "x": -0.5688625311873609,
                          "y": 2.28886334686261,
                          "z": 0.5
                        }
                      }
                    }
                  }
                },
                {
                  "layout": {
                    "scene": {
                      "camera": {
                        "eye": {
                          "x": -0.5574111513708155,
                          "y": 2.2916790369350286,
                          "z": 0.5
                        }
                      }
                    }
                  }
                },
                {
                  "layout": {
                    "scene": {
                      "camera": {
                        "eye": {
                          "x": -0.5459458363045178,
                          "y": 2.2944374351508827,
                          "z": 0.5
                        }
                      }
                    }
                  }
                },
                {
                  "layout": {
                    "scene": {
                      "camera": {
                        "eye": {
                          "x": -0.534466872620747,
                          "y": 2.2971384725503596,
                          "z": 0.5
                        }
                      }
                    }
                  }
                },
                {
                  "layout": {
                    "scene": {
                      "camera": {
                        "eye": {
                          "x": -0.5229745472929974,
                          "y": 2.299782081607665,
                          "z": 0.5
                        }
                      }
                    }
                  }
                },
                {
                  "layout": {
                    "scene": {
                      "camera": {
                        "eye": {
                          "x": -0.511469147628804,
                          "y": 2.3023681962327105,
                          "z": 0.5
                        }
                      }
                    }
                  }
                },
                {
                  "layout": {
                    "scene": {
                      "camera": {
                        "eye": {
                          "x": -0.49995096126255867,
                          "y": 2.304896751772765,
                          "z": 0.5
                        }
                      }
                    }
                  }
                },
                {
                  "layout": {
                    "scene": {
                      "camera": {
                        "eye": {
                          "x": -0.48842027614832073,
                          "y": 2.307367685014072,
                          "z": 0.5
                        }
                      }
                    }
                  }
                },
                {
                  "layout": {
                    "scene": {
                      "camera": {
                        "eye": {
                          "x": -0.47687738055261797,
                          "y": 2.3097809341834292,
                          "z": 0.5
                        }
                      }
                    }
                  }
                },
                {
                  "layout": {
                    "scene": {
                      "camera": {
                        "eye": {
                          "x": -0.4653225630472385,
                          "y": 2.312136438949732,
                          "z": 0.5
                        }
                      }
                    }
                  }
                },
                {
                  "layout": {
                    "scene": {
                      "camera": {
                        "eye": {
                          "x": -0.45375611250201864,
                          "y": 2.3144341404254853,
                          "z": 0.5
                        }
                      }
                    }
                  }
                },
                {
                  "layout": {
                    "scene": {
                      "camera": {
                        "eye": {
                          "x": -0.4421783180776192,
                          "y": 2.3166739811682713,
                          "z": 0.5
                        }
                      }
                    }
                  }
                },
                {
                  "layout": {
                    "scene": {
                      "camera": {
                        "eye": {
                          "x": -0.43058946921829766,
                          "y": 2.318855905182188,
                          "z": 0.5
                        }
                      }
                    }
                  }
                },
                {
                  "layout": {
                    "scene": {
                      "camera": {
                        "eye": {
                          "x": -0.4189898556446724,
                          "y": 2.320979857919249,
                          "z": 0.5
                        }
                      }
                    }
                  }
                },
                {
                  "layout": {
                    "scene": {
                      "camera": {
                        "eye": {
                          "x": -0.4073797673464784,
                          "y": 2.323045786280746,
                          "z": 0.5
                        }
                      }
                    }
                  }
                },
                {
                  "layout": {
                    "scene": {
                      "camera": {
                        "eye": {
                          "x": -0.39575949457531856,
                          "y": 2.325053638618578,
                          "z": 0.5
                        }
                      }
                    }
                  }
                },
                {
                  "layout": {
                    "scene": {
                      "camera": {
                        "eye": {
                          "x": -0.3841293278374066,
                          "y": 2.327003364736541,
                          "z": 0.5
                        }
                      }
                    }
                  }
                },
                {
                  "layout": {
                    "scene": {
                      "camera": {
                        "eye": {
                          "x": -0.37248955788630533,
                          "y": 2.3288949158915835,
                          "z": 0.5
                        }
                      }
                    }
                  }
                },
                {
                  "layout": {
                    "scene": {
                      "camera": {
                        "eye": {
                          "x": -0.3608404757156576,
                          "y": 2.330728244795025,
                          "z": 0.5
                        }
                      }
                    }
                  }
                },
                {
                  "layout": {
                    "scene": {
                      "camera": {
                        "eye": {
                          "x": -0.34918237255191054,
                          "y": 2.3325033056137388,
                          "z": 0.5
                        }
                      }
                    }
                  }
                },
                {
                  "layout": {
                    "scene": {
                      "camera": {
                        "eye": {
                          "x": -0.3375155398470364,
                          "y": 2.334220053971297,
                          "z": 0.5
                        }
                      }
                    }
                  }
                },
                {
                  "layout": {
                    "scene": {
                      "camera": {
                        "eye": {
                          "x": -0.3258402692712451,
                          "y": 2.335878446949079,
                          "z": 0.5
                        }
                      }
                    }
                  }
                },
                {
                  "layout": {
                    "scene": {
                      "camera": {
                        "eye": {
                          "x": -0.3141568527056927,
                          "y": 2.337478443087348,
                          "z": 0.5
                        }
                      }
                    }
                  }
                },
                {
                  "layout": {
                    "scene": {
                      "camera": {
                        "eye": {
                          "x": -0.3024655822351848,
                          "y": 2.3390200023862837,
                          "z": 0.5
                        }
                      }
                    }
                  }
                },
                {
                  "layout": {
                    "scene": {
                      "camera": {
                        "eye": {
                          "x": -0.2907667501408747,
                          "y": 2.3405030863069833,
                          "z": 0.5
                        }
                      }
                    }
                  }
                },
                {
                  "layout": {
                    "scene": {
                      "camera": {
                        "eye": {
                          "x": -0.2790606488929549,
                          "y": 2.3419276577724264,
                          "z": 0.5
                        }
                      }
                    }
                  }
                },
                {
                  "layout": {
                    "scene": {
                      "camera": {
                        "eye": {
                          "x": -0.2673475711433474,
                          "y": 2.3432936811684004,
                          "z": 0.5
                        }
                      }
                    }
                  }
                },
                {
                  "layout": {
                    "scene": {
                      "camera": {
                        "eye": {
                          "x": -0.2556278097183856,
                          "y": 2.3446011223443914,
                          "z": 0.5
                        }
                      }
                    }
                  }
                },
                {
                  "layout": {
                    "scene": {
                      "camera": {
                        "eye": {
                          "x": -0.24390165761149485,
                          "y": 2.345849948614439,
                          "z": 0.5
                        }
                      }
                    }
                  }
                },
                {
                  "layout": {
                    "scene": {
                      "camera": {
                        "eye": {
                          "x": -0.23216940797586716,
                          "y": 2.3470401287579503,
                          "z": 0.5
                        }
                      }
                    }
                  }
                },
                {
                  "layout": {
                    "scene": {
                      "camera": {
                        "eye": {
                          "x": -0.22043135411713177,
                          "y": 2.3481716330204843,
                          "z": 0.5
                        }
                      }
                    }
                  }
                },
                {
                  "layout": {
                    "scene": {
                      "camera": {
                        "eye": {
                          "x": -0.2086877894860245,
                          "y": 2.3492444331144933,
                          "z": 0.5
                        }
                      }
                    }
                  }
                },
                {
                  "layout": {
                    "scene": {
                      "camera": {
                        "eye": {
                          "x": -0.19693900767104922,
                          "y": 2.3502585022200306,
                          "z": 0.5
                        }
                      }
                    }
                  }
                },
                {
                  "layout": {
                    "scene": {
                      "camera": {
                        "eye": {
                          "x": -0.1851853023911394,
                          "y": 2.351213814985422,
                          "z": 0.5
                        }
                      }
                    }
                  }
                },
                {
                  "layout": {
                    "scene": {
                      "camera": {
                        "eye": {
                          "x": -0.173426967488315,
                          "y": 2.3521103475278977,
                          "z": 0.5
                        }
                      }
                    }
                  }
                },
                {
                  "layout": {
                    "scene": {
                      "camera": {
                        "eye": {
                          "x": -0.16166429692033568,
                          "y": 2.35294807743419,
                          "z": 0.5
                        }
                      }
                    }
                  }
                },
                {
                  "layout": {
                    "scene": {
                      "camera": {
                        "eye": {
                          "x": -0.14989758475335369,
                          "y": 2.353726983761097,
                          "z": 0.5
                        }
                      }
                    }
                  }
                },
                {
                  "layout": {
                    "scene": {
                      "camera": {
                        "eye": {
                          "x": -0.13812712515455994,
                          "y": 2.3544470470359995,
                          "z": 0.5
                        }
                      }
                    }
                  }
                },
                {
                  "layout": {
                    "scene": {
                      "camera": {
                        "eye": {
                          "x": -0.12635321238483121,
                          "y": 2.355108249257353,
                          "z": 0.5
                        }
                      }
                    }
                  }
                },
                {
                  "layout": {
                    "scene": {
                      "camera": {
                        "eye": {
                          "x": -0.11457614079137413,
                          "y": 2.355710573895137,
                          "z": 0.5
                        }
                      }
                    }
                  }
                },
                {
                  "layout": {
                    "scene": {
                      "camera": {
                        "eye": {
                          "x": -0.10279620480036455,
                          "y": 2.356254005891267,
                          "z": 0.5
                        }
                      }
                    }
                  }
                },
                {
                  "layout": {
                    "scene": {
                      "camera": {
                        "eye": {
                          "x": -0.09101369890958888,
                          "y": 2.3567385316599707,
                          "z": 0.5
                        }
                      }
                    }
                  }
                },
                {
                  "layout": {
                    "scene": {
                      "camera": {
                        "eye": {
                          "x": -0.07922891768108076,
                          "y": 2.35716413908813,
                          "z": 0.5
                        }
                      }
                    }
                  }
                },
                {
                  "layout": {
                    "scene": {
                      "camera": {
                        "eye": {
                          "x": -0.06744215573375745,
                          "y": 2.3575308175355807,
                          "z": 0.5
                        }
                      }
                    }
                  }
                },
                {
                  "layout": {
                    "scene": {
                      "camera": {
                        "eye": {
                          "x": -0.055653707736052827,
                          "y": 2.357838557835381,
                          "z": 0.5
                        }
                      }
                    }
                  }
                },
                {
                  "layout": {
                    "scene": {
                      "camera": {
                        "eye": {
                          "x": -0.04386386839855394,
                          "y": 2.3580873522940395,
                          "z": 0.5
                        }
                      }
                    }
                  }
                },
                {
                  "layout": {
                    "scene": {
                      "camera": {
                        "eye": {
                          "x": -0.032072932466629345,
                          "y": 2.358277194691708,
                          "z": 0.5
                        }
                      }
                    }
                  }
                },
                {
                  "layout": {
                    "scene": {
                      "camera": {
                        "eye": {
                          "x": -0.020281194713063666,
                          "y": 2.3584080802823353,
                          "z": 0.5
                        }
                      }
                    }
                  }
                },
                {
                  "layout": {
                    "scene": {
                      "camera": {
                        "eye": {
                          "x": -0.008488949930686607,
                          "y": 2.3584800057937896,
                          "z": 0.5
                        }
                      }
                    }
                  }
                },
                {
                  "layout": {
                    "scene": {
                      "camera": {
                        "eye": {
                          "x": 0.0033035070749967144,
                          "y": 2.358492969427936,
                          "z": 0.5
                        }
                      }
                    }
                  }
                },
                {
                  "layout": {
                    "scene": {
                      "camera": {
                        "eye": {
                          "x": 0.0150958814931752,
                          "y": 2.3584469708606854,
                          "z": 0.5
                        }
                      }
                    }
                  }
                },
                {
                  "layout": {
                    "scene": {
                      "camera": {
                        "eye": {
                          "x": 0.02688787851510277,
                          "y": 2.358342011241999,
                          "z": 0.5
                        }
                      }
                    }
                  }
                },
                {
                  "layout": {
                    "scene": {
                      "camera": {
                        "eye": {
                          "x": 0.03867920334146757,
                          "y": 2.3581780931958614,
                          "z": 0.5
                        }
                      }
                    }
                  }
                },
                {
                  "layout": {
                    "scene": {
                      "camera": {
                        "eye": {
                          "x": 0.05046956118976342,
                          "y": 2.357955220820216,
                          "z": 0.5
                        }
                      }
                    }
                  }
                },
                {
                  "layout": {
                    "scene": {
                      "camera": {
                        "eye": {
                          "x": 0.06225865730165814,
                          "y": 2.3576733996868597,
                          "z": 0.5
                        }
                      }
                    }
                  }
                },
                {
                  "layout": {
                    "scene": {
                      "camera": {
                        "eye": {
                          "x": 0.07404619695036319,
                          "y": 2.357332636841307,
                          "z": 0.5
                        }
                      }
                    }
                  }
                },
                {
                  "layout": {
                    "scene": {
                      "camera": {
                        "eye": {
                          "x": 0.08583188544800069,
                          "y": 2.3569329408026105,
                          "z": 0.5
                        }
                      }
                    }
                  }
                },
                {
                  "layout": {
                    "scene": {
                      "camera": {
                        "eye": {
                          "x": 0.09761542815297286,
                          "y": 2.3564743215631507,
                          "z": 0.5
                        }
                      }
                    }
                  }
                },
                {
                  "layout": {
                    "scene": {
                      "camera": {
                        "eye": {
                          "x": 0.109396530477325,
                          "y": 2.355956790588385,
                          "z": 0.5
                        }
                      }
                    }
                  }
                },
                {
                  "layout": {
                    "scene": {
                      "camera": {
                        "eye": {
                          "x": 0.12117489789411318,
                          "y": 2.3553803608165604,
                          "z": 0.5
                        }
                      }
                    }
                  }
                },
                {
                  "layout": {
                    "scene": {
                      "camera": {
                        "eye": {
                          "x": 0.13295023594476496,
                          "y": 2.3547450466583917,
                          "z": 0.5
                        }
                      }
                    }
                  }
                },
                {
                  "layout": {
                    "scene": {
                      "camera": {
                        "eye": {
                          "x": 0.1447222502464427,
                          "y": 2.354050863996699,
                          "z": 0.5
                        }
                      }
                    }
                  }
                },
                {
                  "layout": {
                    "scene": {
                      "camera": {
                        "eye": {
                          "x": 0.15649064649940203,
                          "y": 2.3532978301860137,
                          "z": 0.5
                        }
                      }
                    }
                  }
                },
                {
                  "layout": {
                    "scene": {
                      "camera": {
                        "eye": {
                          "x": 0.16825513049434915,
                          "y": 2.3524859640521405,
                          "z": 0.5
                        }
                      }
                    }
                  }
                },
                {
                  "layout": {
                    "scene": {
                      "camera": {
                        "eye": {
                          "x": 0.18001540811979733,
                          "y": 2.3516152858916914,
                          "z": 0.5
                        }
                      }
                    }
                  }
                },
                {
                  "layout": {
                    "scene": {
                      "camera": {
                        "eye": {
                          "x": 0.1917711853694184,
                          "y": 2.3506858174715752,
                          "z": 0.5
                        }
                      }
                    }
                  }
                },
                {
                  "layout": {
                    "scene": {
                      "camera": {
                        "eye": {
                          "x": 0.2035221683493933,
                          "y": 2.349697582028454,
                          "z": 0.5
                        }
                      }
                    }
                  }
                },
                {
                  "layout": {
                    "scene": {
                      "camera": {
                        "eye": {
                          "x": 0.21526806328575943,
                          "y": 2.348650604268161,
                          "z": 0.5
                        }
                      }
                    }
                  }
                },
                {
                  "layout": {
                    "scene": {
                      "camera": {
                        "eye": {
                          "x": 0.22700857653175532,
                          "y": 2.3475449103650874,
                          "z": 0.5
                        }
                      }
                    }
                  }
                },
                {
                  "layout": {
                    "scene": {
                      "camera": {
                        "eye": {
                          "x": 0.23874341457516124,
                          "y": 2.3463805279615224,
                          "z": 0.5
                        }
                      }
                    }
                  }
                },
                {
                  "layout": {
                    "scene": {
                      "camera": {
                        "eye": {
                          "x": 0.2504722840456375,
                          "y": 2.3451574861669657,
                          "z": 0.5
                        }
                      }
                    }
                  }
                },
                {
                  "layout": {
                    "scene": {
                      "camera": {
                        "eye": {
                          "x": 0.2621948917220579,
                          "y": 2.343875815557398,
                          "z": 0.5
                        }
                      }
                    }
                  }
                },
                {
                  "layout": {
                    "scene": {
                      "camera": {
                        "eye": {
                          "x": 0.2739109445398412,
                          "y": 2.3425355481745185,
                          "z": 0.5
                        }
                      }
                    }
                  }
                },
                {
                  "layout": {
                    "scene": {
                      "camera": {
                        "eye": {
                          "x": 0.2856201495982773,
                          "y": 2.3411367175249413,
                          "z": 0.5
                        }
                      }
                    }
                  }
                },
                {
                  "layout": {
                    "scene": {
                      "camera": {
                        "eye": {
                          "x": 0.2973222141678492,
                          "y": 2.3396793585793603,
                          "z": 0.5
                        }
                      }
                    }
                  }
                },
                {
                  "layout": {
                    "scene": {
                      "camera": {
                        "eye": {
                          "x": 0.30901684569755283,
                          "y": 2.338163507771673,
                          "z": 0.5
                        }
                      }
                    }
                  }
                },
                {
                  "layout": {
                    "scene": {
                      "camera": {
                        "eye": {
                          "x": 0.32070375182220845,
                          "y": 2.336589202998071,
                          "z": 0.5
                        }
                      }
                    }
                  }
                },
                {
                  "layout": {
                    "scene": {
                      "camera": {
                        "eye": {
                          "x": 0.33238264036977183,
                          "y": 2.3349564836160908,
                          "z": 0.5
                        }
                      }
                    }
                  }
                },
                {
                  "layout": {
                    "scene": {
                      "camera": {
                        "eye": {
                          "x": 0.3440532193686372,
                          "y": 2.3332653904436325,
                          "z": 0.5
                        }
                      }
                    }
                  }
                },
                {
                  "layout": {
                    "scene": {
                      "camera": {
                        "eye": {
                          "x": 0.3557151970549379,
                          "y": 2.331515965757937,
                          "z": 0.5
                        }
                      }
                    }
                  }
                },
                {
                  "layout": {
                    "scene": {
                      "camera": {
                        "eye": {
                          "x": 0.3673682818798394,
                          "y": 2.3297082532945312,
                          "z": 0.5
                        }
                      }
                    }
                  }
                },
                {
                  "layout": {
                    "scene": {
                      "camera": {
                        "eye": {
                          "x": 0.37901218251682756,
                          "y": 2.3278422982461313,
                          "z": 0.5
                        }
                      }
                    }
                  }
                },
                {
                  "layout": {
                    "scene": {
                      "camera": {
                        "eye": {
                          "x": 0.39064660786899297,
                          "y": 2.3259181472615174,
                          "z": 0.5
                        }
                      }
                    }
                  }
                },
                {
                  "layout": {
                    "scene": {
                      "camera": {
                        "eye": {
                          "x": 0.4022712670763078,
                          "y": 2.3239358484443633,
                          "z": 0.5
                        }
                      }
                    }
                  }
                },
                {
                  "layout": {
                    "scene": {
                      "camera": {
                        "eye": {
                          "x": 0.4138858695228972,
                          "y": 2.3218954513520362,
                          "z": 0.5
                        }
                      }
                    }
                  }
                },
                {
                  "layout": {
                    "scene": {
                      "camera": {
                        "eye": {
                          "x": 0.42549012484430515,
                          "y": 2.3197970069943574,
                          "z": 0.5
                        }
                      }
                    }
                  }
                },
                {
                  "layout": {
                    "scene": {
                      "camera": {
                        "eye": {
                          "x": 0.43708374293475316,
                          "y": 2.317640567832326,
                          "z": 0.5
                        }
                      }
                    }
                  }
                },
                {
                  "layout": {
                    "scene": {
                      "camera": {
                        "eye": {
                          "x": 0.4486664339543921,
                          "y": 2.3154261877768096,
                          "z": 0.5
                        }
                      }
                    }
                  }
                },
                {
                  "layout": {
                    "scene": {
                      "camera": {
                        "eye": {
                          "x": 0.46023790833655065,
                          "y": 2.3131539221871935,
                          "z": 0.5
                        }
                      }
                    }
                  }
                },
                {
                  "layout": {
                    "scene": {
                      "camera": {
                        "eye": {
                          "x": 0.4717978767949711,
                          "y": 2.3108238278699993,
                          "z": 0.5
                        }
                      }
                    }
                  }
                },
                {
                  "layout": {
                    "scene": {
                      "camera": {
                        "eye": {
                          "x": 0.48334605033104483,
                          "y": 2.3084359630774642,
                          "z": 0.5
                        }
                      }
                    }
                  }
                },
                {
                  "layout": {
                    "scene": {
                      "camera": {
                        "eye": {
                          "x": 0.49488214024103416,
                          "y": 2.3059903875060828,
                          "z": 0.5
                        }
                      }
                    }
                  }
                },
                {
                  "layout": {
                    "scene": {
                      "camera": {
                        "eye": {
                          "x": 0.5064058581232929,
                          "y": 2.3034871622951174,
                          "z": 0.5
                        }
                      }
                    }
                  }
                },
                {
                  "layout": {
                    "scene": {
                      "camera": {
                        "eye": {
                          "x": 0.5179169158854737,
                          "y": 2.300926350025067,
                          "z": 0.5
                        }
                      }
                    }
                  }
                },
                {
                  "layout": {
                    "scene": {
                      "camera": {
                        "eye": {
                          "x": 0.5294150257517323,
                          "y": 2.298308014716107,
                          "z": 0.5
                        }
                      }
                    }
                  }
                },
                {
                  "layout": {
                    "scene": {
                      "camera": {
                        "eye": {
                          "x": 0.5408999002699205,
                          "y": 2.295632221826482,
                          "z": 0.5
                        }
                      }
                    }
                  }
                },
                {
                  "layout": {
                    "scene": {
                      "camera": {
                        "eye": {
                          "x": 0.5523712523187743,
                          "y": 2.2928990382508756,
                          "z": 0.5
                        }
                      }
                    }
                  }
                },
                {
                  "layout": {
                    "scene": {
                      "camera": {
                        "eye": {
                          "x": 0.5638287951150889,
                          "y": 2.290108532318734,
                          "z": 0.5
                        }
                      }
                    }
                  }
                },
                {
                  "layout": {
                    "scene": {
                      "camera": {
                        "eye": {
                          "x": 0.5752722422208919,
                          "y": 2.287260773792562,
                          "z": 0.5
                        }
                      }
                    }
                  }
                },
                {
                  "layout": {
                    "scene": {
                      "camera": {
                        "eye": {
                          "x": 0.5867013075506015,
                          "y": 2.2843558338661722,
                          "z": 0.5
                        }
                      }
                    }
                  }
                },
                {
                  "layout": {
                    "scene": {
                      "camera": {
                        "eye": {
                          "x": 0.5981157053781794,
                          "y": 2.281393785162913,
                          "z": 0.5
                        }
                      }
                    }
                  }
                },
                {
                  "layout": {
                    "scene": {
                      "camera": {
                        "eye": {
                          "x": 0.609515150344275,
                          "y": 2.278374701733847,
                          "z": 0.5
                        }
                      }
                    }
                  }
                },
                {
                  "layout": {
                    "scene": {
                      "camera": {
                        "eye": {
                          "x": 0.6208993574633573,
                          "y": 2.275298659055903,
                          "z": 0.5
                        }
                      }
                    }
                  }
                },
                {
                  "layout": {
                    "scene": {
                      "camera": {
                        "eye": {
                          "x": 0.6322680421308418,
                          "y": 2.2721657340299877,
                          "z": 0.5
                        }
                      }
                    }
                  }
                },
                {
                  "layout": {
                    "scene": {
                      "camera": {
                        "eye": {
                          "x": 0.643620920130203,
                          "y": 2.2689760049790637,
                          "z": 0.5
                        }
                      }
                    }
                  }
                },
                {
                  "layout": {
                    "scene": {
                      "camera": {
                        "eye": {
                          "x": 0.6549577076400834,
                          "y": 2.2657295516461904,
                          "z": 0.5
                        }
                      }
                    }
                  }
                },
                {
                  "layout": {
                    "scene": {
                      "camera": {
                        "eye": {
                          "x": 0.6662781212413851,
                          "y": 2.262426455192533,
                          "z": 0.5
                        }
                      }
                    }
                  }
                },
                {
                  "layout": {
                    "scene": {
                      "camera": {
                        "eye": {
                          "x": 0.6775818779243576,
                          "y": 2.25906679819533,
                          "z": 0.5
                        }
                      }
                    }
                  }
                },
                {
                  "layout": {
                    "scene": {
                      "camera": {
                        "eye": {
                          "x": 0.6888686950956728,
                          "y": 2.2556506646458323,
                          "z": 0.5
                        }
                      }
                    }
                  }
                },
                {
                  "layout": {
                    "scene": {
                      "camera": {
                        "eye": {
                          "x": 0.700138290585489,
                          "y": 2.2521781399472003,
                          "z": 0.5
                        }
                      }
                    }
                  }
                },
                {
                  "layout": {
                    "scene": {
                      "camera": {
                        "eye": {
                          "x": 0.7113903826545063,
                          "y": 2.24864931091237,
                          "z": 0.5
                        }
                      }
                    }
                  }
                },
                {
                  "layout": {
                    "scene": {
                      "camera": {
                        "eye": {
                          "x": 0.7226246900010087,
                          "y": 2.245064265761884,
                          "z": 0.5
                        }
                      }
                    }
                  }
                },
                {
                  "layout": {
                    "scene": {
                      "camera": {
                        "eye": {
                          "x": 0.7338409317678977,
                          "y": 2.241423094121684,
                          "z": 0.5
                        }
                      }
                    }
                  }
                },
                {
                  "layout": {
                    "scene": {
                      "camera": {
                        "eye": {
                          "x": 0.7450388275497133,
                          "y": 2.237725887020872,
                          "z": 0.5
                        }
                      }
                    }
                  }
                },
                {
                  "layout": {
                    "scene": {
                      "camera": {
                        "eye": {
                          "x": 0.7562180973996443,
                          "y": 2.2339727368894327,
                          "z": 0.5
                        }
                      }
                    }
                  }
                },
                {
                  "layout": {
                    "scene": {
                      "camera": {
                        "eye": {
                          "x": 0.7673784618365266,
                          "y": 2.2301637375559236,
                          "z": 0.5
                        }
                      }
                    }
                  }
                },
                {
                  "layout": {
                    "scene": {
                      "camera": {
                        "eye": {
                          "x": 0.7785196418518308,
                          "y": 2.2262989842451297,
                          "z": 0.5
                        }
                      }
                    }
                  }
                },
                {
                  "layout": {
                    "scene": {
                      "camera": {
                        "eye": {
                          "x": 0.7896413589166363,
                          "y": 2.222378573575683,
                          "z": 0.5
                        }
                      }
                    }
                  }
                },
                {
                  "layout": {
                    "scene": {
                      "camera": {
                        "eye": {
                          "x": 0.8007433349885962,
                          "y": 2.218402603557646,
                          "z": 0.5
                        }
                      }
                    }
                  }
                },
                {
                  "layout": {
                    "scene": {
                      "camera": {
                        "eye": {
                          "x": 0.8118252925188865,
                          "y": 2.2143711735900613,
                          "z": 0.5
                        }
                      }
                    }
                  }
                },
                {
                  "layout": {
                    "scene": {
                      "camera": {
                        "eye": {
                          "x": 0.8228869544591466,
                          "y": 2.2102843844584683,
                          "z": 0.5
                        }
                      }
                    }
                  }
                },
                {
                  "layout": {
                    "scene": {
                      "camera": {
                        "eye": {
                          "x": 0.8339280442684036,
                          "y": 2.2061423383323833,
                          "z": 0.5
                        }
                      }
                    }
                  }
                },
                {
                  "layout": {
                    "scene": {
                      "camera": {
                        "eye": {
                          "x": 0.8449482859199878,
                          "y": 2.201945138762743,
                          "z": 0.5
                        }
                      }
                    }
                  }
                },
                {
                  "layout": {
                    "scene": {
                      "camera": {
                        "eye": {
                          "x": 0.8559474039084316,
                          "y": 2.197692890679318,
                          "z": 0.5
                        }
                      }
                    }
                  }
                },
                {
                  "layout": {
                    "scene": {
                      "camera": {
                        "eye": {
                          "x": 0.8669251232563583,
                          "y": 2.193385700388089,
                          "z": 0.5
                        }
                      }
                    }
                  }
                },
                {
                  "layout": {
                    "scene": {
                      "camera": {
                        "eye": {
                          "x": 0.877881169521356,
                          "y": 2.1890236755685892,
                          "z": 0.5
                        }
                      }
                    }
                  }
                },
                {
                  "layout": {
                    "scene": {
                      "camera": {
                        "eye": {
                          "x": 0.8888152688028383,
                          "y": 2.184606925271212,
                          "z": 0.5
                        }
                      }
                    }
                  }
                },
                {
                  "layout": {
                    "scene": {
                      "camera": {
                        "eye": {
                          "x": 0.8997271477488932,
                          "y": 2.180135559914484,
                          "z": 0.5
                        }
                      }
                    }
                  }
                },
                {
                  "layout": {
                    "scene": {
                      "camera": {
                        "eye": {
                          "x": 0.9106165335631151,
                          "y": 2.1756096912823075,
                          "z": 0.5
                        }
                      }
                    }
                  }
                },
                {
                  "layout": {
                    "scene": {
                      "camera": {
                        "eye": {
                          "x": 0.9214831540114257,
                          "y": 2.171029432521161,
                          "z": 0.5
                        }
                      }
                    }
                  }
                },
                {
                  "layout": {
                    "scene": {
                      "camera": {
                        "eye": {
                          "x": 0.9323267374288798,
                          "y": 2.1663948981372765,
                          "z": 0.5
                        }
                      }
                    }
                  }
                },
                {
                  "layout": {
                    "scene": {
                      "camera": {
                        "eye": {
                          "x": 0.9431470127264572,
                          "y": 2.1617062039937713,
                          "z": 0.5
                        }
                      }
                    }
                  }
                },
                {
                  "layout": {
                    "scene": {
                      "camera": {
                        "eye": {
                          "x": 0.9539437093978386,
                          "y": 2.156963467307755,
                          "z": 0.5
                        }
                      }
                    }
                  }
                },
                {
                  "layout": {
                    "scene": {
                      "camera": {
                        "eye": {
                          "x": 0.9647165575261694,
                          "y": 2.152166806647398,
                          "z": 0.5
                        }
                      }
                    }
                  }
                },
                {
                  "layout": {
                    "scene": {
                      "camera": {
                        "eye": {
                          "x": 0.9754652877908077,
                          "y": 2.147316341928966,
                          "z": 0.5
                        }
                      }
                    }
                  }
                },
                {
                  "layout": {
                    "scene": {
                      "camera": {
                        "eye": {
                          "x": 0.9861896314740566,
                          "y": 2.1424121944138257,
                          "z": 0.5
                        }
                      }
                    }
                  }
                },
                {
                  "layout": {
                    "scene": {
                      "camera": {
                        "eye": {
                          "x": 0.9968893204678828,
                          "y": 2.1374544867054093,
                          "z": 0.5
                        }
                      }
                    }
                  }
                },
                {
                  "layout": {
                    "scene": {
                      "camera": {
                        "eye": {
                          "x": 1.0075640872806182,
                          "y": 2.13244334274615,
                          "z": 0.5
                        }
                      }
                    }
                  }
                },
                {
                  "layout": {
                    "scene": {
                      "camera": {
                        "eye": {
                          "x": 1.0182136650436495,
                          "y": 2.1273788878143867,
                          "z": 0.5
                        }
                      }
                    }
                  }
                },
                {
                  "layout": {
                    "scene": {
                      "camera": {
                        "eye": {
                          "x": 1.028837787518086,
                          "y": 2.12226124852123,
                          "z": 0.5
                        }
                      }
                    }
                  }
                },
                {
                  "layout": {
                    "scene": {
                      "camera": {
                        "eye": {
                          "x": 1.0394361891014203,
                          "y": 2.1170905528073938,
                          "z": 0.5
                        }
                      }
                    }
                  }
                },
                {
                  "layout": {
                    "scene": {
                      "camera": {
                        "eye": {
                          "x": 1.0500086048341641,
                          "y": 2.111866929940003,
                          "z": 0.5
                        }
                      }
                    }
                  }
                },
                {
                  "layout": {
                    "scene": {
                      "camera": {
                        "eye": {
                          "x": 1.0605547704064744,
                          "y": 2.1065905105093563,
                          "z": 0.5
                        }
                      }
                    }
                  }
                },
                {
                  "layout": {
                    "scene": {
                      "camera": {
                        "eye": {
                          "x": 1.0710744221647626,
                          "y": 2.1012614264256646,
                          "z": 0.5
                        }
                      }
                    }
                  }
                },
                {
                  "layout": {
                    "scene": {
                      "camera": {
                        "eye": {
                          "x": 1.0815672971182813,
                          "y": 2.095879810915754,
                          "z": 0.5
                        }
                      }
                    }
                  }
                },
                {
                  "layout": {
                    "scene": {
                      "camera": {
                        "eye": {
                          "x": 1.0920331329457038,
                          "y": 2.09044579851973,
                          "z": 0.5
                        }
                      }
                    }
                  }
                },
                {
                  "layout": {
                    "scene": {
                      "camera": {
                        "eye": {
                          "x": 1.102471668001679,
                          "y": 2.08495952508762,
                          "z": 0.5
                        }
                      }
                    }
                  }
                },
                {
                  "layout": {
                    "scene": {
                      "camera": {
                        "eye": {
                          "x": 1.1128826413233752,
                          "y": 2.079421127775975,
                          "z": 0.5
                        }
                      }
                    }
                  }
                },
                {
                  "layout": {
                    "scene": {
                      "camera": {
                        "eye": {
                          "x": 1.1232657926370004,
                          "y": 2.0738307450444387,
                          "z": 0.5
                        }
                      }
                    }
                  }
                },
                {
                  "layout": {
                    "scene": {
                      "camera": {
                        "eye": {
                          "x": 1.1336208623643131,
                          "y": 2.0681885166522878,
                          "z": 0.5
                        }
                      }
                    }
                  }
                },
                {
                  "layout": {
                    "scene": {
                      "camera": {
                        "eye": {
                          "x": 1.1439475916291093,
                          "y": 2.062494583654939,
                          "z": 0.5
                        }
                      }
                    }
                  }
                },
                {
                  "layout": {
                    "scene": {
                      "camera": {
                        "eye": {
                          "x": 1.1542457222636957,
                          "y": 2.0567490884004203,
                          "z": 0.5
                        }
                      }
                    }
                  }
                },
                {
                  "layout": {
                    "scene": {
                      "camera": {
                        "eye": {
                          "x": 1.1645149968153419,
                          "y": 2.050952174525814,
                          "z": 0.5
                        }
                      }
                    }
                  }
                },
                {
                  "layout": {
                    "scene": {
                      "camera": {
                        "eye": {
                          "x": 1.17475515855272,
                          "y": 2.0451039869536642,
                          "z": 0.5
                        }
                      }
                    }
                  }
                },
                {
                  "layout": {
                    "scene": {
                      "camera": {
                        "eye": {
                          "x": 1.1849659514723192,
                          "y": 2.039204671888357,
                          "z": 0.5
                        }
                      }
                    }
                  }
                },
                {
                  "layout": {
                    "scene": {
                      "camera": {
                        "eye": {
                          "x": 1.1951471203048487,
                          "y": 2.0332543768124607,
                          "z": 0.5
                        }
                      }
                    }
                  }
                },
                {
                  "layout": {
                    "scene": {
                      "camera": {
                        "eye": {
                          "x": 1.2052984105216171,
                          "y": 2.027253250483043,
                          "z": 0.5
                        }
                      }
                    }
                  }
                },
                {
                  "layout": {
                    "scene": {
                      "camera": {
                        "eye": {
                          "x": 1.215419568340899,
                          "y": 2.021201442927949,
                          "z": 0.5
                        }
                      }
                    }
                  }
                },
                {
                  "layout": {
                    "scene": {
                      "camera": {
                        "eye": {
                          "x": 1.2255103407342751,
                          "y": 2.0150991054420526,
                          "z": 0.5
                        }
                      }
                    }
                  }
                },
                {
                  "layout": {
                    "scene": {
                      "camera": {
                        "eye": {
                          "x": 1.2355704754329617,
                          "y": 2.008946390583473,
                          "z": 0.5
                        }
                      }
                    }
                  }
                },
                {
                  "layout": {
                    "scene": {
                      "camera": {
                        "eye": {
                          "x": 1.245599720934115,
                          "y": 2.002743452169762,
                          "z": 0.5
                        }
                      }
                    }
                  }
                },
                {
                  "layout": {
                    "scene": {
                      "camera": {
                        "eye": {
                          "x": 1.25559782650712,
                          "y": 1.9964904452740555,
                          "z": 0.5
                        }
                      }
                    }
                  }
                },
                {
                  "layout": {
                    "scene": {
                      "camera": {
                        "eye": {
                          "x": 1.2655645421998576,
                          "y": 1.9901875262212014,
                          "z": 0.5
                        }
                      }
                    }
                  }
                },
                {
                  "layout": {
                    "scene": {
                      "camera": {
                        "eye": {
                          "x": 1.2754996188449552,
                          "y": 1.983834852583847,
                          "z": 0.5
                        }
                      }
                    }
                  }
                },
                {
                  "layout": {
                    "scene": {
                      "camera": {
                        "eye": {
                          "x": 1.285402808066014,
                          "y": 1.977432583178503,
                          "z": 0.5
                        }
                      }
                    }
                  }
                },
                {
                  "layout": {
                    "scene": {
                      "camera": {
                        "eye": {
                          "x": 1.2952738622838191,
                          "y": 1.97098087806157,
                          "z": 0.5
                        }
                      }
                    }
                  }
                },
                {
                  "layout": {
                    "scene": {
                      "camera": {
                        "eye": {
                          "x": 1.305112534722529,
                          "y": 1.9644798985253416,
                          "z": 0.5
                        }
                      }
                    }
                  }
                },
                {
                  "layout": {
                    "scene": {
                      "camera": {
                        "eye": {
                          "x": 1.3149185794158458,
                          "y": 1.957929807093966,
                          "z": 0.5
                        }
                      }
                    }
                  }
                },
                {
                  "layout": {
                    "scene": {
                      "camera": {
                        "eye": {
                          "x": 1.324691751213162,
                          "y": 1.9513307675193885,
                          "z": 0.5
                        }
                      }
                    }
                  }
                },
                {
                  "layout": {
                    "scene": {
                      "camera": {
                        "eye": {
                          "x": 1.3344318057856923,
                          "y": 1.944682944777255,
                          "z": 0.5
                        }
                      }
                    }
                  }
                },
                {
                  "layout": {
                    "scene": {
                      "camera": {
                        "eye": {
                          "x": 1.34413849963258,
                          "y": 1.9379865050627876,
                          "z": 0.5
                        }
                      }
                    }
                  }
                },
                {
                  "layout": {
                    "scene": {
                      "camera": {
                        "eye": {
                          "x": 1.3538115900869836,
                          "y": 1.9312416157866301,
                          "z": 0.5
                        }
                      }
                    }
                  }
                },
                {
                  "layout": {
                    "scene": {
                      "camera": {
                        "eye": {
                          "x": 1.3634508353221462,
                          "y": 1.9244484455706632,
                          "z": 0.5
                        }
                      }
                    }
                  }
                },
                {
                  "layout": {
                    "scene": {
                      "camera": {
                        "eye": {
                          "x": 1.3730559943574383,
                          "y": 1.917607164243789,
                          "z": 0.5
                        }
                      }
                    }
                  }
                },
                {
                  "layout": {
                    "scene": {
                      "camera": {
                        "eye": {
                          "x": 1.3826268270643853,
                          "y": 1.9107179428376837,
                          "z": 0.5
                        }
                      }
                    }
                  }
                },
                {
                  "layout": {
                    "scene": {
                      "camera": {
                        "eye": {
                          "x": 1.392163094172667,
                          "y": 1.9037809535825243,
                          "z": 0.5
                        }
                      }
                    }
                  }
                },
                {
                  "layout": {
                    "scene": {
                      "camera": {
                        "eye": {
                          "x": 1.4016645572761033,
                          "y": 1.8967963699026802,
                          "z": 0.5
                        }
                      }
                    }
                  }
                },
                {
                  "layout": {
                    "scene": {
                      "camera": {
                        "eye": {
                          "x": 1.4111309788386106,
                          "y": 1.88976436641238,
                          "z": 0.5
                        }
                      }
                    }
                  }
                },
                {
                  "layout": {
                    "scene": {
                      "camera": {
                        "eye": {
                          "x": 1.4205621222001437,
                          "y": 1.8826851189113447,
                          "z": 0.5
                        }
                      }
                    }
                  }
                },
                {
                  "layout": {
                    "scene": {
                      "camera": {
                        "eye": {
                          "x": 1.429957751582609,
                          "y": 1.8755588043803932,
                          "z": 0.5
                        }
                      }
                    }
                  }
                },
                {
                  "layout": {
                    "scene": {
                      "camera": {
                        "eye": {
                          "x": 1.439317632095762,
                          "y": 1.868385600977017,
                          "z": 0.5
                        }
                      }
                    }
                  }
                },
                {
                  "layout": {
                    "scene": {
                      "camera": {
                        "eye": {
                          "x": 1.4486415297430764,
                          "y": 1.8611656880309286,
                          "z": 0.5
                        }
                      }
                    }
                  }
                },
                {
                  "layout": {
                    "scene": {
                      "camera": {
                        "eye": {
                          "x": 1.4579292114275977,
                          "y": 1.8538992460395745,
                          "z": 0.5
                        }
                      }
                    }
                  }
                },
                {
                  "layout": {
                    "scene": {
                      "camera": {
                        "eye": {
                          "x": 1.4671804449577666,
                          "y": 1.846586456663627,
                          "z": 0.5
                        }
                      }
                    }
                  }
                },
                {
                  "layout": {
                    "scene": {
                      "camera": {
                        "eye": {
                          "x": 1.4763949990532277,
                          "y": 1.839227502722439,
                          "z": 0.5
                        }
                      }
                    }
                  }
                },
                {
                  "layout": {
                    "scene": {
                      "camera": {
                        "eye": {
                          "x": 1.4855726433506076,
                          "y": 1.8318225681894762,
                          "z": 0.5
                        }
                      }
                    }
                  }
                },
                {
                  "layout": {
                    "scene": {
                      "camera": {
                        "eye": {
                          "x": 1.4947131484092777,
                          "y": 1.8243718381877156,
                          "z": 0.5
                        }
                      }
                    }
                  }
                },
                {
                  "layout": {
                    "scene": {
                      "camera": {
                        "eye": {
                          "x": 1.5038162857170865,
                          "y": 1.8168754989850202,
                          "z": 0.5
                        }
                      }
                    }
                  }
                },
                {
                  "layout": {
                    "scene": {
                      "camera": {
                        "eye": {
                          "x": 1.5128818276960767,
                          "y": 1.8093337379894783,
                          "z": 0.5
                        }
                      }
                    }
                  }
                },
                {
                  "layout": {
                    "scene": {
                      "camera": {
                        "eye": {
                          "x": 1.5219095477081699,
                          "y": 1.8017467437447234,
                          "z": 0.5
                        }
                      }
                    }
                  }
                },
                {
                  "layout": {
                    "scene": {
                      "camera": {
                        "eye": {
                          "x": 1.530899220060837,
                          "y": 1.7941147059252152,
                          "z": 0.5
                        }
                      }
                    }
                  }
                },
                {
                  "layout": {
                    "scene": {
                      "camera": {
                        "eye": {
                          "x": 1.5398506200127362,
                          "y": 1.786437815331503,
                          "z": 0.5
                        }
                      }
                    }
                  }
                },
                {
                  "layout": {
                    "scene": {
                      "camera": {
                        "eye": {
                          "x": 1.548763523779336,
                          "y": 1.7787162638854501,
                          "z": 0.5
                        }
                      }
                    }
                  }
                },
                {
                  "layout": {
                    "scene": {
                      "camera": {
                        "eye": {
                          "x": 1.5576377085385054,
                          "y": 1.7709502446254421,
                          "z": 0.5
                        }
                      }
                    }
                  }
                },
                {
                  "layout": {
                    "scene": {
                      "camera": {
                        "eye": {
                          "x": 1.5664729524360888,
                          "y": 1.7631399517015556,
                          "z": 0.5
                        }
                      }
                    }
                  }
                },
                {
                  "layout": {
                    "scene": {
                      "camera": {
                        "eye": {
                          "x": 1.5752690345914484,
                          "y": 1.755285580370706,
                          "z": 0.5
                        }
                      }
                    }
                  }
                },
                {
                  "layout": {
                    "scene": {
                      "camera": {
                        "eye": {
                          "x": 1.5840257351029878,
                          "y": 1.7473873269917688,
                          "z": 0.5
                        }
                      }
                    }
                  }
                },
                {
                  "layout": {
                    "scene": {
                      "camera": {
                        "eye": {
                          "x": 1.5927428350536517,
                          "y": 1.7394453890206658,
                          "z": 0.5
                        }
                      }
                    }
                  }
                },
                {
                  "layout": {
                    "scene": {
                      "camera": {
                        "eye": {
                          "x": 1.6014201165163942,
                          "y": 1.7314599650054339,
                          "z": 0.5
                        }
                      }
                    }
                  }
                },
                {
                  "layout": {
                    "scene": {
                      "camera": {
                        "eye": {
                          "x": 1.610057362559631,
                          "y": 1.7234312545812567,
                          "z": 0.5
                        }
                      }
                    }
                  }
                },
                {
                  "layout": {
                    "scene": {
                      "camera": {
                        "eye": {
                          "x": 1.6186543572526606,
                          "y": 1.7153594584654772,
                          "z": 0.5
                        }
                      }
                    }
                  }
                },
                {
                  "layout": {
                    "scene": {
                      "camera": {
                        "eye": {
                          "x": 1.6272108856710643,
                          "y": 1.7072447784525773,
                          "z": 0.5
                        }
                      }
                    }
                  }
                },
                {
                  "layout": {
                    "scene": {
                      "camera": {
                        "eye": {
                          "x": 1.6357267339020765,
                          "y": 1.6990874174091353,
                          "z": 0.5
                        }
                      }
                    }
                  }
                },
                {
                  "layout": {
                    "scene": {
                      "camera": {
                        "eye": {
                          "x": 1.6442016890499351,
                          "y": 1.690887579268752,
                          "z": 0.5
                        }
                      }
                    }
                  }
                },
                {
                  "layout": {
                    "scene": {
                      "camera": {
                        "eye": {
                          "x": 1.6526355392412029,
                          "y": 1.682645469026954,
                          "z": 0.5
                        }
                      }
                    }
                  }
                },
                {
                  "layout": {
                    "scene": {
                      "camera": {
                        "eye": {
                          "x": 1.6610280736300647,
                          "y": 1.674361292736068,
                          "z": 0.5
                        }
                      }
                    }
                  }
                },
                {
                  "layout": {
                    "scene": {
                      "camera": {
                        "eye": {
                          "x": 1.669379082403597,
                          "y": 1.66603525750007,
                          "z": 0.5
                        }
                      }
                    }
                  }
                },
                {
                  "layout": {
                    "scene": {
                      "camera": {
                        "eye": {
                          "x": 1.6776883567870162,
                          "y": 1.657667571469407,
                          "z": 0.5
                        }
                      }
                    }
                  }
                },
                {
                  "layout": {
                    "scene": {
                      "camera": {
                        "eye": {
                          "x": 1.6859556890488951,
                          "y": 1.649258443835794,
                          "z": 0.5
                        }
                      }
                    }
                  }
                },
                {
                  "layout": {
                    "scene": {
                      "camera": {
                        "eye": {
                          "x": 1.6941808725063585,
                          "y": 1.640808084826984,
                          "z": 0.5
                        }
                      }
                    }
                  }
                },
                {
                  "layout": {
                    "scene": {
                      "camera": {
                        "eye": {
                          "x": 1.7023637015302469,
                          "y": 1.6323167057015118,
                          "z": 0.5
                        }
                      }
                    }
                  }
                },
                {
                  "layout": {
                    "scene": {
                      "camera": {
                        "eye": {
                          "x": 1.7105039715502623,
                          "y": 1.6237845187434135,
                          "z": 0.5
                        }
                      }
                    }
                  }
                },
                {
                  "layout": {
                    "scene": {
                      "camera": {
                        "eye": {
                          "x": 1.7186014790600774,
                          "y": 1.615211737256919,
                          "z": 0.5
                        }
                      }
                    }
                  }
                },
                {
                  "layout": {
                    "scene": {
                      "camera": {
                        "eye": {
                          "x": 1.7266560216224267,
                          "y": 1.6065985755611183,
                          "z": 0.5
                        }
                      }
                    }
                  }
                },
                {
                  "layout": {
                    "scene": {
                      "camera": {
                        "eye": {
                          "x": 1.734667397874165,
                          "y": 1.5979452489846055,
                          "z": 0.5
                        }
                      }
                    }
                  }
                },
                {
                  "layout": {
                    "scene": {
                      "camera": {
                        "eye": {
                          "x": 1.742635407531304,
                          "y": 1.5892519738600943,
                          "z": 0.5
                        }
                      }
                    }
                  }
                },
                {
                  "layout": {
                    "scene": {
                      "camera": {
                        "eye": {
                          "x": 1.7505598513940166,
                          "y": 1.5805189675190106,
                          "z": 0.5
                        }
                      }
                    }
                  }
                },
                {
                  "layout": {
                    "scene": {
                      "camera": {
                        "eye": {
                          "x": 1.7584405313516194,
                          "y": 1.571746448286057,
                          "z": 0.5
                        }
                      }
                    }
                  }
                },
                {
                  "layout": {
                    "scene": {
                      "camera": {
                        "eye": {
                          "x": 1.7662772503875235,
                          "y": 1.562934635473758,
                          "z": 0.5
                        }
                      }
                    }
                  }
                },
                {
                  "layout": {
                    "scene": {
                      "camera": {
                        "eye": {
                          "x": 1.7740698125841616,
                          "y": 1.5540837493769755,
                          "z": 0.5
                        }
                      }
                    }
                  }
                },
                {
                  "layout": {
                    "scene": {
                      "camera": {
                        "eye": {
                          "x": 1.7818180231278846,
                          "y": 1.5451940112673996,
                          "z": 0.5
                        }
                      }
                    }
                  }
                },
                {
                  "layout": {
                    "scene": {
                      "camera": {
                        "eye": {
                          "x": 1.7895216883138323,
                          "y": 1.5362656433880213,
                          "z": 0.5
                        }
                      }
                    }
                  }
                },
                {
                  "layout": {
                    "scene": {
                      "camera": {
                        "eye": {
                          "x": 1.7971806155507766,
                          "y": 1.5272988689475717,
                          "z": 0.5
                        }
                      }
                    }
                  }
                },
                {
                  "layout": {
                    "scene": {
                      "camera": {
                        "eye": {
                          "x": 1.8047946133659345,
                          "y": 1.5182939121149457,
                          "z": 0.5
                        }
                      }
                    }
                  }
                },
                {
                  "layout": {
                    "scene": {
                      "camera": {
                        "eye": {
                          "x": 1.8123634914097588,
                          "y": 1.5092509980135942,
                          "z": 0.5
                        }
                      }
                    }
                  }
                },
                {
                  "layout": {
                    "scene": {
                      "camera": {
                        "eye": {
                          "x": 1.819887060460691,
                          "y": 1.5001703527158992,
                          "z": 0.5
                        }
                      }
                    }
                  }
                },
                {
                  "layout": {
                    "scene": {
                      "camera": {
                        "eye": {
                          "x": 1.8273651324298978,
                          "y": 1.4910522032375197,
                          "z": 0.5
                        }
                      }
                    }
                  }
                },
                {
                  "layout": {
                    "scene": {
                      "camera": {
                        "eye": {
                          "x": 1.8347975203659688,
                          "y": 1.481896777531719,
                          "z": 0.5
                        }
                      }
                    }
                  }
                },
                {
                  "layout": {
                    "scene": {
                      "camera": {
                        "eye": {
                          "x": 1.8421840384595933,
                          "y": 1.4727043044836612,
                          "z": 0.5
                        }
                      }
                    }
                  }
                },
                {
                  "layout": {
                    "scene": {
                      "camera": {
                        "eye": {
                          "x": 1.8495245020482027,
                          "y": 1.4634750139046953,
                          "z": 0.5
                        }
                      }
                    }
                  }
                },
                {
                  "layout": {
                    "scene": {
                      "camera": {
                        "eye": {
                          "x": 1.8568187276205907,
                          "y": 1.4542091365266039,
                          "z": 0.5
                        }
                      }
                    }
                  }
                },
                {
                  "layout": {
                    "scene": {
                      "camera": {
                        "eye": {
                          "x": 1.8640665328214971,
                          "y": 1.4449069039958395,
                          "z": 0.5
                        }
                      }
                    }
                  }
                },
                {
                  "layout": {
                    "scene": {
                      "camera": {
                        "eye": {
                          "x": 1.8712677364561698,
                          "y": 1.4355685488677303,
                          "z": 0.5
                        }
                      }
                    }
                  }
                },
                {
                  "layout": {
                    "scene": {
                      "camera": {
                        "eye": {
                          "x": 1.878422158494893,
                          "y": 1.4261943046006693,
                          "z": 0.5
                        }
                      }
                    }
                  }
                },
                {
                  "layout": {
                    "scene": {
                      "camera": {
                        "eye": {
                          "x": 1.8855296200774883,
                          "y": 1.4167844055502739,
                          "z": 0.5
                        }
                      }
                    }
                  }
                },
                {
                  "layout": {
                    "scene": {
                      "camera": {
                        "eye": {
                          "x": 1.892589943517786,
                          "y": 1.4073390869635305,
                          "z": 0.5
                        }
                      }
                    }
                  }
                },
                {
                  "layout": {
                    "scene": {
                      "camera": {
                        "eye": {
                          "x": 1.8996029523080684,
                          "y": 1.3978585849729117,
                          "z": 0.5
                        }
                      }
                    }
                  }
                },
                {
                  "layout": {
                    "scene": {
                      "camera": {
                        "eye": {
                          "x": 1.9065684711234803,
                          "y": 1.388343136590474,
                          "z": 0.5
                        }
                      }
                    }
                  }
                },
                {
                  "layout": {
                    "scene": {
                      "camera": {
                        "eye": {
                          "x": 1.9134863258264148,
                          "y": 1.3787929797019305,
                          "z": 0.5
                        }
                      }
                    }
                  }
                },
                {
                  "layout": {
                    "scene": {
                      "camera": {
                        "eye": {
                          "x": 1.920356343470864,
                          "y": 1.3692083530607069,
                          "z": 0.5
                        }
                      }
                    }
                  }
                },
                {
                  "layout": {
                    "scene": {
                      "camera": {
                        "eye": {
                          "x": 1.9271783523067452,
                          "y": 1.3595894962819695,
                          "z": 0.5
                        }
                      }
                    }
                  }
                },
                {
                  "layout": {
                    "scene": {
                      "camera": {
                        "eye": {
                          "x": 1.933952181784192,
                          "y": 1.349936649836637,
                          "z": 0.5
                        }
                      }
                    }
                  }
                },
                {
                  "layout": {
                    "scene": {
                      "camera": {
                        "eye": {
                          "x": 1.9406776625578213,
                          "y": 1.3402500550453675,
                          "z": 0.5
                        }
                      }
                    }
                  }
                },
                {
                  "layout": {
                    "scene": {
                      "camera": {
                        "eye": {
                          "x": 1.9473546264909631,
                          "y": 1.330529954072527,
                          "z": 0.5
                        }
                      }
                    }
                  }
                },
                {
                  "layout": {
                    "scene": {
                      "camera": {
                        "eye": {
                          "x": 1.9539829066598677,
                          "y": 1.3207765899201327,
                          "z": 0.5
                        }
                      }
                    }
                  }
                },
                {
                  "layout": {
                    "scene": {
                      "camera": {
                        "eye": {
                          "x": 1.9605623373578756,
                          "y": 1.310990206421781,
                          "z": 0.5
                        }
                      }
                    }
                  }
                },
                {
                  "layout": {
                    "scene": {
                      "camera": {
                        "eye": {
                          "x": 1.9670927540995617,
                          "y": 1.3011710482365497,
                          "z": 0.5
                        }
                      }
                    }
                  }
                },
                {
                  "layout": {
                    "scene": {
                      "camera": {
                        "eye": {
                          "x": 1.9735739936248484,
                          "y": 1.291319360842881,
                          "z": 0.5
                        }
                      }
                    }
                  }
                },
                {
                  "layout": {
                    "scene": {
                      "camera": {
                        "eye": {
                          "x": 1.9800058939030845,
                          "y": 1.281435390532448,
                          "z": 0.5
                        }
                      }
                    }
                  }
                },
                {
                  "layout": {
                    "scene": {
                      "camera": {
                        "eye": {
                          "x": 1.9863882941370983,
                          "y": 1.2715193844039927,
                          "z": 0.5
                        }
                      }
                    }
                  }
                },
                {
                  "layout": {
                    "scene": {
                      "camera": {
                        "eye": {
                          "x": 1.9927210347672162,
                          "y": 1.2615715903571525,
                          "z": 0.5
                        }
                      }
                    }
                  }
                },
                {
                  "layout": {
                    "scene": {
                      "camera": {
                        "eye": {
                          "x": 1.9990039574752527,
                          "y": 1.2515922570862599,
                          "z": 0.5
                        }
                      }
                    }
                  }
                },
                {
                  "layout": {
                    "scene": {
                      "camera": {
                        "eye": {
                          "x": 2.0052369051884664,
                          "y": 1.2415816340741275,
                          "z": 0.5
                        }
                      }
                    }
                  }
                },
                {
                  "layout": {
                    "scene": {
                      "camera": {
                        "eye": {
                          "x": 2.0114197220834904,
                          "y": 1.2315399715858084,
                          "z": 0.5
                        }
                      }
                    }
                  }
                },
                {
                  "layout": {
                    "scene": {
                      "camera": {
                        "eye": {
                          "x": 2.0175522535902233,
                          "y": 1.2214675206623427,
                          "z": 0.5
                        }
                      }
                    }
                  }
                },
                {
                  "layout": {
                    "scene": {
                      "camera": {
                        "eye": {
                          "x": 2.0236343463956974,
                          "y": 1.2113645331144782,
                          "z": 0.5
                        }
                      }
                    }
                  }
                },
                {
                  "layout": {
                    "scene": {
                      "camera": {
                        "eye": {
                          "x": 2.0296658484479093,
                          "y": 1.2012312615163783,
                          "z": 0.5
                        }
                      }
                    }
                  }
                },
                {
                  "layout": {
                    "scene": {
                      "camera": {
                        "eye": {
                          "x": 2.0356466089596212,
                          "y": 1.1910679591993036,
                          "z": 0.5
                        }
                      }
                    }
                  }
                },
                {
                  "layout": {
                    "scene": {
                      "camera": {
                        "eye": {
                          "x": 2.0415764784121326,
                          "y": 1.1808748802452846,
                          "z": 0.5
                        }
                      }
                    }
                  }
                },
                {
                  "layout": {
                    "scene": {
                      "camera": {
                        "eye": {
                          "x": 2.0474553085590155,
                          "y": 1.1706522794807626,
                          "z": 0.5
                        }
                      }
                    }
                  }
                },
                {
                  "layout": {
                    "scene": {
                      "camera": {
                        "eye": {
                          "x": 2.053282952429823,
                          "y": 1.1604004124702256,
                          "z": 0.5
                        }
                      }
                    }
                  }
                },
                {
                  "layout": {
                    "scene": {
                      "camera": {
                        "eye": {
                          "x": 2.059059264333761,
                          "y": 1.1501195355098137,
                          "z": 0.5
                        }
                      }
                    }
                  }
                },
                {
                  "layout": {
                    "scene": {
                      "camera": {
                        "eye": {
                          "x": 2.0647840998633336,
                          "y": 1.1398099056209168,
                          "z": 0.5
                        }
                      }
                    }
                  }
                },
                {
                  "layout": {
                    "scene": {
                      "camera": {
                        "eye": {
                          "x": 2.0704573158979502,
                          "y": 1.1294717805437438,
                          "z": 0.5
                        }
                      }
                    }
                  }
                },
                {
                  "layout": {
                    "scene": {
                      "camera": {
                        "eye": {
                          "x": 2.0760787706075057,
                          "y": 1.1191054187308842,
                          "z": 0.5
                        }
                      }
                    }
                  }
                },
                {
                  "layout": {
                    "scene": {
                      "camera": {
                        "eye": {
                          "x": 2.081648323455925,
                          "y": 1.1087110793408428,
                          "z": 0.5
                        }
                      }
                    }
                  }
                },
                {
                  "layout": {
                    "scene": {
                      "camera": {
                        "eye": {
                          "x": 2.0871658352046767,
                          "y": 1.0982890222315635,
                          "z": 0.5
                        }
                      }
                    }
                  }
                },
                {
                  "layout": {
                    "scene": {
                      "camera": {
                        "eye": {
                          "x": 2.0926311679162555,
                          "y": 1.0878395079539305,
                          "z": 0.5
                        }
                      }
                    }
                  }
                },
                {
                  "layout": {
                    "scene": {
                      "camera": {
                        "eye": {
                          "x": 2.098044184957627,
                          "y": 1.0773627977452573,
                          "z": 0.5
                        }
                      }
                    }
                  }
                },
                {
                  "layout": {
                    "scene": {
                      "camera": {
                        "eye": {
                          "x": 2.1034047510036475,
                          "y": 1.0668591535227525,
                          "z": 0.5
                        }
                      }
                    }
                  }
                },
                {
                  "layout": {
                    "scene": {
                      "camera": {
                        "eye": {
                          "x": 2.108712732040445,
                          "y": 1.0563288378769757,
                          "z": 0.5
                        }
                      }
                    }
                  }
                },
                {
                  "layout": {
                    "scene": {
                      "camera": {
                        "eye": {
                          "x": 2.1139679953687702,
                          "y": 1.0457721140652694,
                          "z": 0.5
                        }
                      }
                    }
                  }
                },
                {
                  "layout": {
                    "scene": {
                      "camera": {
                        "eye": {
                          "x": 2.1191704096073143,
                          "y": 1.0351892460051777,
                          "z": 0.5
                        }
                      }
                    }
                  }
                },
                {
                  "layout": {
                    "scene": {
                      "camera": {
                        "eye": {
                          "x": 2.1243198446959908,
                          "y": 1.0245804982678528,
                          "z": 0.5
                        }
                      }
                    }
                  }
                },
                {
                  "layout": {
                    "scene": {
                      "camera": {
                        "eye": {
                          "x": 2.129416171899192,
                          "y": 1.0139461360714341,
                          "z": 0.5
                        }
                      }
                    }
                  }
                },
                {
                  "layout": {
                    "scene": {
                      "camera": {
                        "eye": {
                          "x": 2.1344592638090023,
                          "y": 1.0032864252744236,
                          "z": 0.5
                        }
                      }
                    }
                  }
                },
                {
                  "layout": {
                    "scene": {
                      "camera": {
                        "eye": {
                          "x": 2.1394489943483874,
                          "y": 0.9926016323690354,
                          "z": 0.5
                        }
                      }
                    }
                  }
                },
                {
                  "layout": {
                    "scene": {
                      "camera": {
                        "eye": {
                          "x": 2.144385238774343,
                          "y": 0.9818920244745365,
                          "z": 0.5
                        }
                      }
                    }
                  }
                },
                {
                  "layout": {
                    "scene": {
                      "camera": {
                        "eye": {
                          "x": 2.149267873681016,
                          "y": 0.9711578693305654,
                          "z": 0.5
                        }
                      }
                    }
                  }
                },
                {
                  "layout": {
                    "scene": {
                      "camera": {
                        "eye": {
                          "x": 2.154096777002788,
                          "y": 0.9603994352904424,
                          "z": 0.5
                        }
                      }
                    }
                  }
                },
                {
                  "layout": {
                    "scene": {
                      "camera": {
                        "eye": {
                          "x": 2.1588718280173276,
                          "y": 0.9496169913144576,
                          "z": 0.5
                        }
                      }
                    }
                  }
                },
                {
                  "layout": {
                    "scene": {
                      "camera": {
                        "eye": {
                          "x": 2.1635929073486073,
                          "y": 0.9388108069631496,
                          "z": 0.5
                        }
                      }
                    }
                  }
                },
                {
                  "layout": {
                    "scene": {
                      "camera": {
                        "eye": {
                          "x": 2.168259896969891,
                          "y": 0.9279811523905632,
                          "z": 0.5
                        }
                      }
                    }
                  }
                },
                {
                  "layout": {
                    "scene": {
                      "camera": {
                        "eye": {
                          "x": 2.1728726802066802,
                          "y": 0.9171282983375001,
                          "z": 0.5
                        }
                      }
                    }
                  }
                },
                {
                  "layout": {
                    "scene": {
                      "camera": {
                        "eye": {
                          "x": 2.1774311417396346,
                          "y": 0.906252516124745,
                          "z": 0.5
                        }
                      }
                    }
                  }
                },
                {
                  "layout": {
                    "scene": {
                      "camera": {
                        "eye": {
                          "x": 2.1819351676074534,
                          "y": 0.8953540776462879,
                          "z": 0.5
                        }
                      }
                    }
                  }
                },
                {
                  "layout": {
                    "scene": {
                      "camera": {
                        "eye": {
                          "x": 2.186384645209724,
                          "y": 0.8844332553625222,
                          "z": 0.5
                        }
                      }
                    }
                  }
                },
                {
                  "layout": {
                    "scene": {
                      "camera": {
                        "eye": {
                          "x": 2.190779463309739,
                          "y": 0.873490322293437,
                          "z": 0.5
                        }
                      }
                    }
                  }
                },
                {
                  "layout": {
                    "scene": {
                      "camera": {
                        "eye": {
                          "x": 2.195119512037274,
                          "y": 0.8625255520117883,
                          "z": 0.5
                        }
                      }
                    }
                  }
                },
                {
                  "layout": {
                    "scene": {
                      "camera": {
                        "eye": {
                          "x": 2.199404682891337,
                          "y": 0.8515392186362629,
                          "z": 0.5
                        }
                      }
                    }
                  }
                },
                {
                  "layout": {
                    "scene": {
                      "camera": {
                        "eye": {
                          "x": 2.2036348687428804,
                          "y": 0.8405315968246221,
                          "z": 0.5
                        }
                      }
                    }
                  }
                },
                {
                  "layout": {
                    "scene": {
                      "camera": {
                        "eye": {
                          "x": 2.207809963837477,
                          "y": 0.8295029617668388,
                          "z": 0.5
                        }
                      }
                    }
                  }
                },
                {
                  "layout": {
                    "scene": {
                      "camera": {
                        "eye": {
                          "x": 2.2119298637979687,
                          "y": 0.8184535891782141,
                          "z": 0.5
                        }
                      }
                    }
                  }
                },
                {
                  "layout": {
                    "scene": {
                      "camera": {
                        "eye": {
                          "x": 2.215994465627069,
                          "y": 0.8073837552924883,
                          "z": 0.5
                        }
                      }
                    }
                  }
                },
                {
                  "layout": {
                    "scene": {
                      "camera": {
                        "eye": {
                          "x": 2.2200036677099457,
                          "y": 0.7962937368549308,
                          "z": 0.5
                        }
                      }
                    }
                  }
                },
                {
                  "layout": {
                    "scene": {
                      "camera": {
                        "eye": {
                          "x": 2.223957369816754,
                          "y": 0.7851838111154261,
                          "z": 0.5
                        }
                      }
                    }
                  }
                },
                {
                  "layout": {
                    "scene": {
                      "camera": {
                        "eye": {
                          "x": 2.2278554731051488,
                          "y": 0.7740542558215384,
                          "z": 0.5
                        }
                      }
                    }
                  }
                },
                {
                  "layout": {
                    "scene": {
                      "camera": {
                        "eye": {
                          "x": 2.2316978801227494,
                          "y": 0.7629053492115697,
                          "z": 0.5
                        }
                      }
                    }
                  }
                },
                {
                  "layout": {
                    "scene": {
                      "camera": {
                        "eye": {
                          "x": 2.235484494809581,
                          "y": 0.7517373700076062,
                          "z": 0.5
                        }
                      }
                    }
                  }
                },
                {
                  "layout": {
                    "scene": {
                      "camera": {
                        "eye": {
                          "x": 2.239215222500474,
                          "y": 0.7405505974085447,
                          "z": 0.5
                        }
                      }
                    }
                  }
                },
                {
                  "layout": {
                    "scene": {
                      "camera": {
                        "eye": {
                          "x": 2.2428899699274303,
                          "y": 0.729345311083119,
                          "z": 0.5
                        }
                      }
                    }
                  }
                },
                {
                  "layout": {
                    "scene": {
                      "camera": {
                        "eye": {
                          "x": 2.2465086452219554,
                          "y": 0.7181217911629023,
                          "z": 0.5
                        }
                      }
                    }
                  }
                },
                {
                  "layout": {
                    "scene": {
                      "camera": {
                        "eye": {
                          "x": 2.2500711579173553,
                          "y": 0.7068803182353094,
                          "z": 0.5
                        }
                      }
                    }
                  }
                },
                {
                  "layout": {
                    "scene": {
                      "camera": {
                        "eye": {
                          "x": 2.2535774189509983,
                          "y": 0.6956211733365764,
                          "z": 0.5
                        }
                      }
                    }
                  }
                },
                {
                  "layout": {
                    "scene": {
                      "camera": {
                        "eye": {
                          "x": 2.257027340666542,
                          "y": 0.6843446379447412,
                          "z": 0.5
                        }
                      }
                    }
                  }
                },
                {
                  "layout": {
                    "scene": {
                      "camera": {
                        "eye": {
                          "x": 2.2604208368161216,
                          "y": 0.6730509939725993,
                          "z": 0.5
                        }
                      }
                    }
                  }
                },
                {
                  "layout": {
                    "scene": {
                      "camera": {
                        "eye": {
                          "x": 2.2637578225625115,
                          "y": 0.6617405237606636,
                          "z": 0.5
                        }
                      }
                    }
                  }
                },
                {
                  "layout": {
                    "scene": {
                      "camera": {
                        "eye": {
                          "x": 2.267038214481241,
                          "y": 0.650413510070099,
                          "z": 0.5
                        }
                      }
                    }
                  }
                },
                {
                  "layout": {
                    "scene": {
                      "camera": {
                        "eye": {
                          "x": 2.2702619305626834,
                          "y": 0.6390702360756587,
                          "z": 0.5
                        }
                      }
                    }
                  }
                },
                {
                  "layout": {
                    "scene": {
                      "camera": {
                        "eye": {
                          "x": 2.273428890214104,
                          "y": 0.627710985358601,
                          "z": 0.5
                        }
                      }
                    }
                  }
                },
                {
                  "layout": {
                    "scene": {
                      "camera": {
                        "eye": {
                          "x": 2.2765390142616777,
                          "y": 0.6163360418996031,
                          "z": 0.5
                        }
                      }
                    }
                  }
                },
                {
                  "layout": {
                    "scene": {
                      "camera": {
                        "eye": {
                          "x": 2.2795922249524643,
                          "y": 0.6049456900716578,
                          "z": 0.5
                        }
                      }
                    }
                  }
                },
                {
                  "layout": {
                    "scene": {
                      "camera": {
                        "eye": {
                          "x": 2.2825884459563555,
                          "y": 0.593540214632969,
                          "z": 0.5
                        }
                      }
                    }
                  }
                },
                {
                  "layout": {
                    "scene": {
                      "camera": {
                        "eye": {
                          "x": 2.2855276023679822,
                          "y": 0.5821199007198272,
                          "z": 0.5
                        }
                      }
                    }
                  }
                },
                {
                  "layout": {
                    "scene": {
                      "camera": {
                        "eye": {
                          "x": 2.288409620708588,
                          "y": 0.5706850338394868,
                          "z": 0.5
                        }
                      }
                    }
                  }
                },
                {
                  "layout": {
                    "scene": {
                      "camera": {
                        "eye": {
                          "x": 2.291234428927864,
                          "y": 0.5592358998630231,
                          "z": 0.5
                        }
                      }
                    }
                  }
                },
                {
                  "layout": {
                    "scene": {
                      "camera": {
                        "eye": {
                          "x": 2.2940019564057517,
                          "y": 0.5477727850181902,
                          "z": 0.5
                        }
                      }
                    }
                  }
                },
                {
                  "layout": {
                    "scene": {
                      "camera": {
                        "eye": {
                          "x": 2.2967121339542085,
                          "y": 0.536295975882261,
                          "z": 0.5
                        }
                      }
                    }
                  }
                },
                {
                  "layout": {
                    "scene": {
                      "camera": {
                        "eye": {
                          "x": 2.2993648938189364,
                          "y": 0.5248057593748673,
                          "z": 0.5
                        }
                      }
                    }
                  }
                },
                {
                  "layout": {
                    "scene": {
                      "camera": {
                        "eye": {
                          "x": 2.301960169681078,
                          "y": 0.5133024227508223,
                          "z": 0.5
                        }
                      }
                    }
                  }
                },
                {
                  "layout": {
                    "scene": {
                      "camera": {
                        "eye": {
                          "x": 2.3044978966588703,
                          "y": 0.5017862535929436,
                          "z": 0.5
                        }
                      }
                    }
                  }
                },
                {
                  "layout": {
                    "scene": {
                      "camera": {
                        "eye": {
                          "x": 2.3069780113092726,
                          "y": 0.49025753980485975,
                          "z": 0.5
                        }
                      }
                    }
                  }
                },
                {
                  "layout": {
                    "scene": {
                      "camera": {
                        "eye": {
                          "x": 2.309400451629547,
                          "y": 0.4787165696038147,
                          "z": 0.5
                        }
                      }
                    }
                  }
                },
                {
                  "layout": {
                    "scene": {
                      "camera": {
                        "eye": {
                          "x": 2.311765157058812,
                          "y": 0.46716363151346296,
                          "z": 0.5
                        }
                      }
                    }
                  }
                },
                {
                  "layout": {
                    "scene": {
                      "camera": {
                        "eye": {
                          "x": 2.314072068479555,
                          "y": 0.4555990143566542,
                          "z": 0.5
                        }
                      }
                    }
                  }
                },
                {
                  "layout": {
                    "scene": {
                      "camera": {
                        "eye": {
                          "x": 2.31632112821911,
                          "y": 0.4440230072482163,
                          "z": 0.5
                        }
                      }
                    }
                  }
                },
                {
                  "layout": {
                    "scene": {
                      "camera": {
                        "eye": {
                          "x": 2.3185122800511015,
                          "y": 0.4324358995877229,
                          "z": 0.5
                        }
                      }
                    }
                  }
                },
                {
                  "layout": {
                    "scene": {
                      "camera": {
                        "eye": {
                          "x": 2.3206454691968474,
                          "y": 0.4208379810522629,
                          "z": 0.5
                        }
                      }
                    }
                  }
                },
                {
                  "layout": {
                    "scene": {
                      "camera": {
                        "eye": {
                          "x": 2.32272064232673,
                          "y": 0.40922954158919467,
                          "z": 0.5
                        }
                      }
                    }
                  }
                },
                {
                  "layout": {
                    "scene": {
                      "camera": {
                        "eye": {
                          "x": 2.32473774756153,
                          "y": 0.3976108714089014,
                          "z": 0.5
                        }
                      }
                    }
                  }
                },
                {
                  "layout": {
                    "scene": {
                      "camera": {
                        "eye": {
                          "x": 2.32669673447372,
                          "y": 0.3859822609775312,
                          "z": 0.5
                        }
                      }
                    }
                  }
                },
                {
                  "layout": {
                    "scene": {
                      "camera": {
                        "eye": {
                          "x": 2.3285975540887307,
                          "y": 0.3743440010097404,
                          "z": 0.5
                        }
                      }
                    }
                  }
                },
                {
                  "layout": {
                    "scene": {
                      "camera": {
                        "eye": {
                          "x": 2.3304401588861703,
                          "y": 0.36269638246142066,
                          "z": 0.5
                        }
                      }
                    }
                  }
                },
                {
                  "layout": {
                    "scene": {
                      "camera": {
                        "eye": {
                          "x": 2.3322245028010147,
                          "y": 0.3510396965224304,
                          "z": 0.5
                        }
                      }
                    }
                  }
                },
                {
                  "layout": {
                    "scene": {
                      "camera": {
                        "eye": {
                          "x": 2.333950541224759,
                          "y": 0.33937423460930993,
                          "z": 0.5
                        }
                      }
                    }
                  }
                },
                {
                  "layout": {
                    "scene": {
                      "camera": {
                        "eye": {
                          "x": 2.3356182310065323,
                          "y": 0.3277002883580006,
                          "z": 0.5
                        }
                      }
                    }
                  }
                },
                {
                  "layout": {
                    "scene": {
                      "camera": {
                        "eye": {
                          "x": 2.3372275304541774,
                          "y": 0.31601814961654917,
                          "z": 0.5
                        }
                      }
                    }
                  }
                },
                {
                  "layout": {
                    "scene": {
                      "camera": {
                        "eye": {
                          "x": 2.3387783993352915,
                          "y": 0.3043281104378174,
                          "z": 0.5
                        }
                      }
                    }
                  }
                },
                {
                  "layout": {
                    "scene": {
                      "camera": {
                        "eye": {
                          "x": 2.340270798878233,
                          "y": 0.2926304630721748,
                          "z": 0.5
                        }
                      }
                    }
                  }
                },
                {
                  "layout": {
                    "scene": {
                      "camera": {
                        "eye": {
                          "x": 2.3417046917730926,
                          "y": 0.280925499960196,
                          "z": 0.5
                        }
                      }
                    }
                  }
                },
                {
                  "layout": {
                    "scene": {
                      "camera": {
                        "eye": {
                          "x": 2.343080042172621,
                          "y": 0.2692135137253503,
                          "z": 0.5
                        }
                      }
                    }
                  }
                },
                {
                  "layout": {
                    "scene": {
                      "camera": {
                        "eye": {
                          "x": 2.34439681569313,
                          "y": 0.2574947971666831,
                          "z": 0.5
                        }
                      }
                    }
                  }
                },
                {
                  "layout": {
                    "scene": {
                      "camera": {
                        "eye": {
                          "x": 2.345654979415351,
                          "y": 0.24576964325149808,
                          "z": 0.5
                        }
                      }
                    }
                  }
                },
                {
                  "layout": {
                    "scene": {
                      "camera": {
                        "eye": {
                          "x": 2.3468545018852565,
                          "y": 0.234038345108031,
                          "z": 0.5
                        }
                      }
                    }
                  }
                },
                {
                  "layout": {
                    "scene": {
                      "camera": {
                        "eye": {
                          "x": 2.347995353114846,
                          "y": 0.22230119601812703,
                          "z": 0.5
                        }
                      }
                    }
                  }
                },
                {
                  "layout": {
                    "scene": {
                      "camera": {
                        "eye": {
                          "x": 2.3490775045828993,
                          "y": 0.21055848940990063,
                          "z": 0.5
                        }
                      }
                    }
                  }
                },
                {
                  "layout": {
                    "scene": {
                      "camera": {
                        "eye": {
                          "x": 2.3501009292356856,
                          "y": 0.19881051885040557,
                          "z": 0.5
                        }
                      }
                    }
                  }
                },
                {
                  "layout": {
                    "scene": {
                      "camera": {
                        "eye": {
                          "x": 2.351065601487642,
                          "y": 0.18705757803829381,
                          "z": 0.5
                        }
                      }
                    }
                  }
                },
                {
                  "layout": {
                    "scene": {
                      "camera": {
                        "eye": {
                          "x": 2.3519714972220127,
                          "y": 0.1752999607964728,
                          "z": 0.5
                        }
                      }
                    }
                  }
                },
                {
                  "layout": {
                    "scene": {
                      "camera": {
                        "eye": {
                          "x": 2.3528185937914508,
                          "y": 0.16353796106476315,
                          "z": 0.5
                        }
                      }
                    }
                  }
                },
                {
                  "layout": {
                    "scene": {
                      "camera": {
                        "eye": {
                          "x": 2.353606870018587,
                          "y": 0.15177187289254435,
                          "z": 0.5
                        }
                      }
                    }
                  }
                },
                {
                  "layout": {
                    "scene": {
                      "camera": {
                        "eye": {
                          "x": 2.354336306196556,
                          "y": 0.14000199043140815,
                          "z": 0.5
                        }
                      }
                    }
                  }
                },
                {
                  "layout": {
                    "scene": {
                      "camera": {
                        "eye": {
                          "x": 2.3550068840894918,
                          "y": 0.12822860792780166,
                          "z": 0.5
                        }
                      }
                    }
                  }
                },
                {
                  "layout": {
                    "scene": {
                      "camera": {
                        "eye": {
                          "x": 2.355618586932982,
                          "y": 0.11645201971567687,
                          "z": 0.5
                        }
                      }
                    }
                  }
                },
                {
                  "layout": {
                    "scene": {
                      "camera": {
                        "eye": {
                          "x": 2.356171399434487,
                          "y": 0.10467252020912421,
                          "z": 0.5
                        }
                      }
                    }
                  }
                },
                {
                  "layout": {
                    "scene": {
                      "camera": {
                        "eye": {
                          "x": 2.356665307773724,
                          "y": 0.09289040389501801,
                          "z": 0.5
                        }
                      }
                    }
                  }
                },
                {
                  "layout": {
                    "scene": {
                      "camera": {
                        "eye": {
                          "x": 2.357100299603009,
                          "y": 0.08110596532565162,
                          "z": 0.5
                        }
                      }
                    }
                  }
                },
                {
                  "layout": {
                    "scene": {
                      "camera": {
                        "eye": {
                          "x": 2.357476364047569,
                          "y": 0.06931949911137703,
                          "z": 0.5
                        }
                      }
                    }
                  }
                },
                {
                  "layout": {
                    "scene": {
                      "camera": {
                        "eye": {
                          "x": 2.357793491705814,
                          "y": 0.057531299913235356,
                          "z": 0.5
                        }
                      }
                    }
                  }
                },
                {
                  "layout": {
                    "scene": {
                      "camera": {
                        "eye": {
                          "x": 2.358051674649567,
                          "y": 0.04574166243559219,
                          "z": 0.5
                        }
                      }
                    }
                  }
                },
                {
                  "layout": {
                    "scene": {
                      "camera": {
                        "eye": {
                          "x": 2.35825090642427,
                          "y": 0.03395088141876923,
                          "z": 0.5
                        }
                      }
                    }
                  }
                },
                {
                  "layout": {
                    "scene": {
                      "camera": {
                        "eye": {
                          "x": 2.3583911820491363,
                          "y": 0.022159251631680643,
                          "z": 0.5
                        }
                      }
                    }
                  }
                },
                {
                  "layout": {
                    "scene": {
                      "camera": {
                        "eye": {
                          "x": 2.358472498017285,
                          "y": 0.01036706786445496,
                          "z": 0.5
                        }
                      }
                    }
                  }
                },
                {
                  "layout": {
                    "scene": {
                      "camera": {
                        "eye": {
                          "x": 2.358494852295821,
                          "y": -0.0014253750789272601,
                          "z": 0.5
                        }
                      }
                    }
                  }
                },
                {
                  "layout": {
                    "scene": {
                      "camera": {
                        "eye": {
                          "x": 2.3584582443258864,
                          "y": -0.013217782388007748,
                          "z": 0.5
                        }
                      }
                    }
                  }
                },
                {
                  "layout": {
                    "scene": {
                      "camera": {
                        "eye": {
                          "x": 2.358362675022681,
                          "y": -0.02500985925321597,
                          "z": 0.5
                        }
                      }
                    }
                  }
                },
                {
                  "layout": {
                    "scene": {
                      "camera": {
                        "eye": {
                          "x": 2.358208146775431,
                          "y": -0.03680131087324545,
                          "z": 0.5
                        }
                      }
                    }
                  }
                },
                {
                  "layout": {
                    "scene": {
                      "camera": {
                        "eye": {
                          "x": 2.357994663447334,
                          "y": -0.048591842462419876,
                          "z": 0.5
                        }
                      }
                    }
                  }
                },
                {
                  "layout": {
                    "scene": {
                      "camera": {
                        "eye": {
                          "x": 2.3577222303754644,
                          "y": -0.06038115925806453,
                          "z": 0.5
                        }
                      }
                    }
                  }
                },
                {
                  "layout": {
                    "scene": {
                      "camera": {
                        "eye": {
                          "x": 2.357390854370632,
                          "y": -0.07216896652787153,
                          "z": 0.5
                        }
                      }
                    }
                  }
                },
                {
                  "layout": {
                    "scene": {
                      "camera": {
                        "eye": {
                          "x": 2.3570005437172217,
                          "y": -0.08395496957727411,
                          "z": 0.5
                        }
                      }
                    }
                  }
                },
                {
                  "layout": {
                    "scene": {
                      "camera": {
                        "eye": {
                          "x": 2.356551308172979,
                          "y": -0.0957388737568099,
                          "z": 0.5
                        }
                      }
                    }
                  }
                },
                {
                  "layout": {
                    "scene": {
                      "camera": {
                        "eye": {
                          "x": 2.3560431589687685,
                          "y": -0.1075203844694892,
                          "z": 0.5
                        }
                      }
                    }
                  }
                },
                {
                  "layout": {
                    "scene": {
                      "camera": {
                        "eye": {
                          "x": 2.3554761088082943,
                          "y": -0.11929920717815623,
                          "z": 0.5
                        }
                      }
                    }
                  }
                },
                {
                  "layout": {
                    "scene": {
                      "camera": {
                        "eye": {
                          "x": 2.354850171867781,
                          "y": -0.13107504741285658,
                          "z": 0.5
                        }
                      }
                    }
                  }
                },
                {
                  "layout": {
                    "scene": {
                      "camera": {
                        "eye": {
                          "x": 2.3541653637956195,
                          "y": -0.14284761077819863,
                          "z": 0.5
                        }
                      }
                    }
                  }
                },
                {
                  "layout": {
                    "scene": {
                      "camera": {
                        "eye": {
                          "x": 2.3534217017119756,
                          "y": -0.15461660296071145,
                          "z": 0.5
                        }
                      }
                    }
                  }
                },
                {
                  "layout": {
                    "scene": {
                      "camera": {
                        "eye": {
                          "x": 2.3526192042083625,
                          "y": -0.16638172973620402,
                          "z": 0.5
                        }
                      }
                    }
                  }
                },
                {
                  "layout": {
                    "scene": {
                      "camera": {
                        "eye": {
                          "x": 2.3517578913471766,
                          "y": -0.17814269697711804,
                          "z": 0.5
                        }
                      }
                    }
                  }
                },
                {
                  "layout": {
                    "scene": {
                      "camera": {
                        "eye": {
                          "x": 2.350837784661194,
                          "y": -0.18989921065988558,
                          "z": 0.5
                        }
                      }
                    }
                  }
                },
                {
                  "layout": {
                    "scene": {
                      "camera": {
                        "eye": {
                          "x": 2.349858907153035,
                          "y": -0.2016509768722775,
                          "z": 0.5
                        }
                      }
                    }
                  }
                },
                {
                  "layout": {
                    "scene": {
                      "camera": {
                        "eye": {
                          "x": 2.348821283294585,
                          "y": -0.21339770182075113,
                          "z": 0.5
                        }
                      }
                    }
                  }
                },
                {
                  "layout": {
                    "scene": {
                      "camera": {
                        "eye": {
                          "x": 2.3477249390263872,
                          "y": -0.2251390918377928,
                          "z": 0.5
                        }
                      }
                    }
                  }
                },
                {
                  "layout": {
                    "scene": {
                      "camera": {
                        "eye": {
                          "x": 2.346569901756991,
                          "y": -0.23687485338926428,
                          "z": 0.5
                        }
                      }
                    }
                  }
                },
                {
                  "layout": {
                    "scene": {
                      "camera": {
                        "eye": {
                          "x": 2.345356200362268,
                          "y": -0.24860469308173838,
                          "z": 0.5
                        }
                      }
                    }
                  }
                },
                {
                  "layout": {
                    "scene": {
                      "camera": {
                        "eye": {
                          "x": 2.3440838651846896,
                          "y": -0.2603283176698348,
                          "z": 0.5
                        }
                      }
                    }
                  }
                },
                {
                  "layout": {
                    "scene": {
                      "camera": {
                        "eye": {
                          "x": 2.342752928032569,
                          "y": -0.27204543406354686,
                          "z": 0.5
                        }
                      }
                    }
                  }
                },
                {
                  "layout": {
                    "scene": {
                      "camera": {
                        "eye": {
                          "x": 2.341363422179266,
                          "y": -0.2837557493355768,
                          "z": 0.5
                        }
                      }
                    }
                  }
                },
                {
                  "layout": {
                    "scene": {
                      "camera": {
                        "eye": {
                          "x": 2.3399153823623546,
                          "y": -0.2954589707286518,
                          "z": 0.5
                        }
                      }
                    }
                  }
                },
                {
                  "layout": {
                    "scene": {
                      "camera": {
                        "eye": {
                          "x": 2.338408844782755,
                          "y": -0.30715480566284836,
                          "z": 0.5
                        }
                      }
                    }
                  }
                },
                {
                  "layout": {
                    "scene": {
                      "camera": {
                        "eye": {
                          "x": 2.336843847103827,
                          "y": -0.31884296174289994,
                          "z": 0.5
                        }
                      }
                    }
                  }
                },
                {
                  "layout": {
                    "scene": {
                      "camera": {
                        "eye": {
                          "x": 2.3352204284504325,
                          "y": -0.3305231467655143,
                          "z": 0.5
                        }
                      }
                    }
                  }
                },
                {
                  "layout": {
                    "scene": {
                      "camera": {
                        "eye": {
                          "x": 2.3335386294079528,
                          "y": -0.34219506872667393,
                          "z": 0.5
                        }
                      }
                    }
                  }
                },
                {
                  "layout": {
                    "scene": {
                      "camera": {
                        "eye": {
                          "x": 2.3317984920212758,
                          "y": -0.3538584358289394,
                          "z": 0.5
                        }
                      }
                    }
                  }
                },
                {
                  "layout": {
                    "scene": {
                      "camera": {
                        "eye": {
                          "x": 2.3300000597937465,
                          "y": -0.36551295648873827,
                          "z": 0.5
                        }
                      }
                    }
                  }
                },
                {
                  "layout": {
                    "scene": {
                      "camera": {
                        "eye": {
                          "x": 2.328143377686076,
                          "y": -0.37715833934366205,
                          "z": 0.5
                        }
                      }
                    }
                  }
                },
                {
                  "layout": {
                    "scene": {
                      "camera": {
                        "eye": {
                          "x": 2.326228492115221,
                          "y": -0.3887942932597459,
                          "z": 0.5
                        }
                      }
                    }
                  }
                },
                {
                  "layout": {
                    "scene": {
                      "camera": {
                        "eye": {
                          "x": 2.3242554509532205,
                          "y": -0.4004205273387489,
                          "z": 0.5
                        }
                      }
                    }
                  }
                },
                {
                  "layout": {
                    "scene": {
                      "camera": {
                        "eye": {
                          "x": 2.322224303526001,
                          "y": -0.4120367509254226,
                          "z": 0.5
                        }
                      }
                    }
                  }
                },
                {
                  "layout": {
                    "scene": {
                      "camera": {
                        "eye": {
                          "x": 2.3201351006121427,
                          "y": -0.42364267361478336,
                          "z": 0.5
                        }
                      }
                    }
                  }
                },
                {
                  "layout": {
                    "scene": {
                      "camera": {
                        "eye": {
                          "x": 2.3179878944416092,
                          "y": -0.4352380052593683,
                          "z": 0.5
                        }
                      }
                    }
                  }
                },
                {
                  "layout": {
                    "scene": {
                      "camera": {
                        "eye": {
                          "x": 2.3157827386944434,
                          "y": -0.44682245597649073,
                          "z": 0.5
                        }
                      }
                    }
                  }
                },
                {
                  "layout": {
                    "scene": {
                      "camera": {
                        "eye": {
                          "x": 2.3135196884994236,
                          "y": -0.45839573615548646,
                          "z": 0.5
                        }
                      }
                    }
                  }
                },
                {
                  "layout": {
                    "scene": {
                      "camera": {
                        "eye": {
                          "x": 2.3111988004326873,
                          "y": -0.4699575564649523,
                          "z": 0.5
                        }
                      }
                    }
                  }
                },
                {
                  "layout": {
                    "scene": {
                      "camera": {
                        "eye": {
                          "x": 2.3088201325163142,
                          "y": -0.48150762785998336,
                          "z": 0.5
                        }
                      }
                    }
                  }
                },
                {
                  "layout": {
                    "scene": {
                      "camera": {
                        "eye": {
                          "x": 2.30638374421688,
                          "y": -0.4930456615893961,
                          "z": 0.5
                        }
                      }
                    }
                  }
                },
                {
                  "layout": {
                    "scene": {
                      "camera": {
                        "eye": {
                          "x": 2.303889696443964,
                          "y": -0.5045713692029501,
                          "z": 0.5
                        }
                      }
                    }
                  }
                },
                {
                  "layout": {
                    "scene": {
                      "camera": {
                        "eye": {
                          "x": 2.301338051548631,
                          "y": -0.5160844625585523,
                          "z": 0.5
                        }
                      }
                    }
                  }
                },
                {
                  "layout": {
                    "scene": {
                      "camera": {
                        "eye": {
                          "x": 2.298728873321871,
                          "y": -0.5275846538294701,
                          "z": 0.5
                        }
                      }
                    }
                  }
                },
                {
                  "layout": {
                    "scene": {
                      "camera": {
                        "eye": {
                          "x": 2.296062226993003,
                          "y": -0.5390716555115206,
                          "z": 0.5
                        }
                      }
                    }
                  }
                },
                {
                  "layout": {
                    "scene": {
                      "camera": {
                        "eye": {
                          "x": 2.2933381792280465,
                          "y": -0.5505451804302611,
                          "z": 0.5
                        }
                      }
                    }
                  }
                },
                {
                  "layout": {
                    "scene": {
                      "camera": {
                        "eye": {
                          "x": 2.290556798128054,
                          "y": -0.5620049417481635,
                          "z": 0.5
                        }
                      }
                    }
                  }
                },
                {
                  "layout": {
                    "scene": {
                      "camera": {
                        "eye": {
                          "x": 2.2877181532274085,
                          "y": -0.5734506529717938,
                          "z": 0.5
                        }
                      }
                    }
                  }
                },
                {
                  "layout": {
                    "scene": {
                      "camera": {
                        "eye": {
                          "x": 2.2848223154920833,
                          "y": -0.5848820279589666,
                          "z": 0.5
                        }
                      }
                    }
                  }
                },
                {
                  "layout": {
                    "scene": {
                      "camera": {
                        "eye": {
                          "x": 2.2818693573178725,
                          "y": -0.5962987809259043,
                          "z": 0.5
                        }
                      }
                    }
                  }
                },
                {
                  "layout": {
                    "scene": {
                      "camera": {
                        "eye": {
                          "x": 2.278859352528576,
                          "y": -0.6077006264543747,
                          "z": 0.5
                        }
                      }
                    }
                  }
                },
                {
                  "layout": {
                    "scene": {
                      "camera": {
                        "eye": {
                          "x": 2.2757923763741568,
                          "y": -0.6190872794988351,
                          "z": 0.5
                        }
                      }
                    }
                  }
                },
                {
                  "layout": {
                    "scene": {
                      "camera": {
                        "eye": {
                          "x": 2.2726685055288587,
                          "y": -0.6304584553935522,
                          "z": 0.5
                        }
                      }
                    }
                  }
                },
                {
                  "layout": {
                    "scene": {
                      "camera": {
                        "eye": {
                          "x": 2.2694878180892903,
                          "y": -0.6418138698597216,
                          "z": 0.5
                        }
                      }
                    }
                  }
                },
                {
                  "layout": {
                    "scene": {
                      "camera": {
                        "eye": {
                          "x": 2.2662503935724727,
                          "y": -0.6531532390125714,
                          "z": 0.5
                        }
                      }
                    }
                  }
                },
                {
                  "layout": {
                    "scene": {
                      "camera": {
                        "eye": {
                          "x": 2.262956312913849,
                          "y": -0.6644762793684641,
                          "z": 0.5
                        }
                      }
                    }
                  }
                },
                {
                  "layout": {
                    "scene": {
                      "camera": {
                        "eye": {
                          "x": 2.259605658465265,
                          "y": -0.6757827078519809,
                          "z": 0.5
                        }
                      }
                    }
                  }
                },
                {
                  "layout": {
                    "scene": {
                      "camera": {
                        "eye": {
                          "x": 2.256198513992907,
                          "y": -0.6870722418029991,
                          "z": 0.5
                        }
                      }
                    }
                  }
                },
                {
                  "layout": {
                    "scene": {
                      "camera": {
                        "eye": {
                          "x": 2.2527349646752093,
                          "y": -0.6983445989837566,
                          "z": 0.5
                        }
                      }
                    }
                  }
                },
                {
                  "layout": {
                    "scene": {
                      "camera": {
                        "eye": {
                          "x": 2.2492150971007248,
                          "y": -0.7095994975859113,
                          "z": 0.5
                        }
                      }
                    }
                  }
                },
                {
                  "layout": {
                    "scene": {
                      "camera": {
                        "eye": {
                          "x": 2.2456389992659593,
                          "y": -0.7208366562375847,
                          "z": 0.5
                        }
                      }
                    }
                  }
                },
                {
                  "layout": {
                    "scene": {
                      "camera": {
                        "eye": {
                          "x": 2.242006760573172,
                          "y": -0.7320557940103957,
                          "z": 0.5
                        }
                      }
                    }
                  }
                },
                {
                  "layout": {
                    "scene": {
                      "camera": {
                        "eye": {
                          "x": 2.2383184718281415,
                          "y": -0.7432566304264853,
                          "z": 0.5
                        }
                      }
                    }
                  }
                },
                {
                  "layout": {
                    "scene": {
                      "camera": {
                        "eye": {
                          "x": 2.234574225237895,
                          "y": -0.7544388854655245,
                          "z": 0.5
                        }
                      }
                    }
                  }
                },
                {
                  "layout": {
                    "scene": {
                      "camera": {
                        "eye": {
                          "x": 2.230774114408401,
                          "y": -0.7656022795717208,
                          "z": 0.5
                        }
                      }
                    }
                  }
                },
                {
                  "layout": {
                    "scene": {
                      "camera": {
                        "eye": {
                          "x": 2.2269182343422327,
                          "y": -0.776746533660803,
                          "z": 0.5
                        }
                      }
                    }
                  }
                },
                {
                  "layout": {
                    "scene": {
                      "camera": {
                        "eye": {
                          "x": 2.223006681436191,
                          "y": -0.7878713691269998,
                          "z": 0.5
                        }
                      }
                    }
                  }
                },
                {
                  "layout": {
                    "scene": {
                      "camera": {
                        "eye": {
                          "x": 2.219039553478895,
                          "y": -0.7989765078500028,
                          "z": 0.5
                        }
                      }
                    }
                  }
                },
                {
                  "layout": {
                    "scene": {
                      "camera": {
                        "eye": {
                          "x": 2.215016949648337,
                          "y": -0.8100616722019226,
                          "z": 0.5
                        }
                      }
                    }
                  }
                },
                {
                  "layout": {
                    "scene": {
                      "camera": {
                        "eye": {
                          "x": 2.2109389705094036,
                          "y": -0.8211265850542282,
                          "z": 0.5
                        }
                      }
                    }
                  }
                },
                {
                  "layout": {
                    "scene": {
                      "camera": {
                        "eye": {
                          "x": 2.20680571801136,
                          "y": -0.8321709697846753,
                          "z": 0.5
                        }
                      }
                    }
                  }
                },
                {
                  "layout": {
                    "scene": {
                      "camera": {
                        "eye": {
                          "x": 2.202617295485304,
                          "y": -0.843194550284219,
                          "z": 0.5
                        }
                      }
                    }
                  }
                },
                {
                  "layout": {
                    "scene": {
                      "camera": {
                        "eye": {
                          "x": 2.19837380764158,
                          "y": -0.8541970509639218,
                          "z": 0.5
                        }
                      }
                    }
                  }
                },
                {
                  "layout": {
                    "scene": {
                      "camera": {
                        "eye": {
                          "x": 2.1940753605671643,
                          "y": -0.8651781967618399,
                          "z": 0.5
                        }
                      }
                    }
                  }
                },
                {
                  "layout": {
                    "scene": {
                      "camera": {
                        "eye": {
                          "x": 2.1897220617230078,
                          "y": -0.8761377131499015,
                          "z": 0.5
                        }
                      }
                    }
                  }
                },
                {
                  "layout": {
                    "scene": {
                      "camera": {
                        "eye": {
                          "x": 2.185314019941357,
                          "y": -0.8870753261407655,
                          "z": 0.5
                        }
                      }
                    }
                  }
                },
                {
                  "layout": {
                    "scene": {
                      "camera": {
                        "eye": {
                          "x": 2.1808513454230263,
                          "y": -0.8979907622946776,
                          "z": 0.5
                        }
                      }
                    }
                  }
                },
                {
                  "layout": {
                    "scene": {
                      "camera": {
                        "eye": {
                          "x": 2.176334149734646,
                          "y": -0.9088837487263027,
                          "z": 0.5
                        }
                      }
                    }
                  }
                },
                {
                  "layout": {
                    "scene": {
                      "camera": {
                        "eye": {
                          "x": 2.171762545805872,
                          "y": -0.9197540131115483,
                          "z": 0.5
                        }
                      }
                    }
                  }
                },
                {
                  "layout": {
                    "scene": {
                      "camera": {
                        "eye": {
                          "x": 2.167136647926566,
                          "y": -0.930601283694369,
                          "z": 0.5
                        }
                      }
                    }
                  }
                },
                {
                  "layout": {
                    "scene": {
                      "camera": {
                        "eye": {
                          "x": 2.1624565717439337,
                          "y": -0.9414252892935661,
                          "z": 0.5
                        }
                      }
                    }
                  }
                },
                {
                  "layout": {
                    "scene": {
                      "camera": {
                        "eye": {
                          "x": 2.157722434259635,
                          "y": -0.9522257593095634,
                          "z": 0.5
                        }
                      }
                    }
                  }
                },
                {
                  "layout": {
                    "scene": {
                      "camera": {
                        "eye": {
                          "x": 2.1529343538268613,
                          "y": -0.9630024237311741,
                          "z": 0.5
                        }
                      }
                    }
                  }
                },
                {
                  "layout": {
                    "scene": {
                      "camera": {
                        "eye": {
                          "x": 2.1480924501473737,
                          "y": -0.9737550131423465,
                          "z": 0.5
                        }
                      }
                    }
                  }
                },
                {
                  "layout": {
                    "scene": {
                      "camera": {
                        "eye": {
                          "x": 2.1431968442685125,
                          "y": -0.9844832587289071,
                          "z": 0.5
                        }
                      }
                    }
                  }
                },
                {
                  "layout": {
                    "scene": {
                      "camera": {
                        "eye": {
                          "x": 2.1382476585801697,
                          "y": -0.9951868922852742,
                          "z": 0.5
                        }
                      }
                    }
                  }
                },
                {
                  "layout": {
                    "scene": {
                      "camera": {
                        "eye": {
                          "x": 2.133245016811729,
                          "y": -1.0058656462211673,
                          "z": 0.5
                        }
                      }
                    }
                  }
                },
                {
                  "layout": {
                    "scene": {
                      "camera": {
                        "eye": {
                          "x": 2.128189044028974,
                          "y": -1.016519253568294,
                          "z": 0.5
                        }
                      }
                    }
                  }
                },
                {
                  "layout": {
                    "scene": {
                      "camera": {
                        "eye": {
                          "x": 2.123079866630962,
                          "y": -1.0271474479870248,
                          "z": 0.5
                        }
                      }
                    }
                  }
                },
                {
                  "layout": {
                    "scene": {
                      "camera": {
                        "eye": {
                          "x": 2.1179176123468606,
                          "y": -1.037749963773053,
                          "z": 0.5
                        }
                      }
                    }
                  }
                },
                {
                  "layout": {
                    "scene": {
                      "camera": {
                        "eye": {
                          "x": 2.1127024102327594,
                          "y": -1.048326535864036,
                          "z": 0.5
                        }
                      }
                    }
                  }
                },
                {
                  "layout": {
                    "scene": {
                      "camera": {
                        "eye": {
                          "x": 2.107434390668438,
                          "y": -1.058876899846224,
                          "z": 0.5
                        }
                      }
                    }
                  }
                },
                {
                  "layout": {
                    "scene": {
                      "camera": {
                        "eye": {
                          "x": 2.1021136853541122,
                          "y": -1.0694007919610644,
                          "z": 0.5
                        }
                      }
                    }
                  }
                },
                {
                  "layout": {
                    "scene": {
                      "camera": {
                        "eye": {
                          "x": 2.096740427307138,
                          "y": -1.0798979491118037,
                          "z": 0.5
                        }
                      }
                    }
                  }
                },
                {
                  "layout": {
                    "scene": {
                      "camera": {
                        "eye": {
                          "x": 2.091314750858686,
                          "y": -1.0903681088700603,
                          "z": 0.5
                        }
                      }
                    }
                  }
                },
                {
                  "layout": {
                    "scene": {
                      "camera": {
                        "eye": {
                          "x": 2.085836791650385,
                          "y": -1.1008110094823855,
                          "z": 0.5
                        }
                      }
                    }
                  }
                },
                {
                  "layout": {
                    "scene": {
                      "camera": {
                        "eye": {
                          "x": 2.08030668663093,
                          "y": -1.1112263898768067,
                          "z": 0.5
                        }
                      }
                    }
                  }
                },
                {
                  "layout": {
                    "scene": {
                      "camera": {
                        "eye": {
                          "x": 2.074724574052659,
                          "y": -1.1216139896693573,
                          "z": 0.5
                        }
                      }
                    }
                  }
                },
                {
                  "layout": {
                    "scene": {
                      "camera": {
                        "eye": {
                          "x": 2.0690905934680948,
                          "y": -1.1319735491705836,
                          "z": 0.5
                        }
                      }
                    }
                  }
                },
                {
                  "layout": {
                    "scene": {
                      "camera": {
                        "eye": {
                          "x": 2.0634048857264586,
                          "y": -1.1423048093920385,
                          "z": 0.5
                        }
                      }
                    }
                  }
                },
                {
                  "layout": {
                    "scene": {
                      "camera": {
                        "eye": {
                          "x": 2.0576675929701485,
                          "y": -1.1526075120527528,
                          "z": 0.5
                        }
                      }
                    }
                  }
                },
                {
                  "layout": {
                    "scene": {
                      "camera": {
                        "eye": {
                          "x": 2.0518788586311842,
                          "y": -1.162881399585697,
                          "z": 0.5
                        }
                      }
                    }
                  }
                },
                {
                  "layout": {
                    "scene": {
                      "camera": {
                        "eye": {
                          "x": 2.0460388274276227,
                          "y": -1.1731262151442186,
                          "z": 0.5
                        }
                      }
                    }
                  }
                },
                {
                  "layout": {
                    "scene": {
                      "camera": {
                        "eye": {
                          "x": 2.0401476453599394,
                          "y": -1.1833417026084625,
                          "z": 0.5
                        }
                      }
                    }
                  }
                },
                {
                  "layout": {
                    "scene": {
                      "camera": {
                        "eye": {
                          "x": 2.03420545970738,
                          "y": -1.1935276065917726,
                          "z": 0.5
                        }
                      }
                    }
                  }
                },
                {
                  "layout": {
                    "scene": {
                      "camera": {
                        "eye": {
                          "x": 2.0282124190242765,
                          "y": -1.203683672447081,
                          "z": 0.5
                        }
                      }
                    }
                  }
                },
                {
                  "layout": {
                    "scene": {
                      "camera": {
                        "eye": {
                          "x": 2.0221686731363335,
                          "y": -1.21380964627327,
                          "z": 0.5
                        }
                      }
                    }
                  }
                },
                {
                  "layout": {
                    "scene": {
                      "camera": {
                        "eye": {
                          "x": 2.0160743731368824,
                          "y": -1.223905274921522,
                          "z": 0.5
                        }
                      }
                    }
                  }
                },
                {
                  "layout": {
                    "scene": {
                      "camera": {
                        "eye": {
                          "x": 2.0099296713831074,
                          "y": -1.2339703060016451,
                          "z": 0.5
                        }
                      }
                    }
                  }
                },
                {
                  "layout": {
                    "scene": {
                      "camera": {
                        "eye": {
                          "x": 2.0037347214922314,
                          "y": -1.2440044878883878,
                          "z": 0.5
                        }
                      }
                    }
                  }
                },
                {
                  "layout": {
                    "scene": {
                      "camera": {
                        "eye": {
                          "x": 1.9974896783376792,
                          "y": -1.2540075697277249,
                          "z": 0.5
                        }
                      }
                    }
                  }
                },
                {
                  "layout": {
                    "scene": {
                      "camera": {
                        "eye": {
                          "x": 1.9911946980452044,
                          "y": -1.2639793014431315,
                          "z": 0.5
                        }
                      }
                    }
                  }
                },
                {
                  "layout": {
                    "scene": {
                      "camera": {
                        "eye": {
                          "x": 1.9848499379889861,
                          "y": -1.2739194337418351,
                          "z": 0.5
                        }
                      }
                    }
                  }
                },
                {
                  "layout": {
                    "scene": {
                      "camera": {
                        "eye": {
                          "x": 1.9784555567876958,
                          "y": -1.2838277181210445,
                          "z": 0.5
                        }
                      }
                    }
                  }
                },
                {
                  "layout": {
                    "scene": {
                      "camera": {
                        "eye": {
                          "x": 1.9720117143005307,
                          "y": -1.2937039068741665,
                          "z": 0.5
                        }
                      }
                    }
                  }
                },
                {
                  "layout": {
                    "scene": {
                      "camera": {
                        "eye": {
                          "x": 1.9655185716232166,
                          "y": -1.3035477530969972,
                          "z": 0.5
                        }
                      }
                    }
                  }
                },
                {
                  "layout": {
                    "scene": {
                      "camera": {
                        "eye": {
                          "x": 1.958976291083982,
                          "y": -1.3133590106938944,
                          "z": 0.5
                        }
                      }
                    }
                  }
                },
                {
                  "layout": {
                    "scene": {
                      "camera": {
                        "eye": {
                          "x": 1.9523850362395012,
                          "y": -1.3231374343839275,
                          "z": 0.5
                        }
                      }
                    }
                  }
                },
                {
                  "layout": {
                    "scene": {
                      "camera": {
                        "eye": {
                          "x": 1.9457449718708006,
                          "y": -1.3328827797070142,
                          "z": 0.5
                        }
                      }
                    }
                  }
                },
                {
                  "layout": {
                    "scene": {
                      "camera": {
                        "eye": {
                          "x": 1.9390562639791442,
                          "y": -1.3425948030300292,
                          "z": 0.5
                        }
                      }
                    }
                  }
                },
                {
                  "layout": {
                    "scene": {
                      "camera": {
                        "eye": {
                          "x": 1.9323190797818801,
                          "y": -1.352273261552896,
                          "z": 0.5
                        }
                      }
                    }
                  }
                },
                {
                  "layout": {
                    "scene": {
                      "camera": {
                        "eye": {
                          "x": 1.925533587708264,
                          "y": -1.3619179133146542,
                          "z": 0.5
                        }
                      }
                    }
                  }
                },
                {
                  "layout": {
                    "scene": {
                      "camera": {
                        "eye": {
                          "x": 1.9186999573952428,
                          "y": -1.3715285171995126,
                          "z": 0.5
                        }
                      }
                    }
                  }
                },
                {
                  "layout": {
                    "scene": {
                      "camera": {
                        "eye": {
                          "x": 1.911818359683219,
                          "y": -1.3811048329428746,
                          "z": 0.5
                        }
                      }
                    }
                  }
                },
                {
                  "layout": {
                    "scene": {
                      "camera": {
                        "eye": {
                          "x": 1.9048889666117765,
                          "y": -1.3906466211373465,
                          "z": 0.5
                        }
                      }
                    }
                  }
                },
                {
                  "layout": {
                    "scene": {
                      "camera": {
                        "eye": {
                          "x": 1.8979119514153822,
                          "y": -1.4001536432387185,
                          "z": 0.5
                        }
                      }
                    }
                  }
                },
                {
                  "layout": {
                    "scene": {
                      "camera": {
                        "eye": {
                          "x": 1.8908874885190519,
                          "y": -1.4096256615719338,
                          "z": 0.5
                        }
                      }
                    }
                  }
                },
                {
                  "layout": {
                    "scene": {
                      "camera": {
                        "eye": {
                          "x": 1.883815753533992,
                          "y": -1.4190624393370281,
                          "z": 0.5
                        }
                      }
                    }
                  }
                },
                {
                  "layout": {
                    "scene": {
                      "camera": {
                        "eye": {
                          "x": 1.876696923253209,
                          "y": -1.4284637406150493,
                          "z": 0.5
                        }
                      }
                    }
                  }
                },
                {
                  "layout": {
                    "scene": {
                      "camera": {
                        "eye": {
                          "x": 1.8695311756470896,
                          "y": -1.4378293303739533,
                          "z": 0.5
                        }
                      }
                    }
                  }
                },
                {
                  "layout": {
                    "scene": {
                      "camera": {
                        "eye": {
                          "x": 1.86231868985895,
                          "y": -1.4471589744744848,
                          "z": 0.5
                        }
                      }
                    }
                  }
                },
                {
                  "layout": {
                    "scene": {
                      "camera": {
                        "eye": {
                          "x": 1.8550596462005604,
                          "y": -1.4564524396760274,
                          "z": 0.5
                        }
                      }
                    }
                  }
                },
                {
                  "layout": {
                    "scene": {
                      "camera": {
                        "eye": {
                          "x": 1.8477542261476323,
                          "y": -1.4657094936424357,
                          "z": 0.5
                        }
                      }
                    }
                  }
                },
                {
                  "layout": {
                    "scene": {
                      "camera": {
                        "eye": {
                          "x": 1.8404026123352883,
                          "y": -1.474929904947841,
                          "z": 0.5
                        }
                      }
                    }
                  }
                },
                {
                  "layout": {
                    "scene": {
                      "camera": {
                        "eye": {
                          "x": 1.83300498855349,
                          "y": -1.4841134430824419,
                          "z": 0.5
                        }
                      }
                    }
                  }
                },
                {
                  "layout": {
                    "scene": {
                      "camera": {
                        "eye": {
                          "x": 1.8255615397424467,
                          "y": -1.4932598784582631,
                          "z": 0.5
                        }
                      }
                    }
                  }
                },
                {
                  "layout": {
                    "scene": {
                      "camera": {
                        "eye": {
                          "x": 1.8180724519879914,
                          "y": -1.5023689824148967,
                          "z": 0.5
                        }
                      }
                    }
                  }
                },
                {
                  "layout": {
                    "scene": {
                      "camera": {
                        "eye": {
                          "x": 1.810537912516927,
                          "y": -1.5114405272252192,
                          "z": 0.5
                        }
                      }
                    }
                  }
                },
                {
                  "layout": {
                    "scene": {
                      "camera": {
                        "eye": {
                          "x": 1.8029581096923488,
                          "y": -1.5204742861010812,
                          "z": 0.5
                        }
                      }
                    }
                  }
                },
                {
                  "layout": {
                    "scene": {
                      "camera": {
                        "eye": {
                          "x": 1.7953332330089324,
                          "y": -1.5294700331989817,
                          "z": 0.5
                        }
                      }
                    }
                  }
                },
                {
                  "layout": {
                    "scene": {
                      "camera": {
                        "eye": {
                          "x": 1.7876634730881977,
                          "y": -1.5384275436257122,
                          "z": 0.5
                        }
                      }
                    }
                  }
                },
                {
                  "layout": {
                    "scene": {
                      "camera": {
                        "eye": {
                          "x": 1.7799490216737424,
                          "y": -1.5473465934439792,
                          "z": 0.5
                        }
                      }
                    }
                  }
                },
                {
                  "layout": {
                    "scene": {
                      "camera": {
                        "eye": {
                          "x": 1.7721900716264516,
                          "y": -1.5562269596780003,
                          "z": 0.5
                        }
                      }
                    }
                  }
                },
                {
                  "layout": {
                    "scene": {
                      "camera": {
                        "eye": {
                          "x": 1.7643868169196717,
                          "y": -1.5650684203190826,
                          "z": 0.5
                        }
                      }
                    }
                  }
                },
                {
                  "layout": {
                    "scene": {
                      "camera": {
                        "eye": {
                          "x": 1.7565394526343638,
                          "y": -1.573870754331171,
                          "z": 0.5
                        }
                      }
                    }
                  }
                },
                {
                  "layout": {
                    "scene": {
                      "camera": {
                        "eye": {
                          "x": 1.748648174954226,
                          "y": -1.5826337416563745,
                          "z": 0.5
                        }
                      }
                    }
                  }
                },
                {
                  "layout": {
                    "scene": {
                      "camera": {
                        "eye": {
                          "x": 1.7407131811607899,
                          "y": -1.5913571632204642,
                          "z": 0.5
                        }
                      }
                    }
                  }
                },
                {
                  "layout": {
                    "scene": {
                      "camera": {
                        "eye": {
                          "x": 1.732734669628487,
                          "y": -1.6000408009383567,
                          "z": 0.5
                        }
                      }
                    }
                  }
                },
                {
                  "layout": {
                    "scene": {
                      "camera": {
                        "eye": {
                          "x": 1.72471283981969,
                          "y": -1.6086844377195608,
                          "z": 0.5
                        }
                      }
                    }
                  }
                },
                {
                  "layout": {
                    "scene": {
                      "camera": {
                        "eye": {
                          "x": 1.7166478922797257,
                          "y": -1.617287857473609,
                          "z": 0.5
                        }
                      }
                    }
                  }
                },
                {
                  "layout": {
                    "scene": {
                      "camera": {
                        "eye": {
                          "x": 1.7085400286318633,
                          "y": -1.6258508451154525,
                          "z": 0.5
                        }
                      }
                    }
                  }
                },
                {
                  "layout": {
                    "scene": {
                      "camera": {
                        "eye": {
                          "x": 1.700389451572272,
                          "y": -1.634373186570848,
                          "z": 0.5
                        }
                      }
                    }
                  }
                },
                {
                  "layout": {
                    "scene": {
                      "camera": {
                        "eye": {
                          "x": 1.6921963648649532,
                          "y": -1.6428546687817032,
                          "z": 0.5
                        }
                      }
                    }
                  }
                },
                {
                  "layout": {
                    "scene": {
                      "camera": {
                        "eye": {
                          "x": 1.683960973336647,
                          "y": -1.6512950797114043,
                          "z": 0.5
                        }
                      }
                    }
                  }
                },
                {
                  "layout": {
                    "scene": {
                      "camera": {
                        "eye": {
                          "x": 1.6756834828717142,
                          "y": -1.6596942083501172,
                          "z": 0.5
                        }
                      }
                    }
                  }
                },
                {
                  "layout": {
                    "scene": {
                      "camera": {
                        "eye": {
                          "x": 1.667364100406985,
                          "y": -1.6680518447200632,
                          "z": 0.5
                        }
                      }
                    }
                  }
                },
                {
                  "layout": {
                    "scene": {
                      "camera": {
                        "eye": {
                          "x": 1.659003033926587,
                          "y": -1.676367779880769,
                          "z": 0.5
                        }
                      }
                    }
                  }
                },
                {
                  "layout": {
                    "scene": {
                      "camera": {
                        "eye": {
                          "x": 1.650600492456747,
                          "y": -1.6846418059342896,
                          "z": 0.5
                        }
                      }
                    }
                  }
                },
                {
                  "layout": {
                    "scene": {
                      "camera": {
                        "eye": {
                          "x": 1.642156686060565,
                          "y": -1.6928737160304026,
                          "z": 0.5
                        }
                      }
                    }
                  }
                },
                {
                  "layout": {
                    "scene": {
                      "camera": {
                        "eye": {
                          "x": 1.63367182583276,
                          "y": -1.701063304371785,
                          "z": 0.5
                        }
                      }
                    }
                  }
                },
                {
                  "layout": {
                    "scene": {
                      "camera": {
                        "eye": {
                          "x": 1.6251461238943965,
                          "y": -1.7092103662191553,
                          "z": 0.5
                        }
                      }
                    }
                  }
                },
                {
                  "layout": {
                    "scene": {
                      "camera": {
                        "eye": {
                          "x": 1.6165797933875785,
                          "y": -1.7173146978963916,
                          "z": 0.5
                        }
                      }
                    }
                  }
                },
                {
                  "layout": {
                    "scene": {
                      "camera": {
                        "eye": {
                          "x": 1.6079730484701216,
                          "y": -1.7253760967956244,
                          "z": 0.5
                        }
                      }
                    }
                  }
                },
                {
                  "layout": {
                    "scene": {
                      "camera": {
                        "eye": {
                          "x": 1.5993261043102027,
                          "y": -1.7333943613823,
                          "z": 0.5
                        }
                      }
                    }
                  }
                },
                {
                  "layout": {
                    "scene": {
                      "camera": {
                        "eye": {
                          "x": 1.5906391770809738,
                          "y": -1.7413692912002217,
                          "z": 0.5
                        }
                      }
                    }
                  }
                },
                {
                  "layout": {
                    "scene": {
                      "camera": {
                        "eye": {
                          "x": 1.581912483955164,
                          "y": -1.74930068687656,
                          "z": 0.5
                        }
                      }
                    }
                  }
                },
                {
                  "layout": {
                    "scene": {
                      "camera": {
                        "eye": {
                          "x": 1.5731462430996452,
                          "y": -1.757188350126836,
                          "z": 0.5
                        }
                      }
                    }
                  }
                },
                {
                  "layout": {
                    "scene": {
                      "camera": {
                        "eye": {
                          "x": 1.5643406736699847,
                          "y": -1.7650320837598783,
                          "z": 0.5
                        }
                      }
                    }
                  }
                },
                {
                  "layout": {
                    "scene": {
                      "camera": {
                        "eye": {
                          "x": 1.5554959958049586,
                          "y": -1.7728316916827556,
                          "z": 0.5
                        }
                      }
                    }
                  }
                },
                {
                  "layout": {
                    "scene": {
                      "camera": {
                        "eye": {
                          "x": 1.5466124306210522,
                          "y": -1.7805869789056754,
                          "z": 0.5
                        }
                      }
                    }
                  }
                },
                {
                  "layout": {
                    "scene": {
                      "camera": {
                        "eye": {
                          "x": 1.5376902002069326,
                          "y": -1.788297751546862,
                          "z": 0.5
                        }
                      }
                    }
                  }
                },
                {
                  "layout": {
                    "scene": {
                      "camera": {
                        "eye": {
                          "x": 1.5287295276178967,
                          "y": -1.7959638168374004,
                          "z": 0.5
                        }
                      }
                    }
                  }
                },
                {
                  "layout": {
                    "scene": {
                      "camera": {
                        "eye": {
                          "x": 1.5197306368702912,
                          "y": -1.8035849831260569,
                          "z": 0.5
                        }
                      }
                    }
                  }
                },
                {
                  "layout": {
                    "scene": {
                      "camera": {
                        "eye": {
                          "x": 1.5106937529359168,
                          "y": -1.8111610598840722,
                          "z": 0.5
                        }
                      }
                    }
                  }
                },
                {
                  "layout": {
                    "scene": {
                      "camera": {
                        "eye": {
                          "x": 1.5016191017364,
                          "y": -1.818691857709922,
                          "z": 0.5
                        }
                      }
                    }
                  }
                },
                {
                  "layout": {
                    "scene": {
                      "camera": {
                        "eye": {
                          "x": 1.4925069101375499,
                          "y": -1.826177188334052,
                          "z": 0.5
                        }
                      }
                    }
                  }
                },
                {
                  "layout": {
                    "scene": {
                      "camera": {
                        "eye": {
                          "x": 1.4833574059436807,
                          "y": -1.833616864623587,
                          "z": 0.5
                        }
                      }
                    }
                  }
                },
                {
                  "layout": {
                    "scene": {
                      "camera": {
                        "eye": {
                          "x": 1.4741708178919215,
                          "y": -1.8410107005870073,
                          "z": 0.5
                        }
                      }
                    }
                  }
                },
                {
                  "layout": {
                    "scene": {
                      "camera": {
                        "eye": {
                          "x": 1.4649473756464937,
                          "y": -1.8483585113787993,
                          "z": 0.5
                        }
                      }
                    }
                  }
                },
                {
                  "layout": {
                    "scene": {
                      "camera": {
                        "eye": {
                          "x": 1.4556873097929748,
                          "y": -1.8556601133040749,
                          "z": 0.5
                        }
                      }
                    }
                  }
                },
                {
                  "layout": {
                    "scene": {
                      "camera": {
                        "eye": {
                          "x": 1.4463908518325281,
                          "y": -1.8629153238231666,
                          "z": 0.5
                        }
                      }
                    }
                  }
                },
                {
                  "layout": {
                    "scene": {
                      "camera": {
                        "eye": {
                          "x": 1.4370582341761184,
                          "y": -1.8701239615561898,
                          "z": 0.5
                        }
                      }
                    }
                  }
                },
                {
                  "layout": {
                    "scene": {
                      "camera": {
                        "eye": {
                          "x": 1.4276896901387,
                          "y": -1.8772858462875766,
                          "z": 0.5
                        }
                      }
                    }
                  }
                },
                {
                  "layout": {
                    "scene": {
                      "camera": {
                        "eye": {
                          "x": 1.4182854539333878,
                          "y": -1.8844007989705809,
                          "z": 0.5
                        }
                      }
                    }
                  }
                },
                {
                  "layout": {
                    "scene": {
                      "camera": {
                        "eye": {
                          "x": 1.4088457606655964,
                          "y": -1.8914686417317568,
                          "z": 0.5
                        }
                      }
                    }
                  }
                },
                {
                  "layout": {
                    "scene": {
                      "camera": {
                        "eye": {
                          "x": 1.3993708463271657,
                          "y": -1.8984891978754033,
                          "z": 0.5
                        }
                      }
                    }
                  }
                },
                {
                  "layout": {
                    "scene": {
                      "camera": {
                        "eye": {
                          "x": 1.3898609477904595,
                          "y": -1.9054622918879829,
                          "z": 0.5
                        }
                      }
                    }
                  }
                },
                {
                  "layout": {
                    "scene": {
                      "camera": {
                        "eye": {
                          "x": 1.3803163028024483,
                          "y": -1.912387749442508,
                          "z": 0.5
                        }
                      }
                    }
                  }
                },
                {
                  "layout": {
                    "scene": {
                      "camera": {
                        "eye": {
                          "x": 1.3707371499787584,
                          "y": -1.9192653974029,
                          "z": 0.5
                        }
                      }
                    }
                  }
                },
                {
                  "layout": {
                    "scene": {
                      "camera": {
                        "eye": {
                          "x": 1.3611237287977114,
                          "y": -1.9260950638283185,
                          "z": 0.5
                        }
                      }
                    }
                  }
                },
                {
                  "layout": {
                    "scene": {
                      "camera": {
                        "eye": {
                          "x": 1.3514762795943362,
                          "y": -1.9328765779774588,
                          "z": 0.5
                        }
                      }
                    }
                  }
                },
                {
                  "layout": {
                    "scene": {
                      "camera": {
                        "eye": {
                          "x": 1.3417950435543597,
                          "y": -1.939609770312821,
                          "z": 0.5
                        }
                      }
                    }
                  }
                },
                {
                  "layout": {
                    "scene": {
                      "camera": {
                        "eye": {
                          "x": 1.3320802627081803,
                          "y": -1.9462944725049458,
                          "z": 0.5
                        }
                      }
                    }
                  }
                },
                {
                  "layout": {
                    "scene": {
                      "camera": {
                        "eye": {
                          "x": 1.3223321799248124,
                          "y": -1.9529305174366276,
                          "z": 0.5
                        }
                      }
                    }
                  }
                },
                {
                  "layout": {
                    "scene": {
                      "camera": {
                        "eye": {
                          "x": 1.3125510389058175,
                          "y": -1.9595177392070884,
                          "z": 0.5
                        }
                      }
                    }
                  }
                },
                {
                  "layout": {
                    "scene": {
                      "camera": {
                        "eye": {
                          "x": 1.3027370841792114,
                          "y": -1.9660559731361278,
                          "z": 0.5
                        }
                      }
                    }
                  }
                },
                {
                  "layout": {
                    "scene": {
                      "camera": {
                        "eye": {
                          "x": 1.2928905610933523,
                          "y": -1.9725450557682367,
                          "z": 0.5
                        }
                      }
                    }
                  }
                },
                {
                  "layout": {
                    "scene": {
                      "camera": {
                        "eye": {
                          "x": 1.2830117158108039,
                          "y": -1.9789848248766884,
                          "z": 0.5
                        }
                      }
                    }
                  }
                },
                {
                  "layout": {
                    "scene": {
                      "camera": {
                        "eye": {
                          "x": 1.273100795302184,
                          "y": -1.98537511946759,
                          "z": 0.5
                        }
                      }
                    }
                  }
                },
                {
                  "layout": {
                    "scene": {
                      "camera": {
                        "eye": {
                          "x": 1.2631580473399877,
                          "y": -1.9917157797839102,
                          "z": 0.5
                        }
                      }
                    }
                  }
                },
                {
                  "layout": {
                    "scene": {
                      "camera": {
                        "eye": {
                          "x": 1.253183720492398,
                          "y": -1.9980066473094704,
                          "z": 0.5
                        }
                      }
                    }
                  }
                },
                {
                  "layout": {
                    "scene": {
                      "camera": {
                        "eye": {
                          "x": 1.243178064117066,
                          "y": -2.004247564772911,
                          "z": 0.5
                        }
                      }
                    }
                  }
                },
                {
                  "layout": {
                    "scene": {
                      "camera": {
                        "eye": {
                          "x": 1.2331413283548802,
                          "y": -2.01043837615162,
                          "z": 0.5
                        }
                      }
                    }
                  }
                },
                {
                  "layout": {
                    "scene": {
                      "camera": {
                        "eye": {
                          "x": 1.2230737641237106,
                          "y": -2.0165789266756358,
                          "z": 0.5
                        }
                      }
                    }
                  }
                },
                {
                  "layout": {
                    "scene": {
                      "camera": {
                        "eye": {
                          "x": 1.2129756231121402,
                          "y": -2.022669062831514,
                          "z": 0.5
                        }
                      }
                    }
                  }
                },
                {
                  "layout": {
                    "scene": {
                      "camera": {
                        "eye": {
                          "x": 1.2028471577731679,
                          "y": -2.0287086323661687,
                          "z": 0.5
                        }
                      }
                    }
                  }
                },
                {
                  "layout": {
                    "scene": {
                      "camera": {
                        "eye": {
                          "x": 1.1926886213178995,
                          "y": -2.0346974842906764,
                          "z": 0.5
                        }
                      }
                    }
                  }
                },
                {
                  "layout": {
                    "scene": {
                      "camera": {
                        "eye": {
                          "x": 1.1825002677092167,
                          "y": -2.040635468884051,
                          "z": 0.5
                        }
                      }
                    }
                  }
                },
                {
                  "layout": {
                    "scene": {
                      "camera": {
                        "eye": {
                          "x": 1.1722823516554304,
                          "y": -2.046522437696986,
                          "z": 0.5
                        }
                      }
                    }
                  }
                },
                {
                  "layout": {
                    "scene": {
                      "camera": {
                        "eye": {
                          "x": 1.162035128603909,
                          "y": -2.052358243555568,
                          "z": 0.5
                        }
                      }
                    }
                  }
                },
                {
                  "layout": {
                    "scene": {
                      "camera": {
                        "eye": {
                          "x": 1.1517588547346949,
                          "y": -2.058142740564955,
                          "z": 0.5
                        }
                      }
                    }
                  }
                },
                {
                  "layout": {
                    "scene": {
                      "camera": {
                        "eye": {
                          "x": 1.1414537869540993,
                          "y": -2.0638757841130233,
                          "z": 0.5
                        }
                      }
                    }
                  }
                },
                {
                  "layout": {
                    "scene": {
                      "camera": {
                        "eye": {
                          "x": 1.1311201828882813,
                          "y": -2.0695572308739814,
                          "z": 0.5
                        }
                      }
                    }
                  }
                },
                {
                  "layout": {
                    "scene": {
                      "camera": {
                        "eye": {
                          "x": 1.1207583008768034,
                          "y": -2.075186938811957,
                          "z": 0.5
                        }
                      }
                    }
                  }
                },
                {
                  "layout": {
                    "scene": {
                      "camera": {
                        "eye": {
                          "x": 1.1103683999661764,
                          "y": -2.080764767184545,
                          "z": 0.5
                        }
                      }
                    }
                  }
                },
                {
                  "layout": {
                    "scene": {
                      "camera": {
                        "eye": {
                          "x": 1.0999507399033819,
                          "y": -2.086290576546326,
                          "z": 0.5
                        }
                      }
                    }
                  }
                },
                {
                  "layout": {
                    "scene": {
                      "camera": {
                        "eye": {
                          "x": 1.089505581129378,
                          "y": -2.0917642287523552,
                          "z": 0.5
                        }
                      }
                    }
                  }
                },
                {
                  "layout": {
                    "scene": {
                      "camera": {
                        "eye": {
                          "x": 1.0790331847725918,
                          "y": -2.0971855869616114,
                          "z": 0.5
                        }
                      }
                    }
                  }
                },
                {
                  "layout": {
                    "scene": {
                      "camera": {
                        "eye": {
                          "x": 1.0685338126423858,
                          "y": -2.1025545156404215,
                          "z": 0.5
                        }
                      }
                    }
                  }
                },
                {
                  "layout": {
                    "scene": {
                      "camera": {
                        "eye": {
                          "x": 1.0580077272225168,
                          "y": -2.1078708805658484,
                          "z": 0.5
                        }
                      }
                    }
                  }
                },
                {
                  "layout": {
                    "scene": {
                      "camera": {
                        "eye": {
                          "x": 1.0474551916645707,
                          "y": -2.1131345488290467,
                          "z": 0.5
                        }
                      }
                    }
                  }
                },
                {
                  "layout": {
                    "scene": {
                      "camera": {
                        "eye": {
                          "x": 1.0368764697813886,
                          "y": -2.1183453888385824,
                          "z": 0.5
                        }
                      }
                    }
                  }
                },
                {
                  "layout": {
                    "scene": {
                      "camera": {
                        "eye": {
                          "x": 1.0262718260404662,
                          "y": -2.123503270323728,
                          "z": 0.5
                        }
                      }
                    }
                  }
                },
                {
                  "layout": {
                    "scene": {
                      "camera": {
                        "eye": {
                          "x": 1.015641525557344,
                          "y": -2.128608064337714,
                          "z": 0.5
                        }
                      }
                    }
                  }
                },
                {
                  "layout": {
                    "scene": {
                      "camera": {
                        "eye": {
                          "x": 1.0049858340889801,
                          "y": -2.1336596432609576,
                          "z": 0.5
                        }
                      }
                    }
                  }
                },
                {
                  "layout": {
                    "scene": {
                      "camera": {
                        "eye": {
                          "x": 0.994305018027108,
                          "y": -2.1386578808042467,
                          "z": 0.5
                        }
                      }
                    }
                  }
                },
                {
                  "layout": {
                    "scene": {
                      "camera": {
                        "eye": {
                          "x": 0.9835993443915719,
                          "y": -2.1436026520119045,
                          "z": 0.5
                        }
                      }
                    }
                  }
                },
                {
                  "layout": {
                    "scene": {
                      "camera": {
                        "eye": {
                          "x": 0.9728690808236549,
                          "y": -2.1484938332649075,
                          "z": 0.5
                        }
                      }
                    }
                  }
                },
                {
                  "layout": {
                    "scene": {
                      "camera": {
                        "eye": {
                          "x": 0.9621144955793868,
                          "y": -2.15333130228398,
                          "z": 0.5
                        }
                      }
                    }
                  }
                },
                {
                  "layout": {
                    "scene": {
                      "camera": {
                        "eye": {
                          "x": 0.9513358575228401,
                          "y": -2.158114938132648,
                          "z": 0.5
                        }
                      }
                    }
                  }
                },
                {
                  "layout": {
                    "scene": {
                      "camera": {
                        "eye": {
                          "x": 0.9405334361194041,
                          "y": -2.162844621220264,
                          "z": 0.5
                        }
                      }
                    }
                  }
                },
                {
                  "layout": {
                    "scene": {
                      "camera": {
                        "eye": {
                          "x": 0.9297075014290512,
                          "y": -2.1675202333049977,
                          "z": 0.5
                        }
                      }
                    }
                  }
                },
                {
                  "layout": {
                    "scene": {
                      "camera": {
                        "eye": {
                          "x": 0.9188583240995838,
                          "y": -2.1721416574967907,
                          "z": 0.5
                        }
                      }
                    }
                  }
                },
                {
                  "layout": {
                    "scene": {
                      "camera": {
                        "eye": {
                          "x": 0.9079861753598719,
                          "y": -2.176708778260278,
                          "z": 0.5
                        }
                      }
                    }
                  }
                },
                {
                  "layout": {
                    "scene": {
                      "camera": {
                        "eye": {
                          "x": 0.8970913270130673,
                          "y": -2.181221481417679,
                          "z": 0.5
                        }
                      }
                    }
                  }
                },
                {
                  "layout": {
                    "scene": {
                      "camera": {
                        "eye": {
                          "x": 0.8861740514298104,
                          "y": -2.1856796541516497,
                          "z": 0.5
                        }
                      }
                    }
                  }
                },
                {
                  "layout": {
                    "scene": {
                      "camera": {
                        "eye": {
                          "x": 0.875234621541422,
                          "y": -2.190083185008105,
                          "z": 0.5
                        }
                      }
                    }
                  }
                },
                {
                  "layout": {
                    "scene": {
                      "camera": {
                        "eye": {
                          "x": 0.8642733108330809,
                          "y": -2.1944319638990004,
                          "z": 0.5
                        }
                      }
                    }
                  }
                },
                {
                  "layout": {
                    "scene": {
                      "camera": {
                        "eye": {
                          "x": 0.8532903933369833,
                          "y": -2.198725882105092,
                          "z": 0.5
                        }
                      }
                    }
                  }
                },
                {
                  "layout": {
                    "scene": {
                      "camera": {
                        "eye": {
                          "x": 0.8422861436254945,
                          "y": -2.2029648322786484,
                          "z": 0.5
                        }
                      }
                    }
                  }
                },
                {
                  "layout": {
                    "scene": {
                      "camera": {
                        "eye": {
                          "x": 0.8312608368042838,
                          "y": -2.2071487084461348,
                          "z": 0.5
                        }
                      }
                    }
                  }
                },
                {
                  "layout": {
                    "scene": {
                      "camera": {
                        "eye": {
                          "x": 0.820214748505447,
                          "y": -2.2112774060108666,
                          "z": 0.5
                        }
                      }
                    }
                  }
                },
                {
                  "layout": {
                    "scene": {
                      "camera": {
                        "eye": {
                          "x": 0.8091481548806181,
                          "y": -2.215350821755618,
                          "z": 0.5
                        }
                      }
                    }
                  }
                },
                {
                  "layout": {
                    "scene": {
                      "camera": {
                        "eye": {
                          "x": 0.7980613325940602,
                          "y": -2.219368853845208,
                          "z": 0.5
                        }
                      }
                    }
                  }
                },
                {
                  "layout": {
                    "scene": {
                      "camera": {
                        "eye": {
                          "x": 0.7869545588157532,
                          "y": -2.2233314018290447,
                          "z": 0.5
                        }
                      }
                    }
                  }
                },
                {
                  "layout": {
                    "scene": {
                      "camera": {
                        "eye": {
                          "x": 0.7758281112144618,
                          "y": -2.2272383666436335,
                          "z": 0.5
                        }
                      }
                    }
                  }
                },
                {
                  "layout": {
                    "scene": {
                      "camera": {
                        "eye": {
                          "x": 0.764682267950799,
                          "y": -2.231089650615058,
                          "z": 0.5
                        }
                      }
                    }
                  }
                },
                {
                  "layout": {
                    "scene": {
                      "camera": {
                        "eye": {
                          "x": 0.7535173076702644,
                          "y": -2.23488515746142,
                          "z": 0.5
                        }
                      }
                    }
                  }
                },
                {
                  "layout": {
                    "scene": {
                      "camera": {
                        "eye": {
                          "x": 0.7423335094962836,
                          "y": -2.2386247922952456,
                          "z": 0.5
                        }
                      }
                    }
                  }
                },
                {
                  "layout": {
                    "scene": {
                      "camera": {
                        "eye": {
                          "x": 0.7311311530232276,
                          "y": -2.242308461625859,
                          "z": 0.5
                        }
                      }
                    }
                  }
                },
                {
                  "layout": {
                    "scene": {
                      "camera": {
                        "eye": {
                          "x": 0.719910518309427,
                          "y": -2.245936073361718,
                          "z": 0.5
                        }
                      }
                    }
                  }
                },
                {
                  "layout": {
                    "scene": {
                      "camera": {
                        "eye": {
                          "x": 0.7086718858701638,
                          "y": -2.249507536812719,
                          "z": 0.5
                        }
                      }
                    }
                  }
                },
                {
                  "layout": {
                    "scene": {
                      "camera": {
                        "eye": {
                          "x": 0.6974155366706638,
                          "y": -2.2530227626924613,
                          "z": 0.5
                        }
                      }
                    }
                  }
                },
                {
                  "layout": {
                    "scene": {
                      "camera": {
                        "eye": {
                          "x": 0.6861417521190698,
                          "y": -2.256481663120481,
                          "z": 0.5
                        }
                      }
                    }
                  }
                },
                {
                  "layout": {
                    "scene": {
                      "camera": {
                        "eye": {
                          "x": 0.6748508140594104,
                          "y": -2.259884151624448,
                          "z": 0.5
                        }
                      }
                    }
                  }
                },
                {
                  "layout": {
                    "scene": {
                      "camera": {
                        "eye": {
                          "x": 0.6635430047645476,
                          "y": -2.2632301431423265,
                          "z": 0.5
                        }
                      }
                    }
                  }
                },
                {
                  "layout": {
                    "scene": {
                      "camera": {
                        "eye": {
                          "x": 0.6522186069291255,
                          "y": -2.2665195540245024,
                          "z": 0.5
                        }
                      }
                    }
                  }
                },
                {
                  "layout": {
                    "scene": {
                      "camera": {
                        "eye": {
                          "x": 0.6408779036624989,
                          "y": -2.2697523020358763,
                          "z": 0.5
                        }
                      }
                    }
                  }
                },
                {
                  "layout": {
                    "scene": {
                      "camera": {
                        "eye": {
                          "x": 0.6295211784816606,
                          "y": -2.2729283063579153,
                          "z": 0.5
                        }
                      }
                    }
                  }
                },
                {
                  "layout": {
                    "scene": {
                      "camera": {
                        "eye": {
                          "x": 0.6181487153041479,
                          "y": -2.2760474875906764,
                          "z": 0.5
                        }
                      }
                    }
                  }
                },
                {
                  "layout": {
                    "scene": {
                      "camera": {
                        "eye": {
                          "x": 0.6067607984409478,
                          "y": -2.2791097677547922,
                          "z": 0.5
                        }
                      }
                    }
                  }
                },
                {
                  "layout": {
                    "scene": {
                      "camera": {
                        "eye": {
                          "x": 0.5953577125893877,
                          "y": -2.282115070293418,
                          "z": 0.5
                        }
                      }
                    }
                  }
                },
                {
                  "layout": {
                    "scene": {
                      "camera": {
                        "eye": {
                          "x": 0.5839397428260222,
                          "y": -2.285063320074146,
                          "z": 0.5
                        }
                      }
                    }
                  }
                },
                {
                  "layout": {
                    "scene": {
                      "camera": {
                        "eye": {
                          "x": 0.5725071745994996,
                          "y": -2.287954443390886,
                          "z": 0.5
                        }
                      }
                    }
                  }
                },
                {
                  "layout": {
                    "scene": {
                      "camera": {
                        "eye": {
                          "x": 0.5610602937234299,
                          "y": -2.290788367965705,
                          "z": 0.5
                        }
                      }
                    }
                  }
                },
                {
                  "layout": {
                    "scene": {
                      "camera": {
                        "eye": {
                          "x": 0.5495993863692391,
                          "y": -2.293565022950637,
                          "z": 0.5
                        }
                      }
                    }
                  }
                },
                {
                  "layout": {
                    "scene": {
                      "camera": {
                        "eye": {
                          "x": 0.5381247390590126,
                          "y": -2.2962843389294516,
                          "z": 0.5
                        }
                      }
                    }
                  }
                },
                {
                  "layout": {
                    "scene": {
                      "camera": {
                        "eye": {
                          "x": 0.5266366386583383,
                          "y": -2.298946247919391,
                          "z": 0.5
                        }
                      }
                    }
                  }
                },
                {
                  "layout": {
                    "scene": {
                      "camera": {
                        "eye": {
                          "x": 0.5151353723691265,
                          "y": -2.301550683372869,
                          "z": 0.5
                        }
                      }
                    }
                  }
                },
                {
                  "layout": {
                    "scene": {
                      "camera": {
                        "eye": {
                          "x": 0.5036212277224356,
                          "y": -2.3040975801791355,
                          "z": 0.5
                        }
                      }
                    }
                  }
                },
                {
                  "layout": {
                    "scene": {
                      "camera": {
                        "eye": {
                          "x": 0.49209449257128046,
                          "y": -2.306586874665902,
                          "z": 0.5
                        }
                      }
                    }
                  }
                },
                {
                  "layout": {
                    "scene": {
                      "camera": {
                        "eye": {
                          "x": 0.48055545508344233,
                          "y": -2.3090185046009366,
                          "z": 0.5
                        }
                      }
                    }
                  }
                },
                {
                  "layout": {
                    "scene": {
                      "camera": {
                        "eye": {
                          "x": 0.46900440373425567,
                          "y": -2.3113924091936173,
                          "z": 0.5
                        }
                      }
                    }
                  }
                },
                {
                  "layout": {
                    "scene": {
                      "camera": {
                        "eye": {
                          "x": 0.4574416272994032,
                          "y": -2.3137085290964534,
                          "z": 0.5
                        }
                      }
                    }
                  }
                },
                {
                  "layout": {
                    "scene": {
                      "camera": {
                        "eye": {
                          "x": 0.4458674148476923,
                          "y": -2.3159668064065677,
                          "z": 0.5
                        }
                      }
                    }
                  }
                },
                {
                  "layout": {
                    "scene": {
                      "camera": {
                        "eye": {
                          "x": 0.43428205573383327,
                          "y": -2.3181671846671446,
                          "z": 0.5
                        }
                      }
                    }
                  }
                },
                {
                  "layout": {
                    "scene": {
                      "camera": {
                        "eye": {
                          "x": 0.4226858395911999,
                          "y": -2.320309608868843,
                          "z": 0.5
                        }
                      }
                    }
                  }
                },
                {
                  "layout": {
                    "scene": {
                      "camera": {
                        "eye": {
                          "x": 0.41107905632459163,
                          "y": -2.3223940254511684,
                          "z": 0.5
                        }
                      }
                    }
                  }
                },
                {
                  "layout": {
                    "scene": {
                      "camera": {
                        "eye": {
                          "x": 0.3994619961029844,
                          "y": -2.324420382303816,
                          "z": 0.5
                        }
                      }
                    }
                  }
                },
                {
                  "layout": {
                    "scene": {
                      "camera": {
                        "eye": {
                          "x": 0.387834949352281,
                          "y": -2.3263886287679694,
                          "z": 0.5
                        }
                      }
                    }
                  }
                },
                {
                  "layout": {
                    "scene": {
                      "camera": {
                        "eye": {
                          "x": 0.3761982067480436,
                          "y": -2.32829871563757,
                          "z": 0.5
                        }
                      }
                    }
                  }
                },
                {
                  "layout": {
                    "scene": {
                      "camera": {
                        "eye": {
                          "x": 0.36455205920823097,
                          "y": -2.330150595160544,
                          "z": 0.5
                        }
                      }
                    }
                  }
                },
                {
                  "layout": {
                    "scene": {
                      "camera": {
                        "eye": {
                          "x": 0.35289679788592443,
                          "y": -2.331944221040002,
                          "z": 0.5
                        }
                      }
                    }
                  }
                },
                {
                  "layout": {
                    "scene": {
                      "camera": {
                        "eye": {
                          "x": 0.3412327141620517,
                          "y": -2.3336795484353887,
                          "z": 0.5
                        }
                      }
                    }
                  }
                },
                {
                  "layout": {
                    "scene": {
                      "camera": {
                        "eye": {
                          "x": 0.3295600996380973,
                          "y": -2.33535653396361,
                          "z": 0.5
                        }
                      }
                    }
                  }
                },
                {
                  "layout": {
                    "scene": {
                      "camera": {
                        "eye": {
                          "x": 0.3178792461288166,
                          "y": -2.336975135700116,
                          "z": 0.5
                        }
                      }
                    }
                  }
                },
                {
                  "layout": {
                    "scene": {
                      "camera": {
                        "eye": {
                          "x": 0.3061904456549379,
                          "y": -2.3385353131799462,
                          "z": 0.5
                        }
                      }
                    }
                  }
                },
                {
                  "layout": {
                    "scene": {
                      "camera": {
                        "eye": {
                          "x": 0.2944939904358662,
                          "y": -2.340037027398746,
                          "z": 0.5
                        }
                      }
                    }
                  }
                },
                {
                  "layout": {
                    "scene": {
                      "camera": {
                        "eye": {
                          "x": 0.28279017288237196,
                          "y": -2.3414802408137376,
                          "z": 0.5
                        }
                      }
                    }
                  }
                },
                {
                  "layout": {
                    "scene": {
                      "camera": {
                        "eye": {
                          "x": 0.27107928558928407,
                          "y": -2.3428649173446607,
                          "z": 0.5
                        }
                      }
                    }
                  }
                },
                {
                  "layout": {
                    "scene": {
                      "camera": {
                        "eye": {
                          "x": 0.2593616213281752,
                          "y": -2.344191022374674,
                          "z": 0.5
                        }
                      }
                    }
                  }
                },
                {
                  "layout": {
                    "scene": {
                      "camera": {
                        "eye": {
                          "x": 0.24763747304004058,
                          "y": -2.3454585227512217,
                          "z": 0.5
                        }
                      }
                    }
                  }
                },
                {
                  "layout": {
                    "scene": {
                      "camera": {
                        "eye": {
                          "x": 0.2359071338279789,
                          "y": -2.3466673867868595,
                          "z": 0.5
                        }
                      }
                    }
                  }
                },
                {
                  "layout": {
                    "scene": {
                      "camera": {
                        "eye": {
                          "x": 0.22417089694985792,
                          "y": -2.3478175842600497,
                          "z": 0.5
                        }
                      }
                    }
                  }
                },
                {
                  "layout": {
                    "scene": {
                      "camera": {
                        "eye": {
                          "x": 0.21242905581098914,
                          "y": -2.3489090864159157,
                          "z": 0.5
                        }
                      }
                    }
                  }
                },
                {
                  "layout": {
                    "scene": {
                      "camera": {
                        "eye": {
                          "x": 0.20068190395678798,
                          "y": -2.34994186596696,
                          "z": 0.5
                        }
                      }
                    }
                  }
                },
                {
                  "layout": {
                    "scene": {
                      "camera": {
                        "eye": {
                          "x": 0.18892973506544097,
                          "y": -2.3509158970937483,
                          "z": 0.5
                        }
                      }
                    }
                  }
                },
                {
                  "layout": {
                    "scene": {
                      "camera": {
                        "eye": {
                          "x": 0.17717284294055757,
                          "y": -2.351831155445552,
                          "z": 0.5
                        }
                      }
                    }
                  }
                },
                {
                  "layout": {
                    "scene": {
                      "camera": {
                        "eye": {
                          "x": 0.16541152150382843,
                          "y": -2.352687618140961,
                          "z": 0.5
                        }
                      }
                    }
                  }
                },
                {
                  "layout": {
                    "scene": {
                      "camera": {
                        "eye": {
                          "x": 0.15364606478767562,
                          "y": -2.3534852637684525,
                          "z": 0.5
                        }
                      }
                    }
                  }
                },
                {
                  "layout": {
                    "scene": {
                      "camera": {
                        "eye": {
                          "x": 0.14187676692790685,
                          "y": -2.3542240723869265,
                          "z": 0.5
                        }
                      }
                    }
                  }
                },
                {
                  "layout": {
                    "scene": {
                      "camera": {
                        "eye": {
                          "x": 0.1301039221563538,
                          "y": -2.354904025526207,
                          "z": 0.5
                        }
                      }
                    }
                  }
                },
                {
                  "layout": {
                    "scene": {
                      "camera": {
                        "eye": {
                          "x": 0.11832782479352355,
                          "y": -2.3555251061875,
                          "z": 0.5
                        }
                      }
                    }
                  }
                },
                {
                  "layout": {
                    "scene": {
                      "camera": {
                        "eye": {
                          "x": 0.10654876924123524,
                          "y": -2.356087298843822,
                          "z": 0.5
                        }
                      }
                    }
                  }
                },
                {
                  "layout": {
                    "scene": {
                      "camera": {
                        "eye": {
                          "x": 0.0947670499752662,
                          "y": -2.356590589440386,
                          "z": 0.5
                        }
                      }
                    }
                  }
                },
                {
                  "layout": {
                    "scene": {
                      "camera": {
                        "eye": {
                          "x": 0.08298296153798368,
                          "y": -2.3570349653949525,
                          "z": 0.5
                        }
                      }
                    }
                  }
                },
                {
                  "layout": {
                    "scene": {
                      "camera": {
                        "eye": {
                          "x": 0.0711967985309847,
                          "y": -2.3574204155981464,
                          "z": 0.5
                        }
                      }
                    }
                  }
                },
                {
                  "layout": {
                    "scene": {
                      "camera": {
                        "eye": {
                          "x": 0.05940885560772946,
                          "y": -2.357746930413733,
                          "z": 0.5
                        }
                      }
                    }
                  }
                },
                {
                  "layout": {
                    "scene": {
                      "camera": {
                        "eye": {
                          "x": 0.04761942746617942,
                          "y": -2.3580145016788583,
                          "z": 0.5
                        }
                      }
                    }
                  }
                },
                {
                  "layout": {
                    "scene": {
                      "camera": {
                        "eye": {
                          "x": 0.03582880884142292,
                          "y": -2.3582231227042545,
                          "z": 0.5
                        }
                      }
                    }
                  }
                },
                {
                  "layout": {
                    "scene": {
                      "camera": {
                        "eye": {
                          "x": 0.02403729449831138,
                          "y": -2.358372788274407,
                          "z": 0.5
                        }
                      }
                    }
                  }
                },
                {
                  "layout": {
                    "scene": {
                      "camera": {
                        "eye": {
                          "x": 0.012245179224088076,
                          "y": -2.358463494647685,
                          "z": 0.5
                        }
                      }
                    }
                  }
                },
                {
                  "layout": {
                    "scene": {
                      "camera": {
                        "eye": {
                          "x": 0.0004527578210231642,
                          "y": -2.358495239556433,
                          "z": 0.5
                        }
                      }
                    }
                  }
                },
                {
                  "layout": {
                    "scene": {
                      "camera": {
                        "eye": {
                          "x": -0.011339674900963326,
                          "y": -2.3584680222070302,
                          "z": 0.5
                        }
                      }
                    }
                  }
                },
                {
                  "layout": {
                    "scene": {
                      "camera": {
                        "eye": {
                          "x": -0.023131824131668477,
                          "y": -2.358381843279909,
                          "z": 0.5
                        }
                      }
                    }
                  }
                },
                {
                  "layout": {
                    "scene": {
                      "camera": {
                        "eye": {
                          "x": -0.034923395067974816,
                          "y": -2.358236704929538,
                          "z": 0.5
                        }
                      }
                    }
                  }
                },
                {
                  "layout": {
                    "scene": {
                      "camera": {
                        "eye": {
                          "x": -0.046714092921224415,
                          "y": -2.358032610784369,
                          "z": 0.5
                        }
                      }
                    }
                  }
                },
                {
                  "layout": {
                    "scene": {
                      "camera": {
                        "eye": {
                          "x": -0.058503622924583,
                          "y": -2.357769565946744,
                          "z": 0.5
                        }
                      }
                    }
                  }
                },
                {
                  "layout": {
                    "scene": {
                      "camera": {
                        "eye": {
                          "x": -0.0702916903404156,
                          "y": -2.357447576992771,
                          "z": 0.5
                        }
                      }
                    }
                  }
                },
                {
                  "layout": {
                    "scene": {
                      "camera": {
                        "eye": {
                          "x": -0.08207800046765068,
                          "y": -2.357066651972157,
                          "z": 0.5
                        }
                      }
                    }
                  }
                },
                {
                  "layout": {
                    "scene": {
                      "camera": {
                        "eye": {
                          "x": -0.09386225864914977,
                          "y": -2.356626800408007,
                          "z": 0.5
                        }
                      }
                    }
                  }
                },
                {
                  "layout": {
                    "scene": {
                      "camera": {
                        "eye": {
                          "x": -0.10564417027907069,
                          "y": -2.3561280332965877,
                          "z": 0.5
                        }
                      }
                    }
                  }
                },
                {
                  "layout": {
                    "scene": {
                      "camera": {
                        "eye": {
                          "x": -0.11742344081023659,
                          "y": -2.3555703631070513,
                          "z": 0.5
                        }
                      }
                    }
                  }
                },
                {
                  "layout": {
                    "scene": {
                      "camera": {
                        "eye": {
                          "x": -0.12919977576149821,
                          "y": -2.3549538037811226,
                          "z": 0.5
                        }
                      }
                    }
                  }
                },
                {
                  "layout": {
                    "scene": {
                      "camera": {
                        "eye": {
                          "x": -0.14097288072509584,
                          "y": -2.3542783707327537,
                          "z": 0.5
                        }
                      }
                    }
                  }
                },
                {
                  "layout": {
                    "scene": {
                      "camera": {
                        "eye": {
                          "x": -0.15274246137401692,
                          "y": -2.353544080847734,
                          "z": 0.5
                        }
                      }
                    }
                  }
                },
                {
                  "layout": {
                    "scene": {
                      "camera": {
                        "eye": {
                          "x": -0.16450822346935867,
                          "y": -2.3527509524832744,
                          "z": 0.5
                        }
                      }
                    }
                  }
                },
                {
                  "layout": {
                    "scene": {
                      "camera": {
                        "eye": {
                          "x": -0.17626987286768192,
                          "y": -2.3518990054675415,
                          "z": 0.5
                        }
                      }
                    }
                  }
                },
                {
                  "layout": {
                    "scene": {
                      "camera": {
                        "eye": {
                          "x": -0.18802711552836526,
                          "y": -2.3509882610991664,
                          "z": 0.5
                        }
                      }
                    }
                  }
                },
                {
                  "layout": {
                    "scene": {
                      "camera": {
                        "eye": {
                          "x": -0.19977965752095228,
                          "y": -2.350018742146711,
                          "z": 0.5
                        }
                      }
                    }
                  }
                },
                {
                  "layout": {
                    "scene": {
                      "camera": {
                        "eye": {
                          "x": -0.21152720503250655,
                          "y": -2.348990472848099,
                          "z": 0.5
                        }
                      }
                    }
                  }
                },
                {
                  "layout": {
                    "scene": {
                      "camera": {
                        "eye": {
                          "x": -0.2232694643749522,
                          "y": -2.3479034789100086,
                          "z": 0.5
                        }
                      }
                    }
                  }
                },
                {
                  "layout": {
                    "scene": {
                      "camera": {
                        "eye": {
                          "x": -0.23500614199241787,
                          "y": -2.346757787507232,
                          "z": 0.5
                        }
                      }
                    }
                  }
                },
                {
                  "layout": {
                    "scene": {
                      "camera": {
                        "eye": {
                          "x": -0.24673694446857264,
                          "y": -2.345553427281995,
                          "z": 0.5
                        }
                      }
                    }
                  }
                },
                {
                  "layout": {
                    "scene": {
                      "camera": {
                        "eye": {
                          "x": -0.2584615785339668,
                          "y": -2.34429042834324,
                          "z": 0.5
                        }
                      }
                    }
                  }
                },
                {
                  "layout": {
                    "scene": {
                      "camera": {
                        "eye": {
                          "x": -0.2701797510733589,
                          "y": -2.3429688222658744,
                          "z": 0.5
                        }
                      }
                    }
                  }
                },
                {
                  "layout": {
                    "scene": {
                      "camera": {
                        "eye": {
                          "x": -0.281891169133047,
                          "y": -2.3415886420899814,
                          "z": 0.5
                        }
                      }
                    }
                  }
                },
                {
                  "layout": {
                    "scene": {
                      "camera": {
                        "eye": {
                          "x": -0.29359553992818765,
                          "y": -2.3401499223199944,
                          "z": 0.5
                        }
                      }
                    }
                  }
                },
                {
                  "layout": {
                    "scene": {
                      "camera": {
                        "eye": {
                          "x": -0.3052925708501216,
                          "y": -2.338652698923832,
                          "z": 0.5
                        }
                      }
                    }
                  }
                },
                {
                  "layout": {
                    "scene": {
                      "camera": {
                        "eye": {
                          "x": -0.31698196947368495,
                          "y": -2.337097009332001,
                          "z": 0.5
                        }
                      }
                    }
                  }
                },
                {
                  "layout": {
                    "scene": {
                      "camera": {
                        "eye": {
                          "x": -0.32866344356452093,
                          "y": -2.335482892436661,
                          "z": 0.5
                        }
                      }
                    }
                  }
                },
                {
                  "layout": {
                    "scene": {
                      "camera": {
                        "eye": {
                          "x": -0.3403367010863866,
                          "y": -2.333810388590649,
                          "z": 0.5
                        }
                      }
                    }
                  }
                },
                {
                  "layout": {
                    "scene": {
                      "camera": {
                        "eye": {
                          "x": -0.35200145020844975,
                          "y": -2.3320795396064753,
                          "z": 0.5
                        }
                      }
                    }
                  }
                },
                {
                  "layout": {
                    "scene": {
                      "camera": {
                        "eye": {
                          "x": -0.36365739931259145,
                          "y": -2.330290388755273,
                          "z": 0.5
                        }
                      }
                    }
                  }
                },
                {
                  "layout": {
                    "scene": {
                      "camera": {
                        "eye": {
                          "x": -0.3753042570006907,
                          "y": -2.328442980765722,
                          "z": 0.5
                        }
                      }
                    }
                  }
                },
                {
                  "layout": {
                    "scene": {
                      "camera": {
                        "eye": {
                          "x": -0.38694173210191296,
                          "y": -2.326537361822924,
                          "z": 0.5
                        }
                      }
                    }
                  }
                },
                {
                  "layout": {
                    "scene": {
                      "camera": {
                        "eye": {
                          "x": -0.3985695336799848,
                          "y": -2.3245735795672546,
                          "z": 0.5
                        }
                      }
                    }
                  }
                },
                {
                  "layout": {
                    "scene": {
                      "camera": {
                        "eye": {
                          "x": -0.41018737104047354,
                          "y": -2.3225516830931676,
                          "z": 0.5
                        }
                      }
                    }
                  }
                },
                {
                  "layout": {
                    "scene": {
                      "camera": {
                        "eye": {
                          "x": -0.4217949537380502,
                          "y": -2.320471722947969,
                          "z": 0.5
                        }
                      }
                    }
                  }
                },
                {
                  "layout": {
                    "scene": {
                      "camera": {
                        "eye": {
                          "x": -0.43339199158375297,
                          "y": -2.3183337511305546,
                          "z": 0.5
                        }
                      }
                    }
                  }
                },
                {
                  "layout": {
                    "scene": {
                      "camera": {
                        "eye": {
                          "x": -0.4449781946522374,
                          "y": -2.3161378210901082,
                          "z": 0.5
                        }
                      }
                    }
                  }
                },
                {
                  "layout": {
                    "scene": {
                      "camera": {
                        "eye": {
                          "x": -0.4565532732890316,
                          "y": -2.3138839877247674,
                          "z": 0.5
                        }
                      }
                    }
                  }
                },
                {
                  "layout": {
                    "scene": {
                      "camera": {
                        "eye": {
                          "x": -0.46811693811777233,
                          "y": -2.3115723073802474,
                          "z": 0.5
                        }
                      }
                    }
                  }
                },
                {
                  "layout": {
                    "scene": {
                      "camera": {
                        "eye": {
                          "x": -0.4796689000474421,
                          "y": -2.3092028378484377,
                          "z": 0.5
                        }
                      }
                    }
                  }
                },
                {
                  "layout": {
                    "scene": {
                      "camera": {
                        "eye": {
                          "x": -0.4912088702795926,
                          "y": -2.306775638365952,
                          "z": 0.5
                        }
                      }
                    }
                  }
                },
                {
                  "layout": {
                    "scene": {
                      "camera": {
                        "eye": {
                          "x": -0.5027365603155699,
                          "y": -2.3042907696126522,
                          "z": 0.5
                        }
                      }
                    }
                  }
                },
                {
                  "layout": {
                    "scene": {
                      "camera": {
                        "eye": {
                          "x": -0.5142516819637231,
                          "y": -2.3017482937101272,
                          "z": 0.5
                        }
                      }
                    }
                  }
                },
                {
                  "layout": {
                    "scene": {
                      "camera": {
                        "eye": {
                          "x": -0.5257539473466124,
                          "y": -2.2991482742201415,
                          "z": 0.5
                        }
                      }
                    }
                  }
                },
                {
                  "layout": {
                    "scene": {
                      "camera": {
                        "eye": {
                          "x": -0.5372430689082002,
                          "y": -2.296490776143048,
                          "z": 0.5
                        }
                      }
                    }
                  }
                },
                {
                  "layout": {
                    "scene": {
                      "camera": {
                        "eye": {
                          "x": -0.5487187594210464,
                          "y": -2.2937758659161593,
                          "z": 0.5
                        }
                      }
                    }
                  }
                },
                {
                  "layout": {
                    "scene": {
                      "camera": {
                        "eye": {
                          "x": -0.5601807319934864,
                          "y": -2.2910036114120906,
                          "z": 0.5
                        }
                      }
                    }
                  }
                },
                {
                  "layout": {
                    "scene": {
                      "camera": {
                        "eye": {
                          "x": -0.5716287000768034,
                          "y": -2.2881740819370595,
                          "z": 0.5
                        }
                      }
                    }
                  }
                },
                {
                  "layout": {
                    "scene": {
                      "camera": {
                        "eye": {
                          "x": -0.5830623774723899,
                          "y": -2.285287348229155,
                          "z": 0.5
                        }
                      }
                    }
                  }
                },
                {
                  "layout": {
                    "scene": {
                      "camera": {
                        "eye": {
                          "x": -0.5944814783389073,
                          "y": -2.2823434824565707,
                          "z": 0.5
                        }
                      }
                    }
                  }
                },
                {
                  "layout": {
                    "scene": {
                      "camera": {
                        "eye": {
                          "x": -0.6058857171994287,
                          "y": -2.279342558215797,
                          "z": 0.5
                        }
                      }
                    }
                  }
                },
                {
                  "layout": {
                    "scene": {
                      "camera": {
                        "eye": {
                          "x": -0.617274808948578,
                          "y": -2.276284650529783,
                          "z": 0.5
                        }
                      }
                    }
                  }
                },
                {
                  "layout": {
                    "scene": {
                      "camera": {
                        "eye": {
                          "x": -0.6286484688596519,
                          "y": -2.2731698358460624,
                          "z": 0.5
                        }
                      }
                    }
                  }
                },
                {
                  "layout": {
                    "scene": {
                      "camera": {
                        "eye": {
                          "x": -0.6400064125917465,
                          "y": -2.26999819203484,
                          "z": 0.5
                        }
                      }
                    }
                  }
                },
                {
                  "layout": {
                    "scene": {
                      "camera": {
                        "eye": {
                          "x": -0.6513483561968602,
                          "y": -2.266769798387046,
                          "z": 0.5
                        }
                      }
                    }
                  }
                },
                {
                  "layout": {
                    "scene": {
                      "camera": {
                        "eye": {
                          "x": -0.6626740161269931,
                          "y": -2.2634847356123524,
                          "z": 0.5
                        }
                      }
                    }
                  }
                },
                {
                  "layout": {
                    "scene": {
                      "camera": {
                        "eye": {
                          "x": -0.6739831092412378,
                          "y": -2.2601430858371585,
                          "z": 0.5
                        }
                      }
                    }
                  }
                },
                {
                  "layout": {
                    "scene": {
                      "camera": {
                        "eye": {
                          "x": -0.6852753528128542,
                          "y": -2.2567449326025346,
                          "z": 0.5
                        }
                      }
                    }
                  }
                },
                {
                  "layout": {
                    "scene": {
                      "camera": {
                        "eye": {
                          "x": -0.6965504645363415,
                          "y": -2.253290360862134,
                          "z": 0.5
                        }
                      }
                    }
                  }
                },
                {
                  "layout": {
                    "scene": {
                      "camera": {
                        "eye": {
                          "x": -0.7078081625344941,
                          "y": -2.249779456980071,
                          "z": 0.5
                        }
                      }
                    }
                  }
                },
                {
                  "layout": {
                    "scene": {
                      "camera": {
                        "eye": {
                          "x": -0.7190481653654484,
                          "y": -2.246212308728759,
                          "z": 0.5
                        }
                      }
                    }
                  }
                },
                {
                  "layout": {
                    "scene": {
                      "camera": {
                        "eye": {
                          "x": -0.7302701920297188,
                          "y": -2.2425890052867192,
                          "z": 0.5
                        }
                      }
                    }
                  }
                },
                {
                  "layout": {
                    "scene": {
                      "camera": {
                        "eye": {
                          "x": -0.7414739619772251,
                          "y": -2.238909637236348,
                          "z": 0.5
                        }
                      }
                    }
                  }
                },
                {
                  "layout": {
                    "scene": {
                      "camera": {
                        "eye": {
                          "x": -0.7526591951142988,
                          "y": -2.2351742965616563,
                          "z": 0.5
                        }
                      }
                    }
                  }
                },
                {
                  "layout": {
                    "scene": {
                      "camera": {
                        "eye": {
                          "x": -0.7638256118106955,
                          "y": -2.231383076645966,
                          "z": 0.5
                        }
                      }
                    }
                  }
                },
                {
                  "layout": {
                    "scene": {
                      "camera": {
                        "eye": {
                          "x": -0.7749729329065794,
                          "y": -2.2275360722695767,
                          "z": 0.5
                        }
                      }
                    }
                  }
                },
                {
                  "layout": {
                    "scene": {
                      "camera": {
                        "eye": {
                          "x": -0.7861008797195037,
                          "y": -2.223633379607399,
                          "z": 0.5
                        }
                      }
                    }
                  }
                },
                {
                  "layout": {
                    "scene": {
                      "camera": {
                        "eye": {
                          "x": -0.7972091740513778,
                          "y": -2.2196750962265446,
                          "z": 0.5
                        }
                      }
                    }
                  }
                },
                {
                  "layout": {
                    "scene": {
                      "camera": {
                        "eye": {
                          "x": -0.808297538195422,
                          "y": -2.2156613210838927,
                          "z": 0.5
                        }
                      }
                    }
                  }
                },
                {
                  "layout": {
                    "scene": {
                      "camera": {
                        "eye": {
                          "x": -0.8193656949431101,
                          "y": -2.2115921545236126,
                          "z": 0.5
                        }
                      }
                    }
                  }
                },
                {
                  "layout": {
                    "scene": {
                      "camera": {
                        "eye": {
                          "x": -0.8304133675911016,
                          "y": -2.2074676982746557,
                          "z": 0.5
                        }
                      }
                    }
                  }
                },
                {
                  "layout": {
                    "scene": {
                      "camera": {
                        "eye": {
                          "x": -0.8414402799481522,
                          "y": -2.2032880554482146,
                          "z": 0.5
                        }
                      }
                    }
                  }
                },
                {
                  "layout": {
                    "scene": {
                      "camera": {
                        "eye": {
                          "x": -0.852446156342029,
                          "y": -2.199053330535142,
                          "z": 0.5
                        }
                      }
                    }
                  }
                },
                {
                  "layout": {
                    "scene": {
                      "camera": {
                        "eye": {
                          "x": -0.8634307216263957,
                          "y": -2.19476362940334,
                          "z": 0.5
                        }
                      }
                    }
                  }
                },
                {
                  "layout": {
                    "scene": {
                      "camera": {
                        "eye": {
                          "x": -0.8743937011876919,
                          "y": -2.190419059295113,
                          "z": 0.5
                        }
                      }
                    }
                  }
                },
                {
                  "layout": {
                    "scene": {
                      "camera": {
                        "eye": {
                          "x": -0.8853348209519997,
                          "y": -2.1860197288244887,
                          "z": 0.5
                        }
                      }
                    }
                  }
                },
                {
                  "layout": {
                    "scene": {
                      "camera": {
                        "eye": {
                          "x": -0.8962538073918948,
                          "y": -2.1815657479744983,
                          "z": 0.5
                        }
                      }
                    }
                  }
                },
                {
                  "layout": {
                    "scene": {
                      "camera": {
                        "eye": {
                          "x": -0.9071503875332848,
                          "y": -2.177057228094432,
                          "z": 0.5
                        }
                      }
                    }
                  }
                },
                {
                  "layout": {
                    "scene": {
                      "camera": {
                        "eye": {
                          "x": -0.9180242889622341,
                          "y": -2.172494281897051,
                          "z": 0.5
                        }
                      }
                    }
                  }
                },
                {
                  "layout": {
                    "scene": {
                      "camera": {
                        "eye": {
                          "x": -0.9288752398317748,
                          "y": -2.167877023455773,
                          "z": 0.5
                        }
                      }
                    }
                  }
                },
                {
                  "layout": {
                    "scene": {
                      "camera": {
                        "eye": {
                          "x": -0.939702968868697,
                          "y": -2.1632055682018194,
                          "z": 0.5
                        }
                      }
                    }
                  }
                },
                {
                  "layout": {
                    "scene": {
                      "camera": {
                        "eye": {
                          "x": -0.95050720538034,
                          "y": -2.158480032921328,
                          "z": 0.5
                        }
                      }
                    }
                  }
                },
                {
                  "layout": {
                    "scene": {
                      "camera": {
                        "eye": {
                          "x": -0.9612876792613543,
                          "y": -2.1537005357524337,
                          "z": 0.5
                        }
                      }
                    }
                  }
                },
                {
                  "layout": {
                    "scene": {
                      "camera": {
                        "eye": {
                          "x": -0.9720441210004537,
                          "y": -2.1488671961823176,
                          "z": 0.5
                        }
                      }
                    }
                  }
                },
                {
                  "layout": {
                    "scene": {
                      "camera": {
                        "eye": {
                          "x": -0.9827762616871556,
                          "y": -2.143980135044217,
                          "z": 0.5
                        }
                      }
                    }
                  }
                },
                {
                  "layout": {
                    "scene": {
                      "camera": {
                        "eye": {
                          "x": -0.9934838330185014,
                          "y": -2.139039474514406,
                          "z": 0.5
                        }
                      }
                    }
                  }
                },
                {
                  "layout": {
                    "scene": {
                      "camera": {
                        "eye": {
                          "x": -1.0041665673057658,
                          "y": -2.13404533810914,
                          "z": 0.5
                        }
                      }
                    }
                  }
                },
                {
                  "layout": {
                    "scene": {
                      "camera": {
                        "eye": {
                          "x": -1.0148241974811498,
                          "y": -2.1289978506815688,
                          "z": 0.5
                        }
                      }
                    }
                  }
                },
                {
                  "layout": {
                    "scene": {
                      "camera": {
                        "eye": {
                          "x": -1.02545645710445,
                          "y": -2.123897138418617,
                          "z": 0.5
                        }
                      }
                    }
                  }
                },
                {
                  "layout": {
                    "scene": {
                      "camera": {
                        "eye": {
                          "x": -1.0360630803697317,
                          "y": -2.118743328837824,
                          "z": 0.5
                        }
                      }
                    }
                  }
                },
                {
                  "layout": {
                    "scene": {
                      "camera": {
                        "eye": {
                          "x": -1.046643802111966,
                          "y": -2.113536550784161,
                          "z": 0.5
                        }
                      }
                    }
                  }
                },
                {
                  "layout": {
                    "scene": {
                      "camera": {
                        "eye": {
                          "x": -1.0571983578136601,
                          "y": -2.1082769344268084,
                          "z": 0.5
                        }
                      }
                    }
                  }
                },
                {
                  "layout": {
                    "scene": {
                      "camera": {
                        "eye": {
                          "x": -1.0677264836114713,
                          "y": -2.102964611255901,
                          "z": 0.5
                        }
                      }
                    }
                  }
                },
                {
                  "layout": {
                    "scene": {
                      "camera": {
                        "eye": {
                          "x": -1.0782279163028028,
                          "y": -2.0975997140792417,
                          "z": 0.5
                        }
                      }
                    }
                  }
                },
                {
                  "layout": {
                    "scene": {
                      "camera": {
                        "eye": {
                          "x": -1.0887023933523845,
                          "y": -2.0921823770189802,
                          "z": 0.5
                        }
                      }
                    }
                  }
                },
                {
                  "layout": {
                    "scene": {
                      "camera": {
                        "eye": {
                          "x": -1.0991496528988374,
                          "y": -2.08671273550826,
                          "z": 0.5
                        }
                      }
                    }
                  }
                },
                {
                  "layout": {
                    "scene": {
                      "camera": {
                        "eye": {
                          "x": -1.1095694337612132,
                          "y": -2.081190926287836,
                          "z": 0.5
                        }
                      }
                    }
                  }
                },
                {
                  "layout": {
                    "scene": {
                      "camera": {
                        "eye": {
                          "x": -1.1199614754455351,
                          "y": -2.07561708740265,
                          "z": 0.5
                        }
                      }
                    }
                  }
                },
                {
                  "layout": {
                    "scene": {
                      "camera": {
                        "eye": {
                          "x": -1.1303255181513021,
                          "y": -2.069991358198384,
                          "z": 0.5
                        }
                      }
                    }
                  }
                },
                {
                  "layout": {
                    "scene": {
                      "camera": {
                        "eye": {
                          "x": -1.1406613027779864,
                          "y": -2.064313879317975,
                          "z": 0.5
                        }
                      }
                    }
                  }
                },
                {
                  "layout": {
                    "scene": {
                      "camera": {
                        "eye": {
                          "x": -1.1509685709315105,
                          "y": -2.0585847926980994,
                          "z": 0.5
                        }
                      }
                    }
                  }
                },
                {
                  "layout": {
                    "scene": {
                      "camera": {
                        "eye": {
                          "x": -1.1612470649307078,
                          "y": -2.052804241565624,
                          "z": 0.5
                        }
                      }
                    }
                  }
                },
                {
                  "layout": {
                    "scene": {
                      "camera": {
                        "eye": {
                          "x": -1.1714965278137632,
                          "y": -2.0469723704340264,
                          "z": 0.5
                        }
                      }
                    }
                  }
                },
                {
                  "layout": {
                    "scene": {
                      "camera": {
                        "eye": {
                          "x": -1.1817167033446387,
                          "y": -2.041089325099781,
                          "z": 0.5
                        }
                      }
                    }
                  }
                },
                {
                  "layout": {
                    "scene": {
                      "camera": {
                        "eye": {
                          "x": -1.1919073360194803,
                          "y": -2.0351552526387136,
                          "z": 0.5
                        }
                      }
                    }
                  }
                },
                {
                  "layout": {
                    "scene": {
                      "camera": {
                        "eye": {
                          "x": -1.2020681710729977,
                          "y": -2.0291703014023286,
                          "z": 0.5
                        }
                      }
                    }
                  }
                },
                {
                  "layout": {
                    "scene": {
                      "camera": {
                        "eye": {
                          "x": -1.2121989544848462,
                          "y": -2.023134621014095,
                          "z": 0.5
                        }
                      }
                    }
                  }
                },
                {
                  "layout": {
                    "scene": {
                      "camera": {
                        "eye": {
                          "x": -1.2222994329859678,
                          "y": -2.017048362365707,
                          "z": 0.5
                        }
                      }
                    }
                  }
                },
                {
                  "layout": {
                    "scene": {
                      "camera": {
                        "eye": {
                          "x": -1.232369354064926,
                          "y": -2.010911677613315,
                          "z": 0.5
                        }
                      }
                    }
                  }
                },
                {
                  "layout": {
                    "scene": {
                      "camera": {
                        "eye": {
                          "x": -1.2424084659742185,
                          "y": -2.0047247201737175,
                          "z": 0.5
                        }
                      }
                    }
                  }
                },
                {
                  "layout": {
                    "scene": {
                      "camera": {
                        "eye": {
                          "x": -1.2524165177365707,
                          "y": -1.9984876447205278,
                          "z": 0.5
                        }
                      }
                    }
                  }
                },
                {
                  "layout": {
                    "scene": {
                      "camera": {
                        "eye": {
                          "x": -1.2623932591512088,
                          "y": -1.9922006071803082,
                          "z": 0.5
                        }
                      }
                    }
                  }
                },
                {
                  "layout": {
                    "scene": {
                      "camera": {
                        "eye": {
                          "x": -1.27233844080012,
                          "y": -1.985863764728668,
                          "z": 0.5
                        }
                      }
                    }
                  }
                },
                {
                  "layout": {
                    "scene": {
                      "camera": {
                        "eye": {
                          "x": -1.282251814054277,
                          "y": -1.9794772757863417,
                          "z": 0.5
                        }
                      }
                    }
                  }
                },
                {
                  "layout": {
                    "scene": {
                      "camera": {
                        "eye": {
                          "x": -1.2921331310798663,
                          "y": -1.9730413000152178,
                          "z": 0.5
                        }
                      }
                    }
                  }
                },
                {
                  "layout": {
                    "scene": {
                      "camera": {
                        "eye": {
                          "x": -1.3019821448444775,
                          "y": -1.9665559983143563,
                          "z": 0.5
                        }
                      }
                    }
                  }
                },
                {
                  "layout": {
                    "scene": {
                      "camera": {
                        "eye": {
                          "x": -1.3117986091232787,
                          "y": -1.9600215328159616,
                          "z": 0.5
                        }
                      }
                    }
                  }
                },
                {
                  "layout": {
                    "scene": {
                      "camera": {
                        "eye": {
                          "x": -1.3215822785051747,
                          "y": -1.953438066881331,
                          "z": 0.5
                        }
                      }
                    }
                  }
                },
                {
                  "layout": {
                    "scene": {
                      "camera": {
                        "eye": {
                          "x": -1.3313329083989405,
                          "y": -1.9468057650967694,
                          "z": 0.5
                        }
                      }
                    }
                  }
                },
                {
                  "layout": {
                    "scene": {
                      "camera": {
                        "eye": {
                          "x": -1.3410502550393364,
                          "y": -1.940124793269477,
                          "z": 0.5
                        }
                      }
                    }
                  }
                },
                {
                  "layout": {
                    "scene": {
                      "camera": {
                        "eye": {
                          "x": -1.3507340754932047,
                          "y": -1.9333953184233994,
                          "z": 0.5
                        }
                      }
                    }
                  }
                },
                {
                  "layout": {
                    "scene": {
                      "camera": {
                        "eye": {
                          "x": -1.3603841276655342,
                          "y": -1.92661750879506,
                          "z": 0.5
                        }
                      }
                    }
                  }
                },
                {
                  "layout": {
                    "scene": {
                      "camera": {
                        "eye": {
                          "x": -1.3700001703055256,
                          "y": -1.9197915338293454,
                          "z": 0.5
                        }
                      }
                    }
                  }
                },
                {
                  "layout": {
                    "scene": {
                      "camera": {
                        "eye": {
                          "x": -1.3795819630126134,
                          "y": -1.9129175641752743,
                          "z": 0.5
                        }
                      }
                    }
                  }
                },
                {
                  "layout": {
                    "scene": {
                      "camera": {
                        "eye": {
                          "x": -1.389129266242479,
                          "y": -1.9059957716817295,
                          "z": 0.5
                        }
                      }
                    }
                  }
                },
                {
                  "layout": {
                    "scene": {
                      "camera": {
                        "eye": {
                          "x": -1.398641841313039,
                          "y": -1.8990263293931635,
                          "z": 0.5
                        }
                      }
                    }
                  }
                },
                {
                  "layout": {
                    "scene": {
                      "camera": {
                        "eye": {
                          "x": -1.408119450410412,
                          "y": -1.8920094115452701,
                          "z": 0.5
                        }
                      }
                    }
                  }
                },
                {
                  "layout": {
                    "scene": {
                      "camera": {
                        "eye": {
                          "x": -1.4175618565948644,
                          "y": -1.8849451935606303,
                          "z": 0.5
                        }
                      }
                    }
                  }
                },
                {
                  "layout": {
                    "scene": {
                      "camera": {
                        "eye": {
                          "x": -1.4269688238067348,
                          "y": -1.8778338520443238,
                          "z": 0.5
                        }
                      }
                    }
                  }
                },
                {
                  "layout": {
                    "scene": {
                      "camera": {
                        "eye": {
                          "x": -1.4363401168723295,
                          "y": -1.8706755647795217,
                          "z": 0.5
                        }
                      }
                    }
                  }
                },
                {
                  "layout": {
                    "scene": {
                      "camera": {
                        "eye": {
                          "x": -1.445675501509812,
                          "y": -1.863470510723031,
                          "z": 0.5
                        }
                      }
                    }
                  }
                },
                {
                  "layout": {
                    "scene": {
                      "camera": {
                        "eye": {
                          "x": -1.4549747443350518,
                          "y": -1.856218870000828,
                          "z": 0.5
                        }
                      }
                    }
                  }
                },
                {
                  "layout": {
                    "scene": {
                      "camera": {
                        "eye": {
                          "x": -1.4642376128674637,
                          "y": -1.8489208239035528,
                          "z": 0.5
                        }
                      }
                    }
                  }
                },
                {
                  "layout": {
                    "scene": {
                      "camera": {
                        "eye": {
                          "x": -1.4734638755358156,
                          "y": -1.8415765548819778,
                          "z": 0.5
                        }
                      }
                    }
                  }
                },
                {
                  "layout": {
                    "scene": {
                      "camera": {
                        "eye": {
                          "x": -1.4826533016840222,
                          "y": -1.8341862465424463,
                          "z": 0.5
                        }
                      }
                    }
                  }
                },
                {
                  "layout": {
                    "scene": {
                      "camera": {
                        "eye": {
                          "x": -1.4918056615769082,
                          "y": -1.8267500836422816,
                          "z": 0.5
                        }
                      }
                    }
                  }
                },
                {
                  "layout": {
                    "scene": {
                      "camera": {
                        "eye": {
                          "x": -1.5009207264059532,
                          "y": -1.8192682520851693,
                          "z": 0.5
                        }
                      }
                    }
                  }
                },
                {
                  "layout": {
                    "scene": {
                      "camera": {
                        "eye": {
                          "x": -1.509998268295012,
                          "y": -1.8117409389165064,
                          "z": 0.5
                        }
                      }
                    }
                  }
                },
                {
                  "layout": {
                    "scene": {
                      "camera": {
                        "eye": {
                          "x": -1.519038060306008,
                          "y": -1.8041683323187339,
                          "z": 0.5
                        }
                      }
                    }
                  }
                },
                {
                  "layout": {
                    "scene": {
                      "camera": {
                        "eye": {
                          "x": -1.5280398764446126,
                          "y": -1.7965506216066203,
                          "z": 0.5
                        }
                      }
                    }
                  }
                },
                {
                  "layout": {
                    "scene": {
                      "camera": {
                        "eye": {
                          "x": -1.5370034916658915,
                          "y": -1.7888879972225367,
                          "z": 0.5
                        }
                      }
                    }
                  }
                },
                {
                  "layout": {
                    "scene": {
                      "camera": {
                        "eye": {
                          "x": -1.545928681879931,
                          "y": -1.7811806507316936,
                          "z": 0.5
                        }
                      }
                    }
                  }
                },
                {
                  "layout": {
                    "scene": {
                      "camera": {
                        "eye": {
                          "x": -1.5548152239574402,
                          "y": -1.773428774817352,
                          "z": 0.5
                        }
                      }
                    }
                  }
                },
                {
                  "layout": {
                    "scene": {
                      "camera": {
                        "eye": {
                          "x": -1.5636628957353307,
                          "y": -1.7656325632760062,
                          "z": 0.5
                        }
                      }
                    }
                  }
                },
                {
                  "layout": {
                    "scene": {
                      "camera": {
                        "eye": {
                          "x": -1.5724714760222684,
                          "y": -1.7577922110125384,
                          "z": 0.5
                        }
                      }
                    }
                  }
                },
                {
                  "layout": {
                    "scene": {
                      "camera": {
                        "eye": {
                          "x": -1.581240744604207,
                          "y": -1.7499079140353455,
                          "z": 0.5
                        }
                      }
                    }
                  }
                },
                {
                  "layout": {
                    "scene": {
                      "camera": {
                        "eye": {
                          "x": -1.5899704822498846,
                          "y": -1.741979869451444,
                          "z": 0.5
                        }
                      }
                    }
                  }
                },
                {
                  "layout": {
                    "scene": {
                      "camera": {
                        "eye": {
                          "x": -1.598660470716317,
                          "y": -1.7340082754615342,
                          "z": 0.5
                        }
                      }
                    }
                  }
                },
                {
                  "layout": {
                    "scene": {
                      "camera": {
                        "eye": {
                          "x": -1.607310492754245,
                          "y": -1.7259933313550508,
                          "z": 0.5
                        }
                      }
                    }
                  }
                },
                {
                  "layout": {
                    "scene": {
                      "camera": {
                        "eye": {
                          "x": -1.6159203321135682,
                          "y": -1.7179352375051788,
                          "z": 0.5
                        }
                      }
                    }
                  }
                },
                {
                  "layout": {
                    "scene": {
                      "camera": {
                        "eye": {
                          "x": -1.6244897735487511,
                          "y": -1.7098341953638452,
                          "z": 0.5
                        }
                      }
                    }
                  }
                },
                {
                  "layout": {
                    "scene": {
                      "camera": {
                        "eye": {
                          "x": -1.6330186028242037,
                          "y": -1.701690407456681,
                          "z": 0.5
                        }
                      }
                    }
                  }
                },
                {
                  "layout": {
                    "scene": {
                      "camera": {
                        "eye": {
                          "x": -1.641506606719639,
                          "y": -1.6935040773779602,
                          "z": 0.5
                        }
                      }
                    }
                  }
                },
                {
                  "layout": {
                    "scene": {
                      "camera": {
                        "eye": {
                          "x": -1.649953573035403,
                          "y": -1.6852754097855067,
                          "z": 0.5
                        }
                      }
                    }
                  }
                },
                {
                  "layout": {
                    "scene": {
                      "camera": {
                        "eye": {
                          "x": -1.6583592905977744,
                          "y": -1.6770046103955847,
                          "z": 0.5
                        }
                      }
                    }
                  }
                },
                {
                  "layout": {
                    "scene": {
                      "camera": {
                        "eye": {
                          "x": -1.6667235492642538,
                          "y": -1.6686918859777466,
                          "z": 0.5
                        }
                      }
                    }
                  }
                },
                {
                  "layout": {
                    "scene": {
                      "camera": {
                        "eye": {
                          "x": -1.67504613992881,
                          "y": -1.6603374443496701,
                          "z": 0.5
                        }
                      }
                    }
                  }
                },
                {
                  "layout": {
                    "scene": {
                      "camera": {
                        "eye": {
                          "x": -1.6833268545271096,
                          "y": -1.651941494371961,
                          "z": 0.5
                        }
                      }
                    }
                  }
                },
                {
                  "layout": {
                    "scene": {
                      "camera": {
                        "eye": {
                          "x": -1.6915654860417195,
                          "y": -1.6435042459429305,
                          "z": 0.5
                        }
                      }
                    }
                  }
                },
                {
                  "layout": {
                    "scene": {
                      "camera": {
                        "eye": {
                          "x": -1.6997618285072806,
                          "y": -1.635025909993351,
                          "z": 0.5
                        }
                      }
                    }
                  }
                },
                {
                  "layout": {
                    "scene": {
                      "camera": {
                        "eye": {
                          "x": -1.7079156770156583,
                          "y": -1.6265066984811793,
                          "z": 0.5
                        }
                      }
                    }
                  }
                },
                {
                  "layout": {
                    "scene": {
                      "camera": {
                        "eye": {
                          "x": -1.7160268277210644,
                          "y": -1.6179468243862591,
                          "z": 0.5
                        }
                      }
                    }
                  }
                },
                {
                  "layout": {
                    "scene": {
                      "camera": {
                        "eye": {
                          "x": -1.7240950778451551,
                          "y": -1.609346501704996,
                          "z": 0.5
                        }
                      }
                    }
                  }
                },
                {
                  "layout": {
                    "scene": {
                      "camera": {
                        "eye": {
                          "x": -1.732120225682095,
                          "y": -1.6007059454450114,
                          "z": 0.5
                        }
                      }
                    }
                  }
                },
                {
                  "layout": {
                    "scene": {
                      "camera": {
                        "eye": {
                          "x": -1.7401020706036072,
                          "y": -1.5920253716197612,
                          "z": 0.5
                        }
                      }
                    }
                  }
                },
                {
                  "layout": {
                    "scene": {
                      "camera": {
                        "eye": {
                          "x": -1.7480404130639848,
                          "y": -1.5833049972431383,
                          "z": 0.5
                        }
                      }
                    }
                  }
                },
                {
                  "layout": {
                    "scene": {
                      "camera": {
                        "eye": {
                          "x": -1.7559350546050791,
                          "y": -1.574545040324048,
                          "z": 0.5
                        }
                      }
                    }
                  }
                },
                {
                  "layout": {
                    "scene": {
                      "camera": {
                        "eye": {
                          "x": -1.7637857978612634,
                          "y": -1.5657457198609568,
                          "z": 0.5
                        }
                      }
                    }
                  }
                },
                {
                  "layout": {
                    "scene": {
                      "camera": {
                        "eye": {
                          "x": -1.7715924465643649,
                          "y": -1.5569072558364185,
                          "z": 0.5
                        }
                      }
                    }
                  }
                },
                {
                  "layout": {
                    "scene": {
                      "camera": {
                        "eye": {
                          "x": -1.7793548055485726,
                          "y": -1.5480298692115733,
                          "z": 0.5
                        }
                      }
                    }
                  }
                },
                {
                  "layout": {
                    "scene": {
                      "camera": {
                        "eye": {
                          "x": -1.7870726807553179,
                          "y": -1.5391137819206224,
                          "z": 0.5
                        }
                      }
                    }
                  }
                },
                {
                  "layout": {
                    "scene": {
                      "camera": {
                        "eye": {
                          "x": -1.7947458792381192,
                          "y": -1.5301592168652876,
                          "z": 0.5
                        }
                      }
                    }
                  }
                },
                {
                  "layout": {
                    "scene": {
                      "camera": {
                        "eye": {
                          "x": -1.8023742091674162,
                          "y": -1.5211663979092265,
                          "z": 0.5
                        }
                      }
                    }
                  }
                },
                {
                  "layout": {
                    "scene": {
                      "camera": {
                        "eye": {
                          "x": -1.8099574798353573,
                          "y": -1.5121355498724451,
                          "z": 0.5
                        }
                      }
                    }
                  }
                },
                {
                  "layout": {
                    "scene": {
                      "camera": {
                        "eye": {
                          "x": -1.8174955016605712,
                          "y": -1.5030668985256743,
                          "z": 0.5
                        }
                      }
                    }
                  }
                },
                {
                  "layout": {
                    "scene": {
                      "camera": {
                        "eye": {
                          "x": -1.8249880861929044,
                          "y": -1.4939606705847246,
                          "z": 0.5
                        }
                      }
                    }
                  }
                },
                {
                  "layout": {
                    "scene": {
                      "camera": {
                        "eye": {
                          "x": -1.8324350461181345,
                          "y": -1.4848170937048208,
                          "z": 0.5
                        }
                      }
                    }
                  }
                },
                {
                  "layout": {
                    "scene": {
                      "camera": {
                        "eye": {
                          "x": -1.8398361952626507,
                          "y": -1.4756363964749084,
                          "z": 0.5
                        }
                      }
                    }
                  }
                },
                {
                  "layout": {
                    "scene": {
                      "camera": {
                        "eye": {
                          "x": -1.8471913485981115,
                          "y": -1.4664188084119385,
                          "z": 0.5
                        }
                      }
                    }
                  }
                },
                {
                  "layout": {
                    "scene": {
                      "camera": {
                        "eye": {
                          "x": -1.8545003222460639,
                          "y": -1.4571645599551362,
                          "z": 0.5
                        }
                      }
                    }
                  }
                },
                {
                  "layout": {
                    "scene": {
                      "camera": {
                        "eye": {
                          "x": -1.8617629334825485,
                          "y": -1.4478738824602286,
                          "z": 0.5
                        }
                      }
                    }
                  }
                },
                {
                  "layout": {
                    "scene": {
                      "camera": {
                        "eye": {
                          "x": -1.8689790007426628,
                          "y": -1.4385470081936695,
                          "z": 0.5
                        }
                      }
                    }
                  }
                },
                {
                  "layout": {
                    "scene": {
                      "camera": {
                        "eye": {
                          "x": -1.8761483436251012,
                          "y": -1.4291841703268302,
                          "z": 0.5
                        }
                      }
                    }
                  }
                },
                {
                  "layout": {
                    "scene": {
                      "camera": {
                        "eye": {
                          "x": -1.8832707828966648,
                          "y": -1.419785602930169,
                          "z": 0.5
                        }
                      }
                    }
                  }
                },
                {
                  "layout": {
                    "scene": {
                      "camera": {
                        "eye": {
                          "x": -1.890346140496743,
                          "y": -1.4103515409673817,
                          "z": 0.5
                        }
                      }
                    }
                  }
                },
                {
                  "layout": {
                    "scene": {
                      "camera": {
                        "eye": {
                          "x": -1.8973742395417643,
                          "y": -1.400882220289526,
                          "z": 0.5
                        }
                      }
                    }
                  }
                },
                {
                  "layout": {
                    "scene": {
                      "camera": {
                        "eye": {
                          "x": -1.9043549043296184,
                          "y": -1.3913778776291255,
                          "z": 0.5
                        }
                      }
                    }
                  }
                },
                {
                  "layout": {
                    "scene": {
                      "camera": {
                        "eye": {
                          "x": -1.9112879603440507,
                          "y": -1.3818387505942504,
                          "z": 0.5
                        }
                      }
                    }
                  }
                },
                {
                  "layout": {
                    "scene": {
                      "camera": {
                        "eye": {
                          "x": -1.9181732342590194,
                          "y": -1.3722650776625827,
                          "z": 0.5
                        }
                      }
                    }
                  }
                },
                {
                  "layout": {
                    "scene": {
                      "camera": {
                        "eye": {
                          "x": -1.9250105539430362,
                          "y": -1.3626570981754453,
                          "z": 0.5
                        }
                      }
                    }
                  }
                },
                {
                  "layout": {
                    "scene": {
                      "camera": {
                        "eye": {
                          "x": -1.9317997484634652,
                          "y": -1.3530150523318254,
                          "z": 0.5
                        }
                      }
                    }
                  }
                },
                {
                  "layout": {
                    "scene": {
                      "camera": {
                        "eye": {
                          "x": -1.9385406480907974,
                          "y": -1.3433391811823667,
                          "z": 0.5
                        }
                      }
                    }
                  }
                },
                {
                  "layout": {
                    "scene": {
                      "camera": {
                        "eye": {
                          "x": -1.9452330843028929,
                          "y": -1.333629726623344,
                          "z": 0.5
                        }
                      }
                    }
                  }
                },
                {
                  "layout": {
                    "scene": {
                      "camera": {
                        "eye": {
                          "x": -1.9518768897891947,
                          "y": -1.3238869313906152,
                          "z": 0.5
                        }
                      }
                    }
                  }
                },
                {
                  "layout": {
                    "scene": {
                      "camera": {
                        "eye": {
                          "x": -1.958471898454912,
                          "y": -1.3141110390535544,
                          "z": 0.5
                        }
                      }
                    }
                  }
                },
                {
                  "layout": {
                    "scene": {
                      "camera": {
                        "eye": {
                          "x": -1.965017945425173,
                          "y": -1.3043022940089586,
                          "z": 0.5
                        }
                      }
                    }
                  }
                },
                {
                  "layout": {
                    "scene": {
                      "camera": {
                        "eye": {
                          "x": -1.9715148670491416,
                          "y": -1.2944609414749468,
                          "z": 0.5
                        }
                      }
                    }
                  }
                },
                {
                  "layout": {
                    "scene": {
                      "camera": {
                        "eye": {
                          "x": -1.9779625009041168,
                          "y": -1.2845872274848176,
                          "z": 0.5
                        }
                      }
                    }
                  }
                },
                {
                  "layout": {
                    "scene": {
                      "camera": {
                        "eye": {
                          "x": -1.9843606857995884,
                          "y": -1.2746813988809071,
                          "z": 0.5
                        }
                      }
                    }
                  }
                },
                {
                  "layout": {
                    "scene": {
                      "camera": {
                        "eye": {
                          "x": -1.9907092617812672,
                          "y": -1.2647437033084141,
                          "z": 0.5
                        }
                      }
                    }
                  }
                },
                {
                  "layout": {
                    "scene": {
                      "camera": {
                        "eye": {
                          "x": -1.997008070135084,
                          "y": -1.2547743892092107,
                          "z": 0.5
                        }
                      }
                    }
                  }
                },
                {
                  "layout": {
                    "scene": {
                      "camera": {
                        "eye": {
                          "x": -2.0032569533911584,
                          "y": -1.2447737058156294,
                          "z": 0.5
                        }
                      }
                    }
                  }
                },
                {
                  "layout": {
                    "scene": {
                      "camera": {
                        "eye": {
                          "x": -2.0094557553277337,
                          "y": -1.2347419031442348,
                          "z": 0.5
                        }
                      }
                    }
                  }
                },
                {
                  "layout": {
                    "scene": {
                      "camera": {
                        "eye": {
                          "x": -2.0156043209750867,
                          "y": -1.2246792319895692,
                          "z": 0.5
                        }
                      }
                    }
                  }
                },
                {
                  "layout": {
                    "scene": {
                      "camera": {
                        "eye": {
                          "x": -2.0217024966193926,
                          "y": -1.214585943917891,
                          "z": 0.5
                        }
                      }
                    }
                  }
                },
                {
                  "layout": {
                    "scene": {
                      "camera": {
                        "eye": {
                          "x": -2.0277501298065808,
                          "y": -1.2044622912608745,
                          "z": 0.5
                        }
                      }
                    }
                  }
                },
                {
                  "layout": {
                    "scene": {
                      "camera": {
                        "eye": {
                          "x": -2.0337470693461355,
                          "y": -1.1943085271093088,
                          "z": 0.5
                        }
                      }
                    }
                  }
                },
                {
                  "layout": {
                    "scene": {
                      "camera": {
                        "eye": {
                          "x": -2.03969316531488,
                          "y": -1.1841249053067688,
                          "z": 0.5
                        }
                      }
                    }
                  }
                },
                {
                  "layout": {
                    "scene": {
                      "camera": {
                        "eye": {
                          "x": -2.0455882690607265,
                          "y": -1.1739116804432694,
                          "z": 0.5
                        }
                      }
                    }
                  }
                },
                {
                  "layout": {
                    "scene": {
                      "camera": {
                        "eye": {
                          "x": -2.0514322332063872,
                          "y": -1.1636691078489,
                          "z": 0.5
                        }
                      }
                    }
                  }
                },
                {
                  "layout": {
                    "scene": {
                      "camera": {
                        "eye": {
                          "x": -2.057224911653063,
                          "y": -1.1533974435874421,
                          "z": 0.5
                        }
                      }
                    }
                  }
                },
                {
                  "layout": {
                    "scene": {
                      "camera": {
                        "eye": {
                          "x": -2.0629661595840947,
                          "y": -1.1430969444499672,
                          "z": 0.5
                        }
                      }
                    }
                  }
                },
                {
                  "layout": {
                    "scene": {
                      "camera": {
                        "eye": {
                          "x": -2.0686558334685836,
                          "y": -1.1327678679484157,
                          "z": 0.5
                        }
                      }
                    }
                  }
                },
                {
                  "layout": {
                    "scene": {
                      "camera": {
                        "eye": {
                          "x": -2.0742937910649775,
                          "y": -1.1224104723091652,
                          "z": 0.5
                        }
                      }
                    }
                  }
                },
                {
                  "layout": {
                    "scene": {
                      "camera": {
                        "eye": {
                          "x": -2.0798798914246306,
                          "y": -1.1120250164665664,
                          "z": 0.5
                        }
                      }
                    }
                  }
                },
                {
                  "layout": {
                    "scene": {
                      "camera": {
                        "eye": {
                          "x": -2.085413994895325,
                          "y": -1.1016117600564734,
                          "z": 0.5
                        }
                      }
                    }
                  }
                },
                {
                  "layout": {
                    "scene": {
                      "camera": {
                        "eye": {
                          "x": -2.0908959631247623,
                          "y": -1.0911709634097544,
                          "z": 0.5
                        }
                      }
                    }
                  }
                },
                {
                  "layout": {
                    "scene": {
                      "camera": {
                        "eye": {
                          "x": -2.0963256590640222,
                          "y": -1.0807028875457823,
                          "z": 0.5
                        }
                      }
                    }
                  }
                },
                {
                  "layout": {
                    "scene": {
                      "camera": {
                        "eye": {
                          "x": -2.101702946970989,
                          "y": -1.070207794165908,
                          "z": 0.5
                        }
                      }
                    }
                  }
                },
                {
                  "layout": {
                    "scene": {
                      "camera": {
                        "eye": {
                          "x": -2.1070276924137454,
                          "y": -1.0596859456469194,
                          "z": 0.5
                        }
                      }
                    }
                  }
                },
                {
                  "layout": {
                    "scene": {
                      "camera": {
                        "eye": {
                          "x": -2.1122997622739335,
                          "y": -1.04913760503448,
                          "z": 0.5
                        }
                      }
                    }
                  }
                },
                {
                  "layout": {
                    "scene": {
                      "camera": {
                        "eye": {
                          "x": -2.117519024750079,
                          "y": -1.038563036036559,
                          "z": 0.5
                        }
                      }
                    }
                  }
                },
                {
                  "layout": {
                    "scene": {
                      "camera": {
                        "eye": {
                          "x": -2.122685349360893,
                          "y": -1.0279625030168287,
                          "z": 0.5
                        }
                      }
                    }
                  }
                },
                {
                  "layout": {
                    "scene": {
                      "camera": {
                        "eye": {
                          "x": -2.1277986069485295,
                          "y": -1.017336270988063,
                          "z": 0.5
                        }
                      }
                    }
                  }
                },
                {
                  "layout": {
                    "scene": {
                      "camera": {
                        "eye": {
                          "x": -2.132858669681815,
                          "y": -1.0066846056055083,
                          "z": 0.5
                        }
                      }
                    }
                  }
                },
                {
                  "layout": {
                    "scene": {
                      "camera": {
                        "eye": {
                          "x": -2.137865411059445,
                          "y": -0.9960077731602451,
                          "z": 0.5
                        }
                      }
                    }
                  }
                },
                {
                  "layout": {
                    "scene": {
                      "camera": {
                        "eye": {
                          "x": -2.1428187059131454,
                          "y": -0.9853060405725285,
                          "z": 0.5
                        }
                      }
                    }
                  }
                },
                {
                  "layout": {
                    "scene": {
                      "camera": {
                        "eye": {
                          "x": -2.1477184304108032,
                          "y": -0.9745796753851155,
                          "z": 0.5
                        }
                      }
                    }
                  }
                },
                {
                  "layout": {
                    "scene": {
                      "camera": {
                        "eye": {
                          "x": -2.1525644620595616,
                          "y": -0.9638289457565751,
                          "z": 0.5
                        }
                      }
                    }
                  }
                },
                {
                  "layout": {
                    "scene": {
                      "camera": {
                        "eye": {
                          "x": -2.15735667970888,
                          "y": -0.9530541204545921,
                          "z": 0.5
                        }
                      }
                    }
                  }
                },
                {
                  "layout": {
                    "scene": {
                      "camera": {
                        "eye": {
                          "x": -2.1620949635535687,
                          "y": -0.9422554688492362,
                          "z": 0.5
                        }
                      }
                    }
                  }
                },
                {
                  "layout": {
                    "scene": {
                      "camera": {
                        "eye": {
                          "x": -2.166779195136777,
                          "y": -0.9314332609062344,
                          "z": 0.5
                        }
                      }
                    }
                  }
                },
                {
                  "layout": {
                    "scene": {
                      "camera": {
                        "eye": {
                          "x": -2.17140925735296,
                          "y": -0.9205877671802223,
                          "z": 0.5
                        }
                      }
                    }
                  }
                },
                {
                  "layout": {
                    "scene": {
                      "camera": {
                        "eye": {
                          "x": -2.1759850344508034,
                          "y": -0.9097192588079779,
                          "z": 0.5
                        }
                      }
                    }
                  }
                },
                {
                  "layout": {
                    "scene": {
                      "camera": {
                        "eye": {
                          "x": -2.180506412036118,
                          "y": -0.8988280075016445,
                          "z": 0.5
                        }
                      }
                    }
                  }
                },
                {
                  "layout": {
                    "scene": {
                      "camera": {
                        "eye": {
                          "x": -2.1849732770746995,
                          "y": -0.8879142855419375,
                          "z": 0.5
                        }
                      }
                    }
                  }
                },
                {
                  "layout": {
                    "scene": {
                      "camera": {
                        "eye": {
                          "x": -2.189385517895155,
                          "y": -0.8769783657713375,
                          "z": 0.5
                        }
                      }
                    }
                  }
                },
                {
                  "layout": {
                    "scene": {
                      "camera": {
                        "eye": {
                          "x": -2.1937430241916935,
                          "y": -0.866020521587267,
                          "z": 0.5
                        }
                      }
                    }
                  }
                },
                {
                  "layout": {
                    "scene": {
                      "camera": {
                        "eye": {
                          "x": -2.1980456870268847,
                          "y": -0.855041026935264,
                          "z": 0.5
                        }
                      }
                    }
                  }
                },
                {
                  "layout": {
                    "scene": {
                      "camera": {
                        "eye": {
                          "x": -2.202293398834381,
                          "y": -0.8440401563021211,
                          "z": 0.5
                        }
                      }
                    }
                  }
                },
                {
                  "layout": {
                    "scene": {
                      "camera": {
                        "eye": {
                          "x": -2.2064860534216097,
                          "y": -0.833018184709031,
                          "z": 0.5
                        }
                      }
                    }
                  }
                },
                {
                  "layout": {
                    "scene": {
                      "camera": {
                        "eye": {
                          "x": -2.2106235459724237,
                          "y": -0.8219753877047095,
                          "z": 0.5
                        }
                      }
                    }
                  }
                },
                {
                  "layout": {
                    "scene": {
                      "camera": {
                        "eye": {
                          "x": -2.214705773049725,
                          "y": -0.8109120413585065,
                          "z": 0.5
                        }
                      }
                    }
                  }
                },
                {
                  "layout": {
                    "scene": {
                      "camera": {
                        "eye": {
                          "x": -2.218732632598049,
                          "y": -0.7998284222535044,
                          "z": 0.5
                        }
                      }
                    }
                  }
                },
                {
                  "layout": {
                    "scene": {
                      "camera": {
                        "eye": {
                          "x": -2.2227040239461173,
                          "y": -0.7887248074796039,
                          "z": 0.5
                        }
                      }
                    }
                  }
                },
                {
                  "layout": {
                    "scene": {
                      "camera": {
                        "eye": {
                          "x": -2.2266198478093533,
                          "y": -0.7776014746265937,
                          "z": 0.5
                        }
                      }
                    }
                  }
                },
                {
                  "layout": {
                    "scene": {
                      "camera": {
                        "eye": {
                          "x": -2.2304800062923626,
                          "y": -0.76645870177722,
                          "z": 0.5
                        }
                      }
                    }
                  }
                },
                {
                  "layout": {
                    "scene": {
                      "camera": {
                        "eye": {
                          "x": -2.2342844028913857,
                          "y": -0.7552967675002213,
                          "z": 0.5
                        }
                      }
                    }
                  }
                },
                {
                  "layout": {
                    "scene": {
                      "camera": {
                        "eye": {
                          "x": -2.2380329424967056,
                          "y": -0.7441159508433737,
                          "z": 0.5
                        }
                      }
                    }
                  }
                },
                {
                  "layout": {
                    "scene": {
                      "camera": {
                        "eye": {
                          "x": -2.241725531395027,
                          "y": -0.7329165313265109,
                          "z": 0.5
                        }
                      }
                    }
                  }
                },
                {
                  "layout": {
                    "scene": {
                      "camera": {
                        "eye": {
                          "x": -2.2453620772718197,
                          "y": -0.7216987889345376,
                          "z": 0.5
                        }
                      }
                    }
                  }
                },
                {
                  "layout": {
                    "scene": {
                      "camera": {
                        "eye": {
                          "x": -2.248942489213627,
                          "y": -0.7104630041104294,
                          "z": 0.5
                        }
                      }
                    }
                  }
                },
                {
                  "layout": {
                    "scene": {
                      "camera": {
                        "eye": {
                          "x": -2.252466677710336,
                          "y": -0.6992094577482216,
                          "z": 0.5
                        }
                      }
                    }
                  }
                },
                {
                  "layout": {
                    "scene": {
                      "camera": {
                        "eye": {
                          "x": -2.2559345546574185,
                          "y": -0.6879384311859853,
                          "z": 0.5
                        }
                      }
                    }
                  }
                },
                {
                  "layout": {
                    "scene": {
                      "camera": {
                        "eye": {
                          "x": -2.259346033358131,
                          "y": -0.6766502061988015,
                          "z": 0.5
                        }
                      }
                    }
                  }
                },
                {
                  "layout": {
                    "scene": {
                      "camera": {
                        "eye": {
                          "x": -2.262701028525683,
                          "y": -0.6653450649917051,
                          "z": 0.5
                        }
                      }
                    }
                  }
                },
                {
                  "layout": {
                    "scene": {
                      "camera": {
                        "eye": {
                          "x": -2.265999456285371,
                          "y": -0.6540232901926369,
                          "z": 0.5
                        }
                      }
                    }
                  }
                },
                {
                  "layout": {
                    "scene": {
                      "camera": {
                        "eye": {
                          "x": -2.269241234176673,
                          "y": -0.6426851648453777,
                          "z": 0.5
                        }
                      }
                    }
                  }
                },
                {
                  "layout": {
                    "scene": {
                      "camera": {
                        "eye": {
                          "x": -2.2724262811553095,
                          "y": -0.6313309724024706,
                          "z": 0.5
                        }
                      }
                    }
                  }
                },
                {
                  "layout": {
                    "scene": {
                      "camera": {
                        "eye": {
                          "x": -2.2755545175952734,
                          "y": -0.6199609967181351,
                          "z": 0.5
                        }
                      }
                    }
                  }
                },
                {
                  "layout": {
                    "scene": {
                      "camera": {
                        "eye": {
                          "x": -2.278625865290815,
                          "y": -0.6085755220411714,
                          "z": 0.5
                        }
                      }
                    }
                  }
                },
                {
                  "layout": {
                    "scene": {
                      "camera": {
                        "eye": {
                          "x": -2.281640247458403,
                          "y": -0.597174833007853,
                          "z": 0.5
                        }
                      }
                    }
                  }
                },
                {
                  "layout": {
                    "scene": {
                      "camera": {
                        "eye": {
                          "x": -2.2845975887386403,
                          "y": -0.5857592146348106,
                          "z": 0.5
                        }
                      }
                    }
                  }
                },
                {
                  "layout": {
                    "scene": {
                      "camera": {
                        "eye": {
                          "x": -2.287497815198148,
                          "y": -0.5743289523119125,
                          "z": 0.5
                        }
                      }
                    }
                  }
                },
                {
                  "layout": {
                    "scene": {
                      "camera": {
                        "eye": {
                          "x": -2.2903408543314163,
                          "y": -0.5628843317951195,
                          "z": 0.5
                        }
                      }
                    }
                  }
                },
                {
                  "layout": {
                    "scene": {
                      "camera": {
                        "eye": {
                          "x": -2.293126635062615,
                          "y": -0.5514256391993484,
                          "z": 0.5
                        }
                      }
                    }
                  }
                },
                {
                  "layout": {
                    "scene": {
                      "camera": {
                        "eye": {
                          "x": -2.2958550877473702,
                          "y": -0.5399531609913176,
                          "z": 0.5
                        }
                      }
                    }
                  }
                },
                {
                  "layout": {
                    "scene": {
                      "camera": {
                        "eye": {
                          "x": -2.2985261441745077,
                          "y": -0.5284671839823842,
                          "z": 0.5
                        }
                      }
                    }
                  }
                },
                {
                  "layout": {
                    "scene": {
                      "camera": {
                        "eye": {
                          "x": -2.3011397375677554,
                          "y": -0.5169679953213759,
                          "z": 0.5
                        }
                      }
                    }
                  }
                },
                {
                  "layout": {
                    "scene": {
                      "camera": {
                        "eye": {
                          "x": -2.303695802587415,
                          "y": -0.5054558824874098,
                          "z": 0.5
                        }
                      }
                    }
                  }
                },
                {
                  "layout": {
                    "scene": {
                      "camera": {
                        "eye": {
                          "x": -2.306194275331994,
                          "y": -0.4939311332827053,
                          "z": 0.5
                        }
                      }
                    }
                  }
                },
                {
                  "layout": {
                    "scene": {
                      "camera": {
                        "eye": {
                          "x": -2.308635093339804,
                          "y": -0.4823940358253962,
                          "z": 0.5
                        }
                      }
                    }
                  }
                },
                {
                  "layout": {
                    "scene": {
                      "camera": {
                        "eye": {
                          "x": -2.311018195590522,
                          "y": -0.4708448785423164,
                          "z": 0.5
                        }
                      }
                    }
                  }
                },
                {
                  "layout": {
                    "scene": {
                      "camera": {
                        "eye": {
                          "x": -2.313343522506715,
                          "y": -0.459283950161796,
                          "z": 0.5
                        }
                      }
                    }
                  }
                },
                {
                  "layout": {
                    "scene": {
                      "camera": {
                        "eye": {
                          "x": -2.3156110159553323,
                          "y": -0.4477115397064425,
                          "z": 0.5
                        }
                      }
                    }
                  }
                },
                {
                  "layout": {
                    "scene": {
                      "camera": {
                        "eye": {
                          "x": -2.3178206192491553,
                          "y": -0.43612793648591497,
                          "z": 0.5
                        }
                      }
                    }
                  }
                },
                {
                  "layout": {
                    "scene": {
                      "camera": {
                        "eye": {
                          "x": -2.3199722771482167,
                          "y": -0.42453343008969,
                          "z": 0.5
                        }
                      }
                    }
                  }
                },
                {
                  "layout": {
                    "scene": {
                      "camera": {
                        "eye": {
                          "x": -2.3220659358611813,
                          "y": -0.4129283103798238,
                          "z": 0.5
                        }
                      }
                    }
                  }
                },
                {
                  "layout": {
                    "scene": {
                      "camera": {
                        "eye": {
                          "x": -2.3241015430466905,
                          "y": -0.4013128674837031,
                          "z": 0.5
                        }
                      }
                    }
                  }
                },
                {
                  "layout": {
                    "scene": {
                      "camera": {
                        "eye": {
                          "x": -2.32607904781467,
                          "y": -0.38968739178679856,
                          "z": 0.5
                        }
                      }
                    }
                  }
                },
                {
                  "layout": {
                    "scene": {
                      "camera": {
                        "eye": {
                          "x": -2.327998400727604,
                          "y": -0.3780521739253959,
                          "z": 0.5
                        }
                      }
                    }
                  }
                },
                {
                  "layout": {
                    "scene": {
                      "camera": {
                        "eye": {
                          "x": -2.3298595538017697,
                          "y": -0.36640750477933526,
                          "z": 0.5
                        }
                      }
                    }
                  }
                },
                {
                  "layout": {
                    "scene": {
                      "camera": {
                        "eye": {
                          "x": -2.331662460508437,
                          "y": -0.3547536754647387,
                          "z": 0.5
                        }
                      }
                    }
                  }
                },
                {
                  "layout": {
                    "scene": {
                      "camera": {
                        "eye": {
                          "x": -2.3334070757750323,
                          "y": -0.34309097732673255,
                          "z": 0.5
                        }
                      }
                    }
                  }
                },
                {
                  "layout": {
                    "scene": {
                      "camera": {
                        "eye": {
                          "x": -2.335093355986265,
                          "y": -0.3314197019321623,
                          "z": 0.5
                        }
                      }
                    }
                  }
                },
                {
                  "layout": {
                    "scene": {
                      "camera": {
                        "eye": {
                          "x": -2.336721258985217,
                          "y": -0.3197401410623053,
                          "z": 0.5
                        }
                      }
                    }
                  }
                },
                {
                  "layout": {
                    "scene": {
                      "camera": {
                        "eye": {
                          "x": -2.3382907440743983,
                          "y": -0.30805258670557456,
                          "z": 0.5
                        }
                      }
                    }
                  }
                },
                {
                  "layout": {
                    "scene": {
                      "camera": {
                        "eye": {
                          "x": -2.3398017720167648,
                          "y": -0.2963573310502189,
                          "z": 0.5
                        }
                      }
                    }
                  }
                },
                {
                  "layout": {
                    "scene": {
                      "camera": {
                        "eye": {
                          "x": -2.3412543050366943,
                          "y": -0.2846546664770242,
                          "z": 0.5
                        }
                      }
                    }
                  }
                },
                {
                  "layout": {
                    "scene": {
                      "camera": {
                        "eye": {
                          "x": -2.3426483068209385,
                          "y": -0.27294488555199314,
                          "z": 0.5
                        }
                      }
                    }
                  }
                },
                {
                  "layout": {
                    "scene": {
                      "camera": {
                        "eye": {
                          "x": -2.3439837425195247,
                          "y": -0.2612282810190394,
                          "z": 0.5
                        }
                      }
                    }
                  }
                },
                {
                  "layout": {
                    "scene": {
                      "camera": {
                        "eye": {
                          "x": -2.3452605787466307,
                          "y": -0.2495051457926658,
                          "z": 0.5
                        }
                      }
                    }
                  }
                },
                {
                  "layout": {
                    "scene": {
                      "camera": {
                        "eye": {
                          "x": -2.346478783581417,
                          "y": -0.23777577295064223,
                          "z": 0.5
                        }
                      }
                    }
                  }
                },
                {
                  "layout": {
                    "scene": {
                      "camera": {
                        "eye": {
                          "x": -2.3476383265688257,
                          "y": -0.22604045572667908,
                          "z": 0.5
                        }
                      }
                    }
                  }
                },
                {
                  "layout": {
                    "scene": {
                      "camera": {
                        "eye": {
                          "x": -2.3487391787203427,
                          "y": -0.2142994875030957,
                          "z": 0.5
                        }
                      }
                    }
                  }
                },
                {
                  "layout": {
                    "scene": {
                      "camera": {
                        "eye": {
                          "x": -2.3497813125147227,
                          "y": -0.20255316180348426,
                          "z": 0.5
                        }
                      }
                    }
                  }
                },
                {
                  "layout": {
                    "scene": {
                      "camera": {
                        "eye": {
                          "x": -2.3507647018986733,
                          "y": -0.1908017722853791,
                          "z": 0.5
                        }
                      }
                    }
                  }
                },
                {
                  "layout": {
                    "scene": {
                      "camera": {
                        "eye": {
                          "x": -2.351689322287512,
                          "y": -0.17904561273290476,
                          "z": 0.5
                        }
                      }
                    }
                  }
                },
                {
                  "layout": {
                    "scene": {
                      "camera": {
                        "eye": {
                          "x": -2.352555150565778,
                          "y": -0.16728497704943712,
                          "z": 0.5
                        }
                      }
                    }
                  }
                },
                {
                  "layout": {
                    "scene": {
                      "camera": {
                        "eye": {
                          "x": -2.353362165087808,
                          "y": -0.15552015925025608,
                          "z": 0.5
                        }
                      }
                    }
                  }
                },
                {
                  "layout": {
                    "scene": {
                      "camera": {
                        "eye": {
                          "x": -2.354110345678282,
                          "y": -0.1437514534551938,
                          "z": 0.5
                        }
                      }
                    }
                  }
                },
                {
                  "layout": {
                    "scene": {
                      "camera": {
                        "eye": {
                          "x": -2.3547996736327232,
                          "y": -0.13197915388128223,
                          "z": 0.5
                        }
                      }
                    }
                  }
                },
                {
                  "layout": {
                    "scene": {
                      "camera": {
                        "eye": {
                          "x": -2.35543013171797,
                          "y": -0.12020355483539769,
                          "z": 0.5
                        }
                      }
                    }
                  }
                },
                {
                  "layout": {
                    "scene": {
                      "camera": {
                        "eye": {
                          "x": -2.3560017041726025,
                          "y": -0.1084249507069005,
                          "z": 0.5
                        }
                      }
                    }
                  }
                },
                {
                  "layout": {
                    "scene": {
                      "camera": {
                        "eye": {
                          "x": -2.3565143767073384,
                          "y": -0.09664363596028491,
                          "z": 0.5
                        }
                      }
                    }
                  }
                },
                {
                  "layout": {
                    "scene": {
                      "camera": {
                        "eye": {
                          "x": -2.356968136505392,
                          "y": -0.08485990512780395,
                          "z": 0.5
                        }
                      }
                    }
                  }
                },
                {
                  "layout": {
                    "scene": {
                      "camera": {
                        "eye": {
                          "x": -2.3573629722227913,
                          "y": -0.07307405280211454,
                          "z": 0.5
                        }
                      }
                    }
                  }
                },
                {
                  "layout": {
                    "scene": {
                      "camera": {
                        "eye": {
                          "x": -2.3576988739886646,
                          "y": -0.061286373628911095,
                          "z": 0.5
                        }
                      }
                    }
                  }
                },
                {
                  "layout": {
                    "scene": {
                      "camera": {
                        "eye": {
                          "x": -2.3579758334054848,
                          "y": -0.049497162299558584,
                          "z": 0.5
                        }
                      }
                    }
                  }
                },
                {
                  "layout": {
                    "scene": {
                      "camera": {
                        "eye": {
                          "x": -2.358193843549281,
                          "y": -0.03770671354372701,
                          "z": 0.5
                        }
                      }
                    }
                  }
                },
                {
                  "layout": {
                    "scene": {
                      "camera": {
                        "eye": {
                          "x": -2.358352898969811,
                          "y": -0.0259153221220203,
                          "z": 0.5
                        }
                      }
                    }
                  }
                },
                {
                  "layout": {
                    "scene": {
                      "camera": {
                        "eye": {
                          "x": -2.3584529956906977,
                          "y": -0.014123282818610416,
                          "z": 0.5
                        }
                      }
                    }
                  }
                },
                {
                  "layout": {
                    "scene": {
                      "camera": {
                        "eye": {
                          "x": -2.358494131209528,
                          "y": -0.002330890433863697,
                          "z": 0.5
                        }
                      }
                    }
                  }
                },
                {
                  "layout": {
                    "scene": {
                      "camera": {
                        "eye": {
                          "x": -2.358476304497916,
                          "y": 0.00946156022302036,
                          "z": 0.5
                        }
                      }
                    }
                  }
                },
                {
                  "layout": {
                    "scene": {
                      "camera": {
                        "eye": {
                          "x": -2.358399516001529,
                          "y": 0.021253774341391862,
                          "z": 0.5
                        }
                      }
                    }
                  }
                },
                {
                  "layout": {
                    "scene": {
                      "camera": {
                        "eye": {
                          "x": -2.3582637676400746,
                          "y": 0.03304545711651152,
                          "z": 0.5
                        }
                      }
                    }
                  }
                },
                {
                  "layout": {
                    "scene": {
                      "camera": {
                        "eye": {
                          "x": -2.358069062807256,
                          "y": 0.04483631375692432,
                          "z": 0.5
                        }
                      }
                    }
                  }
                },
                {
                  "layout": {
                    "scene": {
                      "camera": {
                        "eye": {
                          "x": -2.357815406370683,
                          "y": 0.0566260494918287,
                          "z": 0.5
                        }
                      }
                    }
                  }
                },
                {
                  "layout": {
                    "scene": {
                      "camera": {
                        "eye": {
                          "x": -2.3575028046717534,
                          "y": 0.06841436957844493,
                          "z": 0.5
                        }
                      }
                    }
                  }
                },
                {
                  "layout": {
                    "scene": {
                      "camera": {
                        "eye": {
                          "x": -2.357131265525494,
                          "y": 0.08020097930938497,
                          "z": 0.5
                        }
                      }
                    }
                  }
                },
                {
                  "layout": {
                    "scene": {
                      "camera": {
                        "eye": {
                          "x": -2.3567007982203627,
                          "y": 0.09198558402002166,
                          "z": 0.5
                        }
                      }
                    }
                  }
                },
                {
                  "layout": {
                    "scene": {
                      "camera": {
                        "eye": {
                          "x": -2.356211413518021,
                          "y": 0.10376788909584644,
                          "z": 0.5
                        }
                      }
                    }
                  }
                },
                {
                  "layout": {
                    "scene": {
                      "camera": {
                        "eye": {
                          "x": -2.355663123653061,
                          "y": 0.11554759997984831,
                          "z": 0.5
                        }
                      }
                    }
                  }
                },
                {
                  "layout": {
                    "scene": {
                      "camera": {
                        "eye": {
                          "x": -2.3550559423327,
                          "y": 0.12732442217986906,
                          "z": 0.5
                        }
                      }
                    }
                  }
                },
                {
                  "layout": {
                    "scene": {
                      "camera": {
                        "eye": {
                          "x": -2.35438988473644,
                          "y": 0.1390980612759667,
                          "z": 0.5
                        }
                      }
                    }
                  }
                },
                {
                  "layout": {
                    "scene": {
                      "camera": {
                        "eye": {
                          "x": -2.3536649675156855,
                          "y": 0.15086822292777713,
                          "z": 0.5
                        }
                      }
                    }
                  }
                },
                {
                  "layout": {
                    "scene": {
                      "camera": {
                        "eye": {
                          "x": -2.35288120879333,
                          "y": 0.1626346128818721,
                          "z": 0.5
                        }
                      }
                    }
                  }
                },
                {
                  "layout": {
                    "scene": {
                      "camera": {
                        "eye": {
                          "x": -2.3520386281633012,
                          "y": 0.1743969369791154,
                          "z": 0.5
                        }
                      }
                    }
                  }
                },
                {
                  "layout": {
                    "scene": {
                      "camera": {
                        "eye": {
                          "x": -2.351137246690069,
                          "y": 0.18615490116201938,
                          "z": 0.5
                        }
                      }
                    }
                  }
                },
                {
                  "layout": {
                    "scene": {
                      "camera": {
                        "eye": {
                          "x": -2.350177086908125,
                          "y": 0.19790821148208804,
                          "z": 0.5
                        }
                      }
                    }
                  }
                },
                {
                  "layout": {
                    "scene": {
                      "camera": {
                        "eye": {
                          "x": -2.3491581728214137,
                          "y": 0.20965657410717742,
                          "z": 0.5
                        }
                      }
                    }
                  }
                },
                {
                  "layout": {
                    "scene": {
                      "camera": {
                        "eye": {
                          "x": -2.3480805299027327,
                          "y": 0.22139969532883352,
                          "z": 0.5
                        }
                      }
                    }
                  }
                },
                {
                  "layout": {
                    "scene": {
                      "camera": {
                        "eye": {
                          "x": -2.346944185093101,
                          "y": 0.23313728156963787,
                          "z": 0.5
                        }
                      }
                    }
                  }
                },
                {
                  "layout": {
                    "scene": {
                      "camera": {
                        "eye": {
                          "x": -2.345749166801078,
                          "y": 0.24486903939054527,
                          "z": 0.5
                        }
                      }
                    }
                  }
                },
                {
                  "layout": {
                    "scene": {
                      "camera": {
                        "eye": {
                          "x": -2.3444955049020595,
                          "y": 0.25659467549822157,
                          "z": 0.5
                        }
                      }
                    }
                  }
                },
                {
                  "layout": {
                    "scene": {
                      "camera": {
                        "eye": {
                          "x": -2.3431832307375275,
                          "y": 0.2683138967523748,
                          "z": 0.5
                        }
                      }
                    }
                  }
                },
                {
                  "layout": {
                    "scene": {
                      "camera": {
                        "eye": {
                          "x": -2.3418123771142674,
                          "y": 0.28002641017308394,
                          "z": 0.5
                        }
                      }
                    }
                  }
                },
                {
                  "layout": {
                    "scene": {
                      "camera": {
                        "eye": {
                          "x": -2.340382978303549,
                          "y": 0.29173192294812544,
                          "z": 0.5
                        }
                      }
                    }
                  }
                },
                {
                  "layout": {
                    "scene": {
                      "camera": {
                        "eye": {
                          "x": -2.3388950700402678,
                          "y": 0.30343014244028543,
                          "z": 0.5
                        }
                      }
                    }
                  }
                },
                {
                  "layout": {
                    "scene": {
                      "camera": {
                        "eye": {
                          "x": -2.3373486895220528,
                          "y": 0.3151207761946879,
                          "z": 0.5
                        }
                      }
                    }
                  }
                },
                {
                  "layout": {
                    "scene": {
                      "camera": {
                        "eye": {
                          "x": -2.335743875408337,
                          "y": 0.32680353194609846,
                          "z": 0.5
                        }
                      }
                    }
                  }
                },
                {
                  "layout": {
                    "scene": {
                      "camera": {
                        "eye": {
                          "x": -2.334080667819389,
                          "y": 0.33847811762623103,
                          "z": 0.5
                        }
                      }
                    }
                  }
                },
                {
                  "layout": {
                    "scene": {
                      "camera": {
                        "eye": {
                          "x": -2.3323591083353117,
                          "y": 0.35014424137105216,
                          "z": 0.5
                        }
                      }
                    }
                  }
                },
                {
                  "layout": {
                    "scene": {
                      "camera": {
                        "eye": {
                          "x": -2.3305792399950036,
                          "y": 0.3618016115280758,
                          "z": 0.5
                        }
                      }
                    }
                  }
                },
                {
                  "layout": {
                    "scene": {
                      "camera": {
                        "eye": {
                          "x": -2.3287411072950794,
                          "y": 0.3734499366636548,
                          "z": 0.5
                        }
                      }
                    }
                  }
                },
                {
                  "layout": {
                    "scene": {
                      "camera": {
                        "eye": {
                          "x": -2.3268447561887613,
                          "y": 0.38508892557026986,
                          "z": 0.5
                        }
                      }
                    }
                  }
                },
                {
                  "layout": {
                    "scene": {
                      "camera": {
                        "eye": {
                          "x": -2.3248902340847284,
                          "y": 0.3967182872738003,
                          "z": 0.5
                        }
                      }
                    }
                  }
                },
                {
                  "layout": {
                    "scene": {
                      "camera": {
                        "eye": {
                          "x": -2.3228775898459313,
                          "y": 0.40833773104081117,
                          "z": 0.5
                        }
                      }
                    }
                  }
                },
                {
                  "layout": {
                    "scene": {
                      "camera": {
                        "eye": {
                          "x": -2.320806873788371,
                          "y": 0.41994696638581386,
                          "z": 0.5
                        }
                      }
                    }
                  }
                },
                {
                  "layout": {
                    "scene": {
                      "camera": {
                        "eye": {
                          "x": -2.3186781376798415,
                          "y": 0.4315457030785289,
                          "z": 0.5
                        }
                      }
                    }
                  }
                },
                {
                  "layout": {
                    "scene": {
                      "camera": {
                        "eye": {
                          "x": -2.3164914347386345,
                          "y": 0.44313365115114345,
                          "z": 0.5
                        }
                      }
                    }
                  }
                },
                {
                  "layout": {
                    "scene": {
                      "camera": {
                        "eye": {
                          "x": -2.314246819632209,
                          "y": 0.4547105209055591,
                          "z": 0.5
                        }
                      }
                    }
                  }
                },
                {
                  "layout": {
                    "scene": {
                      "camera": {
                        "eye": {
                          "x": -2.311944348475827,
                          "y": 0.46627602292063497,
                          "z": 0.5
                        }
                      }
                    }
                  }
                },
                {
                  "layout": {
                    "scene": {
                      "camera": {
                        "eye": {
                          "x": -2.309584078831146,
                          "y": 0.47782986805942484,
                          "z": 0.5
                        }
                      }
                    }
                  }
                },
                {
                  "layout": {
                    "scene": {
                      "camera": {
                        "eye": {
                          "x": -2.3071660697047855,
                          "y": 0.4893717674763981,
                          "z": 0.5
                        }
                      }
                    }
                  }
                },
                {
                  "layout": {
                    "scene": {
                      "camera": {
                        "eye": {
                          "x": -2.3046903815468465,
                          "y": 0.5009014326246727,
                          "z": 0.5
                        }
                      }
                    }
                  }
                },
                {
                  "layout": {
                    "scene": {
                      "camera": {
                        "eye": {
                          "x": -2.3021570762494057,
                          "y": 0.5124185752632202,
                          "z": 0.5
                        }
                      }
                    }
                  }
                },
                {
                  "layout": {
                    "scene": {
                      "camera": {
                        "eye": {
                          "x": -2.299566217144962,
                          "y": 0.5239229074640748,
                          "z": 0.5
                        }
                      }
                    }
                  }
                },
                {
                  "layout": {
                    "scene": {
                      "camera": {
                        "eye": {
                          "x": -2.296917869004859,
                          "y": 0.53541414161953,
                          "z": 0.5
                        }
                      }
                    }
                  }
                },
                {
                  "layout": {
                    "scene": {
                      "camera": {
                        "eye": {
                          "x": -2.2942120980376615,
                          "y": 0.5468919904493311,
                          "z": 0.5
                        }
                      }
                    }
                  }
                },
                {
                  "layout": {
                    "scene": {
                      "camera": {
                        "eye": {
                          "x": -2.2914489718875037,
                          "y": 0.558356167007855,
                          "z": 0.5
                        }
                      }
                    }
                  }
                },
                {
                  "layout": {
                    "scene": {
                      "camera": {
                        "eye": {
                          "x": -2.2886285596323943,
                          "y": 0.5698063846912846,
                          "z": 0.5
                        }
                      }
                    }
                  }
                },
                {
                  "layout": {
                    "scene": {
                      "camera": {
                        "eye": {
                          "x": -2.285750931782493,
                          "y": 0.5812423572447765,
                          "z": 0.5
                        }
                      }
                    }
                  }
                },
                {
                  "layout": {
                    "scene": {
                      "camera": {
                        "eye": {
                          "x": -2.2828161602783474,
                          "y": 0.592663798769608,
                          "z": 0.5
                        }
                      }
                    }
                  }
                },
                {
                  "layout": {
                    "scene": {
                      "camera": {
                        "eye": {
                          "x": -2.2798243184890916,
                          "y": 0.6040704237303381,
                          "z": 0.5
                        }
                      }
                    }
                  }
                },
                {
                  "layout": {
                    "scene": {
                      "camera": {
                        "eye": {
                          "x": -2.276775481210614,
                          "y": 0.6154619469619371,
                          "z": 0.5
                        }
                      }
                    }
                  }
                },
                {
                  "layout": {
                    "scene": {
                      "camera": {
                        "eye": {
                          "x": -2.273669724663688,
                          "y": 0.6268380836769173,
                          "z": 0.5
                        }
                      }
                    }
                  }
                },
                {
                  "layout": {
                    "scene": {
                      "camera": {
                        "eye": {
                          "x": -2.2705071264920655,
                          "y": 0.6381985494724535,
                          "z": 0.5
                        }
                      }
                    }
                  }
                },
                {
                  "layout": {
                    "scene": {
                      "camera": {
                        "eye": {
                          "x": -2.2672877657605364,
                          "y": 0.6495430603374923,
                          "z": 0.5
                        }
                      }
                    }
                  }
                },
                {
                  "layout": {
                    "scene": {
                      "camera": {
                        "eye": {
                          "x": -2.264011722952951,
                          "y": 0.6608713326598529,
                          "z": 0.5
                        }
                      }
                    }
                  }
                },
                {
                  "layout": {
                    "scene": {
                      "camera": {
                        "eye": {
                          "x": -2.260679079970209,
                          "y": 0.6721830832333194,
                          "z": 0.5
                        }
                      }
                    }
                  }
                },
                {
                  "layout": {
                    "scene": {
                      "camera": {
                        "eye": {
                          "x": -2.257289920128211,
                          "y": 0.6834780292647126,
                          "z": 0.5
                        }
                      }
                    }
                  }
                },
                {
                  "layout": {
                    "scene": {
                      "camera": {
                        "eye": {
                          "x": -2.253844328155777,
                          "y": 0.6947558883809718,
                          "z": 0.5
                        }
                      }
                    }
                  }
                },
                {
                  "layout": {
                    "scene": {
                      "camera": {
                        "eye": {
                          "x": -2.250342390192527,
                          "y": 0.7060163786362068,
                          "z": 0.5
                        }
                      }
                    }
                  }
                },
                {
                  "layout": {
                    "scene": {
                      "camera": {
                        "eye": {
                          "x": -2.2467841937867274,
                          "y": 0.7172592185187477,
                          "z": 0.5
                        }
                      }
                    }
                  }
                },
                {
                  "layout": {
                    "scene": {
                      "camera": {
                        "eye": {
                          "x": -2.2431698278931034,
                          "y": 0.7284841269581828,
                          "z": 0.5
                        }
                      }
                    }
                  }
                },
                {
                  "layout": {
                    "scene": {
                      "camera": {
                        "eye": {
                          "x": -2.2394993828706133,
                          "y": 0.7396908233323857,
                          "z": 0.5
                        }
                      }
                    }
                  }
                },
                {
                  "layout": {
                    "scene": {
                      "camera": {
                        "eye": {
                          "x": -2.235772950480192,
                          "y": 0.7508790274745307,
                          "z": 0.5
                        }
                      }
                    }
                  }
                },
                {
                  "layout": {
                    "scene": {
                      "camera": {
                        "eye": {
                          "x": -2.2319906238824543,
                          "y": 0.7620484596800993,
                          "z": 0.5
                        }
                      }
                    }
                  }
                },
                {
                  "layout": {
                    "scene": {
                      "camera": {
                        "eye": {
                          "x": -2.22815249763537,
                          "y": 0.7731988407138635,
                          "z": 0.5
                        }
                      }
                    }
                  }
                },
                {
                  "layout": {
                    "scene": {
                      "camera": {
                        "eye": {
                          "x": -2.2242586676918945,
                          "y": 0.7843298918168811,
                          "z": 0.5
                        }
                      }
                    }
                  }
                },
                {
                  "layout": {
                    "scene": {
                      "camera": {
                        "eye": {
                          "x": -2.2203092313975725,
                          "y": 0.7954413347134535,
                          "z": 0.5
                        }
                      }
                    }
                  }
                },
                {
                  "layout": {
                    "scene": {
                      "camera": {
                        "eye": {
                          "x": -2.216304287488107,
                          "y": 0.8065328916180874,
                          "z": 0.5
                        }
                      }
                    }
                  }
                },
                {
                  "layout": {
                    "scene": {
                      "camera": {
                        "eye": {
                          "x": -2.212243936086887,
                          "y": 0.8176042852424374,
                          "z": 0.5
                        }
                      }
                    }
                  }
                },
                {
                  "layout": {
                    "scene": {
                      "camera": {
                        "eye": {
                          "x": -2.2081282787024854,
                          "y": 0.8286552388022403,
                          "z": 0.5
                        }
                      }
                    }
                  }
                },
                {
                  "layout": {
                    "scene": {
                      "camera": {
                        "eye": {
                          "x": -2.2039574182261235,
                          "y": 0.8396854760242318,
                          "z": 0.5
                        }
                      }
                    }
                  }
                },
                {
                  "layout": {
                    "scene": {
                      "camera": {
                        "eye": {
                          "x": -2.1997314589290946,
                          "y": 0.8506947211530566,
                          "z": 0.5
                        }
                      }
                    }
                  }
                },
                {
                  "layout": {
                    "scene": {
                      "camera": {
                        "eye": {
                          "x": -2.195450506460161,
                          "y": 0.8616826989581616,
                          "z": 0.5
                        }
                      }
                    }
                  }
                },
                {
                  "layout": {
                    "scene": {
                      "camera": {
                        "eye": {
                          "x": -2.191114667842913,
                          "y": 0.8726491347406697,
                          "z": 0.5
                        }
                      }
                    }
                  }
                },
                {
                  "layout": {
                    "scene": {
                      "camera": {
                        "eye": {
                          "x": -2.1867240514730897,
                          "y": 0.8835937543402599,
                          "z": 0.5
                        }
                      }
                    }
                  }
                },
                {
                  "layout": {
                    "scene": {
                      "camera": {
                        "eye": {
                          "x": -2.1822787671158714,
                          "y": 0.8945162841420119,
                          "z": 0.5
                        }
                      }
                    }
                  }
                },
                {
                  "layout": {
                    "scene": {
                      "camera": {
                        "eye": {
                          "x": -2.1777789259031355,
                          "y": 0.9054164510832496,
                          "z": 0.5
                        }
                      }
                    }
                  }
                },
                {
                  "layout": {
                    "scene": {
                      "camera": {
                        "eye": {
                          "x": -2.1732246403306776,
                          "y": 0.9162939826603675,
                          "z": 0.5
                        }
                      }
                    }
                  }
                },
                {
                  "layout": {
                    "scene": {
                      "camera": {
                        "eye": {
                          "x": -2.1686160242554,
                          "y": 0.9271486069356425,
                          "z": 0.5
                        }
                      }
                    }
                  }
                },
                {
                  "layout": {
                    "scene": {
                      "camera": {
                        "eye": {
                          "x": -2.163953192892465,
                          "y": 0.9379800525440332,
                          "z": 0.5
                        }
                      }
                    }
                  }
                },
                {
                  "layout": {
                    "scene": {
                      "camera": {
                        "eye": {
                          "x": -2.1592362628124127,
                          "y": 0.9487880486999649,
                          "z": 0.5
                        }
                      }
                    }
                  }
                },
                {
                  "layout": {
                    "scene": {
                      "camera": {
                        "eye": {
                          "x": -2.15446535193825,
                          "y": 0.9595723252040935,
                          "z": 0.5
                        }
                      }
                    }
                  }
                },
                {
                  "layout": {
                    "scene": {
                      "camera": {
                        "eye": {
                          "x": -2.1496405795425018,
                          "y": 0.9703326124500694,
                          "z": 0.5
                        }
                      }
                    }
                  }
                },
                {
                  "layout": {
                    "scene": {
                      "camera": {
                        "eye": {
                          "x": -2.144762066244225,
                          "y": 0.9810686414312726,
                          "z": 0.5
                        }
                      }
                    }
                  }
                },
                {
                  "layout": {
                    "scene": {
                      "camera": {
                        "eye": {
                          "x": -2.1398299340059985,
                          "y": 0.9917801437475371,
                          "z": 0.5
                        }
                      }
                    }
                  }
                },
                {
                  "layout": {
                    "scene": {
                      "camera": {
                        "eye": {
                          "x": -2.134844306130871,
                          "y": 1.0024668516118629,
                          "z": 0.5
                        }
                      }
                    }
                  }
                },
                {
                  "layout": {
                    "scene": {
                      "camera": {
                        "eye": {
                          "x": -2.12980530725928,
                          "y": 1.0131284978571102,
                          "z": 0.5
                        }
                      }
                    }
                  }
                },
                {
                  "layout": {
                    "scene": {
                      "camera": {
                        "eye": {
                          "x": -2.1247130633659346,
                          "y": 1.0237648159426784,
                          "z": 0.5
                        }
                      }
                    }
                  }
                },
                {
                  "layout": {
                    "scene": {
                      "camera": {
                        "eye": {
                          "x": -2.119567701756666,
                          "y": 1.034375539961171,
                          "z": 0.5
                        }
                      }
                    }
                  }
                },
                {
                  "layout": {
                    "scene": {
                      "camera": {
                        "eye": {
                          "x": -2.1143693510652493,
                          "y": 1.0449604046450358,
                          "z": 0.5
                        }
                      }
                    }
                  }
                },
                {
                  "layout": {
                    "scene": {
                      "camera": {
                        "eye": {
                          "x": -2.1091181412501783,
                          "y": 1.05551914537321,
                          "z": 0.5
                        }
                      }
                    }
                  }
                },
                {
                  "layout": {
                    "scene": {
                      "camera": {
                        "eye": {
                          "x": -2.1038142035914267,
                          "y": 1.0660514981777247,
                          "z": 0.5
                        }
                      }
                    }
                  }
                },
                {
                  "layout": {
                    "scene": {
                      "camera": {
                        "eye": {
                          "x": -2.0984576706871585,
                          "y": 1.076557199750308,
                          "z": 0.5
                        }
                      }
                    }
                  }
                },
                {
                  "layout": {
                    "scene": {
                      "camera": {
                        "eye": {
                          "x": -2.093048676450418,
                          "y": 1.0870359874489686,
                          "z": 0.5
                        }
                      }
                    }
                  }
                },
                {
                  "layout": {
                    "scene": {
                      "camera": {
                        "eye": {
                          "x": -2.0875873561057787,
                          "y": 1.0974875993045594,
                          "z": 0.5
                        }
                      }
                    }
                  }
                },
                {
                  "layout": {
                    "scene": {
                      "camera": {
                        "eye": {
                          "x": -2.082073846185965,
                          "y": 1.1079117740273285,
                          "z": 0.5
                        }
                      }
                    }
                  }
                },
                {
                  "layout": {
                    "scene": {
                      "camera": {
                        "eye": {
                          "x": -2.0765082845284386,
                          "y": 1.1183082510134503,
                          "z": 0.5
                        }
                      }
                    }
                  }
                },
                {
                  "layout": {
                    "scene": {
                      "camera": {
                        "eye": {
                          "x": -2.0708908102719485,
                          "y": 1.128676770351544,
                          "z": 0.5
                        }
                      }
                    }
                  }
                },
                {
                  "layout": {
                    "scene": {
                      "camera": {
                        "eye": {
                          "x": -2.065221563853062,
                          "y": 1.1390170728291618,
                          "z": 0.5
                        }
                      }
                    }
                  }
                },
                {
                  "layout": {
                    "scene": {
                      "camera": {
                        "eye": {
                          "x": -2.0595006870026427,
                          "y": 1.1493288999392832,
                          "z": 0.5
                        }
                      }
                    }
                  }
                },
                {
                  "layout": {
                    "scene": {
                      "camera": {
                        "eye": {
                          "x": -2.0537283227423138,
                          "y": 1.1596119938867666,
                          "z": 0.5
                        }
                      }
                    }
                  }
                },
                {
                  "layout": {
                    "scene": {
                      "camera": {
                        "eye": {
                          "x": -2.0479046153808813,
                          "y": 1.1698660975947992,
                          "z": 0.5
                        }
                      }
                    }
                  }
                },
                {
                  "layout": {
                    "scene": {
                      "camera": {
                        "eye": {
                          "x": -2.0420297105107257,
                          "y": 1.1800909547113225,
                          "z": 0.5
                        }
                      }
                    }
                  }
                },
                {
                  "layout": {
                    "scene": {
                      "camera": {
                        "eye": {
                          "x": -2.0361037550041634,
                          "y": 1.1902863096154412,
                          "z": 0.5
                        }
                      }
                    }
                  }
                },
                {
                  "layout": {
                    "scene": {
                      "camera": {
                        "eye": {
                          "x": -2.030126897009773,
                          "y": 1.2004519074238131,
                          "z": 0.5
                        }
                      }
                    }
                  }
                },
                {
                  "layout": {
                    "scene": {
                      "camera": {
                        "eye": {
                          "x": -2.0240992859486915,
                          "y": 1.2105874939970251,
                          "z": 0.5
                        }
                      }
                    }
                  }
                },
                {
                  "layout": {
                    "scene": {
                      "camera": {
                        "eye": {
                          "x": -2.0180210725108845,
                          "y": 1.220692815945937,
                          "z": 0.5
                        }
                      }
                    }
                  }
                },
                {
                  "layout": {
                    "scene": {
                      "camera": {
                        "eye": {
                          "x": -2.011892408651369,
                          "y": 1.2307676206380274,
                          "z": 0.5
                        }
                      }
                    }
                  }
                },
                {
                  "layout": {
                    "scene": {
                      "camera": {
                        "eye": {
                          "x": -2.0057134475864244,
                          "y": 1.2408116562037046,
                          "z": 0.5
                        }
                      }
                    }
                  }
                },
                {
                  "layout": {
                    "scene": {
                      "camera": {
                        "eye": {
                          "x": -1.9994843437897536,
                          "y": 1.2508246715426021,
                          "z": 0.5
                        }
                      }
                    }
                  }
                },
                {
                  "layout": {
                    "scene": {
                      "camera": {
                        "eye": {
                          "x": -1.993205252988628,
                          "y": 1.260806416329858,
                          "z": 0.5
                        }
                      }
                    }
                  }
                },
                {
                  "layout": {
                    "scene": {
                      "camera": {
                        "eye": {
                          "x": -1.9868763321599903,
                          "y": 1.270756641022373,
                          "z": 0.5
                        }
                      }
                    }
                  }
                },
                {
                  "layout": {
                    "scene": {
                      "camera": {
                        "eye": {
                          "x": -1.9804977395265317,
                          "y": 1.280675096865047,
                          "z": 0.5
                        }
                      }
                    }
                  }
                },
                {
                  "layout": {
                    "scene": {
                      "camera": {
                        "eye": {
                          "x": -1.9740696345527349,
                          "y": 1.2905615358970035,
                          "z": 0.5
                        }
                      }
                    }
                  }
                },
                {
                  "layout": {
                    "scene": {
                      "camera": {
                        "eye": {
                          "x": -1.967592177940891,
                          "y": 1.3004157109577772,
                          "z": 0.5
                        }
                      }
                    }
                  }
                },
                {
                  "layout": {
                    "scene": {
                      "camera": {
                        "eye": {
                          "x": -1.9610655316270775,
                          "y": 1.310237375693507,
                          "z": 0.5
                        }
                      }
                    }
                  }
                },
                {
                  "layout": {
                    "scene": {
                      "camera": {
                        "eye": {
                          "x": -1.9544898587771118,
                          "y": 1.320026284563086,
                          "z": 0.5
                        }
                      }
                    }
                  }
                },
                {
                  "layout": {
                    "scene": {
                      "camera": {
                        "eye": {
                          "x": -1.9478653237824732,
                          "y": 1.329782192844302,
                          "z": 0.5
                        }
                      }
                    }
                  }
                },
                {
                  "layout": {
                    "scene": {
                      "camera": {
                        "eye": {
                          "x": -1.9411920922561912,
                          "y": 1.3395048566399566,
                          "z": 0.5
                        }
                      }
                    }
                  }
                },
                {
                  "layout": {
                    "scene": {
                      "camera": {
                        "eye": {
                          "x": -1.9344703310287068,
                          "y": 1.349194032883961,
                          "z": 0.5
                        }
                      }
                    }
                  }
                },
                {
                  "layout": {
                    "scene": {
                      "camera": {
                        "eye": {
                          "x": -1.9277002081436998,
                          "y": 1.3588494793474135,
                          "z": 0.5
                        }
                      }
                    }
                  }
                },
                {
                  "layout": {
                    "scene": {
                      "camera": {
                        "eye": {
                          "x": -1.9208818928538902,
                          "y": 1.368470954644656,
                          "z": 0.5
                        }
                      }
                    }
                  }
                },
                {
                  "layout": {
                    "scene": {
                      "camera": {
                        "eye": {
                          "x": -1.9140155556168041,
                          "y": 1.3780582182393082,
                          "z": 0.5
                        }
                      }
                    }
                  }
                },
                {
                  "layout": {
                    "scene": {
                      "camera": {
                        "eye": {
                          "x": -1.9071013680905171,
                          "y": 1.3876110304502767,
                          "z": 0.5
                        }
                      }
                    }
                  }
                },
                {
                  "layout": {
                    "scene": {
                      "camera": {
                        "eye": {
                          "x": -1.9001395031293555,
                          "y": 1.3971291524577554,
                          "z": 0.5
                        }
                      }
                    }
                  }
                },
                {
                  "layout": {
                    "scene": {
                      "camera": {
                        "eye": {
                          "x": -1.8931301347795815,
                          "y": 1.4066123463091895,
                          "z": 0.5
                        }
                      }
                    }
                  }
                },
                {
                  "layout": {
                    "scene": {
                      "camera": {
                        "eye": {
                          "x": -1.8860734382750386,
                          "y": 1.4160603749252272,
                          "z": 0.5
                        }
                      }
                    }
                  }
                },
                {
                  "layout": {
                    "scene": {
                      "camera": {
                        "eye": {
                          "x": -1.8789695900327714,
                          "y": 1.4254730021056445,
                          "z": 0.5
                        }
                      }
                    }
                  }
                },
                {
                  "layout": {
                    "scene": {
                      "camera": {
                        "eye": {
                          "x": -1.8718187676486164,
                          "y": 1.4348499925352525,
                          "z": 0.5
                        }
                      }
                    }
                  }
                },
                {
                  "layout": {
                    "scene": {
                      "camera": {
                        "eye": {
                          "x": -1.8646211498927607,
                          "y": 1.444191111789779,
                          "z": 0.5
                        }
                      }
                    }
                  }
                },
                {
                  "layout": {
                    "scene": {
                      "camera": {
                        "eye": {
                          "x": -1.8573769167052723,
                          "y": 1.4534961263417308,
                          "z": 0.5
                        }
                      }
                    }
                  }
                },
                {
                  "layout": {
                    "scene": {
                      "camera": {
                        "eye": {
                          "x": -1.8500862491916055,
                          "y": 1.4627648035662248,
                          "z": 0.5
                        }
                      }
                    }
                  }
                },
                {
                  "layout": {
                    "scene": {
                      "camera": {
                        "eye": {
                          "x": -1.8427493296180675,
                          "y": 1.4719969117468157,
                          "z": 0.5
                        }
                      }
                    }
                  }
                },
                {
                  "layout": {
                    "scene": {
                      "camera": {
                        "eye": {
                          "x": -1.8353663414072656,
                          "y": 1.4811922200812793,
                          "z": 0.5
                        }
                      }
                    }
                  }
                },
                {
                  "layout": {
                    "scene": {
                      "camera": {
                        "eye": {
                          "x": -1.8279374691335204,
                          "y": 1.490350498687386,
                          "z": 0.5
                        }
                      }
                    }
                  }
                },
                {
                  "layout": {
                    "scene": {
                      "camera": {
                        "eye": {
                          "x": -1.8204628985182518,
                          "y": 1.499471518608648,
                          "z": 0.5
                        }
                      }
                    }
                  }
                },
                {
                  "layout": {
                    "scene": {
                      "camera": {
                        "eye": {
                          "x": -1.812942816425336,
                          "y": 1.5085550518200421,
                          "z": 0.5
                        }
                      }
                    }
                  }
                },
                {
                  "layout": {
                    "scene": {
                      "camera": {
                        "eye": {
                          "x": -1.8053774108564338,
                          "y": 1.5176008712337112,
                          "z": 0.5
                        }
                      }
                    }
                  }
                },
                {
                  "layout": {
                    "scene": {
                      "camera": {
                        "eye": {
                          "x": -1.7977668709462886,
                          "y": 1.5266087507046429,
                          "z": 0.5
                        }
                      }
                    }
                  }
                },
                {
                  "layout": {
                    "scene": {
                      "camera": {
                        "eye": {
                          "x": -1.7901113869580048,
                          "y": 1.5355784650363162,
                          "z": 0.5
                        }
                      }
                    }
                  }
                },
                {
                  "layout": {
                    "scene": {
                      "camera": {
                        "eye": {
                          "x": -1.7824111502782818,
                          "y": 1.5445097899863414,
                          "z": 0.5
                        }
                      }
                    }
                  }
                },
                {
                  "layout": {
                    "scene": {
                      "camera": {
                        "eye": {
                          "x": -1.7746663534126357,
                          "y": 1.5534025022720601,
                          "z": 0.5
                        }
                      }
                    }
                  }
                },
                {
                  "layout": {
                    "scene": {
                      "camera": {
                        "eye": {
                          "x": -1.7668771899805849,
                          "y": 1.5622563795761284,
                          "z": 0.5
                        }
                      }
                    }
                  }
                },
                {
                  "layout": {
                    "scene": {
                      "camera": {
                        "eye": {
                          "x": -1.7590438547108092,
                          "y": 1.5710712005520746,
                          "z": 0.5
                        }
                      }
                    }
                  }
                },
                {
                  "layout": {
                    "scene": {
                      "camera": {
                        "eye": {
                          "x": -1.7511665434362826,
                          "y": 1.579846744829834,
                          "z": 0.5
                        }
                      }
                    }
                  }
                },
                {
                  "layout": {
                    "scene": {
                      "camera": {
                        "eye": {
                          "x": -1.7432454530893766,
                          "y": 1.5885827930212557,
                          "z": 0.5
                        }
                      }
                    }
                  }
                },
                {
                  "layout": {
                    "scene": {
                      "camera": {
                        "eye": {
                          "x": -1.735280781696936,
                          "y": 1.5972791267255924,
                          "z": 0.5
                        }
                      }
                    }
                  }
                },
                {
                  "layout": {
                    "scene": {
                      "camera": {
                        "eye": {
                          "x": -1.7272727283753335,
                          "y": 1.6059355285349506,
                          "z": 0.5
                        }
                      }
                    }
                  }
                },
                {
                  "layout": {
                    "scene": {
                      "camera": {
                        "eye": {
                          "x": -1.7192214933254835,
                          "y": 1.6145517820397381,
                          "z": 0.5
                        }
                      }
                    }
                  }
                },
                {
                  "layout": {
                    "scene": {
                      "camera": {
                        "eye": {
                          "x": -1.7111272778278432,
                          "y": 1.623127671834066,
                          "z": 0.5
                        }
                      }
                    }
                  }
                },
                {
                  "layout": {
                    "scene": {
                      "camera": {
                        "eye": {
                          "x": -1.7029902842373783,
                          "y": 1.6316629835211356,
                          "z": 0.5
                        }
                      }
                    }
                  }
                },
                {
                  "layout": {
                    "scene": {
                      "camera": {
                        "eye": {
                          "x": -1.6948107159785049,
                          "y": 1.6401575037185996,
                          "z": 0.5
                        }
                      }
                    }
                  }
                },
                {
                  "layout": {
                    "scene": {
                      "camera": {
                        "eye": {
                          "x": -1.6865887775400032,
                          "y": 1.6486110200638953,
                          "z": 0.5
                        }
                      }
                    }
                  }
                },
                {
                  "layout": {
                    "scene": {
                      "camera": {
                        "eye": {
                          "x": -1.678324674469906,
                          "y": 1.6570233212195546,
                          "z": 0.5
                        }
                      }
                    }
                  }
                },
                {
                  "layout": {
                    "scene": {
                      "camera": {
                        "eye": {
                          "x": -1.67001861337036,
                          "y": 1.6653941968784864,
                          "z": 0.5
                        }
                      }
                    }
                  }
                },
                {
                  "layout": {
                    "scene": {
                      "camera": {
                        "eye": {
                          "x": -1.6616708018924582,
                          "y": 1.6737234377692374,
                          "z": 0.5
                        }
                      }
                    }
                  }
                },
                {
                  "layout": {
                    "scene": {
                      "camera": {
                        "eye": {
                          "x": -1.653281448731056,
                          "y": 1.6820108356612153,
                          "z": 0.5
                        }
                      }
                    }
                  }
                },
                {
                  "layout": {
                    "scene": {
                      "camera": {
                        "eye": {
                          "x": -1.644850763619544,
                          "y": 1.6902561833699066,
                          "z": 0.5
                        }
                      }
                    }
                  }
                },
                {
                  "layout": {
                    "scene": {
                      "camera": {
                        "eye": {
                          "x": -1.6363789573246104,
                          "y": 1.698459274762048,
                          "z": 0.5
                        }
                      }
                    }
                  }
                },
                {
                  "layout": {
                    "scene": {
                      "camera": {
                        "eye": {
                          "x": -1.6278662416409717,
                          "y": 1.706619904760781,
                          "z": 0.5
                        }
                      }
                    }
                  }
                },
                {
                  "layout": {
                    "scene": {
                      "camera": {
                        "eye": {
                          "x": -1.6193128293860766,
                          "y": 1.7147378693507818,
                          "z": 0.5
                        }
                      }
                    }
                  }
                },
                {
                  "layout": {
                    "scene": {
                      "camera": {
                        "eye": {
                          "x": -1.610718934394786,
                          "y": 1.722812965583358,
                          "z": 0.5
                        }
                      }
                    }
                  }
                },
                {
                  "layout": {
                    "scene": {
                      "camera": {
                        "eye": {
                          "x": -1.6020847715140274,
                          "y": 1.7308449915815243,
                          "z": 0.5
                        }
                      }
                    }
                  }
                },
                {
                  "layout": {
                    "scene": {
                      "camera": {
                        "eye": {
                          "x": -1.5934105565974208,
                          "y": 1.7388337465450507,
                          "z": 0.5
                        }
                      }
                    }
                  }
                },
                {
                  "layout": {
                    "scene": {
                      "camera": {
                        "eye": {
                          "x": -1.584696506499891,
                          "y": 1.746779030755476,
                          "z": 0.5
                        }
                      }
                    }
                  }
                },
                {
                  "layout": {
                    "scene": {
                      "camera": {
                        "eye": {
                          "x": -1.5759428390722352,
                          "y": 1.7546806455811106,
                          "z": 0.5
                        }
                      }
                    }
                  }
                },
                {
                  "layout": {
                    "scene": {
                      "camera": {
                        "eye": {
                          "x": -1.5671497731556827,
                          "y": 1.7625383934819951,
                          "z": 0.5
                        }
                      }
                    }
                  }
                },
                {
                  "layout": {
                    "scene": {
                      "camera": {
                        "eye": {
                          "x": -1.5583175285764237,
                          "y": 1.7703520780148416,
                          "z": 0.5
                        }
                      }
                    }
                  }
                },
                {
                  "layout": {
                    "scene": {
                      "camera": {
                        "eye": {
                          "x": -1.5494463261401121,
                          "y": 1.7781215038379432,
                          "z": 0.5
                        }
                      }
                    }
                  }
                },
                {
                  "layout": {
                    "scene": {
                      "camera": {
                        "eye": {
                          "x": -1.5405363876263478,
                          "y": 1.7858464767160593,
                          "z": 0.5
                        }
                      }
                    }
                  }
                },
                {
                  "layout": {
                    "scene": {
                      "camera": {
                        "eye": {
                          "x": -1.5315879357831288,
                          "y": 1.7935268035252705,
                          "z": 0.5
                        }
                      }
                    }
                  }
                },
                {
                  "layout": {
                    "scene": {
                      "camera": {
                        "eye": {
                          "x": -1.5226011943212838,
                          "y": 1.8011622922578074,
                          "z": 0.5
                        }
                      }
                    }
                  }
                },
                {
                  "layout": {
                    "scene": {
                      "camera": {
                        "eye": {
                          "x": -1.5135763879088846,
                          "y": 1.8087527520268472,
                          "z": 0.5
                        }
                      }
                    }
                  }
                },
                {
                  "layout": {
                    "scene": {
                      "camera": {
                        "eye": {
                          "x": -1.5045137421656198,
                          "y": 1.8162979930712921,
                          "z": 0.5
                        }
                      }
                    }
                  }
                },
                {
                  "layout": {
                    "scene": {
                      "camera": {
                        "eye": {
                          "x": -1.4954134836571604,
                          "y": 1.8237978267605088,
                          "z": 0.5
                        }
                      }
                    }
                  }
                },
                {
                  "layout": {
                    "scene": {
                      "camera": {
                        "eye": {
                          "x": -1.4862758398894962,
                          "y": 1.831252065599046,
                          "z": 0.5
                        }
                      }
                    }
                  }
                },
                {
                  "layout": {
                    "scene": {
                      "camera": {
                        "eye": {
                          "x": -1.4771010393032447,
                          "y": 1.838660523231321,
                          "z": 0.5
                        }
                      }
                    }
                  }
                },
                {
                  "layout": {
                    "scene": {
                      "camera": {
                        "eye": {
                          "x": -1.4678893112679428,
                          "y": 1.8460230144462786,
                          "z": 0.5
                        }
                      }
                    }
                  }
                },
                {
                  "layout": {
                    "scene": {
                      "camera": {
                        "eye": {
                          "x": -1.4586408860763114,
                          "y": 1.8533393551820219,
                          "z": 0.5
                        }
                      }
                    }
                  }
                },
                {
                  "layout": {
                    "scene": {
                      "camera": {
                        "eye": {
                          "x": -1.4493559949384993,
                          "y": 1.8606093625304136,
                          "z": 0.5
                        }
                      }
                    }
                  }
                },
                {
                  "layout": {
                    "scene": {
                      "camera": {
                        "eye": {
                          "x": -1.4400348699762993,
                          "y": 1.86783285474165,
                          "z": 0.5
                        }
                      }
                    }
                  }
                },
                {
                  "layout": {
                    "scene": {
                      "camera": {
                        "eye": {
                          "x": -1.4306777442173535,
                          "y": 1.8750096512287997,
                          "z": 0.5
                        }
                      }
                    }
                  }
                },
                {
                  "layout": {
                    "scene": {
                      "camera": {
                        "eye": {
                          "x": -1.4212848515893164,
                          "y": 1.8821395725723251,
                          "z": 0.5
                        }
                      }
                    }
                  }
                },
                {
                  "layout": {
                    "scene": {
                      "camera": {
                        "eye": {
                          "x": -1.4118564269140148,
                          "y": 1.8892224405245646,
                          "z": 0.5
                        }
                      }
                    }
                  }
                },
                {
                  "layout": {
                    "scene": {
                      "camera": {
                        "eye": {
                          "x": -1.4023927059015744,
                          "y": 1.8962580780141876,
                          "z": 0.5
                        }
                      }
                    }
                  }
                },
                {
                  "layout": {
                    "scene": {
                      "camera": {
                        "eye": {
                          "x": -1.3928939251445276,
                          "y": 1.9032463091506235,
                          "z": 0.5
                        }
                      }
                    }
                  }
                },
                {
                  "layout": {
                    "scene": {
                      "camera": {
                        "eye": {
                          "x": -1.3833603221118989,
                          "y": 1.910186959228458,
                          "z": 0.5
                        }
                      }
                    }
                  }
                },
                {
                  "layout": {
                    "scene": {
                      "camera": {
                        "eye": {
                          "x": -1.3737921351432674,
                          "y": 1.9170798547318009,
                          "z": 0.5
                        }
                      }
                    }
                  }
                },
                {
                  "layout": {
                    "scene": {
                      "camera": {
                        "eye": {
                          "x": -1.3641896034428072,
                          "y": 1.9239248233386244,
                          "z": 0.5
                        }
                      }
                    }
                  }
                },
                {
                  "layout": {
                    "scene": {
                      "camera": {
                        "eye": {
                          "x": -1.3545529670733139,
                          "y": 1.9307216939250673,
                          "z": 0.5
                        }
                      }
                    }
                  }
                },
                {
                  "layout": {
                    "scene": {
                      "camera": {
                        "eye": {
                          "x": -1.3448824669501933,
                          "y": 1.9374702965697208,
                          "z": 0.5
                        }
                      }
                    }
                  }
                },
                {
                  "layout": {
                    "scene": {
                      "camera": {
                        "eye": {
                          "x": -1.3351783448354453,
                          "y": 1.9441704625578697,
                          "z": 0.5
                        }
                      }
                    }
                  }
                },
                {
                  "layout": {
                    "scene": {
                      "camera": {
                        "eye": {
                          "x": -1.3254408433316165,
                          "y": 1.9508220243857133,
                          "z": 0.5
                        }
                      }
                    }
                  }
                },
                {
                  "layout": {
                    "scene": {
                      "camera": {
                        "eye": {
                          "x": -1.315670205875738,
                          "y": 1.9574248157645529,
                          "z": 0.5
                        }
                      }
                    }
                  }
                },
                {
                  "layout": {
                    "scene": {
                      "camera": {
                        "eye": {
                          "x": -1.3058666767332368,
                          "y": 1.963978671624947,
                          "z": 0.5
                        }
                      }
                    }
                  }
                }
              ],
              "config": {
                "plotlyServerURL": "https://plot.ly"
              }
            },
            "text/html": "<div>                            <div id=\"7155435f-e7e8-4fa0-add3-bb0e352ff332\" class=\"plotly-graph-div\" style=\"height:600px; width:600px;\"></div>            <script type=\"text/javascript\">                require([\"plotly\"], function(Plotly) {                    window.PLOTLYENV=window.PLOTLYENV || {};                                    if (document.getElementById(\"7155435f-e7e8-4fa0-add3-bb0e352ff332\")) {                    Plotly.newPlot(                        \"7155435f-e7e8-4fa0-add3-bb0e352ff332\",                        [{\"mode\":\"markers\",\"x\":[1.0,0.9792475210564969,0.9178514149905888,0.8183599245989673,0.6849024400004521,0.5230181084730104,0.33942593237925484,0.14174589725634046,-0.061817295362854206,-0.262814763741325,-0.4529041164186286,-0.6241957028171256,-0.7695800728569471,-0.883023054382162,-0.95981620122199,-0.996772217050833,-0.9923572439880433,-0.9467545253046645,-0.8618567999191831,-0.7411877443484259,-0.5897557226621226,-0.41384591454310704,-0.22075944916926946,-0.018510372154503518,0.18450697707700792,0.37986637199507933,0.5594594291408053,0.7158321462405541,0.842494280256423,0.9341887246502055,0.9871097053688656,0.9990607393363355,0.9695457993910898,0.8997899018725932,0.7926882623697213,0.6526861299196696,0.48559428713386943,0.29834787391040735,0.09871854474461515,-0.10500809346346798,-0.30437637517455507,-0.4911115282522227,-0.6574631180319587,-0.7965267287855184,-0.9025305312049615,-0.9710748419350043,-0.9993147322454036,-0.9860781066780927,-0.931914350819809,-0.8390715290764524],\"y\":[0.0,0.20266793654820095,0.39692414892492234,0.5747060412161791,0.7286347834693504,0.8523215697196184,0.9406327851124867,0.9899030763721239,0.9980874821347183,0.9648463089837632,0.8915592304110037,0.7812680235262638,0.6385503202266021,0.469329612777201,0.28062939951435684,0.0802816748428135,-0.12339813736217871,-0.3219563150726187,-0.5071517094845144,-0.6712977935519321,-0.8075816909683364,-0.9103469443107827,-0.9753282860670456,-0.9998286683840896,-0.9828312039256306,-0.9250413717382029,-0.8288577363730427,-0.6982723955653996,-0.5387052883861563,-0.3567792408989381,-0.16004508604325057,0.04333173336868346,0.2449100710119793,0.4363234264718193,0.6096271964908323,0.7576284153927202,0.8741842988197335,0.9544571997387519,0.9951153947776636,0.9944713672636168,0.9525518475314604,0.8710967034823207,0.7534867274396376,0.6046033165061544,0.4306258703827373,0.23877531564403087,0.03701440148506237,-0.1662827938487564,-0.3626784288265488,-0.5440211108893698],\"z\":[0.0,0.20408163265306123,0.40816326530612246,0.6122448979591837,0.8163265306122449,1.0204081632653061,1.2244897959183674,1.4285714285714286,1.6326530612244898,1.836734693877551,2.0408163265306123,2.2448979591836737,2.4489795918367347,2.6530612244897958,2.857142857142857,3.0612244897959187,3.2653061224489797,3.4693877551020407,3.673469387755102,3.8775510204081636,4.081632653061225,4.285714285714286,4.4897959183673475,4.6938775510204085,4.8979591836734695,5.1020408163265305,5.3061224489795915,5.510204081632653,5.714285714285714,5.918367346938775,6.122448979591837,6.326530612244898,6.530612244897959,6.73469387755102,6.938775510204081,7.142857142857143,7.346938775510204,7.551020408163265,7.755102040816327,7.959183673469388,8.16326530612245,8.36734693877551,8.571428571428571,8.775510204081632,8.979591836734695,9.183673469387756,9.387755102040817,9.591836734693878,9.795918367346939,10.0],\"type\":\"scatter3d\"}],                        {\"template\":{\"data\":{\"histogram2dcontour\":[{\"type\":\"histogram2dcontour\",\"colorbar\":{\"outlinewidth\":0,\"ticks\":\"\"},\"colorscale\":[[0.0,\"#0d0887\"],[0.1111111111111111,\"#46039f\"],[0.2222222222222222,\"#7201a8\"],[0.3333333333333333,\"#9c179e\"],[0.4444444444444444,\"#bd3786\"],[0.5555555555555556,\"#d8576b\"],[0.6666666666666666,\"#ed7953\"],[0.7777777777777778,\"#fb9f3a\"],[0.8888888888888888,\"#fdca26\"],[1.0,\"#f0f921\"]]}],\"choropleth\":[{\"type\":\"choropleth\",\"colorbar\":{\"outlinewidth\":0,\"ticks\":\"\"}}],\"histogram2d\":[{\"type\":\"histogram2d\",\"colorbar\":{\"outlinewidth\":0,\"ticks\":\"\"},\"colorscale\":[[0.0,\"#0d0887\"],[0.1111111111111111,\"#46039f\"],[0.2222222222222222,\"#7201a8\"],[0.3333333333333333,\"#9c179e\"],[0.4444444444444444,\"#bd3786\"],[0.5555555555555556,\"#d8576b\"],[0.6666666666666666,\"#ed7953\"],[0.7777777777777778,\"#fb9f3a\"],[0.8888888888888888,\"#fdca26\"],[1.0,\"#f0f921\"]]}],\"heatmap\":[{\"type\":\"heatmap\",\"colorbar\":{\"outlinewidth\":0,\"ticks\":\"\"},\"colorscale\":[[0.0,\"#0d0887\"],[0.1111111111111111,\"#46039f\"],[0.2222222222222222,\"#7201a8\"],[0.3333333333333333,\"#9c179e\"],[0.4444444444444444,\"#bd3786\"],[0.5555555555555556,\"#d8576b\"],[0.6666666666666666,\"#ed7953\"],[0.7777777777777778,\"#fb9f3a\"],[0.8888888888888888,\"#fdca26\"],[1.0,\"#f0f921\"]]}],\"heatmapgl\":[{\"type\":\"heatmapgl\",\"colorbar\":{\"outlinewidth\":0,\"ticks\":\"\"},\"colorscale\":[[0.0,\"#0d0887\"],[0.1111111111111111,\"#46039f\"],[0.2222222222222222,\"#7201a8\"],[0.3333333333333333,\"#9c179e\"],[0.4444444444444444,\"#bd3786\"],[0.5555555555555556,\"#d8576b\"],[0.6666666666666666,\"#ed7953\"],[0.7777777777777778,\"#fb9f3a\"],[0.8888888888888888,\"#fdca26\"],[1.0,\"#f0f921\"]]}],\"contourcarpet\":[{\"type\":\"contourcarpet\",\"colorbar\":{\"outlinewidth\":0,\"ticks\":\"\"}}],\"contour\":[{\"type\":\"contour\",\"colorbar\":{\"outlinewidth\":0,\"ticks\":\"\"},\"colorscale\":[[0.0,\"#0d0887\"],[0.1111111111111111,\"#46039f\"],[0.2222222222222222,\"#7201a8\"],[0.3333333333333333,\"#9c179e\"],[0.4444444444444444,\"#bd3786\"],[0.5555555555555556,\"#d8576b\"],[0.6666666666666666,\"#ed7953\"],[0.7777777777777778,\"#fb9f3a\"],[0.8888888888888888,\"#fdca26\"],[1.0,\"#f0f921\"]]}],\"surface\":[{\"type\":\"surface\",\"colorbar\":{\"outlinewidth\":0,\"ticks\":\"\"},\"colorscale\":[[0.0,\"#0d0887\"],[0.1111111111111111,\"#46039f\"],[0.2222222222222222,\"#7201a8\"],[0.3333333333333333,\"#9c179e\"],[0.4444444444444444,\"#bd3786\"],[0.5555555555555556,\"#d8576b\"],[0.6666666666666666,\"#ed7953\"],[0.7777777777777778,\"#fb9f3a\"],[0.8888888888888888,\"#fdca26\"],[1.0,\"#f0f921\"]]}],\"mesh3d\":[{\"type\":\"mesh3d\",\"colorbar\":{\"outlinewidth\":0,\"ticks\":\"\"}}],\"scatter\":[{\"fillpattern\":{\"fillmode\":\"overlay\",\"size\":10,\"solidity\":0.2},\"type\":\"scatter\"}],\"parcoords\":[{\"type\":\"parcoords\",\"line\":{\"colorbar\":{\"outlinewidth\":0,\"ticks\":\"\"}}}],\"scatterpolargl\":[{\"type\":\"scatterpolargl\",\"marker\":{\"colorbar\":{\"outlinewidth\":0,\"ticks\":\"\"}}}],\"bar\":[{\"error_x\":{\"color\":\"#2a3f5f\"},\"error_y\":{\"color\":\"#2a3f5f\"},\"marker\":{\"line\":{\"color\":\"#E5ECF6\",\"width\":0.5},\"pattern\":{\"fillmode\":\"overlay\",\"size\":10,\"solidity\":0.2}},\"type\":\"bar\"}],\"scattergeo\":[{\"type\":\"scattergeo\",\"marker\":{\"colorbar\":{\"outlinewidth\":0,\"ticks\":\"\"}}}],\"scatterpolar\":[{\"type\":\"scatterpolar\",\"marker\":{\"colorbar\":{\"outlinewidth\":0,\"ticks\":\"\"}}}],\"histogram\":[{\"marker\":{\"pattern\":{\"fillmode\":\"overlay\",\"size\":10,\"solidity\":0.2}},\"type\":\"histogram\"}],\"scattergl\":[{\"type\":\"scattergl\",\"marker\":{\"colorbar\":{\"outlinewidth\":0,\"ticks\":\"\"}}}],\"scatter3d\":[{\"type\":\"scatter3d\",\"line\":{\"colorbar\":{\"outlinewidth\":0,\"ticks\":\"\"}},\"marker\":{\"colorbar\":{\"outlinewidth\":0,\"ticks\":\"\"}}}],\"scattermapbox\":[{\"type\":\"scattermapbox\",\"marker\":{\"colorbar\":{\"outlinewidth\":0,\"ticks\":\"\"}}}],\"scatterternary\":[{\"type\":\"scatterternary\",\"marker\":{\"colorbar\":{\"outlinewidth\":0,\"ticks\":\"\"}}}],\"scattercarpet\":[{\"type\":\"scattercarpet\",\"marker\":{\"colorbar\":{\"outlinewidth\":0,\"ticks\":\"\"}}}],\"carpet\":[{\"aaxis\":{\"endlinecolor\":\"#2a3f5f\",\"gridcolor\":\"white\",\"linecolor\":\"white\",\"minorgridcolor\":\"white\",\"startlinecolor\":\"#2a3f5f\"},\"baxis\":{\"endlinecolor\":\"#2a3f5f\",\"gridcolor\":\"white\",\"linecolor\":\"white\",\"minorgridcolor\":\"white\",\"startlinecolor\":\"#2a3f5f\"},\"type\":\"carpet\"}],\"table\":[{\"cells\":{\"fill\":{\"color\":\"#EBF0F8\"},\"line\":{\"color\":\"white\"}},\"header\":{\"fill\":{\"color\":\"#C8D4E3\"},\"line\":{\"color\":\"white\"}},\"type\":\"table\"}],\"barpolar\":[{\"marker\":{\"line\":{\"color\":\"#E5ECF6\",\"width\":0.5},\"pattern\":{\"fillmode\":\"overlay\",\"size\":10,\"solidity\":0.2}},\"type\":\"barpolar\"}],\"pie\":[{\"automargin\":true,\"type\":\"pie\"}]},\"layout\":{\"autotypenumbers\":\"strict\",\"colorway\":[\"#636efa\",\"#EF553B\",\"#00cc96\",\"#ab63fa\",\"#FFA15A\",\"#19d3f3\",\"#FF6692\",\"#B6E880\",\"#FF97FF\",\"#FECB52\"],\"font\":{\"color\":\"#2a3f5f\"},\"hovermode\":\"closest\",\"hoverlabel\":{\"align\":\"left\"},\"paper_bgcolor\":\"white\",\"plot_bgcolor\":\"#E5ECF6\",\"polar\":{\"bgcolor\":\"#E5ECF6\",\"angularaxis\":{\"gridcolor\":\"white\",\"linecolor\":\"white\",\"ticks\":\"\"},\"radialaxis\":{\"gridcolor\":\"white\",\"linecolor\":\"white\",\"ticks\":\"\"}},\"ternary\":{\"bgcolor\":\"#E5ECF6\",\"aaxis\":{\"gridcolor\":\"white\",\"linecolor\":\"white\",\"ticks\":\"\"},\"baxis\":{\"gridcolor\":\"white\",\"linecolor\":\"white\",\"ticks\":\"\"},\"caxis\":{\"gridcolor\":\"white\",\"linecolor\":\"white\",\"ticks\":\"\"}},\"coloraxis\":{\"colorbar\":{\"outlinewidth\":0,\"ticks\":\"\"}},\"colorscale\":{\"sequential\":[[0.0,\"#0d0887\"],[0.1111111111111111,\"#46039f\"],[0.2222222222222222,\"#7201a8\"],[0.3333333333333333,\"#9c179e\"],[0.4444444444444444,\"#bd3786\"],[0.5555555555555556,\"#d8576b\"],[0.6666666666666666,\"#ed7953\"],[0.7777777777777778,\"#fb9f3a\"],[0.8888888888888888,\"#fdca26\"],[1.0,\"#f0f921\"]],\"sequentialminus\":[[0.0,\"#0d0887\"],[0.1111111111111111,\"#46039f\"],[0.2222222222222222,\"#7201a8\"],[0.3333333333333333,\"#9c179e\"],[0.4444444444444444,\"#bd3786\"],[0.5555555555555556,\"#d8576b\"],[0.6666666666666666,\"#ed7953\"],[0.7777777777777778,\"#fb9f3a\"],[0.8888888888888888,\"#fdca26\"],[1.0,\"#f0f921\"]],\"diverging\":[[0,\"#8e0152\"],[0.1,\"#c51b7d\"],[0.2,\"#de77ae\"],[0.3,\"#f1b6da\"],[0.4,\"#fde0ef\"],[0.5,\"#f7f7f7\"],[0.6,\"#e6f5d0\"],[0.7,\"#b8e186\"],[0.8,\"#7fbc41\"],[0.9,\"#4d9221\"],[1,\"#276419\"]]},\"xaxis\":{\"gridcolor\":\"white\",\"linecolor\":\"white\",\"ticks\":\"\",\"title\":{\"standoff\":15},\"zerolinecolor\":\"white\",\"automargin\":true,\"zerolinewidth\":2},\"yaxis\":{\"gridcolor\":\"white\",\"linecolor\":\"white\",\"ticks\":\"\",\"title\":{\"standoff\":15},\"zerolinecolor\":\"white\",\"automargin\":true,\"zerolinewidth\":2},\"scene\":{\"xaxis\":{\"backgroundcolor\":\"#E5ECF6\",\"gridcolor\":\"white\",\"linecolor\":\"white\",\"showbackground\":true,\"ticks\":\"\",\"zerolinecolor\":\"white\",\"gridwidth\":2},\"yaxis\":{\"backgroundcolor\":\"#E5ECF6\",\"gridcolor\":\"white\",\"linecolor\":\"white\",\"showbackground\":true,\"ticks\":\"\",\"zerolinecolor\":\"white\",\"gridwidth\":2},\"zaxis\":{\"backgroundcolor\":\"#E5ECF6\",\"gridcolor\":\"white\",\"linecolor\":\"white\",\"showbackground\":true,\"ticks\":\"\",\"zerolinecolor\":\"white\",\"gridwidth\":2}},\"shapedefaults\":{\"line\":{\"color\":\"#2a3f5f\"}},\"annotationdefaults\":{\"arrowcolor\":\"#2a3f5f\",\"arrowhead\":0,\"arrowwidth\":1},\"geo\":{\"bgcolor\":\"white\",\"landcolor\":\"#E5ECF6\",\"subunitcolor\":\"white\",\"showland\":true,\"showlakes\":true,\"lakecolor\":\"white\"},\"title\":{\"x\":0.05},\"mapbox\":{\"style\":\"light\"}}},\"scene\":{\"camera\":{\"eye\":{\"x\":-1.25,\"y\":2,\"z\":0.5}}},\"title\":{\"text\":\"Animation Test\"},\"width\":600,\"height\":600,\"updatemenus\":[{\"buttons\":[{\"args\":[null,{\"frame\":{\"duration\":10,\"redraw\":true},\"transition\":{\"duration\":0},\"fromcurrent\":true,\"mode\":\"immediate\"}],\"label\":\"Play\",\"method\":\"animate\"}],\"pad\":{\"r\":10,\"t\":45},\"showactive\":false,\"type\":\"buttons\",\"x\":0.8,\"xanchor\":\"left\",\"y\":1,\"yanchor\":\"bottom\"}]},                        {\"responsive\": true}                    ).then(function(){\n                            Plotly.addFrames('7155435f-e7e8-4fa0-add3-bb0e352ff332', [{\"layout\":{\"scene\":{\"camera\":{\"eye\":{\"x\":-1.25,\"y\":2.0,\"z\":0.5}}}}},{\"layout\":{\"scene\":{\"camera\":{\"eye\":{\"x\":-1.2399844166991667,\"y\":2.006224974010449,\"z\":0.5}}}}},{\"layout\":{\"scene\":{\"camera\":{\"eye\":{\"x\":-1.2299378338524982,\"y\":2.012399792501039,\"z\":0.5}}}}},{\"layout\":{\"scene\":{\"camera\":{\"eye\":{\"x\":-1.219860502624043,\"y\":2.0185243011016283,\"z\":0.5}}}}},{\"layout\":{\"scene\":{\"camera\":{\"eye\":{\"x\":-1.2097526749465561,\"y\":2.024598346699822,\"z\":0.5}}}}},{\"layout\":{\"scene\":{\"camera\":{\"eye\":{\"x\":-1.1996146035152038,\"y\":2.0306217774447957,\"z\":0.5}}}}},{\"layout\":{\"scene\":{\"camera\":{\"eye\":{\"x\":-1.1894465417812432,\"y\":2.0365944427510945,\"z\":0.5}}}}},{\"layout\":{\"scene\":{\"camera\":{\"eye\":{\"x\":-1.1792487439456882,\"y\":2.0425161933023976,\"z\":0.5}}}}},{\"layout\":{\"scene\":{\"camera\":{\"eye\":{\"x\":-1.169021464952954,\"y\":2.0483868810552486,\"z\":0.5}}}}},{\"layout\":{\"scene\":{\"camera\":{\"eye\":{\"x\":-1.1587649604844827,\"y\":2.05420635924276,\"z\":0.5}}}}},{\"layout\":{\"scene\":{\"camera\":{\"eye\":{\"x\":-1.1484794869523511,\"y\":2.0599744823782804,\"z\":0.5}}}}},{\"layout\":{\"scene\":{\"camera\":{\"eye\":{\"x\":-1.1381653014928628,\"y\":2.0656911062590315,\"z\":0.5}}}}},{\"layout\":{\"scene\":{\"camera\":{\"eye\":{\"x\":-1.1278226619601162,\"y\":2.071356087969714,\"z\":0.5}}}}},{\"layout\":{\"scene\":{\"camera\":{\"eye\":{\"x\":-1.1174518269195612,\"y\":2.0769692858860807,\"z\":0.5}}}}},{\"layout\":{\"scene\":{\"camera\":{\"eye\":{\"x\":-1.107053055641534,\"y\":2.0825305596784753,\"z\":0.5}}}}},{\"layout\":{\"scene\":{\"camera\":{\"eye\":{\"x\":-1.0966266080947746,\"y\":2.088039770315343,\"z\":0.5}}}}},{\"layout\":{\"scene\":{\"camera\":{\"eye\":{\"x\":-1.0861727449399288,\"y\":2.0934967800667046,\"z\":0.5}}}}},{\"layout\":{\"scene\":{\"camera\":{\"eye\":{\"x\":-1.0756917275230309,\"y\":2.098901452507601,\"z\":0.5}}}}},{\"layout\":{\"scene\":{\"camera\":{\"eye\":{\"x\":-1.0651838178689708,\"y\":2.1042536525215025,\"z\":0.5}}}}},{\"layout\":{\"scene\":{\"camera\":{\"eye\":{\"x\":-1.054649278674942,\"y\":2.1095532463036872,\"z\":0.5}}}}},{\"layout\":{\"scene\":{\"camera\":{\"eye\":{\"x\":-1.0440883733038762,\"y\":2.1148001013645867,\"z\":0.5}}}}},{\"layout\":{\"scene\":{\"camera\":{\"eye\":{\"x\":-1.0335013657778567,\"y\":2.1199940865330977,\"z\":0.5}}}}},{\"layout\":{\"scene\":{\"camera\":{\"eye\":{\"x\":-1.0228885207715215,\"y\":2.1251350719598623,\"z\":0.5}}}}},{\"layout\":{\"scene\":{\"camera\":{\"eye\":{\"x\":-1.012250103605442,\"y\":2.1302229291205115,\"z\":0.5}}}}},{\"layout\":{\"scene\":{\"camera\":{\"eye\":{\"x\":-1.001586380239494,\"y\":2.1352575308188815,\"z\":0.5}}}}},{\"layout\":{\"scene\":{\"camera\":{\"eye\":{\"x\":-0.9908976172662058,\"y\":2.140238751190193,\"z\":0.5}}}}},{\"layout\":{\"scene\":{\"camera\":{\"eye\":{\"x\":-0.9801840819040954,\"y\":2.145166465704195,\"z\":0.5}}}}},{\"layout\":{\"scene\":{\"camera\":{\"eye\":{\"x\":-0.9694460419909883,\"y\":2.1500405511682814,\"z\":0.5}}}}},{\"layout\":{\"scene\":{\"camera\":{\"eye\":{\"x\":-0.9586837659773233,\"y\":2.15486088573057,\"z\":0.5}}}}},{\"layout\":{\"scene\":{\"camera\":{\"eye\":{\"x\":-0.9478975229194407,\"y\":2.1596273488829474,\"z\":0.5}}}}},{\"layout\":{\"scene\":{\"camera\":{\"eye\":{\"x\":-0.9370875824728543,\"y\":2.1643398214640834,\"z\":0.5}}}}},{\"layout\":{\"scene\":{\"camera\":{\"eye\":{\"x\":-0.9262542148855131,\"y\":2.168998185662409,\"z\":0.5}}}}},{\"layout\":{\"scene\":{\"camera\":{\"eye\":{\"x\":-0.9153976909910417,\"y\":2.1736023250190613,\"z\":0.5}}}}},{\"layout\":{\"scene\":{\"camera\":{\"eye\":{\"x\":-0.9045182822019726,\"y\":2.1781521244307966,\"z\":0.5}}}}},{\"layout\":{\"scene\":{\"camera\":{\"eye\":{\"x\":-0.893616260502959,\"y\":2.1826474701528666,\"z\":0.5}}}}},{\"layout\":{\"scene\":{\"camera\":{\"eye\":{\"x\":-0.8826918984439749,\"y\":2.187088249801862,\"z\":0.5}}}}},{\"layout\":{\"scene\":{\"camera\":{\"eye\":{\"x\":-0.8717454691335036,\"y\":2.191474352358523,\"z\":0.5}}}}},{\"layout\":{\"scene\":{\"camera\":{\"eye\":{\"x\":-0.8607772462317069,\"y\":2.1958056681705145,\"z\":0.5}}}}},{\"layout\":{\"scene\":{\"camera\":{\"eye\":{\"x\":-0.8497875039435867,\"y\":2.2000820889551664,\"z\":0.5}}}}},{\"layout\":{\"scene\":{\"camera\":{\"eye\":{\"x\":-0.8387765170121277,\"y\":2.204303507802182,\"z\":0.5}}}}},{\"layout\":{\"scene\":{\"camera\":{\"eye\":{\"x\":-0.8277445607114295,\"y\":2.20846981917631,\"z\":0.5}}}}},{\"layout\":{\"scene\":{\"camera\":{\"eye\":{\"x\":-0.8166919108398252,\"y\":2.2125809189199828,\"z\":0.5}}}}},{\"layout\":{\"scene\":{\"camera\":{\"eye\":{\"x\":-0.8056188437129861,\"y\":2.216636704255921,\"z\":0.5}}}}},{\"layout\":{\"scene\":{\"camera\":{\"eye\":{\"x\":-0.7945256361570133,\"y\":2.2206370737897023,\"z\":0.5}}}}},{\"layout\":{\"scene\":{\"camera\":{\"eye\":{\"x\":-0.7834125655015183,\"y\":2.2245819275122978,\"z\":0.5}}}}},{\"layout\":{\"scene\":{\"camera\":{\"eye\":{\"x\":-0.7722799095726883,\"y\":2.2284711668025685,\"z\":0.5}}}}},{\"layout\":{\"scene\":{\"camera\":{\"eye\":{\"x\":-0.7611279466863419,\"y\":2.232304694429735,\"z\":0.5}}}}},{\"layout\":{\"scene\":{\"camera\":{\"eye\":{\"x\":-0.7499569556409702,\"y\":2.236082414555807,\"z\":0.5}}}}},{\"layout\":{\"scene\":{\"camera\":{\"eye\":{\"x\":-0.7387672157107679,\"y\":2.2398042327379772,\"z\":0.5}}}}},{\"layout\":{\"scene\":{\"camera\":{\"eye\":{\"x\":-0.7275590066386501,\"y\":2.243470055930986,\"z\":0.5}}}}},{\"layout\":{\"scene\":{\"camera\":{\"eye\":{\"x\":-0.7163326086292601,\"y\":2.2470797924894432,\"z\":0.5}}}}},{\"layout\":{\"scene\":{\"camera\":{\"eye\":{\"x\":-0.7050883023419634,\"y\":2.250633352170124,\"z\":0.5}}}}},{\"layout\":{\"scene\":{\"camera\":{\"eye\":{\"x\":-0.6938263688838312,\"y\":2.2541306461342203,\"z\":0.5}}}}},{\"layout\":{\"scene\":{\"camera\":{\"eye\":{\"x\":-0.682547089802614,\"y\":2.257571586949566,\"z\":0.5}}}}},{\"layout\":{\"scene\":{\"camera\":{\"eye\":{\"x\":-0.6712507470797009,\"y\":2.26095608859282,\"z\":0.5}}}}},{\"layout\":{\"scene\":{\"camera\":{\"eye\":{\"x\":-0.6599376231230718,\"y\":2.264284066451617,\"z\":0.5}}}}},{\"layout\":{\"scene\":{\"camera\":{\"eye\":{\"x\":-0.6486080007602362,\"y\":2.267555437326684,\"z\":0.5}}}}},{\"layout\":{\"scene\":{\"camera\":{\"eye\":{\"x\":-0.6372621632311631,\"y\":2.27077011943392,\"z\":0.5}}}}},{\"layout\":{\"scene\":{\"camera\":{\"eye\":{\"x\":-0.6259003941812005,\"y\":2.273928032406439,\"z\":0.5}}}}},{\"layout\":{\"scene\":{\"camera\":{\"eye\":{\"x\":-0.6145229776539819,\"y\":2.277029097296581,\"z\":0.5}}}}},{\"layout\":{\"scene\":{\"camera\":{\"eye\":{\"x\":-0.6031301980843283,\"y\":2.2800732365778864,\"z\":0.5}}}}},{\"layout\":{\"scene\":{\"camera\":{\"eye\":{\"x\":-0.5917223402911359,\"y\":2.283060374147031,\"z\":0.5}}}}},{\"layout\":{\"scene\":{\"camera\":{\"eye\":{\"x\":-0.5802996894702547,\"y\":2.285990435325731,\"z\":0.5}}}}},{\"layout\":{\"scene\":{\"camera\":{\"eye\":{\"x\":-0.5688625311873609,\"y\":2.28886334686261,\"z\":0.5}}}}},{\"layout\":{\"scene\":{\"camera\":{\"eye\":{\"x\":-0.5574111513708155,\"y\":2.2916790369350286,\"z\":0.5}}}}},{\"layout\":{\"scene\":{\"camera\":{\"eye\":{\"x\":-0.5459458363045178,\"y\":2.2944374351508827,\"z\":0.5}}}}},{\"layout\":{\"scene\":{\"camera\":{\"eye\":{\"x\":-0.534466872620747,\"y\":2.2971384725503596,\"z\":0.5}}}}},{\"layout\":{\"scene\":{\"camera\":{\"eye\":{\"x\":-0.5229745472929974,\"y\":2.299782081607665,\"z\":0.5}}}}},{\"layout\":{\"scene\":{\"camera\":{\"eye\":{\"x\":-0.511469147628804,\"y\":2.3023681962327105,\"z\":0.5}}}}},{\"layout\":{\"scene\":{\"camera\":{\"eye\":{\"x\":-0.49995096126255867,\"y\":2.304896751772765,\"z\":0.5}}}}},{\"layout\":{\"scene\":{\"camera\":{\"eye\":{\"x\":-0.48842027614832073,\"y\":2.307367685014072,\"z\":0.5}}}}},{\"layout\":{\"scene\":{\"camera\":{\"eye\":{\"x\":-0.47687738055261797,\"y\":2.3097809341834292,\"z\":0.5}}}}},{\"layout\":{\"scene\":{\"camera\":{\"eye\":{\"x\":-0.4653225630472385,\"y\":2.312136438949732,\"z\":0.5}}}}},{\"layout\":{\"scene\":{\"camera\":{\"eye\":{\"x\":-0.45375611250201864,\"y\":2.3144341404254853,\"z\":0.5}}}}},{\"layout\":{\"scene\":{\"camera\":{\"eye\":{\"x\":-0.4421783180776192,\"y\":2.3166739811682713,\"z\":0.5}}}}},{\"layout\":{\"scene\":{\"camera\":{\"eye\":{\"x\":-0.43058946921829766,\"y\":2.318855905182188,\"z\":0.5}}}}},{\"layout\":{\"scene\":{\"camera\":{\"eye\":{\"x\":-0.4189898556446724,\"y\":2.320979857919249,\"z\":0.5}}}}},{\"layout\":{\"scene\":{\"camera\":{\"eye\":{\"x\":-0.4073797673464784,\"y\":2.323045786280746,\"z\":0.5}}}}},{\"layout\":{\"scene\":{\"camera\":{\"eye\":{\"x\":-0.39575949457531856,\"y\":2.325053638618578,\"z\":0.5}}}}},{\"layout\":{\"scene\":{\"camera\":{\"eye\":{\"x\":-0.3841293278374066,\"y\":2.327003364736541,\"z\":0.5}}}}},{\"layout\":{\"scene\":{\"camera\":{\"eye\":{\"x\":-0.37248955788630533,\"y\":2.3288949158915835,\"z\":0.5}}}}},{\"layout\":{\"scene\":{\"camera\":{\"eye\":{\"x\":-0.3608404757156576,\"y\":2.330728244795025,\"z\":0.5}}}}},{\"layout\":{\"scene\":{\"camera\":{\"eye\":{\"x\":-0.34918237255191054,\"y\":2.3325033056137388,\"z\":0.5}}}}},{\"layout\":{\"scene\":{\"camera\":{\"eye\":{\"x\":-0.3375155398470364,\"y\":2.334220053971297,\"z\":0.5}}}}},{\"layout\":{\"scene\":{\"camera\":{\"eye\":{\"x\":-0.3258402692712451,\"y\":2.335878446949079,\"z\":0.5}}}}},{\"layout\":{\"scene\":{\"camera\":{\"eye\":{\"x\":-0.3141568527056927,\"y\":2.337478443087348,\"z\":0.5}}}}},{\"layout\":{\"scene\":{\"camera\":{\"eye\":{\"x\":-0.3024655822351848,\"y\":2.3390200023862837,\"z\":0.5}}}}},{\"layout\":{\"scene\":{\"camera\":{\"eye\":{\"x\":-0.2907667501408747,\"y\":2.3405030863069833,\"z\":0.5}}}}},{\"layout\":{\"scene\":{\"camera\":{\"eye\":{\"x\":-0.2790606488929549,\"y\":2.3419276577724264,\"z\":0.5}}}}},{\"layout\":{\"scene\":{\"camera\":{\"eye\":{\"x\":-0.2673475711433474,\"y\":2.3432936811684004,\"z\":0.5}}}}},{\"layout\":{\"scene\":{\"camera\":{\"eye\":{\"x\":-0.2556278097183856,\"y\":2.3446011223443914,\"z\":0.5}}}}},{\"layout\":{\"scene\":{\"camera\":{\"eye\":{\"x\":-0.24390165761149485,\"y\":2.345849948614439,\"z\":0.5}}}}},{\"layout\":{\"scene\":{\"camera\":{\"eye\":{\"x\":-0.23216940797586716,\"y\":2.3470401287579503,\"z\":0.5}}}}},{\"layout\":{\"scene\":{\"camera\":{\"eye\":{\"x\":-0.22043135411713177,\"y\":2.3481716330204843,\"z\":0.5}}}}},{\"layout\":{\"scene\":{\"camera\":{\"eye\":{\"x\":-0.2086877894860245,\"y\":2.3492444331144933,\"z\":0.5}}}}},{\"layout\":{\"scene\":{\"camera\":{\"eye\":{\"x\":-0.19693900767104922,\"y\":2.3502585022200306,\"z\":0.5}}}}},{\"layout\":{\"scene\":{\"camera\":{\"eye\":{\"x\":-0.1851853023911394,\"y\":2.351213814985422,\"z\":0.5}}}}},{\"layout\":{\"scene\":{\"camera\":{\"eye\":{\"x\":-0.173426967488315,\"y\":2.3521103475278977,\"z\":0.5}}}}},{\"layout\":{\"scene\":{\"camera\":{\"eye\":{\"x\":-0.16166429692033568,\"y\":2.35294807743419,\"z\":0.5}}}}},{\"layout\":{\"scene\":{\"camera\":{\"eye\":{\"x\":-0.14989758475335369,\"y\":2.353726983761097,\"z\":0.5}}}}},{\"layout\":{\"scene\":{\"camera\":{\"eye\":{\"x\":-0.13812712515455994,\"y\":2.3544470470359995,\"z\":0.5}}}}},{\"layout\":{\"scene\":{\"camera\":{\"eye\":{\"x\":-0.12635321238483121,\"y\":2.355108249257353,\"z\":0.5}}}}},{\"layout\":{\"scene\":{\"camera\":{\"eye\":{\"x\":-0.11457614079137413,\"y\":2.355710573895137,\"z\":0.5}}}}},{\"layout\":{\"scene\":{\"camera\":{\"eye\":{\"x\":-0.10279620480036455,\"y\":2.356254005891267,\"z\":0.5}}}}},{\"layout\":{\"scene\":{\"camera\":{\"eye\":{\"x\":-0.09101369890958888,\"y\":2.3567385316599707,\"z\":0.5}}}}},{\"layout\":{\"scene\":{\"camera\":{\"eye\":{\"x\":-0.07922891768108076,\"y\":2.35716413908813,\"z\":0.5}}}}},{\"layout\":{\"scene\":{\"camera\":{\"eye\":{\"x\":-0.06744215573375745,\"y\":2.3575308175355807,\"z\":0.5}}}}},{\"layout\":{\"scene\":{\"camera\":{\"eye\":{\"x\":-0.055653707736052827,\"y\":2.357838557835381,\"z\":0.5}}}}},{\"layout\":{\"scene\":{\"camera\":{\"eye\":{\"x\":-0.04386386839855394,\"y\":2.3580873522940395,\"z\":0.5}}}}},{\"layout\":{\"scene\":{\"camera\":{\"eye\":{\"x\":-0.032072932466629345,\"y\":2.358277194691708,\"z\":0.5}}}}},{\"layout\":{\"scene\":{\"camera\":{\"eye\":{\"x\":-0.020281194713063666,\"y\":2.3584080802823353,\"z\":0.5}}}}},{\"layout\":{\"scene\":{\"camera\":{\"eye\":{\"x\":-0.008488949930686607,\"y\":2.3584800057937896,\"z\":0.5}}}}},{\"layout\":{\"scene\":{\"camera\":{\"eye\":{\"x\":0.0033035070749967144,\"y\":2.358492969427936,\"z\":0.5}}}}},{\"layout\":{\"scene\":{\"camera\":{\"eye\":{\"x\":0.0150958814931752,\"y\":2.3584469708606854,\"z\":0.5}}}}},{\"layout\":{\"scene\":{\"camera\":{\"eye\":{\"x\":0.02688787851510277,\"y\":2.358342011241999,\"z\":0.5}}}}},{\"layout\":{\"scene\":{\"camera\":{\"eye\":{\"x\":0.03867920334146757,\"y\":2.3581780931958614,\"z\":0.5}}}}},{\"layout\":{\"scene\":{\"camera\":{\"eye\":{\"x\":0.05046956118976342,\"y\":2.357955220820216,\"z\":0.5}}}}},{\"layout\":{\"scene\":{\"camera\":{\"eye\":{\"x\":0.06225865730165814,\"y\":2.3576733996868597,\"z\":0.5}}}}},{\"layout\":{\"scene\":{\"camera\":{\"eye\":{\"x\":0.07404619695036319,\"y\":2.357332636841307,\"z\":0.5}}}}},{\"layout\":{\"scene\":{\"camera\":{\"eye\":{\"x\":0.08583188544800069,\"y\":2.3569329408026105,\"z\":0.5}}}}},{\"layout\":{\"scene\":{\"camera\":{\"eye\":{\"x\":0.09761542815297286,\"y\":2.3564743215631507,\"z\":0.5}}}}},{\"layout\":{\"scene\":{\"camera\":{\"eye\":{\"x\":0.109396530477325,\"y\":2.355956790588385,\"z\":0.5}}}}},{\"layout\":{\"scene\":{\"camera\":{\"eye\":{\"x\":0.12117489789411318,\"y\":2.3553803608165604,\"z\":0.5}}}}},{\"layout\":{\"scene\":{\"camera\":{\"eye\":{\"x\":0.13295023594476496,\"y\":2.3547450466583917,\"z\":0.5}}}}},{\"layout\":{\"scene\":{\"camera\":{\"eye\":{\"x\":0.1447222502464427,\"y\":2.354050863996699,\"z\":0.5}}}}},{\"layout\":{\"scene\":{\"camera\":{\"eye\":{\"x\":0.15649064649940203,\"y\":2.3532978301860137,\"z\":0.5}}}}},{\"layout\":{\"scene\":{\"camera\":{\"eye\":{\"x\":0.16825513049434915,\"y\":2.3524859640521405,\"z\":0.5}}}}},{\"layout\":{\"scene\":{\"camera\":{\"eye\":{\"x\":0.18001540811979733,\"y\":2.3516152858916914,\"z\":0.5}}}}},{\"layout\":{\"scene\":{\"camera\":{\"eye\":{\"x\":0.1917711853694184,\"y\":2.3506858174715752,\"z\":0.5}}}}},{\"layout\":{\"scene\":{\"camera\":{\"eye\":{\"x\":0.2035221683493933,\"y\":2.349697582028454,\"z\":0.5}}}}},{\"layout\":{\"scene\":{\"camera\":{\"eye\":{\"x\":0.21526806328575943,\"y\":2.348650604268161,\"z\":0.5}}}}},{\"layout\":{\"scene\":{\"camera\":{\"eye\":{\"x\":0.22700857653175532,\"y\":2.3475449103650874,\"z\":0.5}}}}},{\"layout\":{\"scene\":{\"camera\":{\"eye\":{\"x\":0.23874341457516124,\"y\":2.3463805279615224,\"z\":0.5}}}}},{\"layout\":{\"scene\":{\"camera\":{\"eye\":{\"x\":0.2504722840456375,\"y\":2.3451574861669657,\"z\":0.5}}}}},{\"layout\":{\"scene\":{\"camera\":{\"eye\":{\"x\":0.2621948917220579,\"y\":2.343875815557398,\"z\":0.5}}}}},{\"layout\":{\"scene\":{\"camera\":{\"eye\":{\"x\":0.2739109445398412,\"y\":2.3425355481745185,\"z\":0.5}}}}},{\"layout\":{\"scene\":{\"camera\":{\"eye\":{\"x\":0.2856201495982773,\"y\":2.3411367175249413,\"z\":0.5}}}}},{\"layout\":{\"scene\":{\"camera\":{\"eye\":{\"x\":0.2973222141678492,\"y\":2.3396793585793603,\"z\":0.5}}}}},{\"layout\":{\"scene\":{\"camera\":{\"eye\":{\"x\":0.30901684569755283,\"y\":2.338163507771673,\"z\":0.5}}}}},{\"layout\":{\"scene\":{\"camera\":{\"eye\":{\"x\":0.32070375182220845,\"y\":2.336589202998071,\"z\":0.5}}}}},{\"layout\":{\"scene\":{\"camera\":{\"eye\":{\"x\":0.33238264036977183,\"y\":2.3349564836160908,\"z\":0.5}}}}},{\"layout\":{\"scene\":{\"camera\":{\"eye\":{\"x\":0.3440532193686372,\"y\":2.3332653904436325,\"z\":0.5}}}}},{\"layout\":{\"scene\":{\"camera\":{\"eye\":{\"x\":0.3557151970549379,\"y\":2.331515965757937,\"z\":0.5}}}}},{\"layout\":{\"scene\":{\"camera\":{\"eye\":{\"x\":0.3673682818798394,\"y\":2.3297082532945312,\"z\":0.5}}}}},{\"layout\":{\"scene\":{\"camera\":{\"eye\":{\"x\":0.37901218251682756,\"y\":2.3278422982461313,\"z\":0.5}}}}},{\"layout\":{\"scene\":{\"camera\":{\"eye\":{\"x\":0.39064660786899297,\"y\":2.3259181472615174,\"z\":0.5}}}}},{\"layout\":{\"scene\":{\"camera\":{\"eye\":{\"x\":0.4022712670763078,\"y\":2.3239358484443633,\"z\":0.5}}}}},{\"layout\":{\"scene\":{\"camera\":{\"eye\":{\"x\":0.4138858695228972,\"y\":2.3218954513520362,\"z\":0.5}}}}},{\"layout\":{\"scene\":{\"camera\":{\"eye\":{\"x\":0.42549012484430515,\"y\":2.3197970069943574,\"z\":0.5}}}}},{\"layout\":{\"scene\":{\"camera\":{\"eye\":{\"x\":0.43708374293475316,\"y\":2.317640567832326,\"z\":0.5}}}}},{\"layout\":{\"scene\":{\"camera\":{\"eye\":{\"x\":0.4486664339543921,\"y\":2.3154261877768096,\"z\":0.5}}}}},{\"layout\":{\"scene\":{\"camera\":{\"eye\":{\"x\":0.46023790833655065,\"y\":2.3131539221871935,\"z\":0.5}}}}},{\"layout\":{\"scene\":{\"camera\":{\"eye\":{\"x\":0.4717978767949711,\"y\":2.3108238278699993,\"z\":0.5}}}}},{\"layout\":{\"scene\":{\"camera\":{\"eye\":{\"x\":0.48334605033104483,\"y\":2.3084359630774642,\"z\":0.5}}}}},{\"layout\":{\"scene\":{\"camera\":{\"eye\":{\"x\":0.49488214024103416,\"y\":2.3059903875060828,\"z\":0.5}}}}},{\"layout\":{\"scene\":{\"camera\":{\"eye\":{\"x\":0.5064058581232929,\"y\":2.3034871622951174,\"z\":0.5}}}}},{\"layout\":{\"scene\":{\"camera\":{\"eye\":{\"x\":0.5179169158854737,\"y\":2.300926350025067,\"z\":0.5}}}}},{\"layout\":{\"scene\":{\"camera\":{\"eye\":{\"x\":0.5294150257517323,\"y\":2.298308014716107,\"z\":0.5}}}}},{\"layout\":{\"scene\":{\"camera\":{\"eye\":{\"x\":0.5408999002699205,\"y\":2.295632221826482,\"z\":0.5}}}}},{\"layout\":{\"scene\":{\"camera\":{\"eye\":{\"x\":0.5523712523187743,\"y\":2.2928990382508756,\"z\":0.5}}}}},{\"layout\":{\"scene\":{\"camera\":{\"eye\":{\"x\":0.5638287951150889,\"y\":2.290108532318734,\"z\":0.5}}}}},{\"layout\":{\"scene\":{\"camera\":{\"eye\":{\"x\":0.5752722422208919,\"y\":2.287260773792562,\"z\":0.5}}}}},{\"layout\":{\"scene\":{\"camera\":{\"eye\":{\"x\":0.5867013075506015,\"y\":2.2843558338661722,\"z\":0.5}}}}},{\"layout\":{\"scene\":{\"camera\":{\"eye\":{\"x\":0.5981157053781794,\"y\":2.281393785162913,\"z\":0.5}}}}},{\"layout\":{\"scene\":{\"camera\":{\"eye\":{\"x\":0.609515150344275,\"y\":2.278374701733847,\"z\":0.5}}}}},{\"layout\":{\"scene\":{\"camera\":{\"eye\":{\"x\":0.6208993574633573,\"y\":2.275298659055903,\"z\":0.5}}}}},{\"layout\":{\"scene\":{\"camera\":{\"eye\":{\"x\":0.6322680421308418,\"y\":2.2721657340299877,\"z\":0.5}}}}},{\"layout\":{\"scene\":{\"camera\":{\"eye\":{\"x\":0.643620920130203,\"y\":2.2689760049790637,\"z\":0.5}}}}},{\"layout\":{\"scene\":{\"camera\":{\"eye\":{\"x\":0.6549577076400834,\"y\":2.2657295516461904,\"z\":0.5}}}}},{\"layout\":{\"scene\":{\"camera\":{\"eye\":{\"x\":0.6662781212413851,\"y\":2.262426455192533,\"z\":0.5}}}}},{\"layout\":{\"scene\":{\"camera\":{\"eye\":{\"x\":0.6775818779243576,\"y\":2.25906679819533,\"z\":0.5}}}}},{\"layout\":{\"scene\":{\"camera\":{\"eye\":{\"x\":0.6888686950956728,\"y\":2.2556506646458323,\"z\":0.5}}}}},{\"layout\":{\"scene\":{\"camera\":{\"eye\":{\"x\":0.700138290585489,\"y\":2.2521781399472003,\"z\":0.5}}}}},{\"layout\":{\"scene\":{\"camera\":{\"eye\":{\"x\":0.7113903826545063,\"y\":2.24864931091237,\"z\":0.5}}}}},{\"layout\":{\"scene\":{\"camera\":{\"eye\":{\"x\":0.7226246900010087,\"y\":2.245064265761884,\"z\":0.5}}}}},{\"layout\":{\"scene\":{\"camera\":{\"eye\":{\"x\":0.7338409317678977,\"y\":2.241423094121684,\"z\":0.5}}}}},{\"layout\":{\"scene\":{\"camera\":{\"eye\":{\"x\":0.7450388275497133,\"y\":2.237725887020872,\"z\":0.5}}}}},{\"layout\":{\"scene\":{\"camera\":{\"eye\":{\"x\":0.7562180973996443,\"y\":2.2339727368894327,\"z\":0.5}}}}},{\"layout\":{\"scene\":{\"camera\":{\"eye\":{\"x\":0.7673784618365266,\"y\":2.2301637375559236,\"z\":0.5}}}}},{\"layout\":{\"scene\":{\"camera\":{\"eye\":{\"x\":0.7785196418518308,\"y\":2.2262989842451297,\"z\":0.5}}}}},{\"layout\":{\"scene\":{\"camera\":{\"eye\":{\"x\":0.7896413589166363,\"y\":2.222378573575683,\"z\":0.5}}}}},{\"layout\":{\"scene\":{\"camera\":{\"eye\":{\"x\":0.8007433349885962,\"y\":2.218402603557646,\"z\":0.5}}}}},{\"layout\":{\"scene\":{\"camera\":{\"eye\":{\"x\":0.8118252925188865,\"y\":2.2143711735900613,\"z\":0.5}}}}},{\"layout\":{\"scene\":{\"camera\":{\"eye\":{\"x\":0.8228869544591466,\"y\":2.2102843844584683,\"z\":0.5}}}}},{\"layout\":{\"scene\":{\"camera\":{\"eye\":{\"x\":0.8339280442684036,\"y\":2.2061423383323833,\"z\":0.5}}}}},{\"layout\":{\"scene\":{\"camera\":{\"eye\":{\"x\":0.8449482859199878,\"y\":2.201945138762743,\"z\":0.5}}}}},{\"layout\":{\"scene\":{\"camera\":{\"eye\":{\"x\":0.8559474039084316,\"y\":2.197692890679318,\"z\":0.5}}}}},{\"layout\":{\"scene\":{\"camera\":{\"eye\":{\"x\":0.8669251232563583,\"y\":2.193385700388089,\"z\":0.5}}}}},{\"layout\":{\"scene\":{\"camera\":{\"eye\":{\"x\":0.877881169521356,\"y\":2.1890236755685892,\"z\":0.5}}}}},{\"layout\":{\"scene\":{\"camera\":{\"eye\":{\"x\":0.8888152688028383,\"y\":2.184606925271212,\"z\":0.5}}}}},{\"layout\":{\"scene\":{\"camera\":{\"eye\":{\"x\":0.8997271477488932,\"y\":2.180135559914484,\"z\":0.5}}}}},{\"layout\":{\"scene\":{\"camera\":{\"eye\":{\"x\":0.9106165335631151,\"y\":2.1756096912823075,\"z\":0.5}}}}},{\"layout\":{\"scene\":{\"camera\":{\"eye\":{\"x\":0.9214831540114257,\"y\":2.171029432521161,\"z\":0.5}}}}},{\"layout\":{\"scene\":{\"camera\":{\"eye\":{\"x\":0.9323267374288798,\"y\":2.1663948981372765,\"z\":0.5}}}}},{\"layout\":{\"scene\":{\"camera\":{\"eye\":{\"x\":0.9431470127264572,\"y\":2.1617062039937713,\"z\":0.5}}}}},{\"layout\":{\"scene\":{\"camera\":{\"eye\":{\"x\":0.9539437093978386,\"y\":2.156963467307755,\"z\":0.5}}}}},{\"layout\":{\"scene\":{\"camera\":{\"eye\":{\"x\":0.9647165575261694,\"y\":2.152166806647398,\"z\":0.5}}}}},{\"layout\":{\"scene\":{\"camera\":{\"eye\":{\"x\":0.9754652877908077,\"y\":2.147316341928966,\"z\":0.5}}}}},{\"layout\":{\"scene\":{\"camera\":{\"eye\":{\"x\":0.9861896314740566,\"y\":2.1424121944138257,\"z\":0.5}}}}},{\"layout\":{\"scene\":{\"camera\":{\"eye\":{\"x\":0.9968893204678828,\"y\":2.1374544867054093,\"z\":0.5}}}}},{\"layout\":{\"scene\":{\"camera\":{\"eye\":{\"x\":1.0075640872806182,\"y\":2.13244334274615,\"z\":0.5}}}}},{\"layout\":{\"scene\":{\"camera\":{\"eye\":{\"x\":1.0182136650436495,\"y\":2.1273788878143867,\"z\":0.5}}}}},{\"layout\":{\"scene\":{\"camera\":{\"eye\":{\"x\":1.028837787518086,\"y\":2.12226124852123,\"z\":0.5}}}}},{\"layout\":{\"scene\":{\"camera\":{\"eye\":{\"x\":1.0394361891014203,\"y\":2.1170905528073938,\"z\":0.5}}}}},{\"layout\":{\"scene\":{\"camera\":{\"eye\":{\"x\":1.0500086048341641,\"y\":2.111866929940003,\"z\":0.5}}}}},{\"layout\":{\"scene\":{\"camera\":{\"eye\":{\"x\":1.0605547704064744,\"y\":2.1065905105093563,\"z\":0.5}}}}},{\"layout\":{\"scene\":{\"camera\":{\"eye\":{\"x\":1.0710744221647626,\"y\":2.1012614264256646,\"z\":0.5}}}}},{\"layout\":{\"scene\":{\"camera\":{\"eye\":{\"x\":1.0815672971182813,\"y\":2.095879810915754,\"z\":0.5}}}}},{\"layout\":{\"scene\":{\"camera\":{\"eye\":{\"x\":1.0920331329457038,\"y\":2.09044579851973,\"z\":0.5}}}}},{\"layout\":{\"scene\":{\"camera\":{\"eye\":{\"x\":1.102471668001679,\"y\":2.08495952508762,\"z\":0.5}}}}},{\"layout\":{\"scene\":{\"camera\":{\"eye\":{\"x\":1.1128826413233752,\"y\":2.079421127775975,\"z\":0.5}}}}},{\"layout\":{\"scene\":{\"camera\":{\"eye\":{\"x\":1.1232657926370004,\"y\":2.0738307450444387,\"z\":0.5}}}}},{\"layout\":{\"scene\":{\"camera\":{\"eye\":{\"x\":1.1336208623643131,\"y\":2.0681885166522878,\"z\":0.5}}}}},{\"layout\":{\"scene\":{\"camera\":{\"eye\":{\"x\":1.1439475916291093,\"y\":2.062494583654939,\"z\":0.5}}}}},{\"layout\":{\"scene\":{\"camera\":{\"eye\":{\"x\":1.1542457222636957,\"y\":2.0567490884004203,\"z\":0.5}}}}},{\"layout\":{\"scene\":{\"camera\":{\"eye\":{\"x\":1.1645149968153419,\"y\":2.050952174525814,\"z\":0.5}}}}},{\"layout\":{\"scene\":{\"camera\":{\"eye\":{\"x\":1.17475515855272,\"y\":2.0451039869536642,\"z\":0.5}}}}},{\"layout\":{\"scene\":{\"camera\":{\"eye\":{\"x\":1.1849659514723192,\"y\":2.039204671888357,\"z\":0.5}}}}},{\"layout\":{\"scene\":{\"camera\":{\"eye\":{\"x\":1.1951471203048487,\"y\":2.0332543768124607,\"z\":0.5}}}}},{\"layout\":{\"scene\":{\"camera\":{\"eye\":{\"x\":1.2052984105216171,\"y\":2.027253250483043,\"z\":0.5}}}}},{\"layout\":{\"scene\":{\"camera\":{\"eye\":{\"x\":1.215419568340899,\"y\":2.021201442927949,\"z\":0.5}}}}},{\"layout\":{\"scene\":{\"camera\":{\"eye\":{\"x\":1.2255103407342751,\"y\":2.0150991054420526,\"z\":0.5}}}}},{\"layout\":{\"scene\":{\"camera\":{\"eye\":{\"x\":1.2355704754329617,\"y\":2.008946390583473,\"z\":0.5}}}}},{\"layout\":{\"scene\":{\"camera\":{\"eye\":{\"x\":1.245599720934115,\"y\":2.002743452169762,\"z\":0.5}}}}},{\"layout\":{\"scene\":{\"camera\":{\"eye\":{\"x\":1.25559782650712,\"y\":1.9964904452740555,\"z\":0.5}}}}},{\"layout\":{\"scene\":{\"camera\":{\"eye\":{\"x\":1.2655645421998576,\"y\":1.9901875262212014,\"z\":0.5}}}}},{\"layout\":{\"scene\":{\"camera\":{\"eye\":{\"x\":1.2754996188449552,\"y\":1.983834852583847,\"z\":0.5}}}}},{\"layout\":{\"scene\":{\"camera\":{\"eye\":{\"x\":1.285402808066014,\"y\":1.977432583178503,\"z\":0.5}}}}},{\"layout\":{\"scene\":{\"camera\":{\"eye\":{\"x\":1.2952738622838191,\"y\":1.97098087806157,\"z\":0.5}}}}},{\"layout\":{\"scene\":{\"camera\":{\"eye\":{\"x\":1.305112534722529,\"y\":1.9644798985253416,\"z\":0.5}}}}},{\"layout\":{\"scene\":{\"camera\":{\"eye\":{\"x\":1.3149185794158458,\"y\":1.957929807093966,\"z\":0.5}}}}},{\"layout\":{\"scene\":{\"camera\":{\"eye\":{\"x\":1.324691751213162,\"y\":1.9513307675193885,\"z\":0.5}}}}},{\"layout\":{\"scene\":{\"camera\":{\"eye\":{\"x\":1.3344318057856923,\"y\":1.944682944777255,\"z\":0.5}}}}},{\"layout\":{\"scene\":{\"camera\":{\"eye\":{\"x\":1.34413849963258,\"y\":1.9379865050627876,\"z\":0.5}}}}},{\"layout\":{\"scene\":{\"camera\":{\"eye\":{\"x\":1.3538115900869836,\"y\":1.9312416157866301,\"z\":0.5}}}}},{\"layout\":{\"scene\":{\"camera\":{\"eye\":{\"x\":1.3634508353221462,\"y\":1.9244484455706632,\"z\":0.5}}}}},{\"layout\":{\"scene\":{\"camera\":{\"eye\":{\"x\":1.3730559943574383,\"y\":1.917607164243789,\"z\":0.5}}}}},{\"layout\":{\"scene\":{\"camera\":{\"eye\":{\"x\":1.3826268270643853,\"y\":1.9107179428376837,\"z\":0.5}}}}},{\"layout\":{\"scene\":{\"camera\":{\"eye\":{\"x\":1.392163094172667,\"y\":1.9037809535825243,\"z\":0.5}}}}},{\"layout\":{\"scene\":{\"camera\":{\"eye\":{\"x\":1.4016645572761033,\"y\":1.8967963699026802,\"z\":0.5}}}}},{\"layout\":{\"scene\":{\"camera\":{\"eye\":{\"x\":1.4111309788386106,\"y\":1.88976436641238,\"z\":0.5}}}}},{\"layout\":{\"scene\":{\"camera\":{\"eye\":{\"x\":1.4205621222001437,\"y\":1.8826851189113447,\"z\":0.5}}}}},{\"layout\":{\"scene\":{\"camera\":{\"eye\":{\"x\":1.429957751582609,\"y\":1.8755588043803932,\"z\":0.5}}}}},{\"layout\":{\"scene\":{\"camera\":{\"eye\":{\"x\":1.439317632095762,\"y\":1.868385600977017,\"z\":0.5}}}}},{\"layout\":{\"scene\":{\"camera\":{\"eye\":{\"x\":1.4486415297430764,\"y\":1.8611656880309286,\"z\":0.5}}}}},{\"layout\":{\"scene\":{\"camera\":{\"eye\":{\"x\":1.4579292114275977,\"y\":1.8538992460395745,\"z\":0.5}}}}},{\"layout\":{\"scene\":{\"camera\":{\"eye\":{\"x\":1.4671804449577666,\"y\":1.846586456663627,\"z\":0.5}}}}},{\"layout\":{\"scene\":{\"camera\":{\"eye\":{\"x\":1.4763949990532277,\"y\":1.839227502722439,\"z\":0.5}}}}},{\"layout\":{\"scene\":{\"camera\":{\"eye\":{\"x\":1.4855726433506076,\"y\":1.8318225681894762,\"z\":0.5}}}}},{\"layout\":{\"scene\":{\"camera\":{\"eye\":{\"x\":1.4947131484092777,\"y\":1.8243718381877156,\"z\":0.5}}}}},{\"layout\":{\"scene\":{\"camera\":{\"eye\":{\"x\":1.5038162857170865,\"y\":1.8168754989850202,\"z\":0.5}}}}},{\"layout\":{\"scene\":{\"camera\":{\"eye\":{\"x\":1.5128818276960767,\"y\":1.8093337379894783,\"z\":0.5}}}}},{\"layout\":{\"scene\":{\"camera\":{\"eye\":{\"x\":1.5219095477081699,\"y\":1.8017467437447234,\"z\":0.5}}}}},{\"layout\":{\"scene\":{\"camera\":{\"eye\":{\"x\":1.530899220060837,\"y\":1.7941147059252152,\"z\":0.5}}}}},{\"layout\":{\"scene\":{\"camera\":{\"eye\":{\"x\":1.5398506200127362,\"y\":1.786437815331503,\"z\":0.5}}}}},{\"layout\":{\"scene\":{\"camera\":{\"eye\":{\"x\":1.548763523779336,\"y\":1.7787162638854501,\"z\":0.5}}}}},{\"layout\":{\"scene\":{\"camera\":{\"eye\":{\"x\":1.5576377085385054,\"y\":1.7709502446254421,\"z\":0.5}}}}},{\"layout\":{\"scene\":{\"camera\":{\"eye\":{\"x\":1.5664729524360888,\"y\":1.7631399517015556,\"z\":0.5}}}}},{\"layout\":{\"scene\":{\"camera\":{\"eye\":{\"x\":1.5752690345914484,\"y\":1.755285580370706,\"z\":0.5}}}}},{\"layout\":{\"scene\":{\"camera\":{\"eye\":{\"x\":1.5840257351029878,\"y\":1.7473873269917688,\"z\":0.5}}}}},{\"layout\":{\"scene\":{\"camera\":{\"eye\":{\"x\":1.5927428350536517,\"y\":1.7394453890206658,\"z\":0.5}}}}},{\"layout\":{\"scene\":{\"camera\":{\"eye\":{\"x\":1.6014201165163942,\"y\":1.7314599650054339,\"z\":0.5}}}}},{\"layout\":{\"scene\":{\"camera\":{\"eye\":{\"x\":1.610057362559631,\"y\":1.7234312545812567,\"z\":0.5}}}}},{\"layout\":{\"scene\":{\"camera\":{\"eye\":{\"x\":1.6186543572526606,\"y\":1.7153594584654772,\"z\":0.5}}}}},{\"layout\":{\"scene\":{\"camera\":{\"eye\":{\"x\":1.6272108856710643,\"y\":1.7072447784525773,\"z\":0.5}}}}},{\"layout\":{\"scene\":{\"camera\":{\"eye\":{\"x\":1.6357267339020765,\"y\":1.6990874174091353,\"z\":0.5}}}}},{\"layout\":{\"scene\":{\"camera\":{\"eye\":{\"x\":1.6442016890499351,\"y\":1.690887579268752,\"z\":0.5}}}}},{\"layout\":{\"scene\":{\"camera\":{\"eye\":{\"x\":1.6526355392412029,\"y\":1.682645469026954,\"z\":0.5}}}}},{\"layout\":{\"scene\":{\"camera\":{\"eye\":{\"x\":1.6610280736300647,\"y\":1.674361292736068,\"z\":0.5}}}}},{\"layout\":{\"scene\":{\"camera\":{\"eye\":{\"x\":1.669379082403597,\"y\":1.66603525750007,\"z\":0.5}}}}},{\"layout\":{\"scene\":{\"camera\":{\"eye\":{\"x\":1.6776883567870162,\"y\":1.657667571469407,\"z\":0.5}}}}},{\"layout\":{\"scene\":{\"camera\":{\"eye\":{\"x\":1.6859556890488951,\"y\":1.649258443835794,\"z\":0.5}}}}},{\"layout\":{\"scene\":{\"camera\":{\"eye\":{\"x\":1.6941808725063585,\"y\":1.640808084826984,\"z\":0.5}}}}},{\"layout\":{\"scene\":{\"camera\":{\"eye\":{\"x\":1.7023637015302469,\"y\":1.6323167057015118,\"z\":0.5}}}}},{\"layout\":{\"scene\":{\"camera\":{\"eye\":{\"x\":1.7105039715502623,\"y\":1.6237845187434135,\"z\":0.5}}}}},{\"layout\":{\"scene\":{\"camera\":{\"eye\":{\"x\":1.7186014790600774,\"y\":1.615211737256919,\"z\":0.5}}}}},{\"layout\":{\"scene\":{\"camera\":{\"eye\":{\"x\":1.7266560216224267,\"y\":1.6065985755611183,\"z\":0.5}}}}},{\"layout\":{\"scene\":{\"camera\":{\"eye\":{\"x\":1.734667397874165,\"y\":1.5979452489846055,\"z\":0.5}}}}},{\"layout\":{\"scene\":{\"camera\":{\"eye\":{\"x\":1.742635407531304,\"y\":1.5892519738600943,\"z\":0.5}}}}},{\"layout\":{\"scene\":{\"camera\":{\"eye\":{\"x\":1.7505598513940166,\"y\":1.5805189675190106,\"z\":0.5}}}}},{\"layout\":{\"scene\":{\"camera\":{\"eye\":{\"x\":1.7584405313516194,\"y\":1.571746448286057,\"z\":0.5}}}}},{\"layout\":{\"scene\":{\"camera\":{\"eye\":{\"x\":1.7662772503875235,\"y\":1.562934635473758,\"z\":0.5}}}}},{\"layout\":{\"scene\":{\"camera\":{\"eye\":{\"x\":1.7740698125841616,\"y\":1.5540837493769755,\"z\":0.5}}}}},{\"layout\":{\"scene\":{\"camera\":{\"eye\":{\"x\":1.7818180231278846,\"y\":1.5451940112673996,\"z\":0.5}}}}},{\"layout\":{\"scene\":{\"camera\":{\"eye\":{\"x\":1.7895216883138323,\"y\":1.5362656433880213,\"z\":0.5}}}}},{\"layout\":{\"scene\":{\"camera\":{\"eye\":{\"x\":1.7971806155507766,\"y\":1.5272988689475717,\"z\":0.5}}}}},{\"layout\":{\"scene\":{\"camera\":{\"eye\":{\"x\":1.8047946133659345,\"y\":1.5182939121149457,\"z\":0.5}}}}},{\"layout\":{\"scene\":{\"camera\":{\"eye\":{\"x\":1.8123634914097588,\"y\":1.5092509980135942,\"z\":0.5}}}}},{\"layout\":{\"scene\":{\"camera\":{\"eye\":{\"x\":1.819887060460691,\"y\":1.5001703527158992,\"z\":0.5}}}}},{\"layout\":{\"scene\":{\"camera\":{\"eye\":{\"x\":1.8273651324298978,\"y\":1.4910522032375197,\"z\":0.5}}}}},{\"layout\":{\"scene\":{\"camera\":{\"eye\":{\"x\":1.8347975203659688,\"y\":1.481896777531719,\"z\":0.5}}}}},{\"layout\":{\"scene\":{\"camera\":{\"eye\":{\"x\":1.8421840384595933,\"y\":1.4727043044836612,\"z\":0.5}}}}},{\"layout\":{\"scene\":{\"camera\":{\"eye\":{\"x\":1.8495245020482027,\"y\":1.4634750139046953,\"z\":0.5}}}}},{\"layout\":{\"scene\":{\"camera\":{\"eye\":{\"x\":1.8568187276205907,\"y\":1.4542091365266039,\"z\":0.5}}}}},{\"layout\":{\"scene\":{\"camera\":{\"eye\":{\"x\":1.8640665328214971,\"y\":1.4449069039958395,\"z\":0.5}}}}},{\"layout\":{\"scene\":{\"camera\":{\"eye\":{\"x\":1.8712677364561698,\"y\":1.4355685488677303,\"z\":0.5}}}}},{\"layout\":{\"scene\":{\"camera\":{\"eye\":{\"x\":1.878422158494893,\"y\":1.4261943046006693,\"z\":0.5}}}}},{\"layout\":{\"scene\":{\"camera\":{\"eye\":{\"x\":1.8855296200774883,\"y\":1.4167844055502739,\"z\":0.5}}}}},{\"layout\":{\"scene\":{\"camera\":{\"eye\":{\"x\":1.892589943517786,\"y\":1.4073390869635305,\"z\":0.5}}}}},{\"layout\":{\"scene\":{\"camera\":{\"eye\":{\"x\":1.8996029523080684,\"y\":1.3978585849729117,\"z\":0.5}}}}},{\"layout\":{\"scene\":{\"camera\":{\"eye\":{\"x\":1.9065684711234803,\"y\":1.388343136590474,\"z\":0.5}}}}},{\"layout\":{\"scene\":{\"camera\":{\"eye\":{\"x\":1.9134863258264148,\"y\":1.3787929797019305,\"z\":0.5}}}}},{\"layout\":{\"scene\":{\"camera\":{\"eye\":{\"x\":1.920356343470864,\"y\":1.3692083530607069,\"z\":0.5}}}}},{\"layout\":{\"scene\":{\"camera\":{\"eye\":{\"x\":1.9271783523067452,\"y\":1.3595894962819695,\"z\":0.5}}}}},{\"layout\":{\"scene\":{\"camera\":{\"eye\":{\"x\":1.933952181784192,\"y\":1.349936649836637,\"z\":0.5}}}}},{\"layout\":{\"scene\":{\"camera\":{\"eye\":{\"x\":1.9406776625578213,\"y\":1.3402500550453675,\"z\":0.5}}}}},{\"layout\":{\"scene\":{\"camera\":{\"eye\":{\"x\":1.9473546264909631,\"y\":1.330529954072527,\"z\":0.5}}}}},{\"layout\":{\"scene\":{\"camera\":{\"eye\":{\"x\":1.9539829066598677,\"y\":1.3207765899201327,\"z\":0.5}}}}},{\"layout\":{\"scene\":{\"camera\":{\"eye\":{\"x\":1.9605623373578756,\"y\":1.310990206421781,\"z\":0.5}}}}},{\"layout\":{\"scene\":{\"camera\":{\"eye\":{\"x\":1.9670927540995617,\"y\":1.3011710482365497,\"z\":0.5}}}}},{\"layout\":{\"scene\":{\"camera\":{\"eye\":{\"x\":1.9735739936248484,\"y\":1.291319360842881,\"z\":0.5}}}}},{\"layout\":{\"scene\":{\"camera\":{\"eye\":{\"x\":1.9800058939030845,\"y\":1.281435390532448,\"z\":0.5}}}}},{\"layout\":{\"scene\":{\"camera\":{\"eye\":{\"x\":1.9863882941370983,\"y\":1.2715193844039927,\"z\":0.5}}}}},{\"layout\":{\"scene\":{\"camera\":{\"eye\":{\"x\":1.9927210347672162,\"y\":1.2615715903571525,\"z\":0.5}}}}},{\"layout\":{\"scene\":{\"camera\":{\"eye\":{\"x\":1.9990039574752527,\"y\":1.2515922570862599,\"z\":0.5}}}}},{\"layout\":{\"scene\":{\"camera\":{\"eye\":{\"x\":2.0052369051884664,\"y\":1.2415816340741275,\"z\":0.5}}}}},{\"layout\":{\"scene\":{\"camera\":{\"eye\":{\"x\":2.0114197220834904,\"y\":1.2315399715858084,\"z\":0.5}}}}},{\"layout\":{\"scene\":{\"camera\":{\"eye\":{\"x\":2.0175522535902233,\"y\":1.2214675206623427,\"z\":0.5}}}}},{\"layout\":{\"scene\":{\"camera\":{\"eye\":{\"x\":2.0236343463956974,\"y\":1.2113645331144782,\"z\":0.5}}}}},{\"layout\":{\"scene\":{\"camera\":{\"eye\":{\"x\":2.0296658484479093,\"y\":1.2012312615163783,\"z\":0.5}}}}},{\"layout\":{\"scene\":{\"camera\":{\"eye\":{\"x\":2.0356466089596212,\"y\":1.1910679591993036,\"z\":0.5}}}}},{\"layout\":{\"scene\":{\"camera\":{\"eye\":{\"x\":2.0415764784121326,\"y\":1.1808748802452846,\"z\":0.5}}}}},{\"layout\":{\"scene\":{\"camera\":{\"eye\":{\"x\":2.0474553085590155,\"y\":1.1706522794807626,\"z\":0.5}}}}},{\"layout\":{\"scene\":{\"camera\":{\"eye\":{\"x\":2.053282952429823,\"y\":1.1604004124702256,\"z\":0.5}}}}},{\"layout\":{\"scene\":{\"camera\":{\"eye\":{\"x\":2.059059264333761,\"y\":1.1501195355098137,\"z\":0.5}}}}},{\"layout\":{\"scene\":{\"camera\":{\"eye\":{\"x\":2.0647840998633336,\"y\":1.1398099056209168,\"z\":0.5}}}}},{\"layout\":{\"scene\":{\"camera\":{\"eye\":{\"x\":2.0704573158979502,\"y\":1.1294717805437438,\"z\":0.5}}}}},{\"layout\":{\"scene\":{\"camera\":{\"eye\":{\"x\":2.0760787706075057,\"y\":1.1191054187308842,\"z\":0.5}}}}},{\"layout\":{\"scene\":{\"camera\":{\"eye\":{\"x\":2.081648323455925,\"y\":1.1087110793408428,\"z\":0.5}}}}},{\"layout\":{\"scene\":{\"camera\":{\"eye\":{\"x\":2.0871658352046767,\"y\":1.0982890222315635,\"z\":0.5}}}}},{\"layout\":{\"scene\":{\"camera\":{\"eye\":{\"x\":2.0926311679162555,\"y\":1.0878395079539305,\"z\":0.5}}}}},{\"layout\":{\"scene\":{\"camera\":{\"eye\":{\"x\":2.098044184957627,\"y\":1.0773627977452573,\"z\":0.5}}}}},{\"layout\":{\"scene\":{\"camera\":{\"eye\":{\"x\":2.1034047510036475,\"y\":1.0668591535227525,\"z\":0.5}}}}},{\"layout\":{\"scene\":{\"camera\":{\"eye\":{\"x\":2.108712732040445,\"y\":1.0563288378769757,\"z\":0.5}}}}},{\"layout\":{\"scene\":{\"camera\":{\"eye\":{\"x\":2.1139679953687702,\"y\":1.0457721140652694,\"z\":0.5}}}}},{\"layout\":{\"scene\":{\"camera\":{\"eye\":{\"x\":2.1191704096073143,\"y\":1.0351892460051777,\"z\":0.5}}}}},{\"layout\":{\"scene\":{\"camera\":{\"eye\":{\"x\":2.1243198446959908,\"y\":1.0245804982678528,\"z\":0.5}}}}},{\"layout\":{\"scene\":{\"camera\":{\"eye\":{\"x\":2.129416171899192,\"y\":1.0139461360714341,\"z\":0.5}}}}},{\"layout\":{\"scene\":{\"camera\":{\"eye\":{\"x\":2.1344592638090023,\"y\":1.0032864252744236,\"z\":0.5}}}}},{\"layout\":{\"scene\":{\"camera\":{\"eye\":{\"x\":2.1394489943483874,\"y\":0.9926016323690354,\"z\":0.5}}}}},{\"layout\":{\"scene\":{\"camera\":{\"eye\":{\"x\":2.144385238774343,\"y\":0.9818920244745365,\"z\":0.5}}}}},{\"layout\":{\"scene\":{\"camera\":{\"eye\":{\"x\":2.149267873681016,\"y\":0.9711578693305654,\"z\":0.5}}}}},{\"layout\":{\"scene\":{\"camera\":{\"eye\":{\"x\":2.154096777002788,\"y\":0.9603994352904424,\"z\":0.5}}}}},{\"layout\":{\"scene\":{\"camera\":{\"eye\":{\"x\":2.1588718280173276,\"y\":0.9496169913144576,\"z\":0.5}}}}},{\"layout\":{\"scene\":{\"camera\":{\"eye\":{\"x\":2.1635929073486073,\"y\":0.9388108069631496,\"z\":0.5}}}}},{\"layout\":{\"scene\":{\"camera\":{\"eye\":{\"x\":2.168259896969891,\"y\":0.9279811523905632,\"z\":0.5}}}}},{\"layout\":{\"scene\":{\"camera\":{\"eye\":{\"x\":2.1728726802066802,\"y\":0.9171282983375001,\"z\":0.5}}}}},{\"layout\":{\"scene\":{\"camera\":{\"eye\":{\"x\":2.1774311417396346,\"y\":0.906252516124745,\"z\":0.5}}}}},{\"layout\":{\"scene\":{\"camera\":{\"eye\":{\"x\":2.1819351676074534,\"y\":0.8953540776462879,\"z\":0.5}}}}},{\"layout\":{\"scene\":{\"camera\":{\"eye\":{\"x\":2.186384645209724,\"y\":0.8844332553625222,\"z\":0.5}}}}},{\"layout\":{\"scene\":{\"camera\":{\"eye\":{\"x\":2.190779463309739,\"y\":0.873490322293437,\"z\":0.5}}}}},{\"layout\":{\"scene\":{\"camera\":{\"eye\":{\"x\":2.195119512037274,\"y\":0.8625255520117883,\"z\":0.5}}}}},{\"layout\":{\"scene\":{\"camera\":{\"eye\":{\"x\":2.199404682891337,\"y\":0.8515392186362629,\"z\":0.5}}}}},{\"layout\":{\"scene\":{\"camera\":{\"eye\":{\"x\":2.2036348687428804,\"y\":0.8405315968246221,\"z\":0.5}}}}},{\"layout\":{\"scene\":{\"camera\":{\"eye\":{\"x\":2.207809963837477,\"y\":0.8295029617668388,\"z\":0.5}}}}},{\"layout\":{\"scene\":{\"camera\":{\"eye\":{\"x\":2.2119298637979687,\"y\":0.8184535891782141,\"z\":0.5}}}}},{\"layout\":{\"scene\":{\"camera\":{\"eye\":{\"x\":2.215994465627069,\"y\":0.8073837552924883,\"z\":0.5}}}}},{\"layout\":{\"scene\":{\"camera\":{\"eye\":{\"x\":2.2200036677099457,\"y\":0.7962937368549308,\"z\":0.5}}}}},{\"layout\":{\"scene\":{\"camera\":{\"eye\":{\"x\":2.223957369816754,\"y\":0.7851838111154261,\"z\":0.5}}}}},{\"layout\":{\"scene\":{\"camera\":{\"eye\":{\"x\":2.2278554731051488,\"y\":0.7740542558215384,\"z\":0.5}}}}},{\"layout\":{\"scene\":{\"camera\":{\"eye\":{\"x\":2.2316978801227494,\"y\":0.7629053492115697,\"z\":0.5}}}}},{\"layout\":{\"scene\":{\"camera\":{\"eye\":{\"x\":2.235484494809581,\"y\":0.7517373700076062,\"z\":0.5}}}}},{\"layout\":{\"scene\":{\"camera\":{\"eye\":{\"x\":2.239215222500474,\"y\":0.7405505974085447,\"z\":0.5}}}}},{\"layout\":{\"scene\":{\"camera\":{\"eye\":{\"x\":2.2428899699274303,\"y\":0.729345311083119,\"z\":0.5}}}}},{\"layout\":{\"scene\":{\"camera\":{\"eye\":{\"x\":2.2465086452219554,\"y\":0.7181217911629023,\"z\":0.5}}}}},{\"layout\":{\"scene\":{\"camera\":{\"eye\":{\"x\":2.2500711579173553,\"y\":0.7068803182353094,\"z\":0.5}}}}},{\"layout\":{\"scene\":{\"camera\":{\"eye\":{\"x\":2.2535774189509983,\"y\":0.6956211733365764,\"z\":0.5}}}}},{\"layout\":{\"scene\":{\"camera\":{\"eye\":{\"x\":2.257027340666542,\"y\":0.6843446379447412,\"z\":0.5}}}}},{\"layout\":{\"scene\":{\"camera\":{\"eye\":{\"x\":2.2604208368161216,\"y\":0.6730509939725993,\"z\":0.5}}}}},{\"layout\":{\"scene\":{\"camera\":{\"eye\":{\"x\":2.2637578225625115,\"y\":0.6617405237606636,\"z\":0.5}}}}},{\"layout\":{\"scene\":{\"camera\":{\"eye\":{\"x\":2.267038214481241,\"y\":0.650413510070099,\"z\":0.5}}}}},{\"layout\":{\"scene\":{\"camera\":{\"eye\":{\"x\":2.2702619305626834,\"y\":0.6390702360756587,\"z\":0.5}}}}},{\"layout\":{\"scene\":{\"camera\":{\"eye\":{\"x\":2.273428890214104,\"y\":0.627710985358601,\"z\":0.5}}}}},{\"layout\":{\"scene\":{\"camera\":{\"eye\":{\"x\":2.2765390142616777,\"y\":0.6163360418996031,\"z\":0.5}}}}},{\"layout\":{\"scene\":{\"camera\":{\"eye\":{\"x\":2.2795922249524643,\"y\":0.6049456900716578,\"z\":0.5}}}}},{\"layout\":{\"scene\":{\"camera\":{\"eye\":{\"x\":2.2825884459563555,\"y\":0.593540214632969,\"z\":0.5}}}}},{\"layout\":{\"scene\":{\"camera\":{\"eye\":{\"x\":2.2855276023679822,\"y\":0.5821199007198272,\"z\":0.5}}}}},{\"layout\":{\"scene\":{\"camera\":{\"eye\":{\"x\":2.288409620708588,\"y\":0.5706850338394868,\"z\":0.5}}}}},{\"layout\":{\"scene\":{\"camera\":{\"eye\":{\"x\":2.291234428927864,\"y\":0.5592358998630231,\"z\":0.5}}}}},{\"layout\":{\"scene\":{\"camera\":{\"eye\":{\"x\":2.2940019564057517,\"y\":0.5477727850181902,\"z\":0.5}}}}},{\"layout\":{\"scene\":{\"camera\":{\"eye\":{\"x\":2.2967121339542085,\"y\":0.536295975882261,\"z\":0.5}}}}},{\"layout\":{\"scene\":{\"camera\":{\"eye\":{\"x\":2.2993648938189364,\"y\":0.5248057593748673,\"z\":0.5}}}}},{\"layout\":{\"scene\":{\"camera\":{\"eye\":{\"x\":2.301960169681078,\"y\":0.5133024227508223,\"z\":0.5}}}}},{\"layout\":{\"scene\":{\"camera\":{\"eye\":{\"x\":2.3044978966588703,\"y\":0.5017862535929436,\"z\":0.5}}}}},{\"layout\":{\"scene\":{\"camera\":{\"eye\":{\"x\":2.3069780113092726,\"y\":0.49025753980485975,\"z\":0.5}}}}},{\"layout\":{\"scene\":{\"camera\":{\"eye\":{\"x\":2.309400451629547,\"y\":0.4787165696038147,\"z\":0.5}}}}},{\"layout\":{\"scene\":{\"camera\":{\"eye\":{\"x\":2.311765157058812,\"y\":0.46716363151346296,\"z\":0.5}}}}},{\"layout\":{\"scene\":{\"camera\":{\"eye\":{\"x\":2.314072068479555,\"y\":0.4555990143566542,\"z\":0.5}}}}},{\"layout\":{\"scene\":{\"camera\":{\"eye\":{\"x\":2.31632112821911,\"y\":0.4440230072482163,\"z\":0.5}}}}},{\"layout\":{\"scene\":{\"camera\":{\"eye\":{\"x\":2.3185122800511015,\"y\":0.4324358995877229,\"z\":0.5}}}}},{\"layout\":{\"scene\":{\"camera\":{\"eye\":{\"x\":2.3206454691968474,\"y\":0.4208379810522629,\"z\":0.5}}}}},{\"layout\":{\"scene\":{\"camera\":{\"eye\":{\"x\":2.32272064232673,\"y\":0.40922954158919467,\"z\":0.5}}}}},{\"layout\":{\"scene\":{\"camera\":{\"eye\":{\"x\":2.32473774756153,\"y\":0.3976108714089014,\"z\":0.5}}}}},{\"layout\":{\"scene\":{\"camera\":{\"eye\":{\"x\":2.32669673447372,\"y\":0.3859822609775312,\"z\":0.5}}}}},{\"layout\":{\"scene\":{\"camera\":{\"eye\":{\"x\":2.3285975540887307,\"y\":0.3743440010097404,\"z\":0.5}}}}},{\"layout\":{\"scene\":{\"camera\":{\"eye\":{\"x\":2.3304401588861703,\"y\":0.36269638246142066,\"z\":0.5}}}}},{\"layout\":{\"scene\":{\"camera\":{\"eye\":{\"x\":2.3322245028010147,\"y\":0.3510396965224304,\"z\":0.5}}}}},{\"layout\":{\"scene\":{\"camera\":{\"eye\":{\"x\":2.333950541224759,\"y\":0.33937423460930993,\"z\":0.5}}}}},{\"layout\":{\"scene\":{\"camera\":{\"eye\":{\"x\":2.3356182310065323,\"y\":0.3277002883580006,\"z\":0.5}}}}},{\"layout\":{\"scene\":{\"camera\":{\"eye\":{\"x\":2.3372275304541774,\"y\":0.31601814961654917,\"z\":0.5}}}}},{\"layout\":{\"scene\":{\"camera\":{\"eye\":{\"x\":2.3387783993352915,\"y\":0.3043281104378174,\"z\":0.5}}}}},{\"layout\":{\"scene\":{\"camera\":{\"eye\":{\"x\":2.340270798878233,\"y\":0.2926304630721748,\"z\":0.5}}}}},{\"layout\":{\"scene\":{\"camera\":{\"eye\":{\"x\":2.3417046917730926,\"y\":0.280925499960196,\"z\":0.5}}}}},{\"layout\":{\"scene\":{\"camera\":{\"eye\":{\"x\":2.343080042172621,\"y\":0.2692135137253503,\"z\":0.5}}}}},{\"layout\":{\"scene\":{\"camera\":{\"eye\":{\"x\":2.34439681569313,\"y\":0.2574947971666831,\"z\":0.5}}}}},{\"layout\":{\"scene\":{\"camera\":{\"eye\":{\"x\":2.345654979415351,\"y\":0.24576964325149808,\"z\":0.5}}}}},{\"layout\":{\"scene\":{\"camera\":{\"eye\":{\"x\":2.3468545018852565,\"y\":0.234038345108031,\"z\":0.5}}}}},{\"layout\":{\"scene\":{\"camera\":{\"eye\":{\"x\":2.347995353114846,\"y\":0.22230119601812703,\"z\":0.5}}}}},{\"layout\":{\"scene\":{\"camera\":{\"eye\":{\"x\":2.3490775045828993,\"y\":0.21055848940990063,\"z\":0.5}}}}},{\"layout\":{\"scene\":{\"camera\":{\"eye\":{\"x\":2.3501009292356856,\"y\":0.19881051885040557,\"z\":0.5}}}}},{\"layout\":{\"scene\":{\"camera\":{\"eye\":{\"x\":2.351065601487642,\"y\":0.18705757803829381,\"z\":0.5}}}}},{\"layout\":{\"scene\":{\"camera\":{\"eye\":{\"x\":2.3519714972220127,\"y\":0.1752999607964728,\"z\":0.5}}}}},{\"layout\":{\"scene\":{\"camera\":{\"eye\":{\"x\":2.3528185937914508,\"y\":0.16353796106476315,\"z\":0.5}}}}},{\"layout\":{\"scene\":{\"camera\":{\"eye\":{\"x\":2.353606870018587,\"y\":0.15177187289254435,\"z\":0.5}}}}},{\"layout\":{\"scene\":{\"camera\":{\"eye\":{\"x\":2.354336306196556,\"y\":0.14000199043140815,\"z\":0.5}}}}},{\"layout\":{\"scene\":{\"camera\":{\"eye\":{\"x\":2.3550068840894918,\"y\":0.12822860792780166,\"z\":0.5}}}}},{\"layout\":{\"scene\":{\"camera\":{\"eye\":{\"x\":2.355618586932982,\"y\":0.11645201971567687,\"z\":0.5}}}}},{\"layout\":{\"scene\":{\"camera\":{\"eye\":{\"x\":2.356171399434487,\"y\":0.10467252020912421,\"z\":0.5}}}}},{\"layout\":{\"scene\":{\"camera\":{\"eye\":{\"x\":2.356665307773724,\"y\":0.09289040389501801,\"z\":0.5}}}}},{\"layout\":{\"scene\":{\"camera\":{\"eye\":{\"x\":2.357100299603009,\"y\":0.08110596532565162,\"z\":0.5}}}}},{\"layout\":{\"scene\":{\"camera\":{\"eye\":{\"x\":2.357476364047569,\"y\":0.06931949911137703,\"z\":0.5}}}}},{\"layout\":{\"scene\":{\"camera\":{\"eye\":{\"x\":2.357793491705814,\"y\":0.057531299913235356,\"z\":0.5}}}}},{\"layout\":{\"scene\":{\"camera\":{\"eye\":{\"x\":2.358051674649567,\"y\":0.04574166243559219,\"z\":0.5}}}}},{\"layout\":{\"scene\":{\"camera\":{\"eye\":{\"x\":2.35825090642427,\"y\":0.03395088141876923,\"z\":0.5}}}}},{\"layout\":{\"scene\":{\"camera\":{\"eye\":{\"x\":2.3583911820491363,\"y\":0.022159251631680643,\"z\":0.5}}}}},{\"layout\":{\"scene\":{\"camera\":{\"eye\":{\"x\":2.358472498017285,\"y\":0.01036706786445496,\"z\":0.5}}}}},{\"layout\":{\"scene\":{\"camera\":{\"eye\":{\"x\":2.358494852295821,\"y\":-0.0014253750789272601,\"z\":0.5}}}}},{\"layout\":{\"scene\":{\"camera\":{\"eye\":{\"x\":2.3584582443258864,\"y\":-0.013217782388007748,\"z\":0.5}}}}},{\"layout\":{\"scene\":{\"camera\":{\"eye\":{\"x\":2.358362675022681,\"y\":-0.02500985925321597,\"z\":0.5}}}}},{\"layout\":{\"scene\":{\"camera\":{\"eye\":{\"x\":2.358208146775431,\"y\":-0.03680131087324545,\"z\":0.5}}}}},{\"layout\":{\"scene\":{\"camera\":{\"eye\":{\"x\":2.357994663447334,\"y\":-0.048591842462419876,\"z\":0.5}}}}},{\"layout\":{\"scene\":{\"camera\":{\"eye\":{\"x\":2.3577222303754644,\"y\":-0.06038115925806453,\"z\":0.5}}}}},{\"layout\":{\"scene\":{\"camera\":{\"eye\":{\"x\":2.357390854370632,\"y\":-0.07216896652787153,\"z\":0.5}}}}},{\"layout\":{\"scene\":{\"camera\":{\"eye\":{\"x\":2.3570005437172217,\"y\":-0.08395496957727411,\"z\":0.5}}}}},{\"layout\":{\"scene\":{\"camera\":{\"eye\":{\"x\":2.356551308172979,\"y\":-0.0957388737568099,\"z\":0.5}}}}},{\"layout\":{\"scene\":{\"camera\":{\"eye\":{\"x\":2.3560431589687685,\"y\":-0.1075203844694892,\"z\":0.5}}}}},{\"layout\":{\"scene\":{\"camera\":{\"eye\":{\"x\":2.3554761088082943,\"y\":-0.11929920717815623,\"z\":0.5}}}}},{\"layout\":{\"scene\":{\"camera\":{\"eye\":{\"x\":2.354850171867781,\"y\":-0.13107504741285658,\"z\":0.5}}}}},{\"layout\":{\"scene\":{\"camera\":{\"eye\":{\"x\":2.3541653637956195,\"y\":-0.14284761077819863,\"z\":0.5}}}}},{\"layout\":{\"scene\":{\"camera\":{\"eye\":{\"x\":2.3534217017119756,\"y\":-0.15461660296071145,\"z\":0.5}}}}},{\"layout\":{\"scene\":{\"camera\":{\"eye\":{\"x\":2.3526192042083625,\"y\":-0.16638172973620402,\"z\":0.5}}}}},{\"layout\":{\"scene\":{\"camera\":{\"eye\":{\"x\":2.3517578913471766,\"y\":-0.17814269697711804,\"z\":0.5}}}}},{\"layout\":{\"scene\":{\"camera\":{\"eye\":{\"x\":2.350837784661194,\"y\":-0.18989921065988558,\"z\":0.5}}}}},{\"layout\":{\"scene\":{\"camera\":{\"eye\":{\"x\":2.349858907153035,\"y\":-0.2016509768722775,\"z\":0.5}}}}},{\"layout\":{\"scene\":{\"camera\":{\"eye\":{\"x\":2.348821283294585,\"y\":-0.21339770182075113,\"z\":0.5}}}}},{\"layout\":{\"scene\":{\"camera\":{\"eye\":{\"x\":2.3477249390263872,\"y\":-0.2251390918377928,\"z\":0.5}}}}},{\"layout\":{\"scene\":{\"camera\":{\"eye\":{\"x\":2.346569901756991,\"y\":-0.23687485338926428,\"z\":0.5}}}}},{\"layout\":{\"scene\":{\"camera\":{\"eye\":{\"x\":2.345356200362268,\"y\":-0.24860469308173838,\"z\":0.5}}}}},{\"layout\":{\"scene\":{\"camera\":{\"eye\":{\"x\":2.3440838651846896,\"y\":-0.2603283176698348,\"z\":0.5}}}}},{\"layout\":{\"scene\":{\"camera\":{\"eye\":{\"x\":2.342752928032569,\"y\":-0.27204543406354686,\"z\":0.5}}}}},{\"layout\":{\"scene\":{\"camera\":{\"eye\":{\"x\":2.341363422179266,\"y\":-0.2837557493355768,\"z\":0.5}}}}},{\"layout\":{\"scene\":{\"camera\":{\"eye\":{\"x\":2.3399153823623546,\"y\":-0.2954589707286518,\"z\":0.5}}}}},{\"layout\":{\"scene\":{\"camera\":{\"eye\":{\"x\":2.338408844782755,\"y\":-0.30715480566284836,\"z\":0.5}}}}},{\"layout\":{\"scene\":{\"camera\":{\"eye\":{\"x\":2.336843847103827,\"y\":-0.31884296174289994,\"z\":0.5}}}}},{\"layout\":{\"scene\":{\"camera\":{\"eye\":{\"x\":2.3352204284504325,\"y\":-0.3305231467655143,\"z\":0.5}}}}},{\"layout\":{\"scene\":{\"camera\":{\"eye\":{\"x\":2.3335386294079528,\"y\":-0.34219506872667393,\"z\":0.5}}}}},{\"layout\":{\"scene\":{\"camera\":{\"eye\":{\"x\":2.3317984920212758,\"y\":-0.3538584358289394,\"z\":0.5}}}}},{\"layout\":{\"scene\":{\"camera\":{\"eye\":{\"x\":2.3300000597937465,\"y\":-0.36551295648873827,\"z\":0.5}}}}},{\"layout\":{\"scene\":{\"camera\":{\"eye\":{\"x\":2.328143377686076,\"y\":-0.37715833934366205,\"z\":0.5}}}}},{\"layout\":{\"scene\":{\"camera\":{\"eye\":{\"x\":2.326228492115221,\"y\":-0.3887942932597459,\"z\":0.5}}}}},{\"layout\":{\"scene\":{\"camera\":{\"eye\":{\"x\":2.3242554509532205,\"y\":-0.4004205273387489,\"z\":0.5}}}}},{\"layout\":{\"scene\":{\"camera\":{\"eye\":{\"x\":2.322224303526001,\"y\":-0.4120367509254226,\"z\":0.5}}}}},{\"layout\":{\"scene\":{\"camera\":{\"eye\":{\"x\":2.3201351006121427,\"y\":-0.42364267361478336,\"z\":0.5}}}}},{\"layout\":{\"scene\":{\"camera\":{\"eye\":{\"x\":2.3179878944416092,\"y\":-0.4352380052593683,\"z\":0.5}}}}},{\"layout\":{\"scene\":{\"camera\":{\"eye\":{\"x\":2.3157827386944434,\"y\":-0.44682245597649073,\"z\":0.5}}}}},{\"layout\":{\"scene\":{\"camera\":{\"eye\":{\"x\":2.3135196884994236,\"y\":-0.45839573615548646,\"z\":0.5}}}}},{\"layout\":{\"scene\":{\"camera\":{\"eye\":{\"x\":2.3111988004326873,\"y\":-0.4699575564649523,\"z\":0.5}}}}},{\"layout\":{\"scene\":{\"camera\":{\"eye\":{\"x\":2.3088201325163142,\"y\":-0.48150762785998336,\"z\":0.5}}}}},{\"layout\":{\"scene\":{\"camera\":{\"eye\":{\"x\":2.30638374421688,\"y\":-0.4930456615893961,\"z\":0.5}}}}},{\"layout\":{\"scene\":{\"camera\":{\"eye\":{\"x\":2.303889696443964,\"y\":-0.5045713692029501,\"z\":0.5}}}}},{\"layout\":{\"scene\":{\"camera\":{\"eye\":{\"x\":2.301338051548631,\"y\":-0.5160844625585523,\"z\":0.5}}}}},{\"layout\":{\"scene\":{\"camera\":{\"eye\":{\"x\":2.298728873321871,\"y\":-0.5275846538294701,\"z\":0.5}}}}},{\"layout\":{\"scene\":{\"camera\":{\"eye\":{\"x\":2.296062226993003,\"y\":-0.5390716555115206,\"z\":0.5}}}}},{\"layout\":{\"scene\":{\"camera\":{\"eye\":{\"x\":2.2933381792280465,\"y\":-0.5505451804302611,\"z\":0.5}}}}},{\"layout\":{\"scene\":{\"camera\":{\"eye\":{\"x\":2.290556798128054,\"y\":-0.5620049417481635,\"z\":0.5}}}}},{\"layout\":{\"scene\":{\"camera\":{\"eye\":{\"x\":2.2877181532274085,\"y\":-0.5734506529717938,\"z\":0.5}}}}},{\"layout\":{\"scene\":{\"camera\":{\"eye\":{\"x\":2.2848223154920833,\"y\":-0.5848820279589666,\"z\":0.5}}}}},{\"layout\":{\"scene\":{\"camera\":{\"eye\":{\"x\":2.2818693573178725,\"y\":-0.5962987809259043,\"z\":0.5}}}}},{\"layout\":{\"scene\":{\"camera\":{\"eye\":{\"x\":2.278859352528576,\"y\":-0.6077006264543747,\"z\":0.5}}}}},{\"layout\":{\"scene\":{\"camera\":{\"eye\":{\"x\":2.2757923763741568,\"y\":-0.6190872794988351,\"z\":0.5}}}}},{\"layout\":{\"scene\":{\"camera\":{\"eye\":{\"x\":2.2726685055288587,\"y\":-0.6304584553935522,\"z\":0.5}}}}},{\"layout\":{\"scene\":{\"camera\":{\"eye\":{\"x\":2.2694878180892903,\"y\":-0.6418138698597216,\"z\":0.5}}}}},{\"layout\":{\"scene\":{\"camera\":{\"eye\":{\"x\":2.2662503935724727,\"y\":-0.6531532390125714,\"z\":0.5}}}}},{\"layout\":{\"scene\":{\"camera\":{\"eye\":{\"x\":2.262956312913849,\"y\":-0.6644762793684641,\"z\":0.5}}}}},{\"layout\":{\"scene\":{\"camera\":{\"eye\":{\"x\":2.259605658465265,\"y\":-0.6757827078519809,\"z\":0.5}}}}},{\"layout\":{\"scene\":{\"camera\":{\"eye\":{\"x\":2.256198513992907,\"y\":-0.6870722418029991,\"z\":0.5}}}}},{\"layout\":{\"scene\":{\"camera\":{\"eye\":{\"x\":2.2527349646752093,\"y\":-0.6983445989837566,\"z\":0.5}}}}},{\"layout\":{\"scene\":{\"camera\":{\"eye\":{\"x\":2.2492150971007248,\"y\":-0.7095994975859113,\"z\":0.5}}}}},{\"layout\":{\"scene\":{\"camera\":{\"eye\":{\"x\":2.2456389992659593,\"y\":-0.7208366562375847,\"z\":0.5}}}}},{\"layout\":{\"scene\":{\"camera\":{\"eye\":{\"x\":2.242006760573172,\"y\":-0.7320557940103957,\"z\":0.5}}}}},{\"layout\":{\"scene\":{\"camera\":{\"eye\":{\"x\":2.2383184718281415,\"y\":-0.7432566304264853,\"z\":0.5}}}}},{\"layout\":{\"scene\":{\"camera\":{\"eye\":{\"x\":2.234574225237895,\"y\":-0.7544388854655245,\"z\":0.5}}}}},{\"layout\":{\"scene\":{\"camera\":{\"eye\":{\"x\":2.230774114408401,\"y\":-0.7656022795717208,\"z\":0.5}}}}},{\"layout\":{\"scene\":{\"camera\":{\"eye\":{\"x\":2.2269182343422327,\"y\":-0.776746533660803,\"z\":0.5}}}}},{\"layout\":{\"scene\":{\"camera\":{\"eye\":{\"x\":2.223006681436191,\"y\":-0.7878713691269998,\"z\":0.5}}}}},{\"layout\":{\"scene\":{\"camera\":{\"eye\":{\"x\":2.219039553478895,\"y\":-0.7989765078500028,\"z\":0.5}}}}},{\"layout\":{\"scene\":{\"camera\":{\"eye\":{\"x\":2.215016949648337,\"y\":-0.8100616722019226,\"z\":0.5}}}}},{\"layout\":{\"scene\":{\"camera\":{\"eye\":{\"x\":2.2109389705094036,\"y\":-0.8211265850542282,\"z\":0.5}}}}},{\"layout\":{\"scene\":{\"camera\":{\"eye\":{\"x\":2.20680571801136,\"y\":-0.8321709697846753,\"z\":0.5}}}}},{\"layout\":{\"scene\":{\"camera\":{\"eye\":{\"x\":2.202617295485304,\"y\":-0.843194550284219,\"z\":0.5}}}}},{\"layout\":{\"scene\":{\"camera\":{\"eye\":{\"x\":2.19837380764158,\"y\":-0.8541970509639218,\"z\":0.5}}}}},{\"layout\":{\"scene\":{\"camera\":{\"eye\":{\"x\":2.1940753605671643,\"y\":-0.8651781967618399,\"z\":0.5}}}}},{\"layout\":{\"scene\":{\"camera\":{\"eye\":{\"x\":2.1897220617230078,\"y\":-0.8761377131499015,\"z\":0.5}}}}},{\"layout\":{\"scene\":{\"camera\":{\"eye\":{\"x\":2.185314019941357,\"y\":-0.8870753261407655,\"z\":0.5}}}}},{\"layout\":{\"scene\":{\"camera\":{\"eye\":{\"x\":2.1808513454230263,\"y\":-0.8979907622946776,\"z\":0.5}}}}},{\"layout\":{\"scene\":{\"camera\":{\"eye\":{\"x\":2.176334149734646,\"y\":-0.9088837487263027,\"z\":0.5}}}}},{\"layout\":{\"scene\":{\"camera\":{\"eye\":{\"x\":2.171762545805872,\"y\":-0.9197540131115483,\"z\":0.5}}}}},{\"layout\":{\"scene\":{\"camera\":{\"eye\":{\"x\":2.167136647926566,\"y\":-0.930601283694369,\"z\":0.5}}}}},{\"layout\":{\"scene\":{\"camera\":{\"eye\":{\"x\":2.1624565717439337,\"y\":-0.9414252892935661,\"z\":0.5}}}}},{\"layout\":{\"scene\":{\"camera\":{\"eye\":{\"x\":2.157722434259635,\"y\":-0.9522257593095634,\"z\":0.5}}}}},{\"layout\":{\"scene\":{\"camera\":{\"eye\":{\"x\":2.1529343538268613,\"y\":-0.9630024237311741,\"z\":0.5}}}}},{\"layout\":{\"scene\":{\"camera\":{\"eye\":{\"x\":2.1480924501473737,\"y\":-0.9737550131423465,\"z\":0.5}}}}},{\"layout\":{\"scene\":{\"camera\":{\"eye\":{\"x\":2.1431968442685125,\"y\":-0.9844832587289071,\"z\":0.5}}}}},{\"layout\":{\"scene\":{\"camera\":{\"eye\":{\"x\":2.1382476585801697,\"y\":-0.9951868922852742,\"z\":0.5}}}}},{\"layout\":{\"scene\":{\"camera\":{\"eye\":{\"x\":2.133245016811729,\"y\":-1.0058656462211673,\"z\":0.5}}}}},{\"layout\":{\"scene\":{\"camera\":{\"eye\":{\"x\":2.128189044028974,\"y\":-1.016519253568294,\"z\":0.5}}}}},{\"layout\":{\"scene\":{\"camera\":{\"eye\":{\"x\":2.123079866630962,\"y\":-1.0271474479870248,\"z\":0.5}}}}},{\"layout\":{\"scene\":{\"camera\":{\"eye\":{\"x\":2.1179176123468606,\"y\":-1.037749963773053,\"z\":0.5}}}}},{\"layout\":{\"scene\":{\"camera\":{\"eye\":{\"x\":2.1127024102327594,\"y\":-1.048326535864036,\"z\":0.5}}}}},{\"layout\":{\"scene\":{\"camera\":{\"eye\":{\"x\":2.107434390668438,\"y\":-1.058876899846224,\"z\":0.5}}}}},{\"layout\":{\"scene\":{\"camera\":{\"eye\":{\"x\":2.1021136853541122,\"y\":-1.0694007919610644,\"z\":0.5}}}}},{\"layout\":{\"scene\":{\"camera\":{\"eye\":{\"x\":2.096740427307138,\"y\":-1.0798979491118037,\"z\":0.5}}}}},{\"layout\":{\"scene\":{\"camera\":{\"eye\":{\"x\":2.091314750858686,\"y\":-1.0903681088700603,\"z\":0.5}}}}},{\"layout\":{\"scene\":{\"camera\":{\"eye\":{\"x\":2.085836791650385,\"y\":-1.1008110094823855,\"z\":0.5}}}}},{\"layout\":{\"scene\":{\"camera\":{\"eye\":{\"x\":2.08030668663093,\"y\":-1.1112263898768067,\"z\":0.5}}}}},{\"layout\":{\"scene\":{\"camera\":{\"eye\":{\"x\":2.074724574052659,\"y\":-1.1216139896693573,\"z\":0.5}}}}},{\"layout\":{\"scene\":{\"camera\":{\"eye\":{\"x\":2.0690905934680948,\"y\":-1.1319735491705836,\"z\":0.5}}}}},{\"layout\":{\"scene\":{\"camera\":{\"eye\":{\"x\":2.0634048857264586,\"y\":-1.1423048093920385,\"z\":0.5}}}}},{\"layout\":{\"scene\":{\"camera\":{\"eye\":{\"x\":2.0576675929701485,\"y\":-1.1526075120527528,\"z\":0.5}}}}},{\"layout\":{\"scene\":{\"camera\":{\"eye\":{\"x\":2.0518788586311842,\"y\":-1.162881399585697,\"z\":0.5}}}}},{\"layout\":{\"scene\":{\"camera\":{\"eye\":{\"x\":2.0460388274276227,\"y\":-1.1731262151442186,\"z\":0.5}}}}},{\"layout\":{\"scene\":{\"camera\":{\"eye\":{\"x\":2.0401476453599394,\"y\":-1.1833417026084625,\"z\":0.5}}}}},{\"layout\":{\"scene\":{\"camera\":{\"eye\":{\"x\":2.03420545970738,\"y\":-1.1935276065917726,\"z\":0.5}}}}},{\"layout\":{\"scene\":{\"camera\":{\"eye\":{\"x\":2.0282124190242765,\"y\":-1.203683672447081,\"z\":0.5}}}}},{\"layout\":{\"scene\":{\"camera\":{\"eye\":{\"x\":2.0221686731363335,\"y\":-1.21380964627327,\"z\":0.5}}}}},{\"layout\":{\"scene\":{\"camera\":{\"eye\":{\"x\":2.0160743731368824,\"y\":-1.223905274921522,\"z\":0.5}}}}},{\"layout\":{\"scene\":{\"camera\":{\"eye\":{\"x\":2.0099296713831074,\"y\":-1.2339703060016451,\"z\":0.5}}}}},{\"layout\":{\"scene\":{\"camera\":{\"eye\":{\"x\":2.0037347214922314,\"y\":-1.2440044878883878,\"z\":0.5}}}}},{\"layout\":{\"scene\":{\"camera\":{\"eye\":{\"x\":1.9974896783376792,\"y\":-1.2540075697277249,\"z\":0.5}}}}},{\"layout\":{\"scene\":{\"camera\":{\"eye\":{\"x\":1.9911946980452044,\"y\":-1.2639793014431315,\"z\":0.5}}}}},{\"layout\":{\"scene\":{\"camera\":{\"eye\":{\"x\":1.9848499379889861,\"y\":-1.2739194337418351,\"z\":0.5}}}}},{\"layout\":{\"scene\":{\"camera\":{\"eye\":{\"x\":1.9784555567876958,\"y\":-1.2838277181210445,\"z\":0.5}}}}},{\"layout\":{\"scene\":{\"camera\":{\"eye\":{\"x\":1.9720117143005307,\"y\":-1.2937039068741665,\"z\":0.5}}}}},{\"layout\":{\"scene\":{\"camera\":{\"eye\":{\"x\":1.9655185716232166,\"y\":-1.3035477530969972,\"z\":0.5}}}}},{\"layout\":{\"scene\":{\"camera\":{\"eye\":{\"x\":1.958976291083982,\"y\":-1.3133590106938944,\"z\":0.5}}}}},{\"layout\":{\"scene\":{\"camera\":{\"eye\":{\"x\":1.9523850362395012,\"y\":-1.3231374343839275,\"z\":0.5}}}}},{\"layout\":{\"scene\":{\"camera\":{\"eye\":{\"x\":1.9457449718708006,\"y\":-1.3328827797070142,\"z\":0.5}}}}},{\"layout\":{\"scene\":{\"camera\":{\"eye\":{\"x\":1.9390562639791442,\"y\":-1.3425948030300292,\"z\":0.5}}}}},{\"layout\":{\"scene\":{\"camera\":{\"eye\":{\"x\":1.9323190797818801,\"y\":-1.352273261552896,\"z\":0.5}}}}},{\"layout\":{\"scene\":{\"camera\":{\"eye\":{\"x\":1.925533587708264,\"y\":-1.3619179133146542,\"z\":0.5}}}}},{\"layout\":{\"scene\":{\"camera\":{\"eye\":{\"x\":1.9186999573952428,\"y\":-1.3715285171995126,\"z\":0.5}}}}},{\"layout\":{\"scene\":{\"camera\":{\"eye\":{\"x\":1.911818359683219,\"y\":-1.3811048329428746,\"z\":0.5}}}}},{\"layout\":{\"scene\":{\"camera\":{\"eye\":{\"x\":1.9048889666117765,\"y\":-1.3906466211373465,\"z\":0.5}}}}},{\"layout\":{\"scene\":{\"camera\":{\"eye\":{\"x\":1.8979119514153822,\"y\":-1.4001536432387185,\"z\":0.5}}}}},{\"layout\":{\"scene\":{\"camera\":{\"eye\":{\"x\":1.8908874885190519,\"y\":-1.4096256615719338,\"z\":0.5}}}}},{\"layout\":{\"scene\":{\"camera\":{\"eye\":{\"x\":1.883815753533992,\"y\":-1.4190624393370281,\"z\":0.5}}}}},{\"layout\":{\"scene\":{\"camera\":{\"eye\":{\"x\":1.876696923253209,\"y\":-1.4284637406150493,\"z\":0.5}}}}},{\"layout\":{\"scene\":{\"camera\":{\"eye\":{\"x\":1.8695311756470896,\"y\":-1.4378293303739533,\"z\":0.5}}}}},{\"layout\":{\"scene\":{\"camera\":{\"eye\":{\"x\":1.86231868985895,\"y\":-1.4471589744744848,\"z\":0.5}}}}},{\"layout\":{\"scene\":{\"camera\":{\"eye\":{\"x\":1.8550596462005604,\"y\":-1.4564524396760274,\"z\":0.5}}}}},{\"layout\":{\"scene\":{\"camera\":{\"eye\":{\"x\":1.8477542261476323,\"y\":-1.4657094936424357,\"z\":0.5}}}}},{\"layout\":{\"scene\":{\"camera\":{\"eye\":{\"x\":1.8404026123352883,\"y\":-1.474929904947841,\"z\":0.5}}}}},{\"layout\":{\"scene\":{\"camera\":{\"eye\":{\"x\":1.83300498855349,\"y\":-1.4841134430824419,\"z\":0.5}}}}},{\"layout\":{\"scene\":{\"camera\":{\"eye\":{\"x\":1.8255615397424467,\"y\":-1.4932598784582631,\"z\":0.5}}}}},{\"layout\":{\"scene\":{\"camera\":{\"eye\":{\"x\":1.8180724519879914,\"y\":-1.5023689824148967,\"z\":0.5}}}}},{\"layout\":{\"scene\":{\"camera\":{\"eye\":{\"x\":1.810537912516927,\"y\":-1.5114405272252192,\"z\":0.5}}}}},{\"layout\":{\"scene\":{\"camera\":{\"eye\":{\"x\":1.8029581096923488,\"y\":-1.5204742861010812,\"z\":0.5}}}}},{\"layout\":{\"scene\":{\"camera\":{\"eye\":{\"x\":1.7953332330089324,\"y\":-1.5294700331989817,\"z\":0.5}}}}},{\"layout\":{\"scene\":{\"camera\":{\"eye\":{\"x\":1.7876634730881977,\"y\":-1.5384275436257122,\"z\":0.5}}}}},{\"layout\":{\"scene\":{\"camera\":{\"eye\":{\"x\":1.7799490216737424,\"y\":-1.5473465934439792,\"z\":0.5}}}}},{\"layout\":{\"scene\":{\"camera\":{\"eye\":{\"x\":1.7721900716264516,\"y\":-1.5562269596780003,\"z\":0.5}}}}},{\"layout\":{\"scene\":{\"camera\":{\"eye\":{\"x\":1.7643868169196717,\"y\":-1.5650684203190826,\"z\":0.5}}}}},{\"layout\":{\"scene\":{\"camera\":{\"eye\":{\"x\":1.7565394526343638,\"y\":-1.573870754331171,\"z\":0.5}}}}},{\"layout\":{\"scene\":{\"camera\":{\"eye\":{\"x\":1.748648174954226,\"y\":-1.5826337416563745,\"z\":0.5}}}}},{\"layout\":{\"scene\":{\"camera\":{\"eye\":{\"x\":1.7407131811607899,\"y\":-1.5913571632204642,\"z\":0.5}}}}},{\"layout\":{\"scene\":{\"camera\":{\"eye\":{\"x\":1.732734669628487,\"y\":-1.6000408009383567,\"z\":0.5}}}}},{\"layout\":{\"scene\":{\"camera\":{\"eye\":{\"x\":1.72471283981969,\"y\":-1.6086844377195608,\"z\":0.5}}}}},{\"layout\":{\"scene\":{\"camera\":{\"eye\":{\"x\":1.7166478922797257,\"y\":-1.617287857473609,\"z\":0.5}}}}},{\"layout\":{\"scene\":{\"camera\":{\"eye\":{\"x\":1.7085400286318633,\"y\":-1.6258508451154525,\"z\":0.5}}}}},{\"layout\":{\"scene\":{\"camera\":{\"eye\":{\"x\":1.700389451572272,\"y\":-1.634373186570848,\"z\":0.5}}}}},{\"layout\":{\"scene\":{\"camera\":{\"eye\":{\"x\":1.6921963648649532,\"y\":-1.6428546687817032,\"z\":0.5}}}}},{\"layout\":{\"scene\":{\"camera\":{\"eye\":{\"x\":1.683960973336647,\"y\":-1.6512950797114043,\"z\":0.5}}}}},{\"layout\":{\"scene\":{\"camera\":{\"eye\":{\"x\":1.6756834828717142,\"y\":-1.6596942083501172,\"z\":0.5}}}}},{\"layout\":{\"scene\":{\"camera\":{\"eye\":{\"x\":1.667364100406985,\"y\":-1.6680518447200632,\"z\":0.5}}}}},{\"layout\":{\"scene\":{\"camera\":{\"eye\":{\"x\":1.659003033926587,\"y\":-1.676367779880769,\"z\":0.5}}}}},{\"layout\":{\"scene\":{\"camera\":{\"eye\":{\"x\":1.650600492456747,\"y\":-1.6846418059342896,\"z\":0.5}}}}},{\"layout\":{\"scene\":{\"camera\":{\"eye\":{\"x\":1.642156686060565,\"y\":-1.6928737160304026,\"z\":0.5}}}}},{\"layout\":{\"scene\":{\"camera\":{\"eye\":{\"x\":1.63367182583276,\"y\":-1.701063304371785,\"z\":0.5}}}}},{\"layout\":{\"scene\":{\"camera\":{\"eye\":{\"x\":1.6251461238943965,\"y\":-1.7092103662191553,\"z\":0.5}}}}},{\"layout\":{\"scene\":{\"camera\":{\"eye\":{\"x\":1.6165797933875785,\"y\":-1.7173146978963916,\"z\":0.5}}}}},{\"layout\":{\"scene\":{\"camera\":{\"eye\":{\"x\":1.6079730484701216,\"y\":-1.7253760967956244,\"z\":0.5}}}}},{\"layout\":{\"scene\":{\"camera\":{\"eye\":{\"x\":1.5993261043102027,\"y\":-1.7333943613823,\"z\":0.5}}}}},{\"layout\":{\"scene\":{\"camera\":{\"eye\":{\"x\":1.5906391770809738,\"y\":-1.7413692912002217,\"z\":0.5}}}}},{\"layout\":{\"scene\":{\"camera\":{\"eye\":{\"x\":1.581912483955164,\"y\":-1.74930068687656,\"z\":0.5}}}}},{\"layout\":{\"scene\":{\"camera\":{\"eye\":{\"x\":1.5731462430996452,\"y\":-1.757188350126836,\"z\":0.5}}}}},{\"layout\":{\"scene\":{\"camera\":{\"eye\":{\"x\":1.5643406736699847,\"y\":-1.7650320837598783,\"z\":0.5}}}}},{\"layout\":{\"scene\":{\"camera\":{\"eye\":{\"x\":1.5554959958049586,\"y\":-1.7728316916827556,\"z\":0.5}}}}},{\"layout\":{\"scene\":{\"camera\":{\"eye\":{\"x\":1.5466124306210522,\"y\":-1.7805869789056754,\"z\":0.5}}}}},{\"layout\":{\"scene\":{\"camera\":{\"eye\":{\"x\":1.5376902002069326,\"y\":-1.788297751546862,\"z\":0.5}}}}},{\"layout\":{\"scene\":{\"camera\":{\"eye\":{\"x\":1.5287295276178967,\"y\":-1.7959638168374004,\"z\":0.5}}}}},{\"layout\":{\"scene\":{\"camera\":{\"eye\":{\"x\":1.5197306368702912,\"y\":-1.8035849831260569,\"z\":0.5}}}}},{\"layout\":{\"scene\":{\"camera\":{\"eye\":{\"x\":1.5106937529359168,\"y\":-1.8111610598840722,\"z\":0.5}}}}},{\"layout\":{\"scene\":{\"camera\":{\"eye\":{\"x\":1.5016191017364,\"y\":-1.818691857709922,\"z\":0.5}}}}},{\"layout\":{\"scene\":{\"camera\":{\"eye\":{\"x\":1.4925069101375499,\"y\":-1.826177188334052,\"z\":0.5}}}}},{\"layout\":{\"scene\":{\"camera\":{\"eye\":{\"x\":1.4833574059436807,\"y\":-1.833616864623587,\"z\":0.5}}}}},{\"layout\":{\"scene\":{\"camera\":{\"eye\":{\"x\":1.4741708178919215,\"y\":-1.8410107005870073,\"z\":0.5}}}}},{\"layout\":{\"scene\":{\"camera\":{\"eye\":{\"x\":1.4649473756464937,\"y\":-1.8483585113787993,\"z\":0.5}}}}},{\"layout\":{\"scene\":{\"camera\":{\"eye\":{\"x\":1.4556873097929748,\"y\":-1.8556601133040749,\"z\":0.5}}}}},{\"layout\":{\"scene\":{\"camera\":{\"eye\":{\"x\":1.4463908518325281,\"y\":-1.8629153238231666,\"z\":0.5}}}}},{\"layout\":{\"scene\":{\"camera\":{\"eye\":{\"x\":1.4370582341761184,\"y\":-1.8701239615561898,\"z\":0.5}}}}},{\"layout\":{\"scene\":{\"camera\":{\"eye\":{\"x\":1.4276896901387,\"y\":-1.8772858462875766,\"z\":0.5}}}}},{\"layout\":{\"scene\":{\"camera\":{\"eye\":{\"x\":1.4182854539333878,\"y\":-1.8844007989705809,\"z\":0.5}}}}},{\"layout\":{\"scene\":{\"camera\":{\"eye\":{\"x\":1.4088457606655964,\"y\":-1.8914686417317568,\"z\":0.5}}}}},{\"layout\":{\"scene\":{\"camera\":{\"eye\":{\"x\":1.3993708463271657,\"y\":-1.8984891978754033,\"z\":0.5}}}}},{\"layout\":{\"scene\":{\"camera\":{\"eye\":{\"x\":1.3898609477904595,\"y\":-1.9054622918879829,\"z\":0.5}}}}},{\"layout\":{\"scene\":{\"camera\":{\"eye\":{\"x\":1.3803163028024483,\"y\":-1.912387749442508,\"z\":0.5}}}}},{\"layout\":{\"scene\":{\"camera\":{\"eye\":{\"x\":1.3707371499787584,\"y\":-1.9192653974029,\"z\":0.5}}}}},{\"layout\":{\"scene\":{\"camera\":{\"eye\":{\"x\":1.3611237287977114,\"y\":-1.9260950638283185,\"z\":0.5}}}}},{\"layout\":{\"scene\":{\"camera\":{\"eye\":{\"x\":1.3514762795943362,\"y\":-1.9328765779774588,\"z\":0.5}}}}},{\"layout\":{\"scene\":{\"camera\":{\"eye\":{\"x\":1.3417950435543597,\"y\":-1.939609770312821,\"z\":0.5}}}}},{\"layout\":{\"scene\":{\"camera\":{\"eye\":{\"x\":1.3320802627081803,\"y\":-1.9462944725049458,\"z\":0.5}}}}},{\"layout\":{\"scene\":{\"camera\":{\"eye\":{\"x\":1.3223321799248124,\"y\":-1.9529305174366276,\"z\":0.5}}}}},{\"layout\":{\"scene\":{\"camera\":{\"eye\":{\"x\":1.3125510389058175,\"y\":-1.9595177392070884,\"z\":0.5}}}}},{\"layout\":{\"scene\":{\"camera\":{\"eye\":{\"x\":1.3027370841792114,\"y\":-1.9660559731361278,\"z\":0.5}}}}},{\"layout\":{\"scene\":{\"camera\":{\"eye\":{\"x\":1.2928905610933523,\"y\":-1.9725450557682367,\"z\":0.5}}}}},{\"layout\":{\"scene\":{\"camera\":{\"eye\":{\"x\":1.2830117158108039,\"y\":-1.9789848248766884,\"z\":0.5}}}}},{\"layout\":{\"scene\":{\"camera\":{\"eye\":{\"x\":1.273100795302184,\"y\":-1.98537511946759,\"z\":0.5}}}}},{\"layout\":{\"scene\":{\"camera\":{\"eye\":{\"x\":1.2631580473399877,\"y\":-1.9917157797839102,\"z\":0.5}}}}},{\"layout\":{\"scene\":{\"camera\":{\"eye\":{\"x\":1.253183720492398,\"y\":-1.9980066473094704,\"z\":0.5}}}}},{\"layout\":{\"scene\":{\"camera\":{\"eye\":{\"x\":1.243178064117066,\"y\":-2.004247564772911,\"z\":0.5}}}}},{\"layout\":{\"scene\":{\"camera\":{\"eye\":{\"x\":1.2331413283548802,\"y\":-2.01043837615162,\"z\":0.5}}}}},{\"layout\":{\"scene\":{\"camera\":{\"eye\":{\"x\":1.2230737641237106,\"y\":-2.0165789266756358,\"z\":0.5}}}}},{\"layout\":{\"scene\":{\"camera\":{\"eye\":{\"x\":1.2129756231121402,\"y\":-2.022669062831514,\"z\":0.5}}}}},{\"layout\":{\"scene\":{\"camera\":{\"eye\":{\"x\":1.2028471577731679,\"y\":-2.0287086323661687,\"z\":0.5}}}}},{\"layout\":{\"scene\":{\"camera\":{\"eye\":{\"x\":1.1926886213178995,\"y\":-2.0346974842906764,\"z\":0.5}}}}},{\"layout\":{\"scene\":{\"camera\":{\"eye\":{\"x\":1.1825002677092167,\"y\":-2.040635468884051,\"z\":0.5}}}}},{\"layout\":{\"scene\":{\"camera\":{\"eye\":{\"x\":1.1722823516554304,\"y\":-2.046522437696986,\"z\":0.5}}}}},{\"layout\":{\"scene\":{\"camera\":{\"eye\":{\"x\":1.162035128603909,\"y\":-2.052358243555568,\"z\":0.5}}}}},{\"layout\":{\"scene\":{\"camera\":{\"eye\":{\"x\":1.1517588547346949,\"y\":-2.058142740564955,\"z\":0.5}}}}},{\"layout\":{\"scene\":{\"camera\":{\"eye\":{\"x\":1.1414537869540993,\"y\":-2.0638757841130233,\"z\":0.5}}}}},{\"layout\":{\"scene\":{\"camera\":{\"eye\":{\"x\":1.1311201828882813,\"y\":-2.0695572308739814,\"z\":0.5}}}}},{\"layout\":{\"scene\":{\"camera\":{\"eye\":{\"x\":1.1207583008768034,\"y\":-2.075186938811957,\"z\":0.5}}}}},{\"layout\":{\"scene\":{\"camera\":{\"eye\":{\"x\":1.1103683999661764,\"y\":-2.080764767184545,\"z\":0.5}}}}},{\"layout\":{\"scene\":{\"camera\":{\"eye\":{\"x\":1.0999507399033819,\"y\":-2.086290576546326,\"z\":0.5}}}}},{\"layout\":{\"scene\":{\"camera\":{\"eye\":{\"x\":1.089505581129378,\"y\":-2.0917642287523552,\"z\":0.5}}}}},{\"layout\":{\"scene\":{\"camera\":{\"eye\":{\"x\":1.0790331847725918,\"y\":-2.0971855869616114,\"z\":0.5}}}}},{\"layout\":{\"scene\":{\"camera\":{\"eye\":{\"x\":1.0685338126423858,\"y\":-2.1025545156404215,\"z\":0.5}}}}},{\"layout\":{\"scene\":{\"camera\":{\"eye\":{\"x\":1.0580077272225168,\"y\":-2.1078708805658484,\"z\":0.5}}}}},{\"layout\":{\"scene\":{\"camera\":{\"eye\":{\"x\":1.0474551916645707,\"y\":-2.1131345488290467,\"z\":0.5}}}}},{\"layout\":{\"scene\":{\"camera\":{\"eye\":{\"x\":1.0368764697813886,\"y\":-2.1183453888385824,\"z\":0.5}}}}},{\"layout\":{\"scene\":{\"camera\":{\"eye\":{\"x\":1.0262718260404662,\"y\":-2.123503270323728,\"z\":0.5}}}}},{\"layout\":{\"scene\":{\"camera\":{\"eye\":{\"x\":1.015641525557344,\"y\":-2.128608064337714,\"z\":0.5}}}}},{\"layout\":{\"scene\":{\"camera\":{\"eye\":{\"x\":1.0049858340889801,\"y\":-2.1336596432609576,\"z\":0.5}}}}},{\"layout\":{\"scene\":{\"camera\":{\"eye\":{\"x\":0.994305018027108,\"y\":-2.1386578808042467,\"z\":0.5}}}}},{\"layout\":{\"scene\":{\"camera\":{\"eye\":{\"x\":0.9835993443915719,\"y\":-2.1436026520119045,\"z\":0.5}}}}},{\"layout\":{\"scene\":{\"camera\":{\"eye\":{\"x\":0.9728690808236549,\"y\":-2.1484938332649075,\"z\":0.5}}}}},{\"layout\":{\"scene\":{\"camera\":{\"eye\":{\"x\":0.9621144955793868,\"y\":-2.15333130228398,\"z\":0.5}}}}},{\"layout\":{\"scene\":{\"camera\":{\"eye\":{\"x\":0.9513358575228401,\"y\":-2.158114938132648,\"z\":0.5}}}}},{\"layout\":{\"scene\":{\"camera\":{\"eye\":{\"x\":0.9405334361194041,\"y\":-2.162844621220264,\"z\":0.5}}}}},{\"layout\":{\"scene\":{\"camera\":{\"eye\":{\"x\":0.9297075014290512,\"y\":-2.1675202333049977,\"z\":0.5}}}}},{\"layout\":{\"scene\":{\"camera\":{\"eye\":{\"x\":0.9188583240995838,\"y\":-2.1721416574967907,\"z\":0.5}}}}},{\"layout\":{\"scene\":{\"camera\":{\"eye\":{\"x\":0.9079861753598719,\"y\":-2.176708778260278,\"z\":0.5}}}}},{\"layout\":{\"scene\":{\"camera\":{\"eye\":{\"x\":0.8970913270130673,\"y\":-2.181221481417679,\"z\":0.5}}}}},{\"layout\":{\"scene\":{\"camera\":{\"eye\":{\"x\":0.8861740514298104,\"y\":-2.1856796541516497,\"z\":0.5}}}}},{\"layout\":{\"scene\":{\"camera\":{\"eye\":{\"x\":0.875234621541422,\"y\":-2.190083185008105,\"z\":0.5}}}}},{\"layout\":{\"scene\":{\"camera\":{\"eye\":{\"x\":0.8642733108330809,\"y\":-2.1944319638990004,\"z\":0.5}}}}},{\"layout\":{\"scene\":{\"camera\":{\"eye\":{\"x\":0.8532903933369833,\"y\":-2.198725882105092,\"z\":0.5}}}}},{\"layout\":{\"scene\":{\"camera\":{\"eye\":{\"x\":0.8422861436254945,\"y\":-2.2029648322786484,\"z\":0.5}}}}},{\"layout\":{\"scene\":{\"camera\":{\"eye\":{\"x\":0.8312608368042838,\"y\":-2.2071487084461348,\"z\":0.5}}}}},{\"layout\":{\"scene\":{\"camera\":{\"eye\":{\"x\":0.820214748505447,\"y\":-2.2112774060108666,\"z\":0.5}}}}},{\"layout\":{\"scene\":{\"camera\":{\"eye\":{\"x\":0.8091481548806181,\"y\":-2.215350821755618,\"z\":0.5}}}}},{\"layout\":{\"scene\":{\"camera\":{\"eye\":{\"x\":0.7980613325940602,\"y\":-2.219368853845208,\"z\":0.5}}}}},{\"layout\":{\"scene\":{\"camera\":{\"eye\":{\"x\":0.7869545588157532,\"y\":-2.2233314018290447,\"z\":0.5}}}}},{\"layout\":{\"scene\":{\"camera\":{\"eye\":{\"x\":0.7758281112144618,\"y\":-2.2272383666436335,\"z\":0.5}}}}},{\"layout\":{\"scene\":{\"camera\":{\"eye\":{\"x\":0.764682267950799,\"y\":-2.231089650615058,\"z\":0.5}}}}},{\"layout\":{\"scene\":{\"camera\":{\"eye\":{\"x\":0.7535173076702644,\"y\":-2.23488515746142,\"z\":0.5}}}}},{\"layout\":{\"scene\":{\"camera\":{\"eye\":{\"x\":0.7423335094962836,\"y\":-2.2386247922952456,\"z\":0.5}}}}},{\"layout\":{\"scene\":{\"camera\":{\"eye\":{\"x\":0.7311311530232276,\"y\":-2.242308461625859,\"z\":0.5}}}}},{\"layout\":{\"scene\":{\"camera\":{\"eye\":{\"x\":0.719910518309427,\"y\":-2.245936073361718,\"z\":0.5}}}}},{\"layout\":{\"scene\":{\"camera\":{\"eye\":{\"x\":0.7086718858701638,\"y\":-2.249507536812719,\"z\":0.5}}}}},{\"layout\":{\"scene\":{\"camera\":{\"eye\":{\"x\":0.6974155366706638,\"y\":-2.2530227626924613,\"z\":0.5}}}}},{\"layout\":{\"scene\":{\"camera\":{\"eye\":{\"x\":0.6861417521190698,\"y\":-2.256481663120481,\"z\":0.5}}}}},{\"layout\":{\"scene\":{\"camera\":{\"eye\":{\"x\":0.6748508140594104,\"y\":-2.259884151624448,\"z\":0.5}}}}},{\"layout\":{\"scene\":{\"camera\":{\"eye\":{\"x\":0.6635430047645476,\"y\":-2.2632301431423265,\"z\":0.5}}}}},{\"layout\":{\"scene\":{\"camera\":{\"eye\":{\"x\":0.6522186069291255,\"y\":-2.2665195540245024,\"z\":0.5}}}}},{\"layout\":{\"scene\":{\"camera\":{\"eye\":{\"x\":0.6408779036624989,\"y\":-2.2697523020358763,\"z\":0.5}}}}},{\"layout\":{\"scene\":{\"camera\":{\"eye\":{\"x\":0.6295211784816606,\"y\":-2.2729283063579153,\"z\":0.5}}}}},{\"layout\":{\"scene\":{\"camera\":{\"eye\":{\"x\":0.6181487153041479,\"y\":-2.2760474875906764,\"z\":0.5}}}}},{\"layout\":{\"scene\":{\"camera\":{\"eye\":{\"x\":0.6067607984409478,\"y\":-2.2791097677547922,\"z\":0.5}}}}},{\"layout\":{\"scene\":{\"camera\":{\"eye\":{\"x\":0.5953577125893877,\"y\":-2.282115070293418,\"z\":0.5}}}}},{\"layout\":{\"scene\":{\"camera\":{\"eye\":{\"x\":0.5839397428260222,\"y\":-2.285063320074146,\"z\":0.5}}}}},{\"layout\":{\"scene\":{\"camera\":{\"eye\":{\"x\":0.5725071745994996,\"y\":-2.287954443390886,\"z\":0.5}}}}},{\"layout\":{\"scene\":{\"camera\":{\"eye\":{\"x\":0.5610602937234299,\"y\":-2.290788367965705,\"z\":0.5}}}}},{\"layout\":{\"scene\":{\"camera\":{\"eye\":{\"x\":0.5495993863692391,\"y\":-2.293565022950637,\"z\":0.5}}}}},{\"layout\":{\"scene\":{\"camera\":{\"eye\":{\"x\":0.5381247390590126,\"y\":-2.2962843389294516,\"z\":0.5}}}}},{\"layout\":{\"scene\":{\"camera\":{\"eye\":{\"x\":0.5266366386583383,\"y\":-2.298946247919391,\"z\":0.5}}}}},{\"layout\":{\"scene\":{\"camera\":{\"eye\":{\"x\":0.5151353723691265,\"y\":-2.301550683372869,\"z\":0.5}}}}},{\"layout\":{\"scene\":{\"camera\":{\"eye\":{\"x\":0.5036212277224356,\"y\":-2.3040975801791355,\"z\":0.5}}}}},{\"layout\":{\"scene\":{\"camera\":{\"eye\":{\"x\":0.49209449257128046,\"y\":-2.306586874665902,\"z\":0.5}}}}},{\"layout\":{\"scene\":{\"camera\":{\"eye\":{\"x\":0.48055545508344233,\"y\":-2.3090185046009366,\"z\":0.5}}}}},{\"layout\":{\"scene\":{\"camera\":{\"eye\":{\"x\":0.46900440373425567,\"y\":-2.3113924091936173,\"z\":0.5}}}}},{\"layout\":{\"scene\":{\"camera\":{\"eye\":{\"x\":0.4574416272994032,\"y\":-2.3137085290964534,\"z\":0.5}}}}},{\"layout\":{\"scene\":{\"camera\":{\"eye\":{\"x\":0.4458674148476923,\"y\":-2.3159668064065677,\"z\":0.5}}}}},{\"layout\":{\"scene\":{\"camera\":{\"eye\":{\"x\":0.43428205573383327,\"y\":-2.3181671846671446,\"z\":0.5}}}}},{\"layout\":{\"scene\":{\"camera\":{\"eye\":{\"x\":0.4226858395911999,\"y\":-2.320309608868843,\"z\":0.5}}}}},{\"layout\":{\"scene\":{\"camera\":{\"eye\":{\"x\":0.41107905632459163,\"y\":-2.3223940254511684,\"z\":0.5}}}}},{\"layout\":{\"scene\":{\"camera\":{\"eye\":{\"x\":0.3994619961029844,\"y\":-2.324420382303816,\"z\":0.5}}}}},{\"layout\":{\"scene\":{\"camera\":{\"eye\":{\"x\":0.387834949352281,\"y\":-2.3263886287679694,\"z\":0.5}}}}},{\"layout\":{\"scene\":{\"camera\":{\"eye\":{\"x\":0.3761982067480436,\"y\":-2.32829871563757,\"z\":0.5}}}}},{\"layout\":{\"scene\":{\"camera\":{\"eye\":{\"x\":0.36455205920823097,\"y\":-2.330150595160544,\"z\":0.5}}}}},{\"layout\":{\"scene\":{\"camera\":{\"eye\":{\"x\":0.35289679788592443,\"y\":-2.331944221040002,\"z\":0.5}}}}},{\"layout\":{\"scene\":{\"camera\":{\"eye\":{\"x\":0.3412327141620517,\"y\":-2.3336795484353887,\"z\":0.5}}}}},{\"layout\":{\"scene\":{\"camera\":{\"eye\":{\"x\":0.3295600996380973,\"y\":-2.33535653396361,\"z\":0.5}}}}},{\"layout\":{\"scene\":{\"camera\":{\"eye\":{\"x\":0.3178792461288166,\"y\":-2.336975135700116,\"z\":0.5}}}}},{\"layout\":{\"scene\":{\"camera\":{\"eye\":{\"x\":0.3061904456549379,\"y\":-2.3385353131799462,\"z\":0.5}}}}},{\"layout\":{\"scene\":{\"camera\":{\"eye\":{\"x\":0.2944939904358662,\"y\":-2.340037027398746,\"z\":0.5}}}}},{\"layout\":{\"scene\":{\"camera\":{\"eye\":{\"x\":0.28279017288237196,\"y\":-2.3414802408137376,\"z\":0.5}}}}},{\"layout\":{\"scene\":{\"camera\":{\"eye\":{\"x\":0.27107928558928407,\"y\":-2.3428649173446607,\"z\":0.5}}}}},{\"layout\":{\"scene\":{\"camera\":{\"eye\":{\"x\":0.2593616213281752,\"y\":-2.344191022374674,\"z\":0.5}}}}},{\"layout\":{\"scene\":{\"camera\":{\"eye\":{\"x\":0.24763747304004058,\"y\":-2.3454585227512217,\"z\":0.5}}}}},{\"layout\":{\"scene\":{\"camera\":{\"eye\":{\"x\":0.2359071338279789,\"y\":-2.3466673867868595,\"z\":0.5}}}}},{\"layout\":{\"scene\":{\"camera\":{\"eye\":{\"x\":0.22417089694985792,\"y\":-2.3478175842600497,\"z\":0.5}}}}},{\"layout\":{\"scene\":{\"camera\":{\"eye\":{\"x\":0.21242905581098914,\"y\":-2.3489090864159157,\"z\":0.5}}}}},{\"layout\":{\"scene\":{\"camera\":{\"eye\":{\"x\":0.20068190395678798,\"y\":-2.34994186596696,\"z\":0.5}}}}},{\"layout\":{\"scene\":{\"camera\":{\"eye\":{\"x\":0.18892973506544097,\"y\":-2.3509158970937483,\"z\":0.5}}}}},{\"layout\":{\"scene\":{\"camera\":{\"eye\":{\"x\":0.17717284294055757,\"y\":-2.351831155445552,\"z\":0.5}}}}},{\"layout\":{\"scene\":{\"camera\":{\"eye\":{\"x\":0.16541152150382843,\"y\":-2.352687618140961,\"z\":0.5}}}}},{\"layout\":{\"scene\":{\"camera\":{\"eye\":{\"x\":0.15364606478767562,\"y\":-2.3534852637684525,\"z\":0.5}}}}},{\"layout\":{\"scene\":{\"camera\":{\"eye\":{\"x\":0.14187676692790685,\"y\":-2.3542240723869265,\"z\":0.5}}}}},{\"layout\":{\"scene\":{\"camera\":{\"eye\":{\"x\":0.1301039221563538,\"y\":-2.354904025526207,\"z\":0.5}}}}},{\"layout\":{\"scene\":{\"camera\":{\"eye\":{\"x\":0.11832782479352355,\"y\":-2.3555251061875,\"z\":0.5}}}}},{\"layout\":{\"scene\":{\"camera\":{\"eye\":{\"x\":0.10654876924123524,\"y\":-2.356087298843822,\"z\":0.5}}}}},{\"layout\":{\"scene\":{\"camera\":{\"eye\":{\"x\":0.0947670499752662,\"y\":-2.356590589440386,\"z\":0.5}}}}},{\"layout\":{\"scene\":{\"camera\":{\"eye\":{\"x\":0.08298296153798368,\"y\":-2.3570349653949525,\"z\":0.5}}}}},{\"layout\":{\"scene\":{\"camera\":{\"eye\":{\"x\":0.0711967985309847,\"y\":-2.3574204155981464,\"z\":0.5}}}}},{\"layout\":{\"scene\":{\"camera\":{\"eye\":{\"x\":0.05940885560772946,\"y\":-2.357746930413733,\"z\":0.5}}}}},{\"layout\":{\"scene\":{\"camera\":{\"eye\":{\"x\":0.04761942746617942,\"y\":-2.3580145016788583,\"z\":0.5}}}}},{\"layout\":{\"scene\":{\"camera\":{\"eye\":{\"x\":0.03582880884142292,\"y\":-2.3582231227042545,\"z\":0.5}}}}},{\"layout\":{\"scene\":{\"camera\":{\"eye\":{\"x\":0.02403729449831138,\"y\":-2.358372788274407,\"z\":0.5}}}}},{\"layout\":{\"scene\":{\"camera\":{\"eye\":{\"x\":0.012245179224088076,\"y\":-2.358463494647685,\"z\":0.5}}}}},{\"layout\":{\"scene\":{\"camera\":{\"eye\":{\"x\":0.0004527578210231642,\"y\":-2.358495239556433,\"z\":0.5}}}}},{\"layout\":{\"scene\":{\"camera\":{\"eye\":{\"x\":-0.011339674900963326,\"y\":-2.3584680222070302,\"z\":0.5}}}}},{\"layout\":{\"scene\":{\"camera\":{\"eye\":{\"x\":-0.023131824131668477,\"y\":-2.358381843279909,\"z\":0.5}}}}},{\"layout\":{\"scene\":{\"camera\":{\"eye\":{\"x\":-0.034923395067974816,\"y\":-2.358236704929538,\"z\":0.5}}}}},{\"layout\":{\"scene\":{\"camera\":{\"eye\":{\"x\":-0.046714092921224415,\"y\":-2.358032610784369,\"z\":0.5}}}}},{\"layout\":{\"scene\":{\"camera\":{\"eye\":{\"x\":-0.058503622924583,\"y\":-2.357769565946744,\"z\":0.5}}}}},{\"layout\":{\"scene\":{\"camera\":{\"eye\":{\"x\":-0.0702916903404156,\"y\":-2.357447576992771,\"z\":0.5}}}}},{\"layout\":{\"scene\":{\"camera\":{\"eye\":{\"x\":-0.08207800046765068,\"y\":-2.357066651972157,\"z\":0.5}}}}},{\"layout\":{\"scene\":{\"camera\":{\"eye\":{\"x\":-0.09386225864914977,\"y\":-2.356626800408007,\"z\":0.5}}}}},{\"layout\":{\"scene\":{\"camera\":{\"eye\":{\"x\":-0.10564417027907069,\"y\":-2.3561280332965877,\"z\":0.5}}}}},{\"layout\":{\"scene\":{\"camera\":{\"eye\":{\"x\":-0.11742344081023659,\"y\":-2.3555703631070513,\"z\":0.5}}}}},{\"layout\":{\"scene\":{\"camera\":{\"eye\":{\"x\":-0.12919977576149821,\"y\":-2.3549538037811226,\"z\":0.5}}}}},{\"layout\":{\"scene\":{\"camera\":{\"eye\":{\"x\":-0.14097288072509584,\"y\":-2.3542783707327537,\"z\":0.5}}}}},{\"layout\":{\"scene\":{\"camera\":{\"eye\":{\"x\":-0.15274246137401692,\"y\":-2.353544080847734,\"z\":0.5}}}}},{\"layout\":{\"scene\":{\"camera\":{\"eye\":{\"x\":-0.16450822346935867,\"y\":-2.3527509524832744,\"z\":0.5}}}}},{\"layout\":{\"scene\":{\"camera\":{\"eye\":{\"x\":-0.17626987286768192,\"y\":-2.3518990054675415,\"z\":0.5}}}}},{\"layout\":{\"scene\":{\"camera\":{\"eye\":{\"x\":-0.18802711552836526,\"y\":-2.3509882610991664,\"z\":0.5}}}}},{\"layout\":{\"scene\":{\"camera\":{\"eye\":{\"x\":-0.19977965752095228,\"y\":-2.350018742146711,\"z\":0.5}}}}},{\"layout\":{\"scene\":{\"camera\":{\"eye\":{\"x\":-0.21152720503250655,\"y\":-2.348990472848099,\"z\":0.5}}}}},{\"layout\":{\"scene\":{\"camera\":{\"eye\":{\"x\":-0.2232694643749522,\"y\":-2.3479034789100086,\"z\":0.5}}}}},{\"layout\":{\"scene\":{\"camera\":{\"eye\":{\"x\":-0.23500614199241787,\"y\":-2.346757787507232,\"z\":0.5}}}}},{\"layout\":{\"scene\":{\"camera\":{\"eye\":{\"x\":-0.24673694446857264,\"y\":-2.345553427281995,\"z\":0.5}}}}},{\"layout\":{\"scene\":{\"camera\":{\"eye\":{\"x\":-0.2584615785339668,\"y\":-2.34429042834324,\"z\":0.5}}}}},{\"layout\":{\"scene\":{\"camera\":{\"eye\":{\"x\":-0.2701797510733589,\"y\":-2.3429688222658744,\"z\":0.5}}}}},{\"layout\":{\"scene\":{\"camera\":{\"eye\":{\"x\":-0.281891169133047,\"y\":-2.3415886420899814,\"z\":0.5}}}}},{\"layout\":{\"scene\":{\"camera\":{\"eye\":{\"x\":-0.29359553992818765,\"y\":-2.3401499223199944,\"z\":0.5}}}}},{\"layout\":{\"scene\":{\"camera\":{\"eye\":{\"x\":-0.3052925708501216,\"y\":-2.338652698923832,\"z\":0.5}}}}},{\"layout\":{\"scene\":{\"camera\":{\"eye\":{\"x\":-0.31698196947368495,\"y\":-2.337097009332001,\"z\":0.5}}}}},{\"layout\":{\"scene\":{\"camera\":{\"eye\":{\"x\":-0.32866344356452093,\"y\":-2.335482892436661,\"z\":0.5}}}}},{\"layout\":{\"scene\":{\"camera\":{\"eye\":{\"x\":-0.3403367010863866,\"y\":-2.333810388590649,\"z\":0.5}}}}},{\"layout\":{\"scene\":{\"camera\":{\"eye\":{\"x\":-0.35200145020844975,\"y\":-2.3320795396064753,\"z\":0.5}}}}},{\"layout\":{\"scene\":{\"camera\":{\"eye\":{\"x\":-0.36365739931259145,\"y\":-2.330290388755273,\"z\":0.5}}}}},{\"layout\":{\"scene\":{\"camera\":{\"eye\":{\"x\":-0.3753042570006907,\"y\":-2.328442980765722,\"z\":0.5}}}}},{\"layout\":{\"scene\":{\"camera\":{\"eye\":{\"x\":-0.38694173210191296,\"y\":-2.326537361822924,\"z\":0.5}}}}},{\"layout\":{\"scene\":{\"camera\":{\"eye\":{\"x\":-0.3985695336799848,\"y\":-2.3245735795672546,\"z\":0.5}}}}},{\"layout\":{\"scene\":{\"camera\":{\"eye\":{\"x\":-0.41018737104047354,\"y\":-2.3225516830931676,\"z\":0.5}}}}},{\"layout\":{\"scene\":{\"camera\":{\"eye\":{\"x\":-0.4217949537380502,\"y\":-2.320471722947969,\"z\":0.5}}}}},{\"layout\":{\"scene\":{\"camera\":{\"eye\":{\"x\":-0.43339199158375297,\"y\":-2.3183337511305546,\"z\":0.5}}}}},{\"layout\":{\"scene\":{\"camera\":{\"eye\":{\"x\":-0.4449781946522374,\"y\":-2.3161378210901082,\"z\":0.5}}}}},{\"layout\":{\"scene\":{\"camera\":{\"eye\":{\"x\":-0.4565532732890316,\"y\":-2.3138839877247674,\"z\":0.5}}}}},{\"layout\":{\"scene\":{\"camera\":{\"eye\":{\"x\":-0.46811693811777233,\"y\":-2.3115723073802474,\"z\":0.5}}}}},{\"layout\":{\"scene\":{\"camera\":{\"eye\":{\"x\":-0.4796689000474421,\"y\":-2.3092028378484377,\"z\":0.5}}}}},{\"layout\":{\"scene\":{\"camera\":{\"eye\":{\"x\":-0.4912088702795926,\"y\":-2.306775638365952,\"z\":0.5}}}}},{\"layout\":{\"scene\":{\"camera\":{\"eye\":{\"x\":-0.5027365603155699,\"y\":-2.3042907696126522,\"z\":0.5}}}}},{\"layout\":{\"scene\":{\"camera\":{\"eye\":{\"x\":-0.5142516819637231,\"y\":-2.3017482937101272,\"z\":0.5}}}}},{\"layout\":{\"scene\":{\"camera\":{\"eye\":{\"x\":-0.5257539473466124,\"y\":-2.2991482742201415,\"z\":0.5}}}}},{\"layout\":{\"scene\":{\"camera\":{\"eye\":{\"x\":-0.5372430689082002,\"y\":-2.296490776143048,\"z\":0.5}}}}},{\"layout\":{\"scene\":{\"camera\":{\"eye\":{\"x\":-0.5487187594210464,\"y\":-2.2937758659161593,\"z\":0.5}}}}},{\"layout\":{\"scene\":{\"camera\":{\"eye\":{\"x\":-0.5601807319934864,\"y\":-2.2910036114120906,\"z\":0.5}}}}},{\"layout\":{\"scene\":{\"camera\":{\"eye\":{\"x\":-0.5716287000768034,\"y\":-2.2881740819370595,\"z\":0.5}}}}},{\"layout\":{\"scene\":{\"camera\":{\"eye\":{\"x\":-0.5830623774723899,\"y\":-2.285287348229155,\"z\":0.5}}}}},{\"layout\":{\"scene\":{\"camera\":{\"eye\":{\"x\":-0.5944814783389073,\"y\":-2.2823434824565707,\"z\":0.5}}}}},{\"layout\":{\"scene\":{\"camera\":{\"eye\":{\"x\":-0.6058857171994287,\"y\":-2.279342558215797,\"z\":0.5}}}}},{\"layout\":{\"scene\":{\"camera\":{\"eye\":{\"x\":-0.617274808948578,\"y\":-2.276284650529783,\"z\":0.5}}}}},{\"layout\":{\"scene\":{\"camera\":{\"eye\":{\"x\":-0.6286484688596519,\"y\":-2.2731698358460624,\"z\":0.5}}}}},{\"layout\":{\"scene\":{\"camera\":{\"eye\":{\"x\":-0.6400064125917465,\"y\":-2.26999819203484,\"z\":0.5}}}}},{\"layout\":{\"scene\":{\"camera\":{\"eye\":{\"x\":-0.6513483561968602,\"y\":-2.266769798387046,\"z\":0.5}}}}},{\"layout\":{\"scene\":{\"camera\":{\"eye\":{\"x\":-0.6626740161269931,\"y\":-2.2634847356123524,\"z\":0.5}}}}},{\"layout\":{\"scene\":{\"camera\":{\"eye\":{\"x\":-0.6739831092412378,\"y\":-2.2601430858371585,\"z\":0.5}}}}},{\"layout\":{\"scene\":{\"camera\":{\"eye\":{\"x\":-0.6852753528128542,\"y\":-2.2567449326025346,\"z\":0.5}}}}},{\"layout\":{\"scene\":{\"camera\":{\"eye\":{\"x\":-0.6965504645363415,\"y\":-2.253290360862134,\"z\":0.5}}}}},{\"layout\":{\"scene\":{\"camera\":{\"eye\":{\"x\":-0.7078081625344941,\"y\":-2.249779456980071,\"z\":0.5}}}}},{\"layout\":{\"scene\":{\"camera\":{\"eye\":{\"x\":-0.7190481653654484,\"y\":-2.246212308728759,\"z\":0.5}}}}},{\"layout\":{\"scene\":{\"camera\":{\"eye\":{\"x\":-0.7302701920297188,\"y\":-2.2425890052867192,\"z\":0.5}}}}},{\"layout\":{\"scene\":{\"camera\":{\"eye\":{\"x\":-0.7414739619772251,\"y\":-2.238909637236348,\"z\":0.5}}}}},{\"layout\":{\"scene\":{\"camera\":{\"eye\":{\"x\":-0.7526591951142988,\"y\":-2.2351742965616563,\"z\":0.5}}}}},{\"layout\":{\"scene\":{\"camera\":{\"eye\":{\"x\":-0.7638256118106955,\"y\":-2.231383076645966,\"z\":0.5}}}}},{\"layout\":{\"scene\":{\"camera\":{\"eye\":{\"x\":-0.7749729329065794,\"y\":-2.2275360722695767,\"z\":0.5}}}}},{\"layout\":{\"scene\":{\"camera\":{\"eye\":{\"x\":-0.7861008797195037,\"y\":-2.223633379607399,\"z\":0.5}}}}},{\"layout\":{\"scene\":{\"camera\":{\"eye\":{\"x\":-0.7972091740513778,\"y\":-2.2196750962265446,\"z\":0.5}}}}},{\"layout\":{\"scene\":{\"camera\":{\"eye\":{\"x\":-0.808297538195422,\"y\":-2.2156613210838927,\"z\":0.5}}}}},{\"layout\":{\"scene\":{\"camera\":{\"eye\":{\"x\":-0.8193656949431101,\"y\":-2.2115921545236126,\"z\":0.5}}}}},{\"layout\":{\"scene\":{\"camera\":{\"eye\":{\"x\":-0.8304133675911016,\"y\":-2.2074676982746557,\"z\":0.5}}}}},{\"layout\":{\"scene\":{\"camera\":{\"eye\":{\"x\":-0.8414402799481522,\"y\":-2.2032880554482146,\"z\":0.5}}}}},{\"layout\":{\"scene\":{\"camera\":{\"eye\":{\"x\":-0.852446156342029,\"y\":-2.199053330535142,\"z\":0.5}}}}},{\"layout\":{\"scene\":{\"camera\":{\"eye\":{\"x\":-0.8634307216263957,\"y\":-2.19476362940334,\"z\":0.5}}}}},{\"layout\":{\"scene\":{\"camera\":{\"eye\":{\"x\":-0.8743937011876919,\"y\":-2.190419059295113,\"z\":0.5}}}}},{\"layout\":{\"scene\":{\"camera\":{\"eye\":{\"x\":-0.8853348209519997,\"y\":-2.1860197288244887,\"z\":0.5}}}}},{\"layout\":{\"scene\":{\"camera\":{\"eye\":{\"x\":-0.8962538073918948,\"y\":-2.1815657479744983,\"z\":0.5}}}}},{\"layout\":{\"scene\":{\"camera\":{\"eye\":{\"x\":-0.9071503875332848,\"y\":-2.177057228094432,\"z\":0.5}}}}},{\"layout\":{\"scene\":{\"camera\":{\"eye\":{\"x\":-0.9180242889622341,\"y\":-2.172494281897051,\"z\":0.5}}}}},{\"layout\":{\"scene\":{\"camera\":{\"eye\":{\"x\":-0.9288752398317748,\"y\":-2.167877023455773,\"z\":0.5}}}}},{\"layout\":{\"scene\":{\"camera\":{\"eye\":{\"x\":-0.939702968868697,\"y\":-2.1632055682018194,\"z\":0.5}}}}},{\"layout\":{\"scene\":{\"camera\":{\"eye\":{\"x\":-0.95050720538034,\"y\":-2.158480032921328,\"z\":0.5}}}}},{\"layout\":{\"scene\":{\"camera\":{\"eye\":{\"x\":-0.9612876792613543,\"y\":-2.1537005357524337,\"z\":0.5}}}}},{\"layout\":{\"scene\":{\"camera\":{\"eye\":{\"x\":-0.9720441210004537,\"y\":-2.1488671961823176,\"z\":0.5}}}}},{\"layout\":{\"scene\":{\"camera\":{\"eye\":{\"x\":-0.9827762616871556,\"y\":-2.143980135044217,\"z\":0.5}}}}},{\"layout\":{\"scene\":{\"camera\":{\"eye\":{\"x\":-0.9934838330185014,\"y\":-2.139039474514406,\"z\":0.5}}}}},{\"layout\":{\"scene\":{\"camera\":{\"eye\":{\"x\":-1.0041665673057658,\"y\":-2.13404533810914,\"z\":0.5}}}}},{\"layout\":{\"scene\":{\"camera\":{\"eye\":{\"x\":-1.0148241974811498,\"y\":-2.1289978506815688,\"z\":0.5}}}}},{\"layout\":{\"scene\":{\"camera\":{\"eye\":{\"x\":-1.02545645710445,\"y\":-2.123897138418617,\"z\":0.5}}}}},{\"layout\":{\"scene\":{\"camera\":{\"eye\":{\"x\":-1.0360630803697317,\"y\":-2.118743328837824,\"z\":0.5}}}}},{\"layout\":{\"scene\":{\"camera\":{\"eye\":{\"x\":-1.046643802111966,\"y\":-2.113536550784161,\"z\":0.5}}}}},{\"layout\":{\"scene\":{\"camera\":{\"eye\":{\"x\":-1.0571983578136601,\"y\":-2.1082769344268084,\"z\":0.5}}}}},{\"layout\":{\"scene\":{\"camera\":{\"eye\":{\"x\":-1.0677264836114713,\"y\":-2.102964611255901,\"z\":0.5}}}}},{\"layout\":{\"scene\":{\"camera\":{\"eye\":{\"x\":-1.0782279163028028,\"y\":-2.0975997140792417,\"z\":0.5}}}}},{\"layout\":{\"scene\":{\"camera\":{\"eye\":{\"x\":-1.0887023933523845,\"y\":-2.0921823770189802,\"z\":0.5}}}}},{\"layout\":{\"scene\":{\"camera\":{\"eye\":{\"x\":-1.0991496528988374,\"y\":-2.08671273550826,\"z\":0.5}}}}},{\"layout\":{\"scene\":{\"camera\":{\"eye\":{\"x\":-1.1095694337612132,\"y\":-2.081190926287836,\"z\":0.5}}}}},{\"layout\":{\"scene\":{\"camera\":{\"eye\":{\"x\":-1.1199614754455351,\"y\":-2.07561708740265,\"z\":0.5}}}}},{\"layout\":{\"scene\":{\"camera\":{\"eye\":{\"x\":-1.1303255181513021,\"y\":-2.069991358198384,\"z\":0.5}}}}},{\"layout\":{\"scene\":{\"camera\":{\"eye\":{\"x\":-1.1406613027779864,\"y\":-2.064313879317975,\"z\":0.5}}}}},{\"layout\":{\"scene\":{\"camera\":{\"eye\":{\"x\":-1.1509685709315105,\"y\":-2.0585847926980994,\"z\":0.5}}}}},{\"layout\":{\"scene\":{\"camera\":{\"eye\":{\"x\":-1.1612470649307078,\"y\":-2.052804241565624,\"z\":0.5}}}}},{\"layout\":{\"scene\":{\"camera\":{\"eye\":{\"x\":-1.1714965278137632,\"y\":-2.0469723704340264,\"z\":0.5}}}}},{\"layout\":{\"scene\":{\"camera\":{\"eye\":{\"x\":-1.1817167033446387,\"y\":-2.041089325099781,\"z\":0.5}}}}},{\"layout\":{\"scene\":{\"camera\":{\"eye\":{\"x\":-1.1919073360194803,\"y\":-2.0351552526387136,\"z\":0.5}}}}},{\"layout\":{\"scene\":{\"camera\":{\"eye\":{\"x\":-1.2020681710729977,\"y\":-2.0291703014023286,\"z\":0.5}}}}},{\"layout\":{\"scene\":{\"camera\":{\"eye\":{\"x\":-1.2121989544848462,\"y\":-2.023134621014095,\"z\":0.5}}}}},{\"layout\":{\"scene\":{\"camera\":{\"eye\":{\"x\":-1.2222994329859678,\"y\":-2.017048362365707,\"z\":0.5}}}}},{\"layout\":{\"scene\":{\"camera\":{\"eye\":{\"x\":-1.232369354064926,\"y\":-2.010911677613315,\"z\":0.5}}}}},{\"layout\":{\"scene\":{\"camera\":{\"eye\":{\"x\":-1.2424084659742185,\"y\":-2.0047247201737175,\"z\":0.5}}}}},{\"layout\":{\"scene\":{\"camera\":{\"eye\":{\"x\":-1.2524165177365707,\"y\":-1.9984876447205278,\"z\":0.5}}}}},{\"layout\":{\"scene\":{\"camera\":{\"eye\":{\"x\":-1.2623932591512088,\"y\":-1.9922006071803082,\"z\":0.5}}}}},{\"layout\":{\"scene\":{\"camera\":{\"eye\":{\"x\":-1.27233844080012,\"y\":-1.985863764728668,\"z\":0.5}}}}},{\"layout\":{\"scene\":{\"camera\":{\"eye\":{\"x\":-1.282251814054277,\"y\":-1.9794772757863417,\"z\":0.5}}}}},{\"layout\":{\"scene\":{\"camera\":{\"eye\":{\"x\":-1.2921331310798663,\"y\":-1.9730413000152178,\"z\":0.5}}}}},{\"layout\":{\"scene\":{\"camera\":{\"eye\":{\"x\":-1.3019821448444775,\"y\":-1.9665559983143563,\"z\":0.5}}}}},{\"layout\":{\"scene\":{\"camera\":{\"eye\":{\"x\":-1.3117986091232787,\"y\":-1.9600215328159616,\"z\":0.5}}}}},{\"layout\":{\"scene\":{\"camera\":{\"eye\":{\"x\":-1.3215822785051747,\"y\":-1.953438066881331,\"z\":0.5}}}}},{\"layout\":{\"scene\":{\"camera\":{\"eye\":{\"x\":-1.3313329083989405,\"y\":-1.9468057650967694,\"z\":0.5}}}}},{\"layout\":{\"scene\":{\"camera\":{\"eye\":{\"x\":-1.3410502550393364,\"y\":-1.940124793269477,\"z\":0.5}}}}},{\"layout\":{\"scene\":{\"camera\":{\"eye\":{\"x\":-1.3507340754932047,\"y\":-1.9333953184233994,\"z\":0.5}}}}},{\"layout\":{\"scene\":{\"camera\":{\"eye\":{\"x\":-1.3603841276655342,\"y\":-1.92661750879506,\"z\":0.5}}}}},{\"layout\":{\"scene\":{\"camera\":{\"eye\":{\"x\":-1.3700001703055256,\"y\":-1.9197915338293454,\"z\":0.5}}}}},{\"layout\":{\"scene\":{\"camera\":{\"eye\":{\"x\":-1.3795819630126134,\"y\":-1.9129175641752743,\"z\":0.5}}}}},{\"layout\":{\"scene\":{\"camera\":{\"eye\":{\"x\":-1.389129266242479,\"y\":-1.9059957716817295,\"z\":0.5}}}}},{\"layout\":{\"scene\":{\"camera\":{\"eye\":{\"x\":-1.398641841313039,\"y\":-1.8990263293931635,\"z\":0.5}}}}},{\"layout\":{\"scene\":{\"camera\":{\"eye\":{\"x\":-1.408119450410412,\"y\":-1.8920094115452701,\"z\":0.5}}}}},{\"layout\":{\"scene\":{\"camera\":{\"eye\":{\"x\":-1.4175618565948644,\"y\":-1.8849451935606303,\"z\":0.5}}}}},{\"layout\":{\"scene\":{\"camera\":{\"eye\":{\"x\":-1.4269688238067348,\"y\":-1.8778338520443238,\"z\":0.5}}}}},{\"layout\":{\"scene\":{\"camera\":{\"eye\":{\"x\":-1.4363401168723295,\"y\":-1.8706755647795217,\"z\":0.5}}}}},{\"layout\":{\"scene\":{\"camera\":{\"eye\":{\"x\":-1.445675501509812,\"y\":-1.863470510723031,\"z\":0.5}}}}},{\"layout\":{\"scene\":{\"camera\":{\"eye\":{\"x\":-1.4549747443350518,\"y\":-1.856218870000828,\"z\":0.5}}}}},{\"layout\":{\"scene\":{\"camera\":{\"eye\":{\"x\":-1.4642376128674637,\"y\":-1.8489208239035528,\"z\":0.5}}}}},{\"layout\":{\"scene\":{\"camera\":{\"eye\":{\"x\":-1.4734638755358156,\"y\":-1.8415765548819778,\"z\":0.5}}}}},{\"layout\":{\"scene\":{\"camera\":{\"eye\":{\"x\":-1.4826533016840222,\"y\":-1.8341862465424463,\"z\":0.5}}}}},{\"layout\":{\"scene\":{\"camera\":{\"eye\":{\"x\":-1.4918056615769082,\"y\":-1.8267500836422816,\"z\":0.5}}}}},{\"layout\":{\"scene\":{\"camera\":{\"eye\":{\"x\":-1.5009207264059532,\"y\":-1.8192682520851693,\"z\":0.5}}}}},{\"layout\":{\"scene\":{\"camera\":{\"eye\":{\"x\":-1.509998268295012,\"y\":-1.8117409389165064,\"z\":0.5}}}}},{\"layout\":{\"scene\":{\"camera\":{\"eye\":{\"x\":-1.519038060306008,\"y\":-1.8041683323187339,\"z\":0.5}}}}},{\"layout\":{\"scene\":{\"camera\":{\"eye\":{\"x\":-1.5280398764446126,\"y\":-1.7965506216066203,\"z\":0.5}}}}},{\"layout\":{\"scene\":{\"camera\":{\"eye\":{\"x\":-1.5370034916658915,\"y\":-1.7888879972225367,\"z\":0.5}}}}},{\"layout\":{\"scene\":{\"camera\":{\"eye\":{\"x\":-1.545928681879931,\"y\":-1.7811806507316936,\"z\":0.5}}}}},{\"layout\":{\"scene\":{\"camera\":{\"eye\":{\"x\":-1.5548152239574402,\"y\":-1.773428774817352,\"z\":0.5}}}}},{\"layout\":{\"scene\":{\"camera\":{\"eye\":{\"x\":-1.5636628957353307,\"y\":-1.7656325632760062,\"z\":0.5}}}}},{\"layout\":{\"scene\":{\"camera\":{\"eye\":{\"x\":-1.5724714760222684,\"y\":-1.7577922110125384,\"z\":0.5}}}}},{\"layout\":{\"scene\":{\"camera\":{\"eye\":{\"x\":-1.581240744604207,\"y\":-1.7499079140353455,\"z\":0.5}}}}},{\"layout\":{\"scene\":{\"camera\":{\"eye\":{\"x\":-1.5899704822498846,\"y\":-1.741979869451444,\"z\":0.5}}}}},{\"layout\":{\"scene\":{\"camera\":{\"eye\":{\"x\":-1.598660470716317,\"y\":-1.7340082754615342,\"z\":0.5}}}}},{\"layout\":{\"scene\":{\"camera\":{\"eye\":{\"x\":-1.607310492754245,\"y\":-1.7259933313550508,\"z\":0.5}}}}},{\"layout\":{\"scene\":{\"camera\":{\"eye\":{\"x\":-1.6159203321135682,\"y\":-1.7179352375051788,\"z\":0.5}}}}},{\"layout\":{\"scene\":{\"camera\":{\"eye\":{\"x\":-1.6244897735487511,\"y\":-1.7098341953638452,\"z\":0.5}}}}},{\"layout\":{\"scene\":{\"camera\":{\"eye\":{\"x\":-1.6330186028242037,\"y\":-1.701690407456681,\"z\":0.5}}}}},{\"layout\":{\"scene\":{\"camera\":{\"eye\":{\"x\":-1.641506606719639,\"y\":-1.6935040773779602,\"z\":0.5}}}}},{\"layout\":{\"scene\":{\"camera\":{\"eye\":{\"x\":-1.649953573035403,\"y\":-1.6852754097855067,\"z\":0.5}}}}},{\"layout\":{\"scene\":{\"camera\":{\"eye\":{\"x\":-1.6583592905977744,\"y\":-1.6770046103955847,\"z\":0.5}}}}},{\"layout\":{\"scene\":{\"camera\":{\"eye\":{\"x\":-1.6667235492642538,\"y\":-1.6686918859777466,\"z\":0.5}}}}},{\"layout\":{\"scene\":{\"camera\":{\"eye\":{\"x\":-1.67504613992881,\"y\":-1.6603374443496701,\"z\":0.5}}}}},{\"layout\":{\"scene\":{\"camera\":{\"eye\":{\"x\":-1.6833268545271096,\"y\":-1.651941494371961,\"z\":0.5}}}}},{\"layout\":{\"scene\":{\"camera\":{\"eye\":{\"x\":-1.6915654860417195,\"y\":-1.6435042459429305,\"z\":0.5}}}}},{\"layout\":{\"scene\":{\"camera\":{\"eye\":{\"x\":-1.6997618285072806,\"y\":-1.635025909993351,\"z\":0.5}}}}},{\"layout\":{\"scene\":{\"camera\":{\"eye\":{\"x\":-1.7079156770156583,\"y\":-1.6265066984811793,\"z\":0.5}}}}},{\"layout\":{\"scene\":{\"camera\":{\"eye\":{\"x\":-1.7160268277210644,\"y\":-1.6179468243862591,\"z\":0.5}}}}},{\"layout\":{\"scene\":{\"camera\":{\"eye\":{\"x\":-1.7240950778451551,\"y\":-1.609346501704996,\"z\":0.5}}}}},{\"layout\":{\"scene\":{\"camera\":{\"eye\":{\"x\":-1.732120225682095,\"y\":-1.6007059454450114,\"z\":0.5}}}}},{\"layout\":{\"scene\":{\"camera\":{\"eye\":{\"x\":-1.7401020706036072,\"y\":-1.5920253716197612,\"z\":0.5}}}}},{\"layout\":{\"scene\":{\"camera\":{\"eye\":{\"x\":-1.7480404130639848,\"y\":-1.5833049972431383,\"z\":0.5}}}}},{\"layout\":{\"scene\":{\"camera\":{\"eye\":{\"x\":-1.7559350546050791,\"y\":-1.574545040324048,\"z\":0.5}}}}},{\"layout\":{\"scene\":{\"camera\":{\"eye\":{\"x\":-1.7637857978612634,\"y\":-1.5657457198609568,\"z\":0.5}}}}},{\"layout\":{\"scene\":{\"camera\":{\"eye\":{\"x\":-1.7715924465643649,\"y\":-1.5569072558364185,\"z\":0.5}}}}},{\"layout\":{\"scene\":{\"camera\":{\"eye\":{\"x\":-1.7793548055485726,\"y\":-1.5480298692115733,\"z\":0.5}}}}},{\"layout\":{\"scene\":{\"camera\":{\"eye\":{\"x\":-1.7870726807553179,\"y\":-1.5391137819206224,\"z\":0.5}}}}},{\"layout\":{\"scene\":{\"camera\":{\"eye\":{\"x\":-1.7947458792381192,\"y\":-1.5301592168652876,\"z\":0.5}}}}},{\"layout\":{\"scene\":{\"camera\":{\"eye\":{\"x\":-1.8023742091674162,\"y\":-1.5211663979092265,\"z\":0.5}}}}},{\"layout\":{\"scene\":{\"camera\":{\"eye\":{\"x\":-1.8099574798353573,\"y\":-1.5121355498724451,\"z\":0.5}}}}},{\"layout\":{\"scene\":{\"camera\":{\"eye\":{\"x\":-1.8174955016605712,\"y\":-1.5030668985256743,\"z\":0.5}}}}},{\"layout\":{\"scene\":{\"camera\":{\"eye\":{\"x\":-1.8249880861929044,\"y\":-1.4939606705847246,\"z\":0.5}}}}},{\"layout\":{\"scene\":{\"camera\":{\"eye\":{\"x\":-1.8324350461181345,\"y\":-1.4848170937048208,\"z\":0.5}}}}},{\"layout\":{\"scene\":{\"camera\":{\"eye\":{\"x\":-1.8398361952626507,\"y\":-1.4756363964749084,\"z\":0.5}}}}},{\"layout\":{\"scene\":{\"camera\":{\"eye\":{\"x\":-1.8471913485981115,\"y\":-1.4664188084119385,\"z\":0.5}}}}},{\"layout\":{\"scene\":{\"camera\":{\"eye\":{\"x\":-1.8545003222460639,\"y\":-1.4571645599551362,\"z\":0.5}}}}},{\"layout\":{\"scene\":{\"camera\":{\"eye\":{\"x\":-1.8617629334825485,\"y\":-1.4478738824602286,\"z\":0.5}}}}},{\"layout\":{\"scene\":{\"camera\":{\"eye\":{\"x\":-1.8689790007426628,\"y\":-1.4385470081936695,\"z\":0.5}}}}},{\"layout\":{\"scene\":{\"camera\":{\"eye\":{\"x\":-1.8761483436251012,\"y\":-1.4291841703268302,\"z\":0.5}}}}},{\"layout\":{\"scene\":{\"camera\":{\"eye\":{\"x\":-1.8832707828966648,\"y\":-1.419785602930169,\"z\":0.5}}}}},{\"layout\":{\"scene\":{\"camera\":{\"eye\":{\"x\":-1.890346140496743,\"y\":-1.4103515409673817,\"z\":0.5}}}}},{\"layout\":{\"scene\":{\"camera\":{\"eye\":{\"x\":-1.8973742395417643,\"y\":-1.400882220289526,\"z\":0.5}}}}},{\"layout\":{\"scene\":{\"camera\":{\"eye\":{\"x\":-1.9043549043296184,\"y\":-1.3913778776291255,\"z\":0.5}}}}},{\"layout\":{\"scene\":{\"camera\":{\"eye\":{\"x\":-1.9112879603440507,\"y\":-1.3818387505942504,\"z\":0.5}}}}},{\"layout\":{\"scene\":{\"camera\":{\"eye\":{\"x\":-1.9181732342590194,\"y\":-1.3722650776625827,\"z\":0.5}}}}},{\"layout\":{\"scene\":{\"camera\":{\"eye\":{\"x\":-1.9250105539430362,\"y\":-1.3626570981754453,\"z\":0.5}}}}},{\"layout\":{\"scene\":{\"camera\":{\"eye\":{\"x\":-1.9317997484634652,\"y\":-1.3530150523318254,\"z\":0.5}}}}},{\"layout\":{\"scene\":{\"camera\":{\"eye\":{\"x\":-1.9385406480907974,\"y\":-1.3433391811823667,\"z\":0.5}}}}},{\"layout\":{\"scene\":{\"camera\":{\"eye\":{\"x\":-1.9452330843028929,\"y\":-1.333629726623344,\"z\":0.5}}}}},{\"layout\":{\"scene\":{\"camera\":{\"eye\":{\"x\":-1.9518768897891947,\"y\":-1.3238869313906152,\"z\":0.5}}}}},{\"layout\":{\"scene\":{\"camera\":{\"eye\":{\"x\":-1.958471898454912,\"y\":-1.3141110390535544,\"z\":0.5}}}}},{\"layout\":{\"scene\":{\"camera\":{\"eye\":{\"x\":-1.965017945425173,\"y\":-1.3043022940089586,\"z\":0.5}}}}},{\"layout\":{\"scene\":{\"camera\":{\"eye\":{\"x\":-1.9715148670491416,\"y\":-1.2944609414749468,\"z\":0.5}}}}},{\"layout\":{\"scene\":{\"camera\":{\"eye\":{\"x\":-1.9779625009041168,\"y\":-1.2845872274848176,\"z\":0.5}}}}},{\"layout\":{\"scene\":{\"camera\":{\"eye\":{\"x\":-1.9843606857995884,\"y\":-1.2746813988809071,\"z\":0.5}}}}},{\"layout\":{\"scene\":{\"camera\":{\"eye\":{\"x\":-1.9907092617812672,\"y\":-1.2647437033084141,\"z\":0.5}}}}},{\"layout\":{\"scene\":{\"camera\":{\"eye\":{\"x\":-1.997008070135084,\"y\":-1.2547743892092107,\"z\":0.5}}}}},{\"layout\":{\"scene\":{\"camera\":{\"eye\":{\"x\":-2.0032569533911584,\"y\":-1.2447737058156294,\"z\":0.5}}}}},{\"layout\":{\"scene\":{\"camera\":{\"eye\":{\"x\":-2.0094557553277337,\"y\":-1.2347419031442348,\"z\":0.5}}}}},{\"layout\":{\"scene\":{\"camera\":{\"eye\":{\"x\":-2.0156043209750867,\"y\":-1.2246792319895692,\"z\":0.5}}}}},{\"layout\":{\"scene\":{\"camera\":{\"eye\":{\"x\":-2.0217024966193926,\"y\":-1.214585943917891,\"z\":0.5}}}}},{\"layout\":{\"scene\":{\"camera\":{\"eye\":{\"x\":-2.0277501298065808,\"y\":-1.2044622912608745,\"z\":0.5}}}}},{\"layout\":{\"scene\":{\"camera\":{\"eye\":{\"x\":-2.0337470693461355,\"y\":-1.1943085271093088,\"z\":0.5}}}}},{\"layout\":{\"scene\":{\"camera\":{\"eye\":{\"x\":-2.03969316531488,\"y\":-1.1841249053067688,\"z\":0.5}}}}},{\"layout\":{\"scene\":{\"camera\":{\"eye\":{\"x\":-2.0455882690607265,\"y\":-1.1739116804432694,\"z\":0.5}}}}},{\"layout\":{\"scene\":{\"camera\":{\"eye\":{\"x\":-2.0514322332063872,\"y\":-1.1636691078489,\"z\":0.5}}}}},{\"layout\":{\"scene\":{\"camera\":{\"eye\":{\"x\":-2.057224911653063,\"y\":-1.1533974435874421,\"z\":0.5}}}}},{\"layout\":{\"scene\":{\"camera\":{\"eye\":{\"x\":-2.0629661595840947,\"y\":-1.1430969444499672,\"z\":0.5}}}}},{\"layout\":{\"scene\":{\"camera\":{\"eye\":{\"x\":-2.0686558334685836,\"y\":-1.1327678679484157,\"z\":0.5}}}}},{\"layout\":{\"scene\":{\"camera\":{\"eye\":{\"x\":-2.0742937910649775,\"y\":-1.1224104723091652,\"z\":0.5}}}}},{\"layout\":{\"scene\":{\"camera\":{\"eye\":{\"x\":-2.0798798914246306,\"y\":-1.1120250164665664,\"z\":0.5}}}}},{\"layout\":{\"scene\":{\"camera\":{\"eye\":{\"x\":-2.085413994895325,\"y\":-1.1016117600564734,\"z\":0.5}}}}},{\"layout\":{\"scene\":{\"camera\":{\"eye\":{\"x\":-2.0908959631247623,\"y\":-1.0911709634097544,\"z\":0.5}}}}},{\"layout\":{\"scene\":{\"camera\":{\"eye\":{\"x\":-2.0963256590640222,\"y\":-1.0807028875457823,\"z\":0.5}}}}},{\"layout\":{\"scene\":{\"camera\":{\"eye\":{\"x\":-2.101702946970989,\"y\":-1.070207794165908,\"z\":0.5}}}}},{\"layout\":{\"scene\":{\"camera\":{\"eye\":{\"x\":-2.1070276924137454,\"y\":-1.0596859456469194,\"z\":0.5}}}}},{\"layout\":{\"scene\":{\"camera\":{\"eye\":{\"x\":-2.1122997622739335,\"y\":-1.04913760503448,\"z\":0.5}}}}},{\"layout\":{\"scene\":{\"camera\":{\"eye\":{\"x\":-2.117519024750079,\"y\":-1.038563036036559,\"z\":0.5}}}}},{\"layout\":{\"scene\":{\"camera\":{\"eye\":{\"x\":-2.122685349360893,\"y\":-1.0279625030168287,\"z\":0.5}}}}},{\"layout\":{\"scene\":{\"camera\":{\"eye\":{\"x\":-2.1277986069485295,\"y\":-1.017336270988063,\"z\":0.5}}}}},{\"layout\":{\"scene\":{\"camera\":{\"eye\":{\"x\":-2.132858669681815,\"y\":-1.0066846056055083,\"z\":0.5}}}}},{\"layout\":{\"scene\":{\"camera\":{\"eye\":{\"x\":-2.137865411059445,\"y\":-0.9960077731602451,\"z\":0.5}}}}},{\"layout\":{\"scene\":{\"camera\":{\"eye\":{\"x\":-2.1428187059131454,\"y\":-0.9853060405725285,\"z\":0.5}}}}},{\"layout\":{\"scene\":{\"camera\":{\"eye\":{\"x\":-2.1477184304108032,\"y\":-0.9745796753851155,\"z\":0.5}}}}},{\"layout\":{\"scene\":{\"camera\":{\"eye\":{\"x\":-2.1525644620595616,\"y\":-0.9638289457565751,\"z\":0.5}}}}},{\"layout\":{\"scene\":{\"camera\":{\"eye\":{\"x\":-2.15735667970888,\"y\":-0.9530541204545921,\"z\":0.5}}}}},{\"layout\":{\"scene\":{\"camera\":{\"eye\":{\"x\":-2.1620949635535687,\"y\":-0.9422554688492362,\"z\":0.5}}}}},{\"layout\":{\"scene\":{\"camera\":{\"eye\":{\"x\":-2.166779195136777,\"y\":-0.9314332609062344,\"z\":0.5}}}}},{\"layout\":{\"scene\":{\"camera\":{\"eye\":{\"x\":-2.17140925735296,\"y\":-0.9205877671802223,\"z\":0.5}}}}},{\"layout\":{\"scene\":{\"camera\":{\"eye\":{\"x\":-2.1759850344508034,\"y\":-0.9097192588079779,\"z\":0.5}}}}},{\"layout\":{\"scene\":{\"camera\":{\"eye\":{\"x\":-2.180506412036118,\"y\":-0.8988280075016445,\"z\":0.5}}}}},{\"layout\":{\"scene\":{\"camera\":{\"eye\":{\"x\":-2.1849732770746995,\"y\":-0.8879142855419375,\"z\":0.5}}}}},{\"layout\":{\"scene\":{\"camera\":{\"eye\":{\"x\":-2.189385517895155,\"y\":-0.8769783657713375,\"z\":0.5}}}}},{\"layout\":{\"scene\":{\"camera\":{\"eye\":{\"x\":-2.1937430241916935,\"y\":-0.866020521587267,\"z\":0.5}}}}},{\"layout\":{\"scene\":{\"camera\":{\"eye\":{\"x\":-2.1980456870268847,\"y\":-0.855041026935264,\"z\":0.5}}}}},{\"layout\":{\"scene\":{\"camera\":{\"eye\":{\"x\":-2.202293398834381,\"y\":-0.8440401563021211,\"z\":0.5}}}}},{\"layout\":{\"scene\":{\"camera\":{\"eye\":{\"x\":-2.2064860534216097,\"y\":-0.833018184709031,\"z\":0.5}}}}},{\"layout\":{\"scene\":{\"camera\":{\"eye\":{\"x\":-2.2106235459724237,\"y\":-0.8219753877047095,\"z\":0.5}}}}},{\"layout\":{\"scene\":{\"camera\":{\"eye\":{\"x\":-2.214705773049725,\"y\":-0.8109120413585065,\"z\":0.5}}}}},{\"layout\":{\"scene\":{\"camera\":{\"eye\":{\"x\":-2.218732632598049,\"y\":-0.7998284222535044,\"z\":0.5}}}}},{\"layout\":{\"scene\":{\"camera\":{\"eye\":{\"x\":-2.2227040239461173,\"y\":-0.7887248074796039,\"z\":0.5}}}}},{\"layout\":{\"scene\":{\"camera\":{\"eye\":{\"x\":-2.2266198478093533,\"y\":-0.7776014746265937,\"z\":0.5}}}}},{\"layout\":{\"scene\":{\"camera\":{\"eye\":{\"x\":-2.2304800062923626,\"y\":-0.76645870177722,\"z\":0.5}}}}},{\"layout\":{\"scene\":{\"camera\":{\"eye\":{\"x\":-2.2342844028913857,\"y\":-0.7552967675002213,\"z\":0.5}}}}},{\"layout\":{\"scene\":{\"camera\":{\"eye\":{\"x\":-2.2380329424967056,\"y\":-0.7441159508433737,\"z\":0.5}}}}},{\"layout\":{\"scene\":{\"camera\":{\"eye\":{\"x\":-2.241725531395027,\"y\":-0.7329165313265109,\"z\":0.5}}}}},{\"layout\":{\"scene\":{\"camera\":{\"eye\":{\"x\":-2.2453620772718197,\"y\":-0.7216987889345376,\"z\":0.5}}}}},{\"layout\":{\"scene\":{\"camera\":{\"eye\":{\"x\":-2.248942489213627,\"y\":-0.7104630041104294,\"z\":0.5}}}}},{\"layout\":{\"scene\":{\"camera\":{\"eye\":{\"x\":-2.252466677710336,\"y\":-0.6992094577482216,\"z\":0.5}}}}},{\"layout\":{\"scene\":{\"camera\":{\"eye\":{\"x\":-2.2559345546574185,\"y\":-0.6879384311859853,\"z\":0.5}}}}},{\"layout\":{\"scene\":{\"camera\":{\"eye\":{\"x\":-2.259346033358131,\"y\":-0.6766502061988015,\"z\":0.5}}}}},{\"layout\":{\"scene\":{\"camera\":{\"eye\":{\"x\":-2.262701028525683,\"y\":-0.6653450649917051,\"z\":0.5}}}}},{\"layout\":{\"scene\":{\"camera\":{\"eye\":{\"x\":-2.265999456285371,\"y\":-0.6540232901926369,\"z\":0.5}}}}},{\"layout\":{\"scene\":{\"camera\":{\"eye\":{\"x\":-2.269241234176673,\"y\":-0.6426851648453777,\"z\":0.5}}}}},{\"layout\":{\"scene\":{\"camera\":{\"eye\":{\"x\":-2.2724262811553095,\"y\":-0.6313309724024706,\"z\":0.5}}}}},{\"layout\":{\"scene\":{\"camera\":{\"eye\":{\"x\":-2.2755545175952734,\"y\":-0.6199609967181351,\"z\":0.5}}}}},{\"layout\":{\"scene\":{\"camera\":{\"eye\":{\"x\":-2.278625865290815,\"y\":-0.6085755220411714,\"z\":0.5}}}}},{\"layout\":{\"scene\":{\"camera\":{\"eye\":{\"x\":-2.281640247458403,\"y\":-0.597174833007853,\"z\":0.5}}}}},{\"layout\":{\"scene\":{\"camera\":{\"eye\":{\"x\":-2.2845975887386403,\"y\":-0.5857592146348106,\"z\":0.5}}}}},{\"layout\":{\"scene\":{\"camera\":{\"eye\":{\"x\":-2.287497815198148,\"y\":-0.5743289523119125,\"z\":0.5}}}}},{\"layout\":{\"scene\":{\"camera\":{\"eye\":{\"x\":-2.2903408543314163,\"y\":-0.5628843317951195,\"z\":0.5}}}}},{\"layout\":{\"scene\":{\"camera\":{\"eye\":{\"x\":-2.293126635062615,\"y\":-0.5514256391993484,\"z\":0.5}}}}},{\"layout\":{\"scene\":{\"camera\":{\"eye\":{\"x\":-2.2958550877473702,\"y\":-0.5399531609913176,\"z\":0.5}}}}},{\"layout\":{\"scene\":{\"camera\":{\"eye\":{\"x\":-2.2985261441745077,\"y\":-0.5284671839823842,\"z\":0.5}}}}},{\"layout\":{\"scene\":{\"camera\":{\"eye\":{\"x\":-2.3011397375677554,\"y\":-0.5169679953213759,\"z\":0.5}}}}},{\"layout\":{\"scene\":{\"camera\":{\"eye\":{\"x\":-2.303695802587415,\"y\":-0.5054558824874098,\"z\":0.5}}}}},{\"layout\":{\"scene\":{\"camera\":{\"eye\":{\"x\":-2.306194275331994,\"y\":-0.4939311332827053,\"z\":0.5}}}}},{\"layout\":{\"scene\":{\"camera\":{\"eye\":{\"x\":-2.308635093339804,\"y\":-0.4823940358253962,\"z\":0.5}}}}},{\"layout\":{\"scene\":{\"camera\":{\"eye\":{\"x\":-2.311018195590522,\"y\":-0.4708448785423164,\"z\":0.5}}}}},{\"layout\":{\"scene\":{\"camera\":{\"eye\":{\"x\":-2.313343522506715,\"y\":-0.459283950161796,\"z\":0.5}}}}},{\"layout\":{\"scene\":{\"camera\":{\"eye\":{\"x\":-2.3156110159553323,\"y\":-0.4477115397064425,\"z\":0.5}}}}},{\"layout\":{\"scene\":{\"camera\":{\"eye\":{\"x\":-2.3178206192491553,\"y\":-0.43612793648591497,\"z\":0.5}}}}},{\"layout\":{\"scene\":{\"camera\":{\"eye\":{\"x\":-2.3199722771482167,\"y\":-0.42453343008969,\"z\":0.5}}}}},{\"layout\":{\"scene\":{\"camera\":{\"eye\":{\"x\":-2.3220659358611813,\"y\":-0.4129283103798238,\"z\":0.5}}}}},{\"layout\":{\"scene\":{\"camera\":{\"eye\":{\"x\":-2.3241015430466905,\"y\":-0.4013128674837031,\"z\":0.5}}}}},{\"layout\":{\"scene\":{\"camera\":{\"eye\":{\"x\":-2.32607904781467,\"y\":-0.38968739178679856,\"z\":0.5}}}}},{\"layout\":{\"scene\":{\"camera\":{\"eye\":{\"x\":-2.327998400727604,\"y\":-0.3780521739253959,\"z\":0.5}}}}},{\"layout\":{\"scene\":{\"camera\":{\"eye\":{\"x\":-2.3298595538017697,\"y\":-0.36640750477933526,\"z\":0.5}}}}},{\"layout\":{\"scene\":{\"camera\":{\"eye\":{\"x\":-2.331662460508437,\"y\":-0.3547536754647387,\"z\":0.5}}}}},{\"layout\":{\"scene\":{\"camera\":{\"eye\":{\"x\":-2.3334070757750323,\"y\":-0.34309097732673255,\"z\":0.5}}}}},{\"layout\":{\"scene\":{\"camera\":{\"eye\":{\"x\":-2.335093355986265,\"y\":-0.3314197019321623,\"z\":0.5}}}}},{\"layout\":{\"scene\":{\"camera\":{\"eye\":{\"x\":-2.336721258985217,\"y\":-0.3197401410623053,\"z\":0.5}}}}},{\"layout\":{\"scene\":{\"camera\":{\"eye\":{\"x\":-2.3382907440743983,\"y\":-0.30805258670557456,\"z\":0.5}}}}},{\"layout\":{\"scene\":{\"camera\":{\"eye\":{\"x\":-2.3398017720167648,\"y\":-0.2963573310502189,\"z\":0.5}}}}},{\"layout\":{\"scene\":{\"camera\":{\"eye\":{\"x\":-2.3412543050366943,\"y\":-0.2846546664770242,\"z\":0.5}}}}},{\"layout\":{\"scene\":{\"camera\":{\"eye\":{\"x\":-2.3426483068209385,\"y\":-0.27294488555199314,\"z\":0.5}}}}},{\"layout\":{\"scene\":{\"camera\":{\"eye\":{\"x\":-2.3439837425195247,\"y\":-0.2612282810190394,\"z\":0.5}}}}},{\"layout\":{\"scene\":{\"camera\":{\"eye\":{\"x\":-2.3452605787466307,\"y\":-0.2495051457926658,\"z\":0.5}}}}},{\"layout\":{\"scene\":{\"camera\":{\"eye\":{\"x\":-2.346478783581417,\"y\":-0.23777577295064223,\"z\":0.5}}}}},{\"layout\":{\"scene\":{\"camera\":{\"eye\":{\"x\":-2.3476383265688257,\"y\":-0.22604045572667908,\"z\":0.5}}}}},{\"layout\":{\"scene\":{\"camera\":{\"eye\":{\"x\":-2.3487391787203427,\"y\":-0.2142994875030957,\"z\":0.5}}}}},{\"layout\":{\"scene\":{\"camera\":{\"eye\":{\"x\":-2.3497813125147227,\"y\":-0.20255316180348426,\"z\":0.5}}}}},{\"layout\":{\"scene\":{\"camera\":{\"eye\":{\"x\":-2.3507647018986733,\"y\":-0.1908017722853791,\"z\":0.5}}}}},{\"layout\":{\"scene\":{\"camera\":{\"eye\":{\"x\":-2.351689322287512,\"y\":-0.17904561273290476,\"z\":0.5}}}}},{\"layout\":{\"scene\":{\"camera\":{\"eye\":{\"x\":-2.352555150565778,\"y\":-0.16728497704943712,\"z\":0.5}}}}},{\"layout\":{\"scene\":{\"camera\":{\"eye\":{\"x\":-2.353362165087808,\"y\":-0.15552015925025608,\"z\":0.5}}}}},{\"layout\":{\"scene\":{\"camera\":{\"eye\":{\"x\":-2.354110345678282,\"y\":-0.1437514534551938,\"z\":0.5}}}}},{\"layout\":{\"scene\":{\"camera\":{\"eye\":{\"x\":-2.3547996736327232,\"y\":-0.13197915388128223,\"z\":0.5}}}}},{\"layout\":{\"scene\":{\"camera\":{\"eye\":{\"x\":-2.35543013171797,\"y\":-0.12020355483539769,\"z\":0.5}}}}},{\"layout\":{\"scene\":{\"camera\":{\"eye\":{\"x\":-2.3560017041726025,\"y\":-0.1084249507069005,\"z\":0.5}}}}},{\"layout\":{\"scene\":{\"camera\":{\"eye\":{\"x\":-2.3565143767073384,\"y\":-0.09664363596028491,\"z\":0.5}}}}},{\"layout\":{\"scene\":{\"camera\":{\"eye\":{\"x\":-2.356968136505392,\"y\":-0.08485990512780395,\"z\":0.5}}}}},{\"layout\":{\"scene\":{\"camera\":{\"eye\":{\"x\":-2.3573629722227913,\"y\":-0.07307405280211454,\"z\":0.5}}}}},{\"layout\":{\"scene\":{\"camera\":{\"eye\":{\"x\":-2.3576988739886646,\"y\":-0.061286373628911095,\"z\":0.5}}}}},{\"layout\":{\"scene\":{\"camera\":{\"eye\":{\"x\":-2.3579758334054848,\"y\":-0.049497162299558584,\"z\":0.5}}}}},{\"layout\":{\"scene\":{\"camera\":{\"eye\":{\"x\":-2.358193843549281,\"y\":-0.03770671354372701,\"z\":0.5}}}}},{\"layout\":{\"scene\":{\"camera\":{\"eye\":{\"x\":-2.358352898969811,\"y\":-0.0259153221220203,\"z\":0.5}}}}},{\"layout\":{\"scene\":{\"camera\":{\"eye\":{\"x\":-2.3584529956906977,\"y\":-0.014123282818610416,\"z\":0.5}}}}},{\"layout\":{\"scene\":{\"camera\":{\"eye\":{\"x\":-2.358494131209528,\"y\":-0.002330890433863697,\"z\":0.5}}}}},{\"layout\":{\"scene\":{\"camera\":{\"eye\":{\"x\":-2.358476304497916,\"y\":0.00946156022302036,\"z\":0.5}}}}},{\"layout\":{\"scene\":{\"camera\":{\"eye\":{\"x\":-2.358399516001529,\"y\":0.021253774341391862,\"z\":0.5}}}}},{\"layout\":{\"scene\":{\"camera\":{\"eye\":{\"x\":-2.3582637676400746,\"y\":0.03304545711651152,\"z\":0.5}}}}},{\"layout\":{\"scene\":{\"camera\":{\"eye\":{\"x\":-2.358069062807256,\"y\":0.04483631375692432,\"z\":0.5}}}}},{\"layout\":{\"scene\":{\"camera\":{\"eye\":{\"x\":-2.357815406370683,\"y\":0.0566260494918287,\"z\":0.5}}}}},{\"layout\":{\"scene\":{\"camera\":{\"eye\":{\"x\":-2.3575028046717534,\"y\":0.06841436957844493,\"z\":0.5}}}}},{\"layout\":{\"scene\":{\"camera\":{\"eye\":{\"x\":-2.357131265525494,\"y\":0.08020097930938497,\"z\":0.5}}}}},{\"layout\":{\"scene\":{\"camera\":{\"eye\":{\"x\":-2.3567007982203627,\"y\":0.09198558402002166,\"z\":0.5}}}}},{\"layout\":{\"scene\":{\"camera\":{\"eye\":{\"x\":-2.356211413518021,\"y\":0.10376788909584644,\"z\":0.5}}}}},{\"layout\":{\"scene\":{\"camera\":{\"eye\":{\"x\":-2.355663123653061,\"y\":0.11554759997984831,\"z\":0.5}}}}},{\"layout\":{\"scene\":{\"camera\":{\"eye\":{\"x\":-2.3550559423327,\"y\":0.12732442217986906,\"z\":0.5}}}}},{\"layout\":{\"scene\":{\"camera\":{\"eye\":{\"x\":-2.35438988473644,\"y\":0.1390980612759667,\"z\":0.5}}}}},{\"layout\":{\"scene\":{\"camera\":{\"eye\":{\"x\":-2.3536649675156855,\"y\":0.15086822292777713,\"z\":0.5}}}}},{\"layout\":{\"scene\":{\"camera\":{\"eye\":{\"x\":-2.35288120879333,\"y\":0.1626346128818721,\"z\":0.5}}}}},{\"layout\":{\"scene\":{\"camera\":{\"eye\":{\"x\":-2.3520386281633012,\"y\":0.1743969369791154,\"z\":0.5}}}}},{\"layout\":{\"scene\":{\"camera\":{\"eye\":{\"x\":-2.351137246690069,\"y\":0.18615490116201938,\"z\":0.5}}}}},{\"layout\":{\"scene\":{\"camera\":{\"eye\":{\"x\":-2.350177086908125,\"y\":0.19790821148208804,\"z\":0.5}}}}},{\"layout\":{\"scene\":{\"camera\":{\"eye\":{\"x\":-2.3491581728214137,\"y\":0.20965657410717742,\"z\":0.5}}}}},{\"layout\":{\"scene\":{\"camera\":{\"eye\":{\"x\":-2.3480805299027327,\"y\":0.22139969532883352,\"z\":0.5}}}}},{\"layout\":{\"scene\":{\"camera\":{\"eye\":{\"x\":-2.346944185093101,\"y\":0.23313728156963787,\"z\":0.5}}}}},{\"layout\":{\"scene\":{\"camera\":{\"eye\":{\"x\":-2.345749166801078,\"y\":0.24486903939054527,\"z\":0.5}}}}},{\"layout\":{\"scene\":{\"camera\":{\"eye\":{\"x\":-2.3444955049020595,\"y\":0.25659467549822157,\"z\":0.5}}}}},{\"layout\":{\"scene\":{\"camera\":{\"eye\":{\"x\":-2.3431832307375275,\"y\":0.2683138967523748,\"z\":0.5}}}}},{\"layout\":{\"scene\":{\"camera\":{\"eye\":{\"x\":-2.3418123771142674,\"y\":0.28002641017308394,\"z\":0.5}}}}},{\"layout\":{\"scene\":{\"camera\":{\"eye\":{\"x\":-2.340382978303549,\"y\":0.29173192294812544,\"z\":0.5}}}}},{\"layout\":{\"scene\":{\"camera\":{\"eye\":{\"x\":-2.3388950700402678,\"y\":0.30343014244028543,\"z\":0.5}}}}},{\"layout\":{\"scene\":{\"camera\":{\"eye\":{\"x\":-2.3373486895220528,\"y\":0.3151207761946879,\"z\":0.5}}}}},{\"layout\":{\"scene\":{\"camera\":{\"eye\":{\"x\":-2.335743875408337,\"y\":0.32680353194609846,\"z\":0.5}}}}},{\"layout\":{\"scene\":{\"camera\":{\"eye\":{\"x\":-2.334080667819389,\"y\":0.33847811762623103,\"z\":0.5}}}}},{\"layout\":{\"scene\":{\"camera\":{\"eye\":{\"x\":-2.3323591083353117,\"y\":0.35014424137105216,\"z\":0.5}}}}},{\"layout\":{\"scene\":{\"camera\":{\"eye\":{\"x\":-2.3305792399950036,\"y\":0.3618016115280758,\"z\":0.5}}}}},{\"layout\":{\"scene\":{\"camera\":{\"eye\":{\"x\":-2.3287411072950794,\"y\":0.3734499366636548,\"z\":0.5}}}}},{\"layout\":{\"scene\":{\"camera\":{\"eye\":{\"x\":-2.3268447561887613,\"y\":0.38508892557026986,\"z\":0.5}}}}},{\"layout\":{\"scene\":{\"camera\":{\"eye\":{\"x\":-2.3248902340847284,\"y\":0.3967182872738003,\"z\":0.5}}}}},{\"layout\":{\"scene\":{\"camera\":{\"eye\":{\"x\":-2.3228775898459313,\"y\":0.40833773104081117,\"z\":0.5}}}}},{\"layout\":{\"scene\":{\"camera\":{\"eye\":{\"x\":-2.320806873788371,\"y\":0.41994696638581386,\"z\":0.5}}}}},{\"layout\":{\"scene\":{\"camera\":{\"eye\":{\"x\":-2.3186781376798415,\"y\":0.4315457030785289,\"z\":0.5}}}}},{\"layout\":{\"scene\":{\"camera\":{\"eye\":{\"x\":-2.3164914347386345,\"y\":0.44313365115114345,\"z\":0.5}}}}},{\"layout\":{\"scene\":{\"camera\":{\"eye\":{\"x\":-2.314246819632209,\"y\":0.4547105209055591,\"z\":0.5}}}}},{\"layout\":{\"scene\":{\"camera\":{\"eye\":{\"x\":-2.311944348475827,\"y\":0.46627602292063497,\"z\":0.5}}}}},{\"layout\":{\"scene\":{\"camera\":{\"eye\":{\"x\":-2.309584078831146,\"y\":0.47782986805942484,\"z\":0.5}}}}},{\"layout\":{\"scene\":{\"camera\":{\"eye\":{\"x\":-2.3071660697047855,\"y\":0.4893717674763981,\"z\":0.5}}}}},{\"layout\":{\"scene\":{\"camera\":{\"eye\":{\"x\":-2.3046903815468465,\"y\":0.5009014326246727,\"z\":0.5}}}}},{\"layout\":{\"scene\":{\"camera\":{\"eye\":{\"x\":-2.3021570762494057,\"y\":0.5124185752632202,\"z\":0.5}}}}},{\"layout\":{\"scene\":{\"camera\":{\"eye\":{\"x\":-2.299566217144962,\"y\":0.5239229074640748,\"z\":0.5}}}}},{\"layout\":{\"scene\":{\"camera\":{\"eye\":{\"x\":-2.296917869004859,\"y\":0.53541414161953,\"z\":0.5}}}}},{\"layout\":{\"scene\":{\"camera\":{\"eye\":{\"x\":-2.2942120980376615,\"y\":0.5468919904493311,\"z\":0.5}}}}},{\"layout\":{\"scene\":{\"camera\":{\"eye\":{\"x\":-2.2914489718875037,\"y\":0.558356167007855,\"z\":0.5}}}}},{\"layout\":{\"scene\":{\"camera\":{\"eye\":{\"x\":-2.2886285596323943,\"y\":0.5698063846912846,\"z\":0.5}}}}},{\"layout\":{\"scene\":{\"camera\":{\"eye\":{\"x\":-2.285750931782493,\"y\":0.5812423572447765,\"z\":0.5}}}}},{\"layout\":{\"scene\":{\"camera\":{\"eye\":{\"x\":-2.2828161602783474,\"y\":0.592663798769608,\"z\":0.5}}}}},{\"layout\":{\"scene\":{\"camera\":{\"eye\":{\"x\":-2.2798243184890916,\"y\":0.6040704237303381,\"z\":0.5}}}}},{\"layout\":{\"scene\":{\"camera\":{\"eye\":{\"x\":-2.276775481210614,\"y\":0.6154619469619371,\"z\":0.5}}}}},{\"layout\":{\"scene\":{\"camera\":{\"eye\":{\"x\":-2.273669724663688,\"y\":0.6268380836769173,\"z\":0.5}}}}},{\"layout\":{\"scene\":{\"camera\":{\"eye\":{\"x\":-2.2705071264920655,\"y\":0.6381985494724535,\"z\":0.5}}}}},{\"layout\":{\"scene\":{\"camera\":{\"eye\":{\"x\":-2.2672877657605364,\"y\":0.6495430603374923,\"z\":0.5}}}}},{\"layout\":{\"scene\":{\"camera\":{\"eye\":{\"x\":-2.264011722952951,\"y\":0.6608713326598529,\"z\":0.5}}}}},{\"layout\":{\"scene\":{\"camera\":{\"eye\":{\"x\":-2.260679079970209,\"y\":0.6721830832333194,\"z\":0.5}}}}},{\"layout\":{\"scene\":{\"camera\":{\"eye\":{\"x\":-2.257289920128211,\"y\":0.6834780292647126,\"z\":0.5}}}}},{\"layout\":{\"scene\":{\"camera\":{\"eye\":{\"x\":-2.253844328155777,\"y\":0.6947558883809718,\"z\":0.5}}}}},{\"layout\":{\"scene\":{\"camera\":{\"eye\":{\"x\":-2.250342390192527,\"y\":0.7060163786362068,\"z\":0.5}}}}},{\"layout\":{\"scene\":{\"camera\":{\"eye\":{\"x\":-2.2467841937867274,\"y\":0.7172592185187477,\"z\":0.5}}}}},{\"layout\":{\"scene\":{\"camera\":{\"eye\":{\"x\":-2.2431698278931034,\"y\":0.7284841269581828,\"z\":0.5}}}}},{\"layout\":{\"scene\":{\"camera\":{\"eye\":{\"x\":-2.2394993828706133,\"y\":0.7396908233323857,\"z\":0.5}}}}},{\"layout\":{\"scene\":{\"camera\":{\"eye\":{\"x\":-2.235772950480192,\"y\":0.7508790274745307,\"z\":0.5}}}}},{\"layout\":{\"scene\":{\"camera\":{\"eye\":{\"x\":-2.2319906238824543,\"y\":0.7620484596800993,\"z\":0.5}}}}},{\"layout\":{\"scene\":{\"camera\":{\"eye\":{\"x\":-2.22815249763537,\"y\":0.7731988407138635,\"z\":0.5}}}}},{\"layout\":{\"scene\":{\"camera\":{\"eye\":{\"x\":-2.2242586676918945,\"y\":0.7843298918168811,\"z\":0.5}}}}},{\"layout\":{\"scene\":{\"camera\":{\"eye\":{\"x\":-2.2203092313975725,\"y\":0.7954413347134535,\"z\":0.5}}}}},{\"layout\":{\"scene\":{\"camera\":{\"eye\":{\"x\":-2.216304287488107,\"y\":0.8065328916180874,\"z\":0.5}}}}},{\"layout\":{\"scene\":{\"camera\":{\"eye\":{\"x\":-2.212243936086887,\"y\":0.8176042852424374,\"z\":0.5}}}}},{\"layout\":{\"scene\":{\"camera\":{\"eye\":{\"x\":-2.2081282787024854,\"y\":0.8286552388022403,\"z\":0.5}}}}},{\"layout\":{\"scene\":{\"camera\":{\"eye\":{\"x\":-2.2039574182261235,\"y\":0.8396854760242318,\"z\":0.5}}}}},{\"layout\":{\"scene\":{\"camera\":{\"eye\":{\"x\":-2.1997314589290946,\"y\":0.8506947211530566,\"z\":0.5}}}}},{\"layout\":{\"scene\":{\"camera\":{\"eye\":{\"x\":-2.195450506460161,\"y\":0.8616826989581616,\"z\":0.5}}}}},{\"layout\":{\"scene\":{\"camera\":{\"eye\":{\"x\":-2.191114667842913,\"y\":0.8726491347406697,\"z\":0.5}}}}},{\"layout\":{\"scene\":{\"camera\":{\"eye\":{\"x\":-2.1867240514730897,\"y\":0.8835937543402599,\"z\":0.5}}}}},{\"layout\":{\"scene\":{\"camera\":{\"eye\":{\"x\":-2.1822787671158714,\"y\":0.8945162841420119,\"z\":0.5}}}}},{\"layout\":{\"scene\":{\"camera\":{\"eye\":{\"x\":-2.1777789259031355,\"y\":0.9054164510832496,\"z\":0.5}}}}},{\"layout\":{\"scene\":{\"camera\":{\"eye\":{\"x\":-2.1732246403306776,\"y\":0.9162939826603675,\"z\":0.5}}}}},{\"layout\":{\"scene\":{\"camera\":{\"eye\":{\"x\":-2.1686160242554,\"y\":0.9271486069356425,\"z\":0.5}}}}},{\"layout\":{\"scene\":{\"camera\":{\"eye\":{\"x\":-2.163953192892465,\"y\":0.9379800525440332,\"z\":0.5}}}}},{\"layout\":{\"scene\":{\"camera\":{\"eye\":{\"x\":-2.1592362628124127,\"y\":0.9487880486999649,\"z\":0.5}}}}},{\"layout\":{\"scene\":{\"camera\":{\"eye\":{\"x\":-2.15446535193825,\"y\":0.9595723252040935,\"z\":0.5}}}}},{\"layout\":{\"scene\":{\"camera\":{\"eye\":{\"x\":-2.1496405795425018,\"y\":0.9703326124500694,\"z\":0.5}}}}},{\"layout\":{\"scene\":{\"camera\":{\"eye\":{\"x\":-2.144762066244225,\"y\":0.9810686414312726,\"z\":0.5}}}}},{\"layout\":{\"scene\":{\"camera\":{\"eye\":{\"x\":-2.1398299340059985,\"y\":0.9917801437475371,\"z\":0.5}}}}},{\"layout\":{\"scene\":{\"camera\":{\"eye\":{\"x\":-2.134844306130871,\"y\":1.0024668516118629,\"z\":0.5}}}}},{\"layout\":{\"scene\":{\"camera\":{\"eye\":{\"x\":-2.12980530725928,\"y\":1.0131284978571102,\"z\":0.5}}}}},{\"layout\":{\"scene\":{\"camera\":{\"eye\":{\"x\":-2.1247130633659346,\"y\":1.0237648159426784,\"z\":0.5}}}}},{\"layout\":{\"scene\":{\"camera\":{\"eye\":{\"x\":-2.119567701756666,\"y\":1.034375539961171,\"z\":0.5}}}}},{\"layout\":{\"scene\":{\"camera\":{\"eye\":{\"x\":-2.1143693510652493,\"y\":1.0449604046450358,\"z\":0.5}}}}},{\"layout\":{\"scene\":{\"camera\":{\"eye\":{\"x\":-2.1091181412501783,\"y\":1.05551914537321,\"z\":0.5}}}}},{\"layout\":{\"scene\":{\"camera\":{\"eye\":{\"x\":-2.1038142035914267,\"y\":1.0660514981777247,\"z\":0.5}}}}},{\"layout\":{\"scene\":{\"camera\":{\"eye\":{\"x\":-2.0984576706871585,\"y\":1.076557199750308,\"z\":0.5}}}}},{\"layout\":{\"scene\":{\"camera\":{\"eye\":{\"x\":-2.093048676450418,\"y\":1.0870359874489686,\"z\":0.5}}}}},{\"layout\":{\"scene\":{\"camera\":{\"eye\":{\"x\":-2.0875873561057787,\"y\":1.0974875993045594,\"z\":0.5}}}}},{\"layout\":{\"scene\":{\"camera\":{\"eye\":{\"x\":-2.082073846185965,\"y\":1.1079117740273285,\"z\":0.5}}}}},{\"layout\":{\"scene\":{\"camera\":{\"eye\":{\"x\":-2.0765082845284386,\"y\":1.1183082510134503,\"z\":0.5}}}}},{\"layout\":{\"scene\":{\"camera\":{\"eye\":{\"x\":-2.0708908102719485,\"y\":1.128676770351544,\"z\":0.5}}}}},{\"layout\":{\"scene\":{\"camera\":{\"eye\":{\"x\":-2.065221563853062,\"y\":1.1390170728291618,\"z\":0.5}}}}},{\"layout\":{\"scene\":{\"camera\":{\"eye\":{\"x\":-2.0595006870026427,\"y\":1.1493288999392832,\"z\":0.5}}}}},{\"layout\":{\"scene\":{\"camera\":{\"eye\":{\"x\":-2.0537283227423138,\"y\":1.1596119938867666,\"z\":0.5}}}}},{\"layout\":{\"scene\":{\"camera\":{\"eye\":{\"x\":-2.0479046153808813,\"y\":1.1698660975947992,\"z\":0.5}}}}},{\"layout\":{\"scene\":{\"camera\":{\"eye\":{\"x\":-2.0420297105107257,\"y\":1.1800909547113225,\"z\":0.5}}}}},{\"layout\":{\"scene\":{\"camera\":{\"eye\":{\"x\":-2.0361037550041634,\"y\":1.1902863096154412,\"z\":0.5}}}}},{\"layout\":{\"scene\":{\"camera\":{\"eye\":{\"x\":-2.030126897009773,\"y\":1.2004519074238131,\"z\":0.5}}}}},{\"layout\":{\"scene\":{\"camera\":{\"eye\":{\"x\":-2.0240992859486915,\"y\":1.2105874939970251,\"z\":0.5}}}}},{\"layout\":{\"scene\":{\"camera\":{\"eye\":{\"x\":-2.0180210725108845,\"y\":1.220692815945937,\"z\":0.5}}}}},{\"layout\":{\"scene\":{\"camera\":{\"eye\":{\"x\":-2.011892408651369,\"y\":1.2307676206380274,\"z\":0.5}}}}},{\"layout\":{\"scene\":{\"camera\":{\"eye\":{\"x\":-2.0057134475864244,\"y\":1.2408116562037046,\"z\":0.5}}}}},{\"layout\":{\"scene\":{\"camera\":{\"eye\":{\"x\":-1.9994843437897536,\"y\":1.2508246715426021,\"z\":0.5}}}}},{\"layout\":{\"scene\":{\"camera\":{\"eye\":{\"x\":-1.993205252988628,\"y\":1.260806416329858,\"z\":0.5}}}}},{\"layout\":{\"scene\":{\"camera\":{\"eye\":{\"x\":-1.9868763321599903,\"y\":1.270756641022373,\"z\":0.5}}}}},{\"layout\":{\"scene\":{\"camera\":{\"eye\":{\"x\":-1.9804977395265317,\"y\":1.280675096865047,\"z\":0.5}}}}},{\"layout\":{\"scene\":{\"camera\":{\"eye\":{\"x\":-1.9740696345527349,\"y\":1.2905615358970035,\"z\":0.5}}}}},{\"layout\":{\"scene\":{\"camera\":{\"eye\":{\"x\":-1.967592177940891,\"y\":1.3004157109577772,\"z\":0.5}}}}},{\"layout\":{\"scene\":{\"camera\":{\"eye\":{\"x\":-1.9610655316270775,\"y\":1.310237375693507,\"z\":0.5}}}}},{\"layout\":{\"scene\":{\"camera\":{\"eye\":{\"x\":-1.9544898587771118,\"y\":1.320026284563086,\"z\":0.5}}}}},{\"layout\":{\"scene\":{\"camera\":{\"eye\":{\"x\":-1.9478653237824732,\"y\":1.329782192844302,\"z\":0.5}}}}},{\"layout\":{\"scene\":{\"camera\":{\"eye\":{\"x\":-1.9411920922561912,\"y\":1.3395048566399566,\"z\":0.5}}}}},{\"layout\":{\"scene\":{\"camera\":{\"eye\":{\"x\":-1.9344703310287068,\"y\":1.349194032883961,\"z\":0.5}}}}},{\"layout\":{\"scene\":{\"camera\":{\"eye\":{\"x\":-1.9277002081436998,\"y\":1.3588494793474135,\"z\":0.5}}}}},{\"layout\":{\"scene\":{\"camera\":{\"eye\":{\"x\":-1.9208818928538902,\"y\":1.368470954644656,\"z\":0.5}}}}},{\"layout\":{\"scene\":{\"camera\":{\"eye\":{\"x\":-1.9140155556168041,\"y\":1.3780582182393082,\"z\":0.5}}}}},{\"layout\":{\"scene\":{\"camera\":{\"eye\":{\"x\":-1.9071013680905171,\"y\":1.3876110304502767,\"z\":0.5}}}}},{\"layout\":{\"scene\":{\"camera\":{\"eye\":{\"x\":-1.9001395031293555,\"y\":1.3971291524577554,\"z\":0.5}}}}},{\"layout\":{\"scene\":{\"camera\":{\"eye\":{\"x\":-1.8931301347795815,\"y\":1.4066123463091895,\"z\":0.5}}}}},{\"layout\":{\"scene\":{\"camera\":{\"eye\":{\"x\":-1.8860734382750386,\"y\":1.4160603749252272,\"z\":0.5}}}}},{\"layout\":{\"scene\":{\"camera\":{\"eye\":{\"x\":-1.8789695900327714,\"y\":1.4254730021056445,\"z\":0.5}}}}},{\"layout\":{\"scene\":{\"camera\":{\"eye\":{\"x\":-1.8718187676486164,\"y\":1.4348499925352525,\"z\":0.5}}}}},{\"layout\":{\"scene\":{\"camera\":{\"eye\":{\"x\":-1.8646211498927607,\"y\":1.444191111789779,\"z\":0.5}}}}},{\"layout\":{\"scene\":{\"camera\":{\"eye\":{\"x\":-1.8573769167052723,\"y\":1.4534961263417308,\"z\":0.5}}}}},{\"layout\":{\"scene\":{\"camera\":{\"eye\":{\"x\":-1.8500862491916055,\"y\":1.4627648035662248,\"z\":0.5}}}}},{\"layout\":{\"scene\":{\"camera\":{\"eye\":{\"x\":-1.8427493296180675,\"y\":1.4719969117468157,\"z\":0.5}}}}},{\"layout\":{\"scene\":{\"camera\":{\"eye\":{\"x\":-1.8353663414072656,\"y\":1.4811922200812793,\"z\":0.5}}}}},{\"layout\":{\"scene\":{\"camera\":{\"eye\":{\"x\":-1.8279374691335204,\"y\":1.490350498687386,\"z\":0.5}}}}},{\"layout\":{\"scene\":{\"camera\":{\"eye\":{\"x\":-1.8204628985182518,\"y\":1.499471518608648,\"z\":0.5}}}}},{\"layout\":{\"scene\":{\"camera\":{\"eye\":{\"x\":-1.812942816425336,\"y\":1.5085550518200421,\"z\":0.5}}}}},{\"layout\":{\"scene\":{\"camera\":{\"eye\":{\"x\":-1.8053774108564338,\"y\":1.5176008712337112,\"z\":0.5}}}}},{\"layout\":{\"scene\":{\"camera\":{\"eye\":{\"x\":-1.7977668709462886,\"y\":1.5266087507046429,\"z\":0.5}}}}},{\"layout\":{\"scene\":{\"camera\":{\"eye\":{\"x\":-1.7901113869580048,\"y\":1.5355784650363162,\"z\":0.5}}}}},{\"layout\":{\"scene\":{\"camera\":{\"eye\":{\"x\":-1.7824111502782818,\"y\":1.5445097899863414,\"z\":0.5}}}}},{\"layout\":{\"scene\":{\"camera\":{\"eye\":{\"x\":-1.7746663534126357,\"y\":1.5534025022720601,\"z\":0.5}}}}},{\"layout\":{\"scene\":{\"camera\":{\"eye\":{\"x\":-1.7668771899805849,\"y\":1.5622563795761284,\"z\":0.5}}}}},{\"layout\":{\"scene\":{\"camera\":{\"eye\":{\"x\":-1.7590438547108092,\"y\":1.5710712005520746,\"z\":0.5}}}}},{\"layout\":{\"scene\":{\"camera\":{\"eye\":{\"x\":-1.7511665434362826,\"y\":1.579846744829834,\"z\":0.5}}}}},{\"layout\":{\"scene\":{\"camera\":{\"eye\":{\"x\":-1.7432454530893766,\"y\":1.5885827930212557,\"z\":0.5}}}}},{\"layout\":{\"scene\":{\"camera\":{\"eye\":{\"x\":-1.735280781696936,\"y\":1.5972791267255924,\"z\":0.5}}}}},{\"layout\":{\"scene\":{\"camera\":{\"eye\":{\"x\":-1.7272727283753335,\"y\":1.6059355285349506,\"z\":0.5}}}}},{\"layout\":{\"scene\":{\"camera\":{\"eye\":{\"x\":-1.7192214933254835,\"y\":1.6145517820397381,\"z\":0.5}}}}},{\"layout\":{\"scene\":{\"camera\":{\"eye\":{\"x\":-1.7111272778278432,\"y\":1.623127671834066,\"z\":0.5}}}}},{\"layout\":{\"scene\":{\"camera\":{\"eye\":{\"x\":-1.7029902842373783,\"y\":1.6316629835211356,\"z\":0.5}}}}},{\"layout\":{\"scene\":{\"camera\":{\"eye\":{\"x\":-1.6948107159785049,\"y\":1.6401575037185996,\"z\":0.5}}}}},{\"layout\":{\"scene\":{\"camera\":{\"eye\":{\"x\":-1.6865887775400032,\"y\":1.6486110200638953,\"z\":0.5}}}}},{\"layout\":{\"scene\":{\"camera\":{\"eye\":{\"x\":-1.678324674469906,\"y\":1.6570233212195546,\"z\":0.5}}}}},{\"layout\":{\"scene\":{\"camera\":{\"eye\":{\"x\":-1.67001861337036,\"y\":1.6653941968784864,\"z\":0.5}}}}},{\"layout\":{\"scene\":{\"camera\":{\"eye\":{\"x\":-1.6616708018924582,\"y\":1.6737234377692374,\"z\":0.5}}}}},{\"layout\":{\"scene\":{\"camera\":{\"eye\":{\"x\":-1.653281448731056,\"y\":1.6820108356612153,\"z\":0.5}}}}},{\"layout\":{\"scene\":{\"camera\":{\"eye\":{\"x\":-1.644850763619544,\"y\":1.6902561833699066,\"z\":0.5}}}}},{\"layout\":{\"scene\":{\"camera\":{\"eye\":{\"x\":-1.6363789573246104,\"y\":1.698459274762048,\"z\":0.5}}}}},{\"layout\":{\"scene\":{\"camera\":{\"eye\":{\"x\":-1.6278662416409717,\"y\":1.706619904760781,\"z\":0.5}}}}},{\"layout\":{\"scene\":{\"camera\":{\"eye\":{\"x\":-1.6193128293860766,\"y\":1.7147378693507818,\"z\":0.5}}}}},{\"layout\":{\"scene\":{\"camera\":{\"eye\":{\"x\":-1.610718934394786,\"y\":1.722812965583358,\"z\":0.5}}}}},{\"layout\":{\"scene\":{\"camera\":{\"eye\":{\"x\":-1.6020847715140274,\"y\":1.7308449915815243,\"z\":0.5}}}}},{\"layout\":{\"scene\":{\"camera\":{\"eye\":{\"x\":-1.5934105565974208,\"y\":1.7388337465450507,\"z\":0.5}}}}},{\"layout\":{\"scene\":{\"camera\":{\"eye\":{\"x\":-1.584696506499891,\"y\":1.746779030755476,\"z\":0.5}}}}},{\"layout\":{\"scene\":{\"camera\":{\"eye\":{\"x\":-1.5759428390722352,\"y\":1.7546806455811106,\"z\":0.5}}}}},{\"layout\":{\"scene\":{\"camera\":{\"eye\":{\"x\":-1.5671497731556827,\"y\":1.7625383934819951,\"z\":0.5}}}}},{\"layout\":{\"scene\":{\"camera\":{\"eye\":{\"x\":-1.5583175285764237,\"y\":1.7703520780148416,\"z\":0.5}}}}},{\"layout\":{\"scene\":{\"camera\":{\"eye\":{\"x\":-1.5494463261401121,\"y\":1.7781215038379432,\"z\":0.5}}}}},{\"layout\":{\"scene\":{\"camera\":{\"eye\":{\"x\":-1.5405363876263478,\"y\":1.7858464767160593,\"z\":0.5}}}}},{\"layout\":{\"scene\":{\"camera\":{\"eye\":{\"x\":-1.5315879357831288,\"y\":1.7935268035252705,\"z\":0.5}}}}},{\"layout\":{\"scene\":{\"camera\":{\"eye\":{\"x\":-1.5226011943212838,\"y\":1.8011622922578074,\"z\":0.5}}}}},{\"layout\":{\"scene\":{\"camera\":{\"eye\":{\"x\":-1.5135763879088846,\"y\":1.8087527520268472,\"z\":0.5}}}}},{\"layout\":{\"scene\":{\"camera\":{\"eye\":{\"x\":-1.5045137421656198,\"y\":1.8162979930712921,\"z\":0.5}}}}},{\"layout\":{\"scene\":{\"camera\":{\"eye\":{\"x\":-1.4954134836571604,\"y\":1.8237978267605088,\"z\":0.5}}}}},{\"layout\":{\"scene\":{\"camera\":{\"eye\":{\"x\":-1.4862758398894962,\"y\":1.831252065599046,\"z\":0.5}}}}},{\"layout\":{\"scene\":{\"camera\":{\"eye\":{\"x\":-1.4771010393032447,\"y\":1.838660523231321,\"z\":0.5}}}}},{\"layout\":{\"scene\":{\"camera\":{\"eye\":{\"x\":-1.4678893112679428,\"y\":1.8460230144462786,\"z\":0.5}}}}},{\"layout\":{\"scene\":{\"camera\":{\"eye\":{\"x\":-1.4586408860763114,\"y\":1.8533393551820219,\"z\":0.5}}}}},{\"layout\":{\"scene\":{\"camera\":{\"eye\":{\"x\":-1.4493559949384993,\"y\":1.8606093625304136,\"z\":0.5}}}}},{\"layout\":{\"scene\":{\"camera\":{\"eye\":{\"x\":-1.4400348699762993,\"y\":1.86783285474165,\"z\":0.5}}}}},{\"layout\":{\"scene\":{\"camera\":{\"eye\":{\"x\":-1.4306777442173535,\"y\":1.8750096512287997,\"z\":0.5}}}}},{\"layout\":{\"scene\":{\"camera\":{\"eye\":{\"x\":-1.4212848515893164,\"y\":1.8821395725723251,\"z\":0.5}}}}},{\"layout\":{\"scene\":{\"camera\":{\"eye\":{\"x\":-1.4118564269140148,\"y\":1.8892224405245646,\"z\":0.5}}}}},{\"layout\":{\"scene\":{\"camera\":{\"eye\":{\"x\":-1.4023927059015744,\"y\":1.8962580780141876,\"z\":0.5}}}}},{\"layout\":{\"scene\":{\"camera\":{\"eye\":{\"x\":-1.3928939251445276,\"y\":1.9032463091506235,\"z\":0.5}}}}},{\"layout\":{\"scene\":{\"camera\":{\"eye\":{\"x\":-1.3833603221118989,\"y\":1.910186959228458,\"z\":0.5}}}}},{\"layout\":{\"scene\":{\"camera\":{\"eye\":{\"x\":-1.3737921351432674,\"y\":1.9170798547318009,\"z\":0.5}}}}},{\"layout\":{\"scene\":{\"camera\":{\"eye\":{\"x\":-1.3641896034428072,\"y\":1.9239248233386244,\"z\":0.5}}}}},{\"layout\":{\"scene\":{\"camera\":{\"eye\":{\"x\":-1.3545529670733139,\"y\":1.9307216939250673,\"z\":0.5}}}}},{\"layout\":{\"scene\":{\"camera\":{\"eye\":{\"x\":-1.3448824669501933,\"y\":1.9374702965697208,\"z\":0.5}}}}},{\"layout\":{\"scene\":{\"camera\":{\"eye\":{\"x\":-1.3351783448354453,\"y\":1.9441704625578697,\"z\":0.5}}}}},{\"layout\":{\"scene\":{\"camera\":{\"eye\":{\"x\":-1.3254408433316165,\"y\":1.9508220243857133,\"z\":0.5}}}}},{\"layout\":{\"scene\":{\"camera\":{\"eye\":{\"x\":-1.315670205875738,\"y\":1.9574248157645529,\"z\":0.5}}}}},{\"layout\":{\"scene\":{\"camera\":{\"eye\":{\"x\":-1.3058666767332368,\"y\":1.963978671624947,\"z\":0.5}}}}}]);\n                        }).then(function(){\n                            \nvar gd = document.getElementById('7155435f-e7e8-4fa0-add3-bb0e352ff332');\nvar x = new MutationObserver(function (mutations, observer) {{\n        var display = window.getComputedStyle(gd).display;\n        if (!display || display === 'none') {{\n            console.log([gd, 'removed!']);\n            Plotly.purge(gd);\n            observer.disconnect();\n        }}\n}});\n\n// Listen for the removal of the full notebook cells\nvar notebookContainer = gd.closest('#notebook-container');\nif (notebookContainer) {{\n    x.observe(notebookContainer, {childList: true});\n}}\n\n// Listen for the clearing of the current output cell\nvar outputEl = gd.closest('.output');\nif (outputEl) {{\n    x.observe(outputEl, {childList: true});\n}}\n\n                        })                };                });            </script>        </div>",
            "image/png": "[encoded data removed]"
          },
          "metadata": {}
        },
        {
          "execution_count": 15,
          "output_type": "execute_result",
          "data": {},
          "metadata": {}
        }
      ]
    },
    {
      "cell_type": "code",
      "source": "",
      "metadata": {},
      "execution_count": null,
      "outputs": []
    }
  ]
}