{
  "metadata": {
    "kernelspec": {
      "name": "python",
      "display_name": "Python (Pyodide)",
      "language": "python"
    },
    "language_info": {
      "codemirror_mode": {
        "name": "python",
        "version": 3
      },
      "file_extension": ".py",
      "mimetype": "text/x-python",
      "name": "python",
      "nbconvert_exporter": "python",
      "pygments_lexer": "ipython3",
      "version": "3.8"
    }
  },
  "nbformat_minor": 4,
  "nbformat": 4,
  "cells": [
    {
      "cell_type": "code",
      "source": "#load libraries for JupyterLite\n#only required one time ever for JupyterLab running locally or on a hosted JupyterHub instance\n%pip install nbformat plotly ipywidgets",
      "metadata": {
        "autorun": true,
        "tags": [],
        "trusted": true
      },
      "execution_count": 4,
      "outputs": []
    },
    {
      "cell_type": "code",
      "source": "import numpy as np #import array manipulation and maths library numpy under the alias np\nimport plotly.graph_objects as go #import our plotting library under the alias go\nimport ipywidgets as widgets #import our interactive widgets library under the alias widgets\nfrom ipywidgets import interact,FloatSlider #for interactive sliders\nfrom IPython.display import Latex, display #for python to display latex math",
      "metadata": {
        "autorun": true,
        "tags": [],
        "trusted": true
      },
      "execution_count": 5,
      "outputs": []
    },
    {
      "cell_type": "code",
      "source": "x = [3, 4, 10, 12, 7, 8] #create x data\ny = [3, 2, 5, 7, 7, 3] #create y data\n\nc_initial = 3 #initial value for b\nm_initial = 0 #initial value for m\n\nx_lims = [0, max(x)*1.1] #specity x range for plotting\ny_lims = [0, max(y)*1.1] #specity y range for plotting\n\n#print explanation\nprint(\"We're going to plot some data points and then a line.\")\nprint(\"You can view the data points at the top of the code cell above\")\nprint(\"You can change the equation of the line by dragging the sliders\\n\")\n\nprint(\"Using the slope-intercept formula for a line:\")\ndisplay(Latex(rf\"$y = mx +c$\"))\n\n#create a scatter plot from the x and y arrays\nfig = go.FigureWidget(data=go.Scatter(x=x, y=y, mode=\"markers\", name=\"Datapoints\"))\n\nfig.update_layout(title_text=\"Datpoints and Line in Slope-Intercept Form\") #add plot title\nfig.update_layout(xaxis_range=x_lims) #set x axis range\nfig.update_layout(yaxis_range=y_lims) #set y axis range\nfig.update_xaxes(title_text=\"x\") #add x axis title\nfig.update_yaxes(title_text=\"y\") #add y axis title\n\n# add the line to the plot\nfig.add_trace(go.Scatter(x=(0, x_lims[1]), y=(c_initial, m_initial*x_lims[1]+c_initial), mode=\"lines\", name=\"Line\")) #add line to graph\n\nfig.layout.template = \"plotly_dark\" #change plotly theme to dark mode\n\nlayout = widgets.Layout(width=\"600px\") #make the widgets wider so the slider bars are bigger\n\n#update function for linear graph\ndef update(m,c):\n    with fig.batch_update():\n        fig.data[1].x = (0, x_lims[1])\n        fig.data[1].y = (c, m*x_lims[1]+c)\n        fig.data[1].name = \"Line formula: y = {:.1f}x + {:.1f}\".format(m,c)\n\n#create the slider widgets and link up with the callback function that updates the graph        \ninteract(update,\n    m=FloatSlider(\n        min=-10,\n        max=10,\n        step=0.1,\n        readout_format=\".1f\",\n        value=m_initial,\n        description=\"m\",\n        style={\"description_width\" : \"initial\"},\n        continuous_update = True,\n        layout = layout),\n    c=FloatSlider(\n        min=-10,\n        max=10,\n        step=0.1,\n        readout_format=\".1f\",\n        value=c_initial,\n        description=\"c\",\n        style={\"description_width\" : \"initial\"},\n        continuous_update = True,\n        layout = layout),\n);\n\nfig #diplay the interactive plot widget",
      "metadata": {
        "autorun": true,
        "tags": [],
        "trusted": true
      },
      "execution_count": 6,
      "outputs": [
        {
          "name": "stdout",
          "text": "We're going to plot some data points and then a line.\nYou can view the data points at the top of the code cell above\nYou can change the equation of the line by dragging the sliders\n\nUsing the slope-intercept formula for a line:\n",
          "output_type": "stream"
        },
        {
          "output_type": "display_data",
          "data": {
            "text/plain": "<IPython.core.display.Latex object>",
            "text/latex": "$y = mx +c$"
          },
          "metadata": {}
        },
        {
          "output_type": "display_data",
          "data": {
            "text/plain": "interactive(children=(FloatSlider(value=0.0, description='m', layout=Layout(width='600px'), max=10.0, min=-10.…",
            "application/vnd.jupyter.widget-view+json": {
              "version_major": 2,
              "version_minor": 0,
              "model_id": "dce94ab86e2745c3ae0607249286a357"
            }
          },
          "metadata": {}
        },
        {
          "execution_count": 6,
          "output_type": "execute_result",
          "data": {
            "application/vnd.jupyter.widget-view+json": {
              "version_major": 2,
              "version_minor": 0,
              "model_id": "8f94faa35d334844b311f137c1c8d063"
            },
            "text/plain": "FigureWidget({\n    'data': [{'mode': 'markers',\n              'name': 'Datapoints',\n              'type': 'scatter',\n              'uid': 'ad2179c6-6f96-4745-9286-64e126c58657',\n              'x': [3, 4, 10, 12, 7, 8],\n              'y': [3, 2, 5, 7, 7, 3]},\n             {'mode': 'lines',\n              'name': 'Line formula: y = 0.0x + 3.0',\n              'type': 'scatter',\n              'uid': 'caee593e-03b2-4043-94d5-b1a72ff1b6ab',\n              'x': [0, 13.200000000000001],\n              'y': [3, 3.0]}],\n    'layout': {'template': '...',\n               'title': {'text': 'Datpoints and Line in Slope-Intercept Form'},\n               'xaxis': {'range': [0, 13.200000000000001], 'title': {'text': 'x'}},\n               'yaxis': {'range': [0, 7.700000000000001], 'title': {'text': 'y'}}}\n})"
          },
          "metadata": {}
        }
      ]
    }
  ]
}