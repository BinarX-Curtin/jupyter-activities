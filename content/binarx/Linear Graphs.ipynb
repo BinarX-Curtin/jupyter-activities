{
  "metadata": {
    "kernelspec": {
      "name": "python",
      "display_name": "Python (Pyodide)",
      "language": "python"
    },
    "language_info": {
      "codemirror_mode": {
        "name": "python",
        "version": 3
      },
      "file_extension": ".py",
      "mimetype": "text/x-python",
      "name": "python",
      "nbconvert_exporter": "python",
      "pygments_lexer": "ipython3",
      "version": "3.8"
    }
  },
  "nbformat_minor": 4,
  "nbformat": 4,
  "cells": [
    {
      "cell_type": "code",
      "source": "#Import Python modules for JupyterLite environment using piplite\nimport piplite\nawait piplite.install(\"numpy\")\nawait piplite.install(\"plotly==5.15.0\")\nawait piplite.install(\"nbformat>=4.2.0\")\nawait piplite.install(\"ipywidgets>=7.6\")",
      "metadata": {
        "trusted": true
      },
      "execution_count": null,
      "outputs": []
    },
    {
      "cell_type": "code",
      "source": "#Uncomment the lines below to install required Python modules if running in a new JupyterLab Python install\n# !pip install numpy\n# !pip install pip install plotly==5.15.0\n# !pip install nbformat>=4.2.0\n# !pip install ipywidgets>=7.6",
      "metadata": {
        "trusted": true
      },
      "execution_count": null,
      "outputs": []
    },
    {
      "cell_type": "code",
      "source": "import numpy as np #import array manipulation and maths library numpy under the alias np\nimport plotly.graph_objects as go #import our plotting library under the alias go\nimport ipywidgets as widgets #import our interactive widgets library under the alias widgets\nfrom ipywidgets import interact,FloatSlider #for interactive sliders\nfrom IPython.display import Latex, display #for python to display latex math",
      "metadata": {
        "autorun": true,
        "tags": [],
        "trusted": true
      },
      "execution_count": null,
      "outputs": []
    },
    {
      "cell_type": "code",
      "source": "# #set the plotly graphing library to use the jupyterlab one\n# import plotly.io as pio\n# pio.renderers.default = \"jupyterlab\"",
      "metadata": {
        "trusted": true
      },
      "execution_count": null,
      "outputs": []
    },
    {
      "cell_type": "code",
      "source": "x = [3, 4, 10, 12, 7, 8] #create x data\ny = [3, 2, 5, 7, 7, 3] #create y data\n\nc_initial = 3 #initial value for b\nm_initial = 0 #initial value for m\n\nx_lims = [0, max(x)*1.1] #specity x range for plotting\ny_lims = [0, max(y)*1.1] #specity y range for plotting\n\n#print explanation\nprint(\"We're going to plot some data points and then a line.\")\nprint(\"You can view the data points at the top of the code cell above\")\nprint(\"You can change the equation of the line by dragging the sliders\\n\")\n\nprint(\"Using the slope-intercept formula for a line:\")\ndisplay(Latex(rf\"$y = mx +c$\"))\n\n#create a scatter plot from the x and y arrays\nfig = go.FigureWidget(data=go.Scatter(x=x, y=y, mode=\"markers\", name=\"Datapoints\"))\n\nfig.update_layout(title_text=\"Datpoints and Line in Slope-Intercept Form\") #add plot title\nfig.update_layout(xaxis_range=x_lims) #set x axis range\nfig.update_layout(yaxis_range=y_lims) #set y axis range\nfig.update_xaxes(title_text=\"x\") #add x axis title\nfig.update_yaxes(title_text=\"y\") #add y axis title\n\n# add the line to the plot\nfig.add_trace(go.Scatter(x=(0, x_lims[1]), y=(c_initial, m_initial*x_lims[1]+c_initial), mode=\"lines\", name=\"Line\")) #add line to graph\n\nfig.layout.template = \"plotly_dark\" #change plotly theme to dark mode\n\nlayout = widgets.Layout(width=\"600px\") #make the widgets wider so the slider bars are bigger\n\n#update function for linear graph\ndef update(m,c):\n    with fig.batch_update():\n        fig.data[1].x = (0, x_lims[1])\n        fig.data[1].y = (c, m*x_lims[1]+c)\n        fig.data[1].name = \"Line formula: y = {:.1f}x + {:.1f}\".format(m,c)\n\n#create the slider widgets and link up with the callback function that updates the graph        \ninteract(update,\n    m=FloatSlider(\n        min=-10,\n        max=10,\n        step=0.1,\n        readout_format=\".1f\",\n        value=m_initial,\n        description=\"m\",\n        style={\"description_width\" : \"initial\"},\n        continuous_update = True,\n        layout = layout),\n    c=FloatSlider(\n        min=-10,\n        max=10,\n        step=0.1,\n        readout_format=\".1f\",\n        value=c_initial,\n        description=\"c\",\n        style={\"description_width\" : \"initial\"},\n        continuous_update = True,\n        layout = layout),\n);\n\nfig #diplay the interactive plot widget",
      "metadata": {
        "autorun": true,
        "tags": [],
        "trusted": true
      },
      "execution_count": null,
      "outputs": []
    }
  ]
}